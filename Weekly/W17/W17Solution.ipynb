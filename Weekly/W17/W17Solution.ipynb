{
 "cells": [
  {
   "cell_type": "markdown",
   "metadata": {},
   "source": [
    "# Workshop 8 Overview\n",
    "\n",
    "## Case Study Background\n",
    "Today, we'll be working with `XML` and `JSON` file formats. An example of what the corresponding DataFrame looks like is given below:\n",
    "\n",
    "|       | cinema_id | film_id | session_type | date     | start_time |\n",
    "|-----------|---------|-------------|----------|------------|-------|\n",
    "| 0         | 8941    | 227902      | standard | 2018-09-14 | 14:30 |\n",
    "| 1         | 8941    | 227902      | VMAX     | 2018-09-15 | 15:45 |\n",
    "| 2         | 8941    | 123456      | standard | 2018-09-15 | 17:05 |\n",
    "| 3         | 8941    | 123456      | VMAX     | 2018-09-16 | 19:25 |\n",
    "| 4         | 8941    | 123456      | VMAX     | 2018-09-17 | 18:00 |\n",
    "\n",
    "Please note that the first JSON example does **not** have the `session_type` feature. \n",
    "\n",
    "## Learning objectives\n",
    "Become proficient in manipulating `XML` and `JSON` data structures:\n",
    "- Learn about parsing and working with `XML` files.\n",
    "- Understand how to traverse an `XML` data structure. \n",
    "- Learn about parsing and working with `JSON` files. \n",
    "\n",
    "\n",
    "## Workshop Overview\n",
    "- Read in `XML` files \n",
    "- Learning to traverse and understand how to interpret the `XML` data structure\n",
    "- How to create and output `XML` files\n",
    "- Parse `JSON` files\n",
    "- Modify and change the contents of `JSON` files\n",
    "- How to create and output `JSON` files"
   ]
  },
  {
   "cell_type": "code",
   "execution_count": 1,
   "metadata": {
    "ExecuteTime": {
     "end_time": "2021-11-29T01:58:12.376472Z",
     "start_time": "2021-11-29T01:58:12.170748Z"
    }
   },
   "outputs": [],
   "source": [
    "# new libraries for today\n",
    "import json\n",
    "from lxml import etree\n",
    "\n",
    "# pandas\n",
    "import pandas as pd"
   ]
  },
  {
   "cell_type": "markdown",
   "metadata": {},
   "source": [
    "# <u>Concept: XML</u>\n",
    "## Why XML and when do we see it?\n",
    "- Extensible Markup Language (`XML`) is widely used **markup language** used to define rules for encoding documents or data structures. It is much closer to `HTML` than it is to Python.\n",
    "- If `HTML` is used to generate and display websites, then `XML` is used in a similar context to generate and display *data*. \n",
    "- `HTML` and `XML` both share the concept of tags (i.e opening and closing tags using `<` and `>`)\n",
    "\n",
    "## XML and Python\n",
    "- To parse XML data structures in Python, we will use the `lxml` library and not the built-in `xml` library.\n",
    "- This is because `lxml` is a more powerful and feature-rich version of `xml`.\n",
    "- Notable functions from `lxml` include `etree`, which allows parsing of XML data into a tree-like structure.\n",
    "- Documentation: https://lxml.de/api/index.html"
   ]
  },
  {
   "cell_type": "markdown",
   "metadata": {},
   "source": [
    "Recall how we used `open()` to read in text files:\n",
    "```python\n",
    "# Method 1\n",
    "with open(\"some filename.txt\", \"r\") as f:\n",
    "    data = f.read()\n",
    "\n",
    "# Method 2\n",
    "f = open(\"some filename.txt\", \"r\")\n",
    "data = f.read()\n",
    "...\n",
    "f.close()\n",
    "```\n",
    "\n",
    "We do the same for `XML` files. Below, we read `sample_xml.xml` and print it out. Note that we are printing it below *as a string* (`f.read()`) and it is not an `XML` object yet."
   ]
  },
  {
   "cell_type": "code",
   "execution_count": 2,
   "metadata": {
    "ExecuteTime": {
     "end_time": "2021-11-29T01:58:13.394048Z",
     "start_time": "2021-11-29T01:58:13.390238Z"
    },
    "code_folding": []
   },
   "outputs": [
    {
     "name": "stdout",
     "output_type": "stream",
     "text": [
      "<?xml version=\"1.0\"?>\n",
      "<cinema cinema_id=\"8941\" cinema_name=\"Vue Cinemas - Reading\">\n",
      "  <showings film_id=\"227902\" film_name=\"The Predator\">\n",
      "    <standard>\n",
      "      <start_time>14:30</start_time>\n",
      "      <date>2018-09-14</date>\n",
      "    </standard>\n",
      "    <VMAX>\n",
      "      <start_time>15:45</start_time>\n",
      "      <date>2018-09-15</date>\n",
      "    </VMAX>\n",
      "  </showings>\n",
      "  <showings film_id=\"123456\" film_name=\"Avengers\">\n",
      "    <standard>\n",
      "      <start_time>17:05</start_time>\n",
      "      <date>2018-09-15</date>\n",
      "    </standard>\n",
      "    <VMAX>\n",
      "      <start_time>19:25</start_time>\n",
      "      <date>2018-09-16</date>\n",
      "    </VMAX>\n",
      "    <VMAX>\n",
      "      <start_time>18:00</start_time>\n",
      "      <date>2018-09-17</date>\n",
      "    </VMAX>\n",
      "    <standard>\n",
      "      <start_time>21:05</start_time>\n",
      "      <date>2018-09-17</date>\n",
      "    </standard>\n",
      "    <VMAX>\n",
      "      <start_time>10:05</start_time>\n",
      "      <date>2018-09-18</date>\n",
      "    </VMAX>\n",
      "  </showings>\n",
      "</cinema>\n"
     ]
    }
   ],
   "source": [
    "# Read file and print out (haven't parsed into a Python object)\n",
    "with open(\"sample_xml.xml\", \"r\") as f:\n",
    "    print(f.read())"
   ]
  },
  {
   "cell_type": "markdown",
   "metadata": {},
   "source": [
    "Here's a  *visual* representation of the `XML` (made using https://codebeautify.org/xmlviewer):\n",
    "\n",
    "\n",
    "<img align=\"left\" src=\"xml.png\" alt=\"\">"
   ]
  },
  {
   "cell_type": "markdown",
   "metadata": {},
   "source": [
    "It's good to note here that the `XML` has a hierarchical structure like trees in computing. The **root** node is `cinema`, with 2 child nodes called `showings`, and so on."
   ]
  },
  {
   "cell_type": "markdown",
   "metadata": {},
   "source": [
    "Now that we've seen what it looks like, let's work with the `lxml` library."
   ]
  },
  {
   "cell_type": "code",
   "execution_count": 3,
   "metadata": {
    "ExecuteTime": {
     "end_time": "2021-11-29T01:58:14.593279Z",
     "start_time": "2021-11-29T01:58:14.590966Z"
    }
   },
   "outputs": [],
   "source": [
    "# Parse into a Python object called ETree\n",
    "xmltree = etree.parse('sample_xml.xml')\n",
    "\n",
    "# Get the root node\n",
    "root = xmltree.getroot()"
   ]
  },
  {
   "cell_type": "markdown",
   "metadata": {},
   "source": [
    "If we refer to the `xml` output above, our root node should be `cinema`.\n",
    "\n",
    "`<cinema cinema_id=\"8941\" cinema_name=\"Vue Cinemas - Reading\">`\n",
    "\n",
    "Let's go through the tags, attributes, text, and sub-elements."
   ]
  },
  {
   "cell_type": "code",
   "execution_count": 4,
   "metadata": {
    "ExecuteTime": {
     "end_time": "2021-11-29T01:58:15.722906Z",
     "start_time": "2021-11-29T01:58:15.719310Z"
    }
   },
   "outputs": [
    {
     "name": "stdout",
     "output_type": "stream",
     "text": [
      "Tag: cinema\n",
      "Attributes: {'cinema_id': '8941', 'cinema_name': 'Vue Cinemas - Reading'}\n",
      "Content: \n",
      "  \n",
      "How many sub-elements/children: 2\n"
     ]
    }
   ],
   "source": [
    "# the name of the tag\n",
    "print(\"Tag:\", root.tag) \n",
    "\n",
    "# the given attributes in a dictionary-like format\n",
    "print(\"Attributes:\", root.attrib) \n",
    "\n",
    "# any text - there is nothing here as there is no text between the opening and closing tags\n",
    "print(\"Content:\", root.text) \n",
    "\n",
    "# the number of sub-elements or children below cinema\n",
    "# if we look at the example above, we should see 2 \"showings\"\n",
    "print(\"How many sub-elements/children:\", len(root))"
   ]
  },
  {
   "cell_type": "markdown",
   "metadata": {},
   "source": [
    "Let's go through some examples:"
   ]
  },
  {
   "cell_type": "code",
   "execution_count": 5,
   "metadata": {
    "ExecuteTime": {
     "end_time": "2021-11-29T01:58:16.274651Z",
     "start_time": "2021-11-29T01:58:16.268422Z"
    }
   },
   "outputs": [
    {
     "data": {
      "text/plain": [
       "'8941'"
      ]
     },
     "execution_count": 5,
     "metadata": {},
     "output_type": "execute_result"
    }
   ],
   "source": [
    "# Get a specific attribute. This works like dict.get()\n",
    "root.get('cinema_id')"
   ]
  },
  {
   "cell_type": "code",
   "execution_count": 6,
   "metadata": {
    "ExecuteTime": {
     "end_time": "2021-11-29T01:58:17.528300Z",
     "start_time": "2021-11-29T01:58:17.524879Z"
    }
   },
   "outputs": [
    {
     "data": {
      "text/plain": [
       "False"
      ]
     },
     "execution_count": 6,
     "metadata": {},
     "output_type": "execute_result"
    }
   ],
   "source": [
    "# Note that this method will return None by default if you're trying to access an attribute that's not there.\n",
    "# Consider this behaviour when you're writing a loop to access the attributes.\n",
    "# You can specify a different return value (i.e False) like dict.get()\n",
    "root.get('some_attribute_that_is_not_there', False)"
   ]
  },
  {
   "cell_type": "markdown",
   "metadata": {},
   "source": [
    "Let's work with the sub-elements. Hopefully you can see that we are to have 2 child nodes with tag name `showing`.\n",
    "\n",
    "We index it like we would a list (starting from 0). This means, we should have index `0` and `1` to go through."
   ]
  },
  {
   "cell_type": "code",
   "execution_count": 7,
   "metadata": {
    "ExecuteTime": {
     "end_time": "2021-11-29T01:58:18.433201Z",
     "start_time": "2021-11-29T01:58:18.429952Z"
    }
   },
   "outputs": [
    {
     "name": "stdout",
     "output_type": "stream",
     "text": [
      "<Element showings at 0x7f18dc29af00>\n",
      "Tag: showings\n",
      "Attributes: {'film_id': '227902', 'film_name': 'The Predator'}\n"
     ]
    }
   ],
   "source": [
    "# How to index the first child. \n",
    "first_showings = root[0]\n",
    "print(first_showings)\n",
    "print(\"Tag:\", first_showings.tag)\n",
    "print(\"Attributes:\", first_showings.attrib)"
   ]
  },
  {
   "cell_type": "code",
   "execution_count": 8,
   "metadata": {
    "ExecuteTime": {
     "end_time": "2021-11-29T01:58:18.641224Z",
     "start_time": "2021-11-29T01:58:18.638581Z"
    }
   },
   "outputs": [
    {
     "name": "stdout",
     "output_type": "stream",
     "text": [
      "<Element showings at 0x7f18d5675240>\n",
      "Tag: showings\n",
      "Attributes: {'film_id': '123456', 'film_name': 'Avengers'}\n"
     ]
    }
   ],
   "source": [
    "# How to index the second child. \n",
    "second_showings = root[1]\n",
    "print(second_showings)\n",
    "print(\"Tag:\", second_showings.tag)\n",
    "print(\"Attributes:\", second_showings.attrib)"
   ]
  },
  {
   "cell_type": "code",
   "execution_count": 9,
   "metadata": {
    "ExecuteTime": {
     "end_time": "2021-11-29T01:58:20.058188Z",
     "start_time": "2021-11-29T01:58:19.947820Z"
    }
   },
   "outputs": [
    {
     "ename": "IndexError",
     "evalue": "list index out of range",
     "output_type": "error",
     "traceback": [
      "\u001b[0;31m---------------------------------------------------------------------------\u001b[0m",
      "\u001b[0;31mIndexError\u001b[0m                                Traceback (most recent call last)",
      "\u001b[0;32m/tmp/ipykernel_1043/749820115.py\u001b[0m in \u001b[0;36m<module>\u001b[0;34m\u001b[0m\n\u001b[1;32m      1\u001b[0m \u001b[0;31m# Like normal lists, you'll get an index error if the child does not exist\u001b[0m\u001b[0;34m\u001b[0m\u001b[0;34m\u001b[0m\u001b[0;34m\u001b[0m\u001b[0m\n\u001b[0;32m----> 2\u001b[0;31m \u001b[0mthird_showings\u001b[0m \u001b[0;34m=\u001b[0m \u001b[0mroot\u001b[0m\u001b[0;34m[\u001b[0m\u001b[0;36m2\u001b[0m\u001b[0;34m]\u001b[0m\u001b[0;34m\u001b[0m\u001b[0;34m\u001b[0m\u001b[0m\n\u001b[0m",
      "\u001b[0;32msrc/lxml/etree.pyx\u001b[0m in \u001b[0;36mlxml.etree._Element.__getitem__\u001b[0;34m()\u001b[0m\n",
      "\u001b[0;31mIndexError\u001b[0m: list index out of range"
     ]
    }
   ],
   "source": [
    "# Like normal lists, you'll get an index error if the child does not exist\n",
    "third_showings = root[2]"
   ]
  },
  {
   "cell_type": "markdown",
   "metadata": {},
   "source": [
    "Continuing on, let's work with the **first showing**. From the output above, this is what it looks like:\n",
    "```xml\n",
    "<showings film_id=\"227902\" film_name=\"The Predator\">\n",
    "    <standard>\n",
    "        <start_time>14:30</start_time>\n",
    "        <date>2018-09-14</date>\n",
    "    </standard>\n",
    "    <VMAX>\n",
    "        <start_time>15:45</start_time>\n",
    "        <date>2018-09-15</date>\n",
    "    </VMAX>\n",
    "</showings>\n",
    "```\n",
    "\n",
    "We can see the `showings` node as:\n",
    "1. a `standard` screening.\n",
    "2. a `VMAX` screening.\n",
    "3. Both screenings have a `start_time` and `date`."
   ]
  },
  {
   "cell_type": "code",
   "execution_count": 10,
   "metadata": {
    "ExecuteTime": {
     "end_time": "2021-11-29T01:58:21.177076Z",
     "start_time": "2021-11-29T01:58:21.172771Z"
    }
   },
   "outputs": [
    {
     "name": "stdout",
     "output_type": "stream",
     "text": [
      "<Element VMAX at 0x7f18d55a8c80>\n",
      "Tag: VMAX\n",
      "Attributes: {}\n",
      "Line number on which this tag appears: 8\n"
     ]
    }
   ],
   "source": [
    "# Get first child of a specific tag\n",
    "vmax = first_showings.find(\"VMAX\")\n",
    "print(vmax)\n",
    "print(\"Tag:\", vmax.tag)\n",
    "print(\"Attributes:\", vmax.attrib)\n",
    "\n",
    "# which line this tag appears on (according to the first xml output above)\n",
    "print(\"Line number on which this tag appears:\", vmax.sourceline)"
   ]
  },
  {
   "cell_type": "markdown",
   "metadata": {},
   "source": [
    "We can also loop over all sub-elements/child nodes by using the `iterchildren` and `iterdescendants` methods:"
   ]
  },
  {
   "cell_type": "code",
   "execution_count": 11,
   "metadata": {
    "ExecuteTime": {
     "end_time": "2021-11-29T01:58:21.963082Z",
     "start_time": "2021-11-29T01:58:21.960504Z"
    },
    "code_folding": []
   },
   "outputs": [
    {
     "name": "stdout",
     "output_type": "stream",
     "text": [
      "2018-09-15\n"
     ]
    }
   ],
   "source": [
    "# Get all children of a specific tag - in this case, VMAX\n",
    "for vmax_session in first_showings.iterchildren(tag='VMAX'):\n",
    "    print(vmax_session.find('date').text)"
   ]
  },
  {
   "cell_type": "markdown",
   "metadata": {},
   "source": [
    "Here, you can see the `.text` method working as we have text between the `date` opening and closing tags. Specifically:\n",
    "```xml\n",
    "<date>2018-09-15</date>\n",
    "```"
   ]
  },
  {
   "cell_type": "code",
   "execution_count": 12,
   "metadata": {
    "ExecuteTime": {
     "end_time": "2021-11-29T01:58:22.298568Z",
     "start_time": "2021-11-29T01:58:22.295468Z"
    }
   },
   "outputs": [
    {
     "name": "stdout",
     "output_type": "stream",
     "text": [
      "2018-09-15\n",
      "2018-09-16\n",
      "2018-09-17\n",
      "2018-09-18\n"
     ]
    }
   ],
   "source": [
    "# Get all descendants\n",
    "for vmax_session in root.iterdescendants(tag='VMAX'):\n",
    "    print(vmax_session.find('date').text)"
   ]
  },
  {
   "cell_type": "markdown",
   "metadata": {},
   "source": [
    "**Questions:**\n",
    "- What's the different between `.iterchildren()` and `.iterdescendants()`?\n",
    "    - `.iterchildren()` goes through all child nodes at the next level, whilst `.iterdescendants()` goes through all the child nodes across the lower levels.\n",
    "- What is the *prolog* in the `XML`. Is this always required?\n",
    "    - The prolog in XML shows us some metadata about the encoding and version of XML. It's optional, but good to have for best practice. \n",
    "- Why were \"start_time\" and \"date\" created as sub-elements instead of an attribute of VMAX / standard?\n",
    "    - There are actually no rules about when to use attributes or when to create sub-elements. Essentially, you should be using attributes for \"describing\" the data and use sub-elements for the actual data. Since \"start_time\" and \"date\" are closer to _data_ than _metadata_ (data that describes data), we prefer sub-elements. It is also very fair to say that if you use attributes as a way of storing data, you end up with XML files that are difficult to read and maintain."
   ]
  },
  {
   "cell_type": "markdown",
   "metadata": {},
   "source": [
    "Now, let's work on *adding* values to `XML`.\n",
    "\n",
    "As an example, let's add a new cinema with `\"cinema_id\": \"8932\"`, `\"cinema_name\": \"Another Cinema\"`, with no showings."
   ]
  },
  {
   "cell_type": "code",
   "execution_count": 13,
   "metadata": {
    "ExecuteTime": {
     "end_time": "2021-11-29T01:58:22.801507Z",
     "start_time": "2021-11-29T01:58:22.798378Z"
    }
   },
   "outputs": [
    {
     "name": "stdout",
     "output_type": "stream",
     "text": [
      "<cinema cinema_id=\"8932\" cinema_name=\"Another Cinemas\"/>\n",
      "\n"
     ]
    }
   ],
   "source": [
    "# First we need to create the new cinema as an Element object\n",
    "new_cinema = etree.Element('cinema')\n",
    "new_cinema.set(\"cinema_id\", \"8932\")\n",
    "new_cinema.set(\"cinema_name\", \"Another Cinemas\")\n",
    "\n",
    "# This is a function to \"preview\" the Element object as a string\n",
    "print(etree.tostring(new_cinema, # the etree element to show\n",
    "                     pretty_print=True, # if we want to nicely format the xml with indentation\n",
    "                     encoding='unicode') # ensure we use unicode\n",
    ")"
   ]
  },
  {
   "cell_type": "markdown",
   "metadata": {},
   "source": [
    "We then have to create a new **root**. This is because we can't have 2 <cinema> elements at the root level. \n",
    "\n",
    "**Question: Why can't we have 2 elements at the root level?**"
   ]
  },
  {
   "cell_type": "code",
   "execution_count": 14,
   "metadata": {
    "ExecuteTime": {
     "end_time": "2021-11-29T01:58:23.120976Z",
     "start_time": "2021-11-29T01:58:23.118345Z"
    }
   },
   "outputs": [],
   "source": [
    "# create a new root node called CinemaList\n",
    "new_root_node = etree.Element('cinemaList')\n",
    "\n",
    "# We now copy the 2 <cinema> elements to this <cinemaList> element\n",
    "# Here, we can append it like we would to a list\n",
    "new_root_node.append(root) # the original root node\n",
    "new_root_node.append(new_cinema) # the new element"
   ]
  },
  {
   "cell_type": "code",
   "execution_count": 15,
   "metadata": {
    "ExecuteTime": {
     "end_time": "2021-11-29T01:58:23.282956Z",
     "start_time": "2021-11-29T01:58:23.280322Z"
    }
   },
   "outputs": [
    {
     "name": "stdout",
     "output_type": "stream",
     "text": [
      "<cinemaList>\n",
      "  <cinema cinema_id=\"8941\" cinema_name=\"Vue Cinemas - Reading\">\n",
      "  <showings film_id=\"227902\" film_name=\"The Predator\">\n",
      "    <standard>\n",
      "      <start_time>14:30</start_time>\n",
      "      <date>2018-09-14</date>\n",
      "    </standard>\n",
      "    <VMAX>\n",
      "      <start_time>15:45</start_time>\n",
      "      <date>2018-09-15</date>\n",
      "    </VMAX>\n",
      "  </showings>\n",
      "  <showings film_id=\"123456\" film_name=\"Avengers\">\n",
      "    <standard>\n",
      "      <start_time>17:05</start_time>\n",
      "      <date>2018-09-15</date>\n",
      "    </standard>\n",
      "    <VMAX>\n",
      "      <start_time>19:25</start_time>\n",
      "      <date>2018-09-16</date>\n",
      "    </VMAX>\n",
      "    <VMAX>\n",
      "      <start_time>18:00</start_time>\n",
      "      <date>2018-09-17</date>\n",
      "    </VMAX>\n",
      "    <standard>\n",
      "      <start_time>21:05</start_time>\n",
      "      <date>2018-09-17</date>\n",
      "    </standard>\n",
      "    <VMAX>\n",
      "      <start_time>10:05</start_time>\n",
      "      <date>2018-09-18</date>\n",
      "    </VMAX>\n",
      "  </showings>\n",
      "</cinema>\n",
      "  <cinema cinema_id=\"8932\" cinema_name=\"Another Cinemas\"/>\n",
      "</cinemaList>\n",
      "\n"
     ]
    }
   ],
   "source": [
    "# Preview our new tree\n",
    "print(etree.tostring(new_root_node,\n",
    "                     pretty_print=True,\n",
    "                     encoding='unicode')\n",
    " )"
   ]
  },
  {
   "cell_type": "markdown",
   "metadata": {},
   "source": [
    "Finally, to write to an `XML` file, use the `.write()` method. It's important to note that we use `wb` to write in *binary* mode. "
   ]
  },
  {
   "cell_type": "code",
   "execution_count": 16,
   "metadata": {
    "ExecuteTime": {
     "end_time": "2021-11-29T01:58:23.599472Z",
     "start_time": "2021-11-29T01:58:23.596660Z"
    }
   },
   "outputs": [],
   "source": [
    "# Write to a new xml file\n",
    "new_tree = etree.ElementTree(new_root_node)\n",
    "\n",
    "with open('cinemaList.xml', 'wb') as f:\n",
    "    new_tree.write(f, # file to write to\n",
    "                   xml_declaration=True # to add the prolog\n",
    "                  )"
   ]
  },
  {
   "cell_type": "markdown",
   "metadata": {},
   "source": [
    "## Individual Exercise 1\n",
    "Extract a dataframe that consists of `cinema_id`, `film_id`, `session_type`, `date`, `start_time`. \n",
    "\n",
    "There are 2 types of `session_type`: \n",
    "- VMAX and standard; \n",
    "\n",
    "where `date` and `start_time` depends on `session_type`.\n",
    "\n",
    "Think about the attributes and methods stated above.\n",
    "\n",
    "Here's the output to match so you can check your answer:\n",
    "<table border=\"1\" class=\"dataframe\">\n",
    "  <thead>\n",
    "    <tr style=\"text-align: right;\">\n",
    "      <th></th>\n",
    "      <th>cinema_id</th>\n",
    "      <th>film_id</th>\n",
    "      <th>session_type</th>\n",
    "      <th>date</th>\n",
    "      <th>start_time</th>\n",
    "    </tr>\n",
    "  </thead>\n",
    "  <tbody>\n",
    "    <tr>\n",
    "      <th>0</th>\n",
    "      <td>8941</td>\n",
    "      <td>227902</td>\n",
    "      <td>standard</td>\n",
    "      <td>2018-09-14</td>\n",
    "      <td>14:30</td>\n",
    "    </tr>\n",
    "    <tr>\n",
    "      <th>1</th>\n",
    "      <td>8941</td>\n",
    "      <td>227902</td>\n",
    "      <td>VMAX</td>\n",
    "      <td>2018-09-15</td>\n",
    "      <td>15:45</td>\n",
    "    </tr>\n",
    "    <tr>\n",
    "      <th>2</th>\n",
    "      <td>8941</td>\n",
    "      <td>123456</td>\n",
    "      <td>standard</td>\n",
    "      <td>2018-09-15</td>\n",
    "      <td>17:05</td>\n",
    "    </tr>\n",
    "    <tr>\n",
    "      <th>3</th>\n",
    "      <td>8941</td>\n",
    "      <td>123456</td>\n",
    "      <td>VMAX</td>\n",
    "      <td>2018-09-16</td>\n",
    "      <td>19:25</td>\n",
    "    </tr>\n",
    "    <tr>\n",
    "      <th>4</th>\n",
    "      <td>8941</td>\n",
    "      <td>123456</td>\n",
    "      <td>VMAX</td>\n",
    "      <td>2018-09-17</td>\n",
    "      <td>18:00</td>\n",
    "    </tr>\n",
    "    <tr>\n",
    "      <th>5</th>\n",
    "      <td>8941</td>\n",
    "      <td>123456</td>\n",
    "      <td>standard</td>\n",
    "      <td>2018-09-17</td>\n",
    "      <td>21:05</td>\n",
    "    </tr>\n",
    "    <tr>\n",
    "      <th>6</th>\n",
    "      <td>8941</td>\n",
    "      <td>123456</td>\n",
    "      <td>VMAX</td>\n",
    "      <td>2018-09-18</td>\n",
    "      <td>10:05</td>\n",
    "    </tr>\n",
    "  </tbody>\n",
    "</table>"
   ]
  },
  {
   "cell_type": "code",
   "execution_count": 17,
   "metadata": {
    "ExecuteTime": {
     "end_time": "2021-11-29T01:58:23.908936Z",
     "start_time": "2021-11-29T01:58:23.898428Z"
    }
   },
   "outputs": [
    {
     "data": {
      "text/html": [
       "<div>\n",
       "<style scoped>\n",
       "    .dataframe tbody tr th:only-of-type {\n",
       "        vertical-align: middle;\n",
       "    }\n",
       "\n",
       "    .dataframe tbody tr th {\n",
       "        vertical-align: top;\n",
       "    }\n",
       "\n",
       "    .dataframe thead th {\n",
       "        text-align: right;\n",
       "    }\n",
       "</style>\n",
       "<table border=\"1\" class=\"dataframe\">\n",
       "  <thead>\n",
       "    <tr style=\"text-align: right;\">\n",
       "      <th></th>\n",
       "      <th>cinema_id</th>\n",
       "      <th>film_id</th>\n",
       "      <th>session_type</th>\n",
       "      <th>date</th>\n",
       "      <th>start_time</th>\n",
       "    </tr>\n",
       "  </thead>\n",
       "  <tbody>\n",
       "    <tr>\n",
       "      <th>0</th>\n",
       "      <td>8941</td>\n",
       "      <td>227902</td>\n",
       "      <td>standard</td>\n",
       "      <td>2018-09-14</td>\n",
       "      <td>14:30</td>\n",
       "    </tr>\n",
       "    <tr>\n",
       "      <th>1</th>\n",
       "      <td>8941</td>\n",
       "      <td>227902</td>\n",
       "      <td>VMAX</td>\n",
       "      <td>2018-09-15</td>\n",
       "      <td>15:45</td>\n",
       "    </tr>\n",
       "    <tr>\n",
       "      <th>2</th>\n",
       "      <td>8941</td>\n",
       "      <td>123456</td>\n",
       "      <td>standard</td>\n",
       "      <td>2018-09-15</td>\n",
       "      <td>17:05</td>\n",
       "    </tr>\n",
       "    <tr>\n",
       "      <th>3</th>\n",
       "      <td>8941</td>\n",
       "      <td>123456</td>\n",
       "      <td>VMAX</td>\n",
       "      <td>2018-09-16</td>\n",
       "      <td>19:25</td>\n",
       "    </tr>\n",
       "    <tr>\n",
       "      <th>4</th>\n",
       "      <td>8941</td>\n",
       "      <td>123456</td>\n",
       "      <td>VMAX</td>\n",
       "      <td>2018-09-17</td>\n",
       "      <td>18:00</td>\n",
       "    </tr>\n",
       "  </tbody>\n",
       "</table>\n",
       "</div>"
      ],
      "text/plain": [
       "  cinema_id film_id session_type        date start_time\n",
       "0      8941  227902     standard  2018-09-14      14:30\n",
       "1      8941  227902         VMAX  2018-09-15      15:45\n",
       "2      8941  123456     standard  2018-09-15      17:05\n",
       "3      8941  123456         VMAX  2018-09-16      19:25\n",
       "4      8941  123456         VMAX  2018-09-17      18:00"
      ]
     },
     "execution_count": 17,
     "metadata": {},
     "output_type": "execute_result"
    }
   ],
   "source": [
    "### SOLUTION \n",
    "df_rows = []\n",
    "\n",
    "cinema_id = root.get('cinema_id')\n",
    "\n",
    "for film in root.iterchildren(tag='showings'):\n",
    "    film_id = film.get('film_id')\n",
    "    \n",
    "    # Loop through each show time\n",
    "    for show in film.iterchildren():\n",
    "        session_type = show.tag\n",
    "        start_time = show.find('start_time').text\n",
    "        date = show.find('date').text\n",
    "        \n",
    "        data = {'cinema_id': cinema_id,\n",
    "                'film_id': film_id,\n",
    "                'session_type': session_type,\n",
    "                'date': date,\n",
    "                'start_time': start_time\n",
    "        }\n",
    "        \n",
    "        df_rows.append(data)\n",
    "            \n",
    "df = pd.DataFrame(df_rows)\n",
    "df.head()"
   ]
  },
  {
   "cell_type": "markdown",
   "metadata": {},
   "source": [
    "# <u>Concept: JSON</u>\n",
    "- `JSON` (JavaScript Object Notation) is another common data structure which is supposed to replace the `XML` data structure.\n",
    "- Works very similar to a Python dictionary.\n",
    "- To parse and read `json` files, we can use the `json` library.\n",
    "- Documentation: https://docs.python.org/3/library/json.html\n",
    "- Tutorial: https://www.w3schools.com/python/python_json.asp\n",
    "\n",
    "As an FYI, if you are unsure about the differences between `Java` and `JavaScript`, think of it like this:\n",
    "- *Java is to JavaScript as Car is to Carpet*"
   ]
  },
  {
   "cell_type": "markdown",
   "metadata": {},
   "source": [
    "## Reading in JSON files\n",
    "- `json.load()` loads a `JSON` object.\n",
    "- `json.loads()` loads a `JSON` from string (i.e `json.loadSTRING()`, kind of an ambiguous naming convention)\n",
    "\n",
    "To read in a `JSON` object, we'll need to use `open()` and `json.load(JSON_OBJECT)`."
   ]
  },
  {
   "cell_type": "code",
   "execution_count": 18,
   "metadata": {
    "ExecuteTime": {
     "end_time": "2021-11-29T01:58:24.366956Z",
     "start_time": "2021-11-29T01:58:24.363447Z"
    }
   },
   "outputs": [
    {
     "data": {
      "text/plain": [
       "{'cinema': {'cinema_id': 8941,\n",
       "  'cinema_name': 'Vue Cinemas - Reading',\n",
       "  'showings': [{'film_id': 227902,\n",
       "    'film_name': 'The Predator',\n",
       "    'times': [{'start_time': '14:30', 'date': '2018-09-14'},\n",
       "     {'start_time': '15:45', 'date': '2018-09-15'}]},\n",
       "   {'film_id': 123456,\n",
       "    'film_name': 'Avengers',\n",
       "    'times': [{'start_time': '17:05', 'date': '2018-09-15'},\n",
       "     {'start_time': '19:25', 'date': '2018-09-16'},\n",
       "     {'start_time': '18:00', 'date': '2018-09-17'},\n",
       "     {'start_time': '21:05', 'date': '2018-09-17'},\n",
       "     {'start_time': '10:05', 'date': '2018-09-18'}]}]}}"
      ]
     },
     "execution_count": 18,
     "metadata": {},
     "output_type": "execute_result"
    }
   ],
   "source": [
    "with open('sample_api.json', 'r') as f:\n",
    "    sample_api = json.load(f)\n",
    "    \n",
    "sample_api"
   ]
  },
  {
   "cell_type": "markdown",
   "metadata": {},
   "source": [
    "Now, let's use `.loads()`.\n",
    "\n",
    "**IMPORTANT**: `JSON` requires double quotes for the keys/values.\n",
    "For example: `{'key': 'value'}` (incorrect) vs `{\"key\": \"value\"}` (correct)"
   ]
  },
  {
   "cell_type": "code",
   "execution_count": 19,
   "metadata": {
    "ExecuteTime": {
     "end_time": "2021-11-29T01:58:24.731929Z",
     "start_time": "2021-11-29T01:58:24.728925Z"
    }
   },
   "outputs": [
    {
     "data": {
      "text/plain": [
       "\"{'cinema': {'cinema_id': 8941, 'cinema_name': 'Vue Cinemas - Reading', 'showings': [{'film_id': 227902, 'film_name': 'The Predator', 'times': [{'start_time': '14:30', 'date': '2018-09-14'}, {'start_time': '15:45', 'date': '2018-09-15'}]}, {'film_id': 123456, 'film_name': 'Avengers', 'times': [{'start_time': '17:05', 'date': '2018-09-15'}, {'start_time': '19:25', 'date': '2018-09-16'}, {'start_time': '18:00', 'date': '2018-09-17'}, {'start_time': '21:05', 'date': '2018-09-17'}, {'start_time': '10:05', 'date': '2018-09-18'}]}]}}\""
      ]
     },
     "execution_count": 19,
     "metadata": {},
     "output_type": "execute_result"
    }
   ],
   "source": [
    "str(sample_api)"
   ]
  },
  {
   "cell_type": "code",
   "execution_count": 20,
   "metadata": {
    "ExecuteTime": {
     "end_time": "2021-11-29T01:58:24.872426Z",
     "start_time": "2021-11-29T01:58:24.862955Z"
    }
   },
   "outputs": [
    {
     "ename": "JSONDecodeError",
     "evalue": "Expecting property name enclosed in double quotes: line 1 column 2 (char 1)",
     "output_type": "error",
     "traceback": [
      "\u001b[0;31m---------------------------------------------------------------------------\u001b[0m",
      "\u001b[0;31mJSONDecodeError\u001b[0m                           Traceback (most recent call last)",
      "\u001b[0;32m/tmp/ipykernel_1043/3918210662.py\u001b[0m in \u001b[0;36m<module>\u001b[0;34m\u001b[0m\n\u001b[0;32m----> 1\u001b[0;31m \u001b[0mjson\u001b[0m\u001b[0;34m.\u001b[0m\u001b[0mloads\u001b[0m\u001b[0;34m(\u001b[0m\u001b[0mstr\u001b[0m\u001b[0;34m(\u001b[0m\u001b[0msample_api\u001b[0m\u001b[0;34m)\u001b[0m\u001b[0;34m)\u001b[0m\u001b[0;34m\u001b[0m\u001b[0;34m\u001b[0m\u001b[0m\n\u001b[0m",
      "\u001b[0;32m/usr/lib/python3.8/json/__init__.py\u001b[0m in \u001b[0;36mloads\u001b[0;34m(s, cls, object_hook, parse_float, parse_int, parse_constant, object_pairs_hook, **kw)\u001b[0m\n\u001b[1;32m    355\u001b[0m             \u001b[0mparse_int\u001b[0m \u001b[0;32mis\u001b[0m \u001b[0;32mNone\u001b[0m \u001b[0;32mand\u001b[0m \u001b[0mparse_float\u001b[0m \u001b[0;32mis\u001b[0m \u001b[0;32mNone\u001b[0m \u001b[0;32mand\u001b[0m\u001b[0;34m\u001b[0m\u001b[0;34m\u001b[0m\u001b[0m\n\u001b[1;32m    356\u001b[0m             parse_constant is None and object_pairs_hook is None and not kw):\n\u001b[0;32m--> 357\u001b[0;31m         \u001b[0;32mreturn\u001b[0m \u001b[0m_default_decoder\u001b[0m\u001b[0;34m.\u001b[0m\u001b[0mdecode\u001b[0m\u001b[0;34m(\u001b[0m\u001b[0ms\u001b[0m\u001b[0;34m)\u001b[0m\u001b[0;34m\u001b[0m\u001b[0;34m\u001b[0m\u001b[0m\n\u001b[0m\u001b[1;32m    358\u001b[0m     \u001b[0;32mif\u001b[0m \u001b[0mcls\u001b[0m \u001b[0;32mis\u001b[0m \u001b[0;32mNone\u001b[0m\u001b[0;34m:\u001b[0m\u001b[0;34m\u001b[0m\u001b[0;34m\u001b[0m\u001b[0m\n\u001b[1;32m    359\u001b[0m         \u001b[0mcls\u001b[0m \u001b[0;34m=\u001b[0m \u001b[0mJSONDecoder\u001b[0m\u001b[0;34m\u001b[0m\u001b[0;34m\u001b[0m\u001b[0m\n",
      "\u001b[0;32m/usr/lib/python3.8/json/decoder.py\u001b[0m in \u001b[0;36mdecode\u001b[0;34m(self, s, _w)\u001b[0m\n\u001b[1;32m    335\u001b[0m \u001b[0;34m\u001b[0m\u001b[0m\n\u001b[1;32m    336\u001b[0m         \"\"\"\n\u001b[0;32m--> 337\u001b[0;31m         \u001b[0mobj\u001b[0m\u001b[0;34m,\u001b[0m \u001b[0mend\u001b[0m \u001b[0;34m=\u001b[0m \u001b[0mself\u001b[0m\u001b[0;34m.\u001b[0m\u001b[0mraw_decode\u001b[0m\u001b[0;34m(\u001b[0m\u001b[0ms\u001b[0m\u001b[0;34m,\u001b[0m \u001b[0midx\u001b[0m\u001b[0;34m=\u001b[0m\u001b[0m_w\u001b[0m\u001b[0;34m(\u001b[0m\u001b[0ms\u001b[0m\u001b[0;34m,\u001b[0m \u001b[0;36m0\u001b[0m\u001b[0;34m)\u001b[0m\u001b[0;34m.\u001b[0m\u001b[0mend\u001b[0m\u001b[0;34m(\u001b[0m\u001b[0;34m)\u001b[0m\u001b[0;34m)\u001b[0m\u001b[0;34m\u001b[0m\u001b[0;34m\u001b[0m\u001b[0m\n\u001b[0m\u001b[1;32m    338\u001b[0m         \u001b[0mend\u001b[0m \u001b[0;34m=\u001b[0m \u001b[0m_w\u001b[0m\u001b[0;34m(\u001b[0m\u001b[0ms\u001b[0m\u001b[0;34m,\u001b[0m \u001b[0mend\u001b[0m\u001b[0;34m)\u001b[0m\u001b[0;34m.\u001b[0m\u001b[0mend\u001b[0m\u001b[0;34m(\u001b[0m\u001b[0;34m)\u001b[0m\u001b[0;34m\u001b[0m\u001b[0;34m\u001b[0m\u001b[0m\n\u001b[1;32m    339\u001b[0m         \u001b[0;32mif\u001b[0m \u001b[0mend\u001b[0m \u001b[0;34m!=\u001b[0m \u001b[0mlen\u001b[0m\u001b[0;34m(\u001b[0m\u001b[0ms\u001b[0m\u001b[0;34m)\u001b[0m\u001b[0;34m:\u001b[0m\u001b[0;34m\u001b[0m\u001b[0;34m\u001b[0m\u001b[0m\n",
      "\u001b[0;32m/usr/lib/python3.8/json/decoder.py\u001b[0m in \u001b[0;36mraw_decode\u001b[0;34m(self, s, idx)\u001b[0m\n\u001b[1;32m    351\u001b[0m         \"\"\"\n\u001b[1;32m    352\u001b[0m         \u001b[0;32mtry\u001b[0m\u001b[0;34m:\u001b[0m\u001b[0;34m\u001b[0m\u001b[0;34m\u001b[0m\u001b[0m\n\u001b[0;32m--> 353\u001b[0;31m             \u001b[0mobj\u001b[0m\u001b[0;34m,\u001b[0m \u001b[0mend\u001b[0m \u001b[0;34m=\u001b[0m \u001b[0mself\u001b[0m\u001b[0;34m.\u001b[0m\u001b[0mscan_once\u001b[0m\u001b[0;34m(\u001b[0m\u001b[0ms\u001b[0m\u001b[0;34m,\u001b[0m \u001b[0midx\u001b[0m\u001b[0;34m)\u001b[0m\u001b[0;34m\u001b[0m\u001b[0;34m\u001b[0m\u001b[0m\n\u001b[0m\u001b[1;32m    354\u001b[0m         \u001b[0;32mexcept\u001b[0m \u001b[0mStopIteration\u001b[0m \u001b[0;32mas\u001b[0m \u001b[0merr\u001b[0m\u001b[0;34m:\u001b[0m\u001b[0;34m\u001b[0m\u001b[0;34m\u001b[0m\u001b[0m\n\u001b[1;32m    355\u001b[0m             \u001b[0;32mraise\u001b[0m \u001b[0mJSONDecodeError\u001b[0m\u001b[0;34m(\u001b[0m\u001b[0;34m\"Expecting value\"\u001b[0m\u001b[0;34m,\u001b[0m \u001b[0ms\u001b[0m\u001b[0;34m,\u001b[0m \u001b[0merr\u001b[0m\u001b[0;34m.\u001b[0m\u001b[0mvalue\u001b[0m\u001b[0;34m)\u001b[0m \u001b[0;32mfrom\u001b[0m \u001b[0;32mNone\u001b[0m\u001b[0;34m\u001b[0m\u001b[0;34m\u001b[0m\u001b[0m\n",
      "\u001b[0;31mJSONDecodeError\u001b[0m: Expecting property name enclosed in double quotes: line 1 column 2 (char 1)"
     ]
    }
   ],
   "source": [
    "json.loads(str(sample_api))"
   ]
  },
  {
   "cell_type": "code",
   "execution_count": 21,
   "metadata": {
    "ExecuteTime": {
     "end_time": "2021-11-29T01:58:25.200958Z",
     "start_time": "2021-11-29T01:58:25.197371Z"
    }
   },
   "outputs": [
    {
     "data": {
      "text/plain": [
       "{'cinema': {'cinema_id': 8941,\n",
       "  'cinema_name': 'Vue Cinemas - Reading',\n",
       "  'showings': [{'film_id': 227902,\n",
       "    'film_name': 'The Predator',\n",
       "    'times': [{'start_time': '14:30', 'date': '2018-09-14'},\n",
       "     {'start_time': '15:45', 'date': '2018-09-15'}]},\n",
       "   {'film_id': 123456,\n",
       "    'film_name': 'Avengers',\n",
       "    'times': [{'start_time': '17:05', 'date': '2018-09-15'},\n",
       "     {'start_time': '19:25', 'date': '2018-09-16'},\n",
       "     {'start_time': '18:00', 'date': '2018-09-17'},\n",
       "     {'start_time': '21:05', 'date': '2018-09-17'},\n",
       "     {'start_time': '10:05', 'date': '2018-09-18'}]}]}}"
      ]
     },
     "execution_count": 21,
     "metadata": {},
     "output_type": "execute_result"
    }
   ],
   "source": [
    "# replace all single quotes with double quotes\n",
    "fixed_string_json = str(sample_api).replace('\\'','\"')\n",
    "json.loads(str(fixed_string_json))"
   ]
  },
  {
   "cell_type": "markdown",
   "metadata": {},
   "source": [
    "## Individual Exercise 2\n",
    "Create dataframe with variable name `df` that consists of `cinema_id`, `film_id`, `date`, `start_time` from the given `JSON` file.\n",
    "\n",
    "`JSON` works pretty much the same as Python dictionaries, so this would be the equivalent of making a Python dictionary into a pandas DataFrame."
   ]
  },
  {
   "cell_type": "code",
   "execution_count": 22,
   "metadata": {
    "ExecuteTime": {
     "end_time": "2021-11-29T01:58:25.750796Z",
     "start_time": "2021-11-29T01:58:25.743965Z"
    }
   },
   "outputs": [
    {
     "data": {
      "text/html": [
       "<div>\n",
       "<style scoped>\n",
       "    .dataframe tbody tr th:only-of-type {\n",
       "        vertical-align: middle;\n",
       "    }\n",
       "\n",
       "    .dataframe tbody tr th {\n",
       "        vertical-align: top;\n",
       "    }\n",
       "\n",
       "    .dataframe thead th {\n",
       "        text-align: right;\n",
       "    }\n",
       "</style>\n",
       "<table border=\"1\" class=\"dataframe\">\n",
       "  <thead>\n",
       "    <tr style=\"text-align: right;\">\n",
       "      <th></th>\n",
       "      <th>cinema_id</th>\n",
       "      <th>film_id</th>\n",
       "      <th>date</th>\n",
       "      <th>start_time</th>\n",
       "    </tr>\n",
       "  </thead>\n",
       "  <tbody>\n",
       "    <tr>\n",
       "      <th>0</th>\n",
       "      <td>8941</td>\n",
       "      <td>227902</td>\n",
       "      <td>2018-09-14</td>\n",
       "      <td>14:30</td>\n",
       "    </tr>\n",
       "    <tr>\n",
       "      <th>1</th>\n",
       "      <td>8941</td>\n",
       "      <td>227902</td>\n",
       "      <td>2018-09-15</td>\n",
       "      <td>15:45</td>\n",
       "    </tr>\n",
       "    <tr>\n",
       "      <th>2</th>\n",
       "      <td>8941</td>\n",
       "      <td>123456</td>\n",
       "      <td>2018-09-15</td>\n",
       "      <td>17:05</td>\n",
       "    </tr>\n",
       "    <tr>\n",
       "      <th>3</th>\n",
       "      <td>8941</td>\n",
       "      <td>123456</td>\n",
       "      <td>2018-09-16</td>\n",
       "      <td>19:25</td>\n",
       "    </tr>\n",
       "    <tr>\n",
       "      <th>4</th>\n",
       "      <td>8941</td>\n",
       "      <td>123456</td>\n",
       "      <td>2018-09-17</td>\n",
       "      <td>18:00</td>\n",
       "    </tr>\n",
       "  </tbody>\n",
       "</table>\n",
       "</div>"
      ],
      "text/plain": [
       "   cinema_id  film_id        date start_time\n",
       "0       8941   227902  2018-09-14      14:30\n",
       "1       8941   227902  2018-09-15      15:45\n",
       "2       8941   123456  2018-09-15      17:05\n",
       "3       8941   123456  2018-09-16      19:25\n",
       "4       8941   123456  2018-09-17      18:00"
      ]
     },
     "execution_count": 22,
     "metadata": {},
     "output_type": "execute_result"
    }
   ],
   "source": [
    "df_rows = []\n",
    "\n",
    "cinema_id = sample_api['cinema']['cinema_id']\n",
    "for film in sample_api['cinema']['showings']:\n",
    "    film_id = film['film_id']\n",
    "    \n",
    "    # Loop through each show time\n",
    "    for show in film['times']:\n",
    "        start_time = show['start_time']\n",
    "        date = show['date']\n",
    "        df_rows.append({\n",
    "                'cinema_id': cinema_id,\n",
    "                'film_id': film_id,\n",
    "                'date': date,\n",
    "                'start_time': start_time\n",
    "            })\n",
    "            \n",
    "df = pd.DataFrame(df_rows)\n",
    "df.head()"
   ]
  },
  {
   "cell_type": "markdown",
   "metadata": {},
   "source": [
    "Export this DataFrame as `JSON` as save as a file named `export_df.json`."
   ]
  },
  {
   "cell_type": "code",
   "execution_count": 23,
   "metadata": {
    "ExecuteTime": {
     "end_time": "2021-11-29T01:58:26.256971Z",
     "start_time": "2021-11-29T01:58:26.242730Z"
    }
   },
   "outputs": [
    {
     "data": {
      "text/html": [
       "<div>\n",
       "<style scoped>\n",
       "    .dataframe tbody tr th:only-of-type {\n",
       "        vertical-align: middle;\n",
       "    }\n",
       "\n",
       "    .dataframe tbody tr th {\n",
       "        vertical-align: top;\n",
       "    }\n",
       "\n",
       "    .dataframe thead th {\n",
       "        text-align: right;\n",
       "    }\n",
       "</style>\n",
       "<table border=\"1\" class=\"dataframe\">\n",
       "  <thead>\n",
       "    <tr style=\"text-align: right;\">\n",
       "      <th></th>\n",
       "      <th>cinema_id</th>\n",
       "      <th>film_id</th>\n",
       "      <th>date</th>\n",
       "      <th>start_time</th>\n",
       "    </tr>\n",
       "  </thead>\n",
       "  <tbody>\n",
       "    <tr>\n",
       "      <th>0</th>\n",
       "      <td>8941</td>\n",
       "      <td>227902</td>\n",
       "      <td>2018-09-14</td>\n",
       "      <td>2021-11-29 14:30:00</td>\n",
       "    </tr>\n",
       "    <tr>\n",
       "      <th>1</th>\n",
       "      <td>8941</td>\n",
       "      <td>227902</td>\n",
       "      <td>2018-09-15</td>\n",
       "      <td>2021-11-29 15:45:00</td>\n",
       "    </tr>\n",
       "    <tr>\n",
       "      <th>2</th>\n",
       "      <td>8941</td>\n",
       "      <td>123456</td>\n",
       "      <td>2018-09-15</td>\n",
       "      <td>2021-11-29 17:05:00</td>\n",
       "    </tr>\n",
       "    <tr>\n",
       "      <th>3</th>\n",
       "      <td>8941</td>\n",
       "      <td>123456</td>\n",
       "      <td>2018-09-16</td>\n",
       "      <td>2021-11-29 19:25:00</td>\n",
       "    </tr>\n",
       "    <tr>\n",
       "      <th>4</th>\n",
       "      <td>8941</td>\n",
       "      <td>123456</td>\n",
       "      <td>2018-09-17</td>\n",
       "      <td>2021-11-29 18:00:00</td>\n",
       "    </tr>\n",
       "    <tr>\n",
       "      <th>5</th>\n",
       "      <td>8941</td>\n",
       "      <td>123456</td>\n",
       "      <td>2018-09-17</td>\n",
       "      <td>2021-11-29 21:05:00</td>\n",
       "    </tr>\n",
       "    <tr>\n",
       "      <th>6</th>\n",
       "      <td>8941</td>\n",
       "      <td>123456</td>\n",
       "      <td>2018-09-18</td>\n",
       "      <td>2021-11-29 10:05:00</td>\n",
       "    </tr>\n",
       "  </tbody>\n",
       "</table>\n",
       "</div>"
      ],
      "text/plain": [
       "   cinema_id  film_id       date          start_time\n",
       "0       8941   227902 2018-09-14 2021-11-29 14:30:00\n",
       "1       8941   227902 2018-09-15 2021-11-29 15:45:00\n",
       "2       8941   123456 2018-09-15 2021-11-29 17:05:00\n",
       "3       8941   123456 2018-09-16 2021-11-29 19:25:00\n",
       "4       8941   123456 2018-09-17 2021-11-29 18:00:00\n",
       "5       8941   123456 2018-09-17 2021-11-29 21:05:00\n",
       "6       8941   123456 2018-09-18 2021-11-29 10:05:00"
      ]
     },
     "execution_count": 23,
     "metadata": {},
     "output_type": "execute_result"
    }
   ],
   "source": [
    "json_str = df.to_json()\n",
    "json.dump(json.loads(json_str),\n",
    "          open(\"export_df.json\", \"w\"))\n",
    "\n",
    "pd.read_json(\"export_df.json\")"
   ]
  },
  {
   "cell_type": "markdown",
   "metadata": {},
   "source": [
    "Like `.load()` and `.loads()`, `dump` works the same.\n",
    "- `json.dump()` writes a JSON object.\n",
    "- `json.dumps()` writes a JSON to a string (i.e `json.dumpSTRING()`)\n",
    "\n",
    "Since we want to output a JSON object, we have used `.dump()`"
   ]
  },
  {
   "cell_type": "markdown",
   "metadata": {},
   "source": [
    "# Challenge: \n",
    "Extract a dataframe that consists of `cinema_id`, `film_id`, `session_type`, `date`, `start_time`. \n",
    "\n",
    "There are 2 types of `session_type`: VMAX and standard; `date` and `start_time` depends on `session_type`"
   ]
  },
  {
   "cell_type": "code",
   "execution_count": 24,
   "metadata": {
    "ExecuteTime": {
     "end_time": "2021-11-29T01:58:27.147627Z",
     "start_time": "2021-11-29T01:58:27.143262Z"
    },
    "code_folding": [
     5
    ]
   },
   "outputs": [
    {
     "data": {
      "text/plain": [
       "{'cinema': [{'cinema_id': 8941,\n",
       "   'cinema_name': 'Vue Cinemas - Reading',\n",
       "   'showings': [{'film_id': 227902,\n",
       "     'film_name': 'The Predator',\n",
       "     'times': {'standard': [{'start_time': '14:30', 'date': '2018-09-14'}],\n",
       "      'VMAX': [{'start_time': '15:45', 'date': '2018-09-15'}]}},\n",
       "    {'film_id': 123456,\n",
       "     'film_name': 'Avengers',\n",
       "     'times': {'VMAX': [{'start_time': '17:05', 'date': '2018-09-15'},\n",
       "       {'start_time': '19:25', 'date': '2018-09-16'}]}}]},\n",
       "  {'cinema_id': 8932,\n",
       "   'cinema_name': 'Another Cinemas',\n",
       "   'showings': [{'film_id': 227902,\n",
       "     'film_name': 'The Predator',\n",
       "     'times': {'VMAX': [{'start_time': '14:30', 'date': '2018-09-14'}],\n",
       "      'standard': [{'start_time': '15:45', 'date': '2018-09-15'}]}},\n",
       "    {'film_id': 123456,\n",
       "     'film_name': 'Avengers',\n",
       "     'times': {'standard': [{'start_time': '17:05', 'date': '2018-09-15'},\n",
       "       {'start_time': '19:25', 'date': '2018-09-16'}]}}]}]}"
      ]
     },
     "execution_count": 24,
     "metadata": {},
     "output_type": "execute_result"
    }
   ],
   "source": [
    "with open('challenge_api.json', 'r') as f:\n",
    "    challenge_api = json.load(f)\n",
    "    \n",
    "challenge_api"
   ]
  },
  {
   "cell_type": "code",
   "execution_count": 25,
   "metadata": {
    "ExecuteTime": {
     "end_time": "2021-11-29T01:58:27.540769Z",
     "start_time": "2021-11-29T01:58:27.533203Z"
    }
   },
   "outputs": [
    {
     "data": {
      "text/html": [
       "<div>\n",
       "<style scoped>\n",
       "    .dataframe tbody tr th:only-of-type {\n",
       "        vertical-align: middle;\n",
       "    }\n",
       "\n",
       "    .dataframe tbody tr th {\n",
       "        vertical-align: top;\n",
       "    }\n",
       "\n",
       "    .dataframe thead th {\n",
       "        text-align: right;\n",
       "    }\n",
       "</style>\n",
       "<table border=\"1\" class=\"dataframe\">\n",
       "  <thead>\n",
       "    <tr style=\"text-align: right;\">\n",
       "      <th></th>\n",
       "      <th>cinema_id</th>\n",
       "      <th>film_id</th>\n",
       "      <th>session_type</th>\n",
       "      <th>date</th>\n",
       "      <th>start_time</th>\n",
       "    </tr>\n",
       "  </thead>\n",
       "  <tbody>\n",
       "    <tr>\n",
       "      <th>0</th>\n",
       "      <td>8941</td>\n",
       "      <td>227902</td>\n",
       "      <td>standard</td>\n",
       "      <td>2018-09-14</td>\n",
       "      <td>14:30</td>\n",
       "    </tr>\n",
       "    <tr>\n",
       "      <th>1</th>\n",
       "      <td>8941</td>\n",
       "      <td>227902</td>\n",
       "      <td>VMAX</td>\n",
       "      <td>2018-09-15</td>\n",
       "      <td>15:45</td>\n",
       "    </tr>\n",
       "    <tr>\n",
       "      <th>2</th>\n",
       "      <td>8941</td>\n",
       "      <td>123456</td>\n",
       "      <td>VMAX</td>\n",
       "      <td>2018-09-15</td>\n",
       "      <td>17:05</td>\n",
       "    </tr>\n",
       "    <tr>\n",
       "      <th>3</th>\n",
       "      <td>8941</td>\n",
       "      <td>123456</td>\n",
       "      <td>VMAX</td>\n",
       "      <td>2018-09-16</td>\n",
       "      <td>19:25</td>\n",
       "    </tr>\n",
       "    <tr>\n",
       "      <th>4</th>\n",
       "      <td>8932</td>\n",
       "      <td>227902</td>\n",
       "      <td>VMAX</td>\n",
       "      <td>2018-09-14</td>\n",
       "      <td>14:30</td>\n",
       "    </tr>\n",
       "    <tr>\n",
       "      <th>5</th>\n",
       "      <td>8932</td>\n",
       "      <td>227902</td>\n",
       "      <td>standard</td>\n",
       "      <td>2018-09-15</td>\n",
       "      <td>15:45</td>\n",
       "    </tr>\n",
       "    <tr>\n",
       "      <th>6</th>\n",
       "      <td>8932</td>\n",
       "      <td>123456</td>\n",
       "      <td>standard</td>\n",
       "      <td>2018-09-15</td>\n",
       "      <td>17:05</td>\n",
       "    </tr>\n",
       "    <tr>\n",
       "      <th>7</th>\n",
       "      <td>8932</td>\n",
       "      <td>123456</td>\n",
       "      <td>standard</td>\n",
       "      <td>2018-09-16</td>\n",
       "      <td>19:25</td>\n",
       "    </tr>\n",
       "  </tbody>\n",
       "</table>\n",
       "</div>"
      ],
      "text/plain": [
       "   cinema_id  film_id session_type        date start_time\n",
       "0       8941   227902     standard  2018-09-14      14:30\n",
       "1       8941   227902         VMAX  2018-09-15      15:45\n",
       "2       8941   123456         VMAX  2018-09-15      17:05\n",
       "3       8941   123456         VMAX  2018-09-16      19:25\n",
       "4       8932   227902         VMAX  2018-09-14      14:30\n",
       "5       8932   227902     standard  2018-09-15      15:45\n",
       "6       8932   123456     standard  2018-09-15      17:05\n",
       "7       8932   123456     standard  2018-09-16      19:25"
      ]
     },
     "execution_count": 25,
     "metadata": {},
     "output_type": "execute_result"
    }
   ],
   "source": [
    "### SOLUTION\n",
    "df_rows = []\n",
    "\n",
    "# for each cinema\n",
    "for cinema in challenge_api['cinema']:\n",
    "    cinema_id = cinema['cinema_id']\n",
    "    \n",
    "    # for each show\n",
    "    for show in cinema['showings']:\n",
    "        film_id = show['film_id']\n",
    "        \n",
    "        # for each session type\n",
    "        for session_type in show['times']:\n",
    "            # get the possible times\n",
    "            session_times = show['times'][session_type]\n",
    "            \n",
    "            # for each possible starting time\n",
    "            for time in session_times:\n",
    "                # get the start and date\n",
    "                start_time, date = time.values()\n",
    "                df_rows.append({'cinema_id': cinema_id,\n",
    "                                'film_id': film_id,\n",
    "                                'session_type': session_type,\n",
    "                                'date': date,\n",
    "                                'start_time': start_time\n",
    "                })\n",
    "            \n",
    "df = pd.DataFrame(df_rows)\n",
    "df"
   ]
  },
  {
   "cell_type": "code",
   "execution_count": null,
   "metadata": {},
   "outputs": [],
   "source": []
  }
 ],
 "metadata": {
  "kernelspec": {
   "display_name": "Python 3 (ipykernel)",
   "language": "python",
   "name": "python3"
  },
  "language_info": {
   "codemirror_mode": {
    "name": "ipython",
    "version": 3
   },
   "file_extension": ".py",
   "mimetype": "text/x-python",
   "name": "python",
   "nbconvert_exporter": "python",
   "pygments_lexer": "ipython3",
   "version": "3.8.10"
  },
  "latex_envs": {
   "LaTeX_envs_menu_present": true,
   "autoclose": false,
   "autocomplete": true,
   "bibliofile": "biblio.bib",
   "cite_by": "apalike",
   "current_citInitial": 1,
   "eqLabelWithNumbers": true,
   "eqNumInitial": 1,
   "hotkeys": {
    "equation": "Ctrl-E",
    "itemize": "Ctrl-I"
   },
   "labels_anchors": false,
   "latex_user_defs": false,
   "report_style_numbering": false,
   "user_envs_cfg": false
  },
  "toc": {
   "base_numbering": 1,
   "nav_menu": {},
   "number_sections": true,
   "sideBar": true,
   "skip_h1_title": false,
   "title_cell": "Table of Contents",
   "title_sidebar": "Contents",
   "toc_cell": false,
   "toc_position": {},
   "toc_section_display": true,
   "toc_window_display": false
  },
  "varInspector": {
   "cols": {
    "lenName": 16,
    "lenType": 16,
    "lenVar": 40
   },
   "kernels_config": {
    "python": {
     "delete_cmd_postfix": "",
     "delete_cmd_prefix": "del ",
     "library": "var_list.py",
     "varRefreshCmd": "print(var_dic_list())"
    },
    "r": {
     "delete_cmd_postfix": ") ",
     "delete_cmd_prefix": "rm(",
     "library": "var_list.r",
     "varRefreshCmd": "cat(var_dic_list()) "
    }
   },
   "types_to_exclude": [
    "module",
    "function",
    "builtin_function_or_method",
    "instance",
    "_Feature"
   ],
   "window_display": false
  }
 },
 "nbformat": 4,
 "nbformat_minor": 4
}
