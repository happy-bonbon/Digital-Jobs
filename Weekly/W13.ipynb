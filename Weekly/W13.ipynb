{
 "cells": [
  {
   "cell_type": "markdown",
   "metadata": {},
   "source": [
    "# Working with Libraries"
   ]
  },
  {
   "cell_type": "markdown",
   "metadata": {},
   "source": [
    "You have already seen a reasonable number of built-in functions, and many methods associated with particular types. Python actually has a much, much larger array of built-in functions, but to avoid bloating the language, they are available on a user-needs basis, in the form of libraries. A **library** is a collection of functions that relate to a particular style of analysis. For example, there is a library for basic mathematical and statistical functions, another library for advanced iterators, and a different library again for advanced data structures used for storage purposes.  Part of the popularity of Python is the exceptionally broad range of libraries, making computing easy in all sorts of different contexts.\n",
    "\n",
    "We will introduce a number of \"standard\" libraries (i.e. libraries which are part of the default Python distribution; there are many, many, many more \"third-party\" libraries that can be installed separately) in this subject, and use the `math` library to introduce the basic mechanics of library usage.\n",
    "\n",
    "To gain access to the functions within a given library, you must first tell Python to enable it, using the `import` statement, followed by a space and the name of the library, e.g., in the case of the `math` library:\n"
   ]
  },
  {
   "cell_type": "code",
   "execution_count": null,
   "metadata": {},
   "outputs": [],
   "source": [
    "import math"
   ]
  },
  {
   "cell_type": "markdown",
   "metadata": {},
   "source": [
    "\n",
    "If you run the above code, you might get the impression that nothing has happened, but as we will see in the following slides, this single statement has enabled access to the full contents of the library.\n",
    "\n",
    "> ## Library Functions or Methods?\n",
    "> We will tend to talk about libraries containing \"functions\" throughout this worksheet, but the astute reader will notice that we generally use them as methods rather than functions, depending on how we import the library. Because the same objects can be imported as either functions or methods, for simplicity in our description, we will use the term library \"function\" by default.\n"
   ]
  },
  {
   "cell_type": "markdown",
   "metadata": {},
   "source": [
    "# The <code data-lang=\"py3\">math</code> Library"
   ]
  },
  {
   "cell_type": "markdown",
   "metadata": {},
   "source": [
    "The `math` library provides many functions such as `.sqrt()` (to calculate the square root of a number), `.log10()` (to calculate the base-10 logarithm of a number), and `.factorial()` (to calculate the factorial of a number, i.e. $$n\\times(n-1)\\times(n-2)\\times ... \\times 1$$. Having imported the `math` library as per the previous slide, we can access these as methods (yes, methods not functions; see the note at the bottom of the previous slide) associated with the `math` library object, e.g.:\n"
   ]
  },
  {
   "cell_type": "code",
   "execution_count": null,
   "metadata": {},
   "outputs": [],
   "source": [
    "import math\n",
    "print(math.sqrt(144))\n",
    "print(math.log10(1000000))\n",
    "print(math.factorial(10))"
   ]
  },
  {
   "cell_type": "markdown",
   "metadata": {},
   "source": [
    "\n",
    "The `math` library also supplies some important mathematical constants in the form of numeric variables, notably $\\pi$ and $e$.\n"
   ]
  },
  {
   "cell_type": "code",
   "execution_count": null,
   "metadata": {},
   "outputs": [],
   "source": [
    "import math\n",
    "print(math.pi)\n",
    "print(math.e)"
   ]
  },
  {
   "cell_type": "markdown",
   "metadata": {},
   "source": [
    "\n",
    "And yes, in discussing PEP8 and also in the previous worksheet we said that constants should be upper-case, but the `math` library pre-dates PEP8 ... and lower-case is closer to the mathematical notation, so we can perhaps forgive the Python developers for the inconsistency in this instance.\n",
    "\n",
    "Remember that functions have brackets after them, constants do not. The full set of object names provided by a library can be accessed as a list using the `dir()` function applied to the library object. Here is an example:\n"
   ]
  },
  {
   "cell_type": "code",
   "execution_count": null,
   "metadata": {},
   "outputs": [],
   "source": [
    "import math\n",
    "for entry in dir(math):\n",
    "    print(entry)"
   ]
  },
  {
   "cell_type": "markdown",
   "metadata": {},
   "source": [
    "\n",
    "> ## Hint\n",
    "> You can look up the purpose of each of these functions, along with a description of the arguments they take, in the [Python online documentation](https://docs.python.org/3/library/math.html).\n"
   ]
  },
  {
   "cell_type": "markdown",
   "metadata": {},
   "source": [
    "# Different Ways of Importing"
   ]
  },
  {
   "cell_type": "markdown",
   "metadata": {},
   "source": [
    "One downside to the standard `import` method is that, if the library has a long-winded name, it can be odious to have to type the full library name every time you want to use it. Python supports the importing of libraries under pseudonyms via the `import LIBRARY as VARIABLE` statement, e.g.:\n"
   ]
  },
  {
   "cell_type": "code",
   "execution_count": null,
   "metadata": {},
   "outputs": [],
   "source": [
    "import math as m\n",
    "\n",
    "print(m.pi)\n",
    "print(m.sqrt(2))"
   ]
  },
  {
   "cell_type": "markdown",
   "metadata": {},
   "source": [
    "\n",
    "Alternatively, it is possible to selectively import objects in a given library into the local namespace of a program, to be accessed directly as functions and variables, using the `from LIBRARY import OBJECT` statement, e.g.:\n"
   ]
  },
  {
   "cell_type": "markdown",
   "metadata": {},
   "source": [
    "```python\n",
    "from math import pi, sqrt\n",
    "\n",
    "print(pi)\n",
    "print(sqrt(2))\n",
    "print(e)\n",
    "```"
   ]
  },
  {
   "cell_type": "code",
   "execution_count": null,
   "metadata": {},
   "outputs": [],
   "source": [
    "# Try running the last example here"
   ]
  },
  {
   "cell_type": "markdown",
   "metadata": {},
   "source": [
    "\n",
    "Note that, as seen in the above example, this will only import the comma-separated objects, meaning that any other objects in the library will not be accessible.\n",
    "\n",
    "As a final option, it is possible to import *all* objects in a given library into the local namespace of a program, via `from LIBRARY import *`, e.g.:\n"
   ]
  },
  {
   "cell_type": "code",
   "execution_count": null,
   "metadata": {},
   "outputs": [],
   "source": [
    "from math import *\n",
    "\n",
    "print(pi)\n",
    "print(sqrt(2))\n",
    "print(e)"
   ]
  },
  {
   "cell_type": "markdown",
   "metadata": {},
   "source": [
    "\n",
    "In practice, this final method is generally not used because of potential namespace clashes — consider what happens when multiple libraries with methods of the same name are imported in this way.\n",
    "\n",
    "> ## Asterisk\n",
    "> Often in Computing the asterisk character `*` means \"everything\". For example, when you are managing files with the terminal of your computer and want to open every one starting with \"IMG_3\", you can give the command `open IMG_3*`. The asterisk will match any file that starts with \"IMG_3\". The asterisk can sometimes be a very useful character!"
   ]
  },
  {
   "cell_type": "markdown",
   "metadata": {},
   "source": [
    "# Style"
   ]
  },
  {
   "cell_type": "markdown",
   "metadata": {},
   "source": [
    "In terms of style, `import` statements should always be at the start of your program, before everything else. Naturally, you have to import a function before you can use it, so this will happen naturally to some degree, but rather than the following:\n"
   ]
  },
  {
   "cell_type": "code",
   "execution_count": null,
   "metadata": {},
   "outputs": [],
   "source": [
    "def radius(r):\n",
    "    return pi * r**2\n",
    "    \n",
    "from math import pi\n",
    "\n",
    "print(radius(2))\n",
    "print(radius(10))"
   ]
  },
  {
   "cell_type": "markdown",
   "metadata": {},
   "source": [
    "\n",
    "you should have the `import` statement first:\n"
   ]
  },
  {
   "cell_type": "code",
   "execution_count": null,
   "metadata": {},
   "outputs": [],
   "source": [
    "from math import pi\n",
    "\n",
    "def radius(r):\n",
    "    return pi * r**2\n",
    "    \n",
    "print(radius(2))\n",
    "print(radius(10))"
   ]
  },
  {
   "cell_type": "markdown",
   "metadata": {},
   "source": [
    "\n",
    "> ## Execution order\n",
    "> It is interesting to reflect on why the first version works even, given that `pi` occurs in the body of the function, which *precedes* the `import` statement in the code. The answer is that, other than the function header, the code isn't *executed* until the function call, which occurs after the `import` statement. As always, [pythontutor](http://pythontutor.com/) is your friend in understanding this.\n"
   ]
  },
  {
   "cell_type": "markdown",
   "metadata": {},
   "source": [
    "# Problem: Triangle Leg Lengths"
   ]
  },
  {
   "cell_type": "markdown",
   "metadata": {},
   "source": [
    "Write a function `triangle_legs(hyp, angle)` that returns the lengths of the two sides of a right-angled triangle that are adjacent to the right angle (i.e. the \"legs\"), given the length of the hypotenuse (`hyp` — a positive number) and one of the two non-right angles of the triangle (`angle` — a positive number in degrees, less than 90).\n",
    " The function should return a 2-element tuple of floats, with the shortest leg first, e.g.\n"
   ]
  },
  {
   "cell_type": "markdown",
   "metadata": {},
   "source": [
    "```python\n",
    ">>> triangle_legs(1, 45)\n",
    "(0.7071067811865475, 0.7071067811865476)\n",
    ">>> triangle_legs(5, 53.13010235415599)\n",
    "(2.999999999999999, 4.000000000000001)\n",
    "```  "
   ]
  },
  {
   "cell_type": "markdown",
   "metadata": {},
   "source": [
    "\n",
    "As a refresher from high-school Maths, $Adj = Hyp\\times\\cos(\\alpha)$ and $Opp = Hyp\\times\\sin(\\alpha)$ where $\\alpha$ is a non-right angle of a right-angled triangle, $Adj$ is the length of the leg adjacent to the angle $\\alpha$, $Opp$ is the length of the leg opposite to the angle $\\alpha$, and $Hyp$ is the length of the hypotenuse.\n",
    "\n",
    "> ## Hint\n",
    "> The $\\cos$ and $\\sin$ functions can be found in the `math` library, as `cos()` and `sin()`, respectively. The argument to each must be in radians, for which the function `radians()` (which converts an angle in degrees to radians) may come in handy, e.g.:"
   ]
  },
  {
   "cell_type": "code",
   "execution_count": null,
   "metadata": {},
   "outputs": [],
   "source": [
    "from math import cos, sin, radians\n",
    "\n",
    "print(cos(0))\n",
    "print(sin(radians(90)))"
   ]
  },
  {
   "cell_type": "markdown",
   "metadata": {},
   "source": [
    "# Default Dictionaries"
   ]
  },
  {
   "cell_type": "markdown",
   "metadata": {},
   "source": [
    "A *very* useful data type you can import from a standard library is a **default dictionary**. In previous problems we were always using dictionaries to \"accumulate\" frequency counts of things, for example the frequency of letters in a string would be calculated as below:\n"
   ]
  },
  {
   "cell_type": "code",
   "execution_count": null,
   "metadata": {},
   "outputs": [],
   "source": [
    "my_dict = {}\n",
    "my_string = \"I want to go home now\"\n",
    "\n",
    "for char in my_string:\n",
    "    if char in my_dict.keys():\n",
    "        my_dict[char]+=1\n",
    "    else:\n",
    "        my_dict[char]=1\n",
    "        \n",
    "# A frequency count of the letters in my_dict.\n",
    "print(my_dict)"
   ]
  },
  {
   "cell_type": "markdown",
   "metadata": {},
   "source": [
    "\n",
    "Default dictionaries provide a shortcut for doing this. They are like a regular dictionary, but if you request a key value that is not in the dictionary the default dictionary does two things:\n",
    "\n",
    "* It creates a default value for the key and returns it.\n",
    "* It adds the `{key: value}` pair to the dictionary for future reference\n",
    "\n",
    "Though there are other possibilities, the default value is usually the \"zero value\" of a type — for `list`, the empty list `[]`; for `str`, the empty string `\"\"`; for `int`, `0`; for `float`, `0.0`; and so on.\n",
    "\n",
    "Default dictionaries are in the `collections` library. You can include them like this: `from collections import defaultdict`. (Or using any other variant of the `import` syntax we have discussed).\n",
    "\n",
    "Let's look at an example. Below, we define a dictionary and try to access an element of it that does not exist. As expected this creates a `KeyError`:\n"
   ]
  },
  {
   "cell_type": "markdown",
   "metadata": {},
   "source": [
    "```python\n",
    "my_dict = {}\n",
    "my_dict[\"joe\"]\n",
    "```  "
   ]
  },
  {
   "cell_type": "code",
   "execution_count": null,
   "metadata": {},
   "outputs": [],
   "source": [
    "# Try running the last example here"
   ]
  },
  {
   "cell_type": "markdown",
   "metadata": {},
   "source": [
    "\n",
    "A default dictionary solves this problem. For example, let's make one that places default integer values (`0`) in the dictionary for new keys.\n"
   ]
  },
  {
   "cell_type": "code",
   "execution_count": null,
   "metadata": {},
   "outputs": [],
   "source": [
    "from collections import defaultdict\n",
    "\n",
    "# create a default dictionary\n",
    "my_dict = defaultdict(int)\n",
    "print(my_dict)\n",
    "\n",
    "# try to access the element \"joe\" which is not in it.\n",
    "a = my_dict[\"joe\"]\n",
    "\n",
    "# notice the value that was returned and that it was added to the dictionary.\n",
    "print(a)\n",
    "print(my_dict)"
   ]
  },
  {
   "cell_type": "markdown",
   "metadata": {},
   "source": [
    "\n",
    "> ## The internals of default dictionaries\n",
    "> You may have noticed that when we used `print()` to examine the contents of default dictionaries, they looked a bit different to normal dictionaries. When we look up elements in the dictionary or perform any of the other standard operations, however, we will notice no difference, including being able to initialise the contents of a default dictionary from a dictionary. In fact, we can simply think of a defaultdict as a regular dictionary \"wrapped\" in the defaultdict structure which adds the initialisation behaviour but otherwise doesn't change it. Note also that the type we provide is only the default value for a new key, and we are not constrained to use only that type for all `{key: value}` pairs:"
   ]
  },
  {
   "cell_type": "code",
   "execution_count": null,
   "metadata": {},
   "outputs": [],
   "source": [
    "from collections import defaultdict\n",
    "\n",
    "d = defaultdict(int, {'a': 2})\n",
    "d['b'] = 'hah!'\n",
    "print(d)"
   ]
  },
  {
   "cell_type": "markdown",
   "metadata": {},
   "source": [
    "# Default Dictionaries"
   ]
  },
  {
   "cell_type": "markdown",
   "metadata": {},
   "source": [
    "Because default dictionaries automatically add elements when we ask for key values which don't exist, we no longer need to check if a key is in the dictionary before referencing its value. This means we can shorten the following code.\n"
   ]
  },
  {
   "cell_type": "code",
   "execution_count": null,
   "metadata": {},
   "outputs": [],
   "source": [
    "my_dict = {}\n",
    "my_string = \"I want to go home now\"\n",
    "\n",
    "for char in my_string:\n",
    "    if char in my_dict:\n",
    "        my_dict[char] += 1\n",
    "    else:\n",
    "        my_dict[char] = 1\n",
    "        \n",
    "# A frequency count of the letters in my_dict.\n",
    "print(my_dict)"
   ]
  },
  {
   "cell_type": "markdown",
   "metadata": {},
   "source": [
    "\n",
    "To this:\n"
   ]
  },
  {
   "cell_type": "code",
   "execution_count": null,
   "metadata": {},
   "outputs": [],
   "source": [
    "from collections import defaultdict\n",
    "\n",
    "my_dd = defaultdict(int)\n",
    "my_string = \"I want to go home now\"\n",
    "\n",
    "for char in my_string:\n",
    "    my_dd[char] += 1\n",
    "print(my_dd)"
   ]
  },
  {
   "cell_type": "markdown",
   "metadata": {},
   "source": [
    "# Problem: Donald Trump's Speech"
   ]
  },
  {
   "cell_type": "markdown",
   "metadata": {},
   "source": [
    "In this question, we are going to do some analysis of Donald Trump's election speeches, and compare them to some of Barack Obama's speeches.\n",
    "\n",
    "In `speeches.txt` (included in the tab to the right) there are two speeches: one by Obama (more [here](http://obamaspeeches.com/)), and another by Trump (from [here](http://www.kansascity.com/news/local/news-columns-blogs/the-buzz/article55604115.html)).\n",
    " Linguists have said that Trump's language is simple.\n",
    " One interpretation of this is that he uses short words more frequently.\n",
    " We will write a function that takes a string and returns the top-5 most frequent **word lengths** in the string to find out whether this is the case.\n",
    "\n",
    "For this problem you should write two functions.\n",
    " The first function `count_lengths()` should take a string `text`, and return a default dictionary containing the frequency counts of each word length. Your function should split `text` up into words based whitespace using the `.split()` method, without removing punctuation or changing the case of any of the \"words\".\n",
    "\n",
    "The second function `top5_word_lengths()` should take a string `text`, and return the list of the (up to) five most-frequent word lengths. It should operate by first calling `count_lengths` over `text` to generate a dictionary of word lengths, then sorting the word lengths in terms in descending order of frequency, and returning the top 5 (or less in the instance that there aren't 5). In the case of a tie in frequency, the word lengths should be sub-sorted in descending order of word length.\n",
    "\n",
    "The two functions will be tested separately.\n",
    "\n",
    "`top5_word_lengths()` should return word-lengths in **descending** order in the event that they have the same frequency.\n",
    " If there are fewer than 5 word lengths it should return a shorter list of the sorted word lengths.\n",
    "\n",
    "Your program should behave as follows:\n"
   ]
  },
  {
   "cell_type": "markdown",
   "metadata": {},
   "source": [
    "```python\n",
    ">>> count_lengths(\"one one was a racehorse two two was one too\")\n",
    "defaultdict(, {3: 8, 1: 1, 9: 1})\n",
    ">>> top5_word_lengths(\"one one was a racehorse two two was one too\")\n",
    "[3, 9, 1]\n",
    ">>> top5_word_lengths(\"buffalo buffalo buffalo chicken buffalo\")\n",
    "[7]\n",
    ">>> top5_word_lengths(\"the quick brown fox jumped over a lazy dog\")\n",
    "[3, 5, 4, 6, 1]\n",
    "```  "
   ]
  },
  {
   "cell_type": "markdown",
   "metadata": {},
   "source": [
    "\n",
    "Try running your program on the speeches by copy-pasting them from `speeches.txt` as an argument to your function.\n",
    " Compare with your classmates.\n",
    " Is Trump's language simpler?\n",
    "\n",
    "> ## Helper functions\n",
    "> Writing **helper functions** like `count_lengths()` is common practice when coding. It is often helpful to break problems down into multiple subproblems, and solve each independently. You should feel free to do this as much as you like in projects and in Grok. Normally we won't tell you to do it, and it will be left up to you."
   ]
  },
  {
   "cell_type": "code",
   "execution_count": null,
   "metadata": {},
   "outputs": [],
   "source": [
    "from collections import defaultdict\n",
    "\n",
    "def count_lengths(text):\n",
    "    # Your code here.\n",
    "\n",
    "def top5_word_lengths(text):\n",
    "    # Your code here."
   ]
  },
  {
   "cell_type": "markdown",
   "metadata": {},
   "source": [
    "# Nested Loops"
   ]
  },
  {
   "cell_type": "markdown",
   "metadata": {},
   "source": [
    "You are hopefully now used to iterating over iterables such as strings and lists with `for`, and iterating until some boundary condition is met with `while`. While it may seem obvious, it is worth pointing out that, just as we could have conditionals within conditionals, we can also have loops inside loops, in what is called a **nested loop**.\n",
    "\n",
    "Typically, a nested loop consists of an outer loop and an inner loop (although the inner loop can itself be nested). One analogy is the hands of a clock: the outer loop corresponds to the hour hand and the inner loop to the minute hand. The hour hand will only progress once the second hand has completed a full loop (and if there were a second hand, the minute hand would only progress once the second hand had completed a full loop). Analogously, the outer loop will only progress once the inner loop has completed all of its iterations. Both `for` and `while` loops can be nested. A simple example of a nested loop is a multiplication table for all numbers between 1 and 10, inclusive:\n"
   ]
  },
  {
   "cell_type": "code",
   "execution_count": null,
   "metadata": {},
   "outputs": [],
   "source": [
    "for i in range(1, 11):\n",
    "    line = f'{i:2}:'\n",
    "    for j in range (1, 11):\n",
    "        line += f'{i * j:4}'\n",
    "    print(line)"
   ]
  },
  {
   "cell_type": "markdown",
   "metadata": {},
   "source": [
    "# Advanced Times Table"
   ]
  },
  {
   "cell_type": "markdown",
   "metadata": {},
   "source": [
    "You might want to add a header row for your times table. Here is the previous table with an extra loop to construct the header line before the nested loop:\n"
   ]
  },
  {
   "cell_type": "code",
   "execution_count": null,
   "metadata": {},
   "outputs": [],
   "source": [
    "line1 = \" * \"\n",
    "line2 = \"   \"\n",
    "\n",
    "for j in range(1,11):\n",
    "    line1 += f\"{j:4}\"\n",
    "    line2 += \"-\" * 4\n",
    "print(line1)\n",
    "print(line2)\n",
    "\n",
    "for i in range(1,11):\n",
    "    line = f\"{i:2}:\"\n",
    "    for j in range (1,11):\n",
    "        line += f\"{i * j:4}\"\n",
    "    print(line)"
   ]
  },
  {
   "cell_type": "markdown",
   "metadata": {},
   "source": [
    "# Spam"
   ]
  },
  {
   "cell_type": "markdown",
   "metadata": {},
   "source": [
    "The next code snippet shows an example of using nested loops for a simple email spam filter. Assume you have two lists: (1) `inbox` containing the subject lines of all your incoming email messages; and (2) `spam_words` containing a list of phrases that are indicative of spam. The following Python program identifies the spam messages in your inbox based on the presence of spam phrases in the subject line, and inserts them into a list called `junk`.\n"
   ]
  },
  {
   "cell_type": "code",
   "execution_count": null,
   "metadata": {},
   "outputs": [],
   "source": [
    "spam_words = [\"from the desk of\", \"replica watches\", \"winning notification\"]\n",
    "inbox = [\"lab opening hours over Easter break\", \"From the desk of David\", \n",
    "         \"Congratulation Winning Notification:\", \"GROK: worksheet 1\", \"Mid-semester test\"]\n",
    "junk = []\n",
    "\n",
    "for mail in inbox:\n",
    "    for keyword in spam_words:\n",
    "        if keyword in mail.lower():\n",
    "            junk.append(mail)\n",
    "            break\n",
    "            \n",
    "print(junk)"
   ]
  },
  {
   "cell_type": "markdown",
   "metadata": {},
   "source": [
    "\n",
    "Note the use of `break` here, performing much the same role as `return` in our lazy evaluation examples from the previous worksheet — at the first occurrence of a matching keyword, we abort the inner loop (noting that `break` will always apply to the innermost loop that it occurs in) rather than redundantly continuing to look for more matches, and in the instance of multiple matching keywords, appending it to `junk` multiple times.\n"
   ]
  },
  {
   "cell_type": "markdown",
   "metadata": {},
   "source": [
    "# Problem: Visualising Factors"
   ]
  },
  {
   "cell_type": "markdown",
   "metadata": {},
   "source": [
    "Write a program that asks the user for a positive integer `limit` and prints a table to visualize all factors of each integer ranging from 1 to `limit`. A factor $i$ of a number $n$ is an integer which divides $n$ evenly (i.e. without remainder). For example, 4 and 5 are factors of 20, but 6 is not. Each row represents an integer between 1 and 20. The first row represents the number 1, the second row the number 2, and so forth. For a given position $i$ (starting from 1) in a row $n$, `'* '` indicates that $i$ is a factor of $n$, and `'- '` indicates that it is not.\n",
    "\n",
    "The output of your program should look like this:\n"
   ]
  },
  {
   "cell_type": "markdown",
   "metadata": {},
   "source": [
    "```python\n",
    "Maximum number to factorise: 20\n",
    "* - - - - - - - - - - - - - - - - - - - \n",
    "* * - - - - - - - - - - - - - - - - - - \n",
    "* - * - - - - - - - - - - - - - - - - - \n",
    "* * - * - - - - - - - - - - - - - - - - \n",
    "* - - - * - - - - - - - - - - - - - - - \n",
    "* * * - - * - - - - - - - - - - - - - - \n",
    "* - - - - - * - - - - - - - - - - - - - \n",
    "* * - * - - - * - - - - - - - - - - - - \n",
    "* - * - - - - - * - - - - - - - - - - - \n",
    "* * - - * - - - - * - - - - - - - - - - \n",
    "* - - - - - - - - - * - - - - - - - - - \n",
    "* * * * - * - - - - - * - - - - - - - - \n",
    "* - - - - - - - - - - - * - - - - - - - \n",
    "* * - - - - * - - - - - - * - - - - - - \n",
    "* - * - * - - - - - - - - - * - - - - - \n",
    "* * - * - - - * - - - - - - - * - - - - \n",
    "* - - - - - - - - - - - - - - - * - - - \n",
    "* * * - - * - - * - - - - - - - - * - - \n",
    "* - - - - - - - - - - - - - - - - - * - \n",
    "* * - * * - - - - * - - - - - - - - - * \n",
    "```  "
   ]
  },
  {
   "cell_type": "markdown",
   "metadata": {},
   "source": [
    "\n",
    "> ## Hint\n",
    "> Use the modulus operator (`%`) to test factors! Recall that `m % n == 0` if and only if, `n` is a factor of `m`, e.g.:"
   ]
  },
  {
   "cell_type": "code",
   "execution_count": null,
   "metadata": {},
   "outputs": [],
   "source": [
    "print(20 % 5)\n",
    "print(20 % 6)\n",
    "print(20 % 7)"
   ]
  },
  {
   "cell_type": "code",
   "execution_count": null,
   "metadata": {},
   "outputs": [],
   "source": [
    "# Your solution here"
   ]
  },
  {
   "cell_type": "markdown",
   "metadata": {},
   "source": [
    "# Problem: Matching Codons"
   ]
  },
  {
   "cell_type": "markdown",
   "metadata": {},
   "source": [
    "In molecular biology, a codon refers to a substring of a DNA sequence made up of the nucleotides `A`, `T`, `C` and `G`.\n",
    "The nucleotide `A` always binds with `T`, and `T` always binds with `A`.\n",
    "`A` and `T` are referred to as \"base pairs\".\n",
    "Similarly, `C` and `G` are base pairs, that is, `C` always binds with `G`, and `G` always binds with `C`.\n",
    "Two codons are complementary if each of their respective nucleotides are base pairs.\n",
    "\n",
    "Write a function `matching_codons(complements, pool1, pool2)` that takes three arguments: a dictionary `complements` and two lists `pool1` and `pool2`.\n",
    "The dictionary contains the base pairs, and the pools each contain a list of codon sequences.\n",
    "Your task is to find the complementary codon sequence in `pool2` for each codon sequence in `pool1`, and return all matching pairs in following format:\n"
   ]
  },
  {
   "cell_type": "markdown",
   "metadata": {},
   "source": [
    "```python\n",
    ">>> complements = {'A':'T', 'C':'G', 'T':'A', 'G':'C'}\n",
    ">>> pool1 = ['AAG', 'TAC', 'CGG', 'GAT', 'TTG', 'GTG', 'CAT', 'GGC', 'ATT', 'TCT']\n",
    ">>> pool2 = ['TAA', 'CTA', 'AAC', 'TTC', 'AGA', 'CCC', 'CCG', 'GTA']\n",
    ">>> matching_codons(complements, pool1, pool2)\n",
    "[('AAG', 'TTC'), ('GAT', 'CTA'), ('TTG', 'AAC'), ('CAT', 'GTA'), ('GGC', 'CCG'), ('ATT', 'TAA'), ('TCT', 'AGA')]\n",
    "```  "
   ]
  },
  {
   "cell_type": "markdown",
   "metadata": {},
   "source": [
    "\n",
    "The return value is a list of 2-tuples of codons.\n",
    "The first item in each tuple is a codon from `pool1` and the second is the matching codon found in `pool2`.\n",
    "For example, the sequences `AAG` (`pool1[0]`) and `TTC` (`pool2[3]`) are complementary as the base pair of `A` is `T` and that of `G` is `C`.\n",
    "For `CCG`, on the other hand, the matching codon (`GGC`) does not occur in `pool2`, and it is thus not contained in the output of the function.\n",
    "The returned list should preserve the original order of `pool1`.\n",
    "Note that you may assume that there are no duplicate codons in `pool1` or `pool2`.\n",
    "\n",
    "Make sure to use the base pair information given in the `complements` dictionary to identify the complementary codons, and not hard-code any assumptions about base pairs in your code (and expect some of the hidden tests to confirm that you are doing this!)."
   ]
  },
  {
   "cell_type": "code",
   "execution_count": null,
   "metadata": {},
   "outputs": [],
   "source": [
    "# Your solution here"
   ]
  },
  {
   "cell_type": "markdown",
   "metadata": {},
   "source": [
    "# 2D Data"
   ]
  },
  {
   "cell_type": "markdown",
   "metadata": {},
   "source": [
    "Until now, you have worked with **linear** (or **one-dimensional**) data types, for example strings, and un-nested lists and dictionaries. The word \"linear\" refers to the fact that you use a single index to access the atomic elements of the sequence. For example, `vowels[3]` in the string `vowels = 'aeiou'` refers to the letter `'o'`.\n",
    "\n",
    "However, much data, such as images or tables, is stored in two-dimensional form consisting of rows and columns. You require two indices to access the elements of two-dimensional data: the first index refers to the row number and the second index refers to the column number.\n",
    "\n",
    "For example, consider the following figure of a simple digital image. Each square in the figure represents a pixel in the image. To index a particular pixel in the image, you use the row and column indices.\n",
    "\n",
    "![A close up look at the elements of a digital image.](https://groklearning-cdn.com/modules/dkU4zwMkA9Kk2s9W6BZLJF/2dformat.png)\n",
    "The blue pixel is at the position `[4][5]` (remember that indices start from `0`). In other words, the blue pixel in the image is at row `4` and column `5`. Likewise, the position `[0][0]` corresponds to the green pixel and the position `[9][3]` corresponds to the pink pixel.\n"
   ]
  },
  {
   "cell_type": "markdown",
   "metadata": {},
   "source": [
    "# Representing 2D Data in Python"
   ]
  },
  {
   "cell_type": "markdown",
   "metadata": {},
   "source": [
    "Two-dimensional data can represented in Python as a nested list, i.e., a list of lists. A table, for instance, can be seen as a list of rows, where each row contains the values stored in the table. Similarly, a digital picture has rows and columns. The following example shows how a digital picture can be represented as a nested list. The picture contains white, blue, green and red pixels represented by the values `'W'`, `'B'`, `'G'` and `'R'`, respectively.\n",
    "\n",
    "![One way to represent an image in Python](https://groklearning-cdn.com/modules/R8G97ZNY7HA64DrndNNYeL/color_list.png)\n",
    "The picture `P` is represented as a `list` of rows, and each row is a `list` of colour values. Therefore, the image is represented as a list of lists.\n",
    "\n",
    "The inner lists correspond to the rows in the picture `P`, and each element in these lists in turn corresponds to colour values of the picture. For example, the first row in the picture `P` is accessed as `P[0]` and returns the list `['G', 'W', 'W', 'W', 'W', 'W', 'W', 'W', 'G', 'W']`. `[6][1]` returns the green pixel stored as `'G'`.\n",
    "\n",
    "The relevance of this to nested loops is that to navigate through two-dimensional data, we need to use a (single) nested loop (noting that if it were a three-dimensional image, we would need to use a double-nested loop).\n"
   ]
  },
  {
   "cell_type": "markdown",
   "metadata": {},
   "source": [
    "# Problem: Image Grey Value"
   ]
  },
  {
   "cell_type": "markdown",
   "metadata": {},
   "source": [
    "![A Python representation of a black and white image.](https://groklearning-cdn.com/problems/Y8jnPWMXqcZ4Mp8vHDZkXh/white_pixels2.png)\n",
    "The above figure shows a digital picture represented as a nested list.\n",
    "Each element in the list stores the value of a single pixel.\n",
    "Each pixel is either black or white.\n",
    "A white pixel is represented by `1` and a black pixel by `0`.\n",
    "\n",
    "Write a Python function `grey_value(image)` which takes an image `image` (represented as a list of lists like above) and returns its **grey value**.\n",
    "The grey value of a black and white picture is defined as the number of white pixels divided by the total number of pixels in the picture.\n",
    "Your function should return the grey value as a single floating-point number in the range `0.0` to `1.0`.\n"
   ]
  },
  {
   "cell_type": "markdown",
   "metadata": {},
   "source": [
    "```python\n",
    ">>> grey_value([[0, 1], [1, 0]])\n",
    "0.5\n",
    ">>> grey_value([[0, 1, 1, 0], [1, 0, 1, 1]])\n",
    "0.625\n",
    "```  "
   ]
  },
  {
   "cell_type": "code",
   "execution_count": null,
   "metadata": {},
   "outputs": [],
   "source": [
    "# Your solution here"
   ]
  }
 ],
 "metadata": {
  "kernelspec": {
   "display_name": "Python 3 (ipykernel)",
   "language": "python",
   "name": "python3"
  },
  "language_info": {
   "codemirror_mode": {
    "name": "ipython",
    "version": 3
   },
   "file_extension": ".py",
   "mimetype": "text/x-python",
   "name": "python",
   "nbconvert_exporter": "python",
   "pygments_lexer": "ipython3",
   "version": "3.8.10"
  },
  "latex_envs": {
   "LaTeX_envs_menu_present": true,
   "autoclose": false,
   "autocomplete": true,
   "bibliofile": "biblio.bib",
   "cite_by": "apalike",
   "current_citInitial": 1,
   "eqLabelWithNumbers": true,
   "eqNumInitial": 1,
   "hotkeys": {
    "equation": "Ctrl-E",
    "itemize": "Ctrl-I"
   },
   "labels_anchors": false,
   "latex_user_defs": false,
   "report_style_numbering": false,
   "user_envs_cfg": false
  },
  "toc": {
   "base_numbering": 1,
   "nav_menu": {},
   "number_sections": true,
   "sideBar": true,
   "skip_h1_title": false,
   "title_cell": "Table of Contents",
   "title_sidebar": "Contents",
   "toc_cell": false,
   "toc_position": {},
   "toc_section_display": true,
   "toc_window_display": false
  },
  "varInspector": {
   "cols": {
    "lenName": 16,
    "lenType": 16,
    "lenVar": 40
   },
   "kernels_config": {
    "python": {
     "delete_cmd_postfix": "",
     "delete_cmd_prefix": "del ",
     "library": "var_list.py",
     "varRefreshCmd": "print(var_dic_list())"
    },
    "r": {
     "delete_cmd_postfix": ") ",
     "delete_cmd_prefix": "rm(",
     "library": "var_list.r",
     "varRefreshCmd": "cat(var_dic_list()) "
    }
   },
   "types_to_exclude": [
    "module",
    "function",
    "builtin_function_or_method",
    "instance",
    "_Feature"
   ],
   "window_display": false
  }
 },
 "nbformat": 4,
 "nbformat_minor": 1
}
