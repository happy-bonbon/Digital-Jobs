{
 "cells": [
  {
   "attachments": {},
   "cell_type": "markdown",
   "metadata": {},
   "source": [
    "# Namespace Question\n",
    "![namespace%20question.PNG](namespace%20question.PNG)"
   ]
  },
  {
   "cell_type": "markdown",
   "metadata": {},
   "source": [
    "Try doing the above example *without* using Python!"
   ]
  },
  {
   "cell_type": "markdown",
   "metadata": {},
   "source": [
    "# Overview"
   ]
  },
  {
   "cell_type": "markdown",
   "metadata": {},
   "source": [
    "Let's return to look at functions, and discuss them in greater detail, focusing on: what to do when there is no well-defined return value, how to return multiple values, `return` and \"lazy evaluation\", local variables and \"namespace\", and passing by value/reference. Along the way, we'll talk about an additional use for tuples, and make an important observation about dictionaries.\n"
   ]
  },
  {
   "cell_type": "markdown",
   "metadata": {},
   "source": [
    "# Returning Nothing"
   ]
  },
  {
   "cell_type": "markdown",
   "metadata": {},
   "source": [
    "Below is the code for finding the maximum value within a (single-argument) list, i.e.:\n"
   ]
  },
  {
   "cell_type": "code",
   "execution_count": null,
   "metadata": {},
   "outputs": [],
   "source": [
    "def maxlist(numlist):\n",
    "    if numlist:\n",
    "        maxnum = numlist[0]\n",
    "        for num in numlist[1:]:\n",
    "            if num > maxnum:\n",
    "                maxnum = num\n",
    "        return maxnum\n",
    "\n",
    "print(maxlist([1,2.0,3]))\n",
    "print(maxlist([4,-1]))\n",
    "print(maxlist([3,5,1,4,-1]))"
   ]
  },
  {
   "cell_type": "markdown",
   "metadata": {},
   "source": [
    "\n",
    "This is fine if `numlist` is non-empty, but what happens when it is an empty list? There are two possible answers to this: (1) fail (i.e. raise an exception of an appropriate type); or (2) run normally, but return a special value to indicate that there isn't a maximum value.\n",
    "\n",
    "The built-in `max()` function opts for the first option, i.e., it throws an exception:\n"
   ]
  },
  {
   "cell_type": "markdown",
   "metadata": {},
   "source": [
    "```python\n",
    "max([])\n",
    "```"
   ]
  },
  {
   "cell_type": "code",
   "execution_count": null,
   "metadata": {},
   "outputs": [],
   "source": [
    "# Try running the last example here"
   ]
  },
  {
   "cell_type": "markdown",
   "metadata": {},
   "source": [
    "\n",
    "> ## Calling `max()` with variable numbers of arguments\n",
    "> Note that, in addition to being callable with a list, the in-built function `max()` can be called with a variable number of arguments (of the same basic type, e.g. it accepts a mix of `int` and `float` values), in which case it returns the highest value among the arguments:"
   ]
  },
  {
   "cell_type": "code",
   "execution_count": null,
   "metadata": {},
   "outputs": [],
   "source": [
    "print(max(2, 1, 5, 3.0))"
   ]
  },
  {
   "cell_type": "markdown",
   "metadata": {},
   "source": [
    "For the second option, we want to have some value where there isn't the possibility of a clash with a legal value for any legal input type (e.g. the value `-1` wouldn't be appropriate, as that may be the actual maximum for a given input). In fact, more generally, we want some value which isn't a legal value for *any* type, suggesting that we need a new type altogether reserved specifically for this purpose.\n",
    "\n",
    "Fortunately, Python has such a type, namely `NoneType`, which takes the unique value of `None`. Note that this is different to the string `\"None\"`, and is a reserved word (i.e. just like `if` or `return`, you can't use it as the name of a user-defined object). Naturally, there is no value of any other type that it is equal to:\n"
   ]
  },
  {
   "cell_type": "code",
   "execution_count": null,
   "metadata": {},
   "outputs": [],
   "source": [
    "print(None == \"None\")\n",
    "print(None == 0)\n",
    "print(None == [])"
   ]
  },
  {
   "cell_type": "markdown",
   "metadata": {},
   "source": [
    "\n",
    "So why would it be advantageous to return `None` rather than to throw an error? Errors will cause the program to stop, suggesting that there's something wrong with the code that was written or the input. If you'd like your code to handle the possibility of an empty list without causing a fuss, returning `None` is a good solution.\n",
    "\n",
    "> ## Comparing `None`\n",
    "> If you're going to check whether a return value is `None` or not, you'll need to use `is not None` in your conditional statement. Do you remember using `is` when talking about lists and mutability? Since we're not comparing for equality here, it fits that we would use an operator to test for object identity."
   ]
  },
  {
   "cell_type": "code",
   "execution_count": null,
   "metadata": {},
   "outputs": [],
   "source": [
    "if \"\" is not None:\n",
    "    print(\"Even an empty string isn't None\")"
   ]
  },
  {
   "cell_type": "markdown",
   "metadata": {},
   "source": [
    "# Non-returning Functions"
   ]
  },
  {
   "cell_type": "markdown",
   "metadata": {},
   "source": [
    "You may have noticed that functions don't need to have a `return` statement, and yet always have a return value, begging the question of where the return value comes from if there is no `return` statement. The answer is simple: there is an implicit (bare) `return` statement at the end of every function, and the default value for `return` is ... you guessed it, `None`. So, in fact, for our example function in the previous slide, the return value when called with an empty list is `None`, because it fails the condition in the `if` statement, and hits the implicit `return` statement at the end of the function:\n"
   ]
  },
  {
   "cell_type": "markdown",
   "metadata": {},
   "source": [
    "```python\n",
    "def maxlist(numlist):\n",
    "    if numlist:\n",
    "        maxnum = numlist[0]\n",
    "        for num in numlist[1:]:\n",
    "            if num > maxnum:\n",
    "                maxnum = num\n",
    "        return maxnum\n",
    "    # implicit return None here\n",
    "\n",
    "print(maxlist([]))\n",
    "```  "
   ]
  },
  {
   "cell_type": "code",
   "execution_count": null,
   "metadata": {},
   "outputs": [],
   "source": [
    "# Try running the last example here"
   ]
  },
  {
   "cell_type": "markdown",
   "metadata": {},
   "source": [
    "# Problem: The function of None return"
   ]
  },
  {
   "cell_type": "markdown",
   "metadata": {},
   "source": [
    "Write a function `mymax()` that takes a single argument `numlist` in the form of a list of numbers, and returns the highest number in `numlist` in the case that it is non-empty, and `None` otherwise.\n",
    "Note that you may use the built-in function `max()` in your code.\n",
    "\n",
    "For example:\n"
   ]
  },
  {
   "cell_type": "markdown",
   "metadata": {},
   "source": [
    "```python\n",
    ">>> print(mymax([3, 4, 5.0, 7]))\n",
    "7\n",
    ">>> print(mymax([-1, 8, -3, 8]))\n",
    "8\n",
    ">>> print(mymax([]))\n",
    "None\n",
    "```  "
   ]
  },
  {
   "cell_type": "code",
   "execution_count": null,
   "metadata": {},
   "outputs": [],
   "source": [
    "# Try running the last example here"
   ]
  },
  {
   "cell_type": "markdown",
   "metadata": {},
   "source": [
    "# A First Attempt at Returning  Multiple Values"
   ]
  },
  {
   "cell_type": "markdown",
   "metadata": {},
   "source": [
    "When we originally introduced `return`, we said that it took a unique argument, suggesting that it's not possible to return multiple values from a function. This seems like a curious blind spot in Python, but it turns out it's not a limitation at all, because the unique argument to `return` can be of a type that allows us to embed arbitrarily many \"nested\" values. Based on what we know already about lists, we can achieve this already — just as a list can serve as a single argument to a function but contain arbitrarily many objects, a function can return a single list that contains a sequence of arbitrary objects.\n",
    "\n",
    "Consider, for example, that we want to write a function to find both the minimum and maximum value in a list of integers. A simple way of returning these two values would be to construct and return a 2-element `list`, as follows:\n"
   ]
  },
  {
   "cell_type": "code",
   "execution_count": null,
   "metadata": {},
   "outputs": [],
   "source": [
    "def minmax_list(intlist):\n",
    "    # CASE 1: intlist is empty\n",
    "    if not intlist:\n",
    "        return [None, None]\n",
    "\n",
    "    # CASE 2: intlist has at least one element\n",
    "    else:\n",
    "        minval = maxval = intlist[0]\n",
    "        for i in intlist[1:]:\n",
    "            if i > maxval:\n",
    "                maxval = i\n",
    "            if i < minval:\n",
    "                minval = i\n",
    "    return [minval, maxval]"
   ]
  },
  {
   "cell_type": "markdown",
   "metadata": {},
   "source": [
    "# Multi-return with Tuples"
   ]
  },
  {
   "cell_type": "markdown",
   "metadata": {},
   "source": [
    "In practice, we tend not to use a `list` to return multiple values, but rather a `tuple`, because they are slightly more efficient and can't be inadvertently (or otherwise!) mutated, as follows for our example from the previous slide:\n"
   ]
  },
  {
   "cell_type": "code",
   "execution_count": null,
   "metadata": {},
   "outputs": [],
   "source": [
    "def minmax_list(intlist):\n",
    "    # CASE 1: intlist is empty\n",
    "    if not intlist:\n",
    "        return None, None  # tuple not list\n",
    "\n",
    "    # CASE 2: intlist has at least one element\n",
    "    else:\n",
    "        minval = maxval = intlist[0]\n",
    "        for i in intlist[1:]:\n",
    "            if i > maxval:\n",
    "                maxval = i\n",
    "            if i < minval:\n",
    "                minval = i\n",
    "    return minval, maxval  # tuple not list"
   ]
  },
  {
   "cell_type": "markdown",
   "metadata": {},
   "source": [
    "\n",
    "Note that at the end of the last example, there are no brackets around `minval, maxval` to indicate that they form a tuple. When after a `return` statement, the brackets are implicit and Python will interpret the return value as a tuple of those two variables.\n",
    "\n",
    "> ## Tuple terms\n",
    "> When we describe tuples, we often refer to them by their size. Eg: a 3-tuple would be a tuple with three elements."
   ]
  },
  {
   "cell_type": "markdown",
   "metadata": {},
   "source": [
    "# Problem: Multi-returning Functions"
   ]
  },
  {
   "cell_type": "markdown",
   "metadata": {},
   "source": [
    "Let's write our first function that returns multiple values, using a tuple.\n",
    "\n",
    "Write a function `maxby(intlist)` that takes a single argument `intlist` in the form of a `list` of integers, and returns a 2-`tuple` `(maxnum, bymargin)`, where `maxnum` is the maximum integer in the list and `bymargin` is the difference between `maxnum` and the next-highest value.\n",
    "\n",
    "In the case of a tie for the maximum value, the difference over the next highest value should be 0. In the case that `intlist` is an empty list, both values should be set to `None`; in the case of a singleton list, `bymargin` should be set to `None`.\n",
    "\n",
    "For example:\n"
   ]
  },
  {
   "cell_type": "markdown",
   "metadata": {},
   "source": [
    "```python\n",
    ">>> maxby([3, 4, 5, 7])\n",
    "(7, 2)\n",
    ">>> maxby([-1, 8, -3, 8])\n",
    "(8, 0)\n",
    ">>> maxby([1])\n",
    "(1, None)\n",
    ">>> maxby([])\n",
    "(None, None)\n",
    "```  "
   ]
  },
  {
   "cell_type": "code",
   "execution_count": null,
   "metadata": {},
   "outputs": [],
   "source": [
    "# Try running the last example here"
   ]
  },
  {
   "cell_type": "markdown",
   "metadata": {},
   "source": [
    "# Returning from Danger"
   ]
  },
  {
   "cell_type": "markdown",
   "metadata": {},
   "source": [
    "Let's come back to look at `return` in a bit more detail briefly.\n",
    "\n",
    "A classic error in computing is to divide a number by zero, because the equation has no conventional solution. In Python it throws a run-time error (or technically speaking, it \"raises an exception\"):\n"
   ]
  },
  {
   "cell_type": "markdown",
   "metadata": {},
   "source": [
    "```python\n",
    "print(1/0)\n",
    "```  "
   ]
  },
  {
   "cell_type": "code",
   "execution_count": null,
   "metadata": {},
   "outputs": [],
   "source": [
    "# Try running the last example here"
   ]
  },
  {
   "cell_type": "markdown",
   "metadata": {},
   "source": [
    "\n",
    "Consider the following code:\n"
   ]
  },
  {
   "cell_type": "code",
   "execution_count": null,
   "metadata": {},
   "outputs": [],
   "source": [
    "def realnum(num):\n",
    "    numtype = type(num)\n",
    "    return numtype == int or numtype == float\n",
    "    1/0\n",
    "\n",
    "print(realnum(2))"
   ]
  },
  {
   "cell_type": "markdown",
   "metadata": {},
   "source": [
    "\n",
    "Note that, if run by itself, the final line of the function (`1/0`) should raise a `ZeroDivisionError`: and yet the function works. Why? Quite simply because the `1/0` is after the `return` statement, which aborts the running of the function entirely, meaning that line of code is never executed.\n"
   ]
  },
  {
   "cell_type": "markdown",
   "metadata": {},
   "source": [
    "# Returning on Time"
   ]
  },
  {
   "cell_type": "markdown",
   "metadata": {},
   "source": [
    "Building off our observation about `return` and aborting the execution of functions in the previous slide, we can now think about the interaction between control structures, iteration and `return`. First, consider the following function, which is designed to test whether a list of numbers contains all-positive numbers or not:\n"
   ]
  },
  {
   "cell_type": "code",
   "execution_count": null,
   "metadata": {},
   "outputs": [],
   "source": [
    "def poslist1(numlist):\n",
    "    contains_nonpos = False\n",
    "    for num in numlist:\n",
    "        if num <= 0:\n",
    "            contains_nonpos = True\n",
    "    return not contains_nonpos\n",
    "    \n",
    "print(poslist1([0, -1, 3, 5]))"
   ]
  },
  {
   "cell_type": "markdown",
   "metadata": {},
   "source": [
    "\n",
    "Contrast it with the following alternative (with identical functionality), which uses `return` to prematurely abort the iteration the moment a counter-example to the test is found (based on the observation that once a single counter-example is found, the return value is necessarily `False`):\n"
   ]
  },
  {
   "cell_type": "code",
   "execution_count": null,
   "metadata": {},
   "outputs": [],
   "source": [
    "def poslist2(numlist):\n",
    "    for num in numlist:\n",
    "        if num <= 0:\n",
    "            return False\n",
    "    return True\n",
    "    \n",
    "print(poslist2([0, -1, 3, 5]))"
   ]
  },
  {
   "cell_type": "markdown",
   "metadata": {},
   "source": [
    "\n",
    "This style of checking is called \"lazy evaluation\" and both more elegant and succinct, and potentially much more efficient (try to think of examples where this would be the case). The use of multiple exit points from a function is also very important in **recursion**, which we will return to later in the subject.\n",
    "\n",
    "> ## Short circuiting\n",
    "> The concept of returning as soon as you know the answer can also be applied to conditional statements. For example, the below code:"
   ]
  },
  {
   "cell_type": "code",
   "execution_count": null,
   "metadata": {},
   "outputs": [],
   "source": [
    "num = \"20\"\n",
    "if num.isdigit() and int(num) > 10:\n",
    "    print(\"num is greater than 10\")"
   ]
  },
  {
   "cell_type": "markdown",
   "metadata": {},
   "source": [
    "> This code is testing whether the string `num` contains an integer greater than 10. This is composed of two boolean expressions `and`ed together: the first tests whether the string contains numbers and the second converts `num` to an integer and tests whether it's greater than 10.\n",
    ">\n",
    "> Python is smart. It knows that if the first condition is `False` in an `and` expression, the result will be `False` regardless of what the second condition evaluates to, so it doesn't evaluate the second condition.\n",
    ">\n",
    "> This is good because (1) it makes our code quicker, as was discussed in this slide; and (2) it makes our code safer, as was discussed in the previous slide (`int(num)` would cause an error if `num` were to contain non-numeric characters). Try changing `and` to `or` and using an non-numeric value for `num` to see the trouble this has saved us!\n",
    ">\n",
    "> You can use this effect, called **short circuiting** in your `if` statements as well as your functions to make faster and safer programs!"
   ]
  },
  {
   "cell_type": "markdown",
   "metadata": {},
   "source": [
    "# Another Viewpoint"
   ]
  },
  {
   "cell_type": "markdown",
   "metadata": {},
   "source": [
    "Observe the resulting execution of our previous example with `print()` statements inserted (or perhaps — need I say it? — using [pythontutor](http://www.pythontutor.com/visualize.html#mode=edit)):\n"
   ]
  },
  {
   "cell_type": "code",
   "execution_count": null,
   "metadata": {},
   "outputs": [],
   "source": [
    "def poslist2(numlist):\n",
    "    for num in numlist:\n",
    "        print(num)\n",
    "        if num <= 0:\n",
    "            return False\n",
    "    return True\n",
    "\n",
    "lst = [1, -2, 3, 4]\n",
    "print(poslist2(lst))"
   ]
  },
  {
   "cell_type": "markdown",
   "metadata": {},
   "source": [
    "\n",
    "Notice how the loop doesn't go through the whole list. This makes the function more efficient.\n",
    "\n",
    "For this particular example list with four elements, we may expand the loop to the sequence of `if...elif` statements as below. The statements below are equivalent to the loop. With this in mind, it is easy to see that if we reach the end of the block of `elif`s, it must be the case that the condition (that the numbers were negative) evaluated to `False` on all the elements. This means that all the elements are positive, which is why we can return `True`.\n"
   ]
  },
  {
   "cell_type": "code",
   "execution_count": null,
   "metadata": {},
   "outputs": [],
   "source": [
    "def poslist3(lst):\n",
    "    #Expanding out the for loop:\n",
    "    if lst[0] <= 0:\n",
    "        return False\n",
    "    elif lst[1] <= 0:\n",
    "        return False\n",
    "    elif lst[2] <= 0:\n",
    "        return False\n",
    "    elif lst[3] <= 0:\n",
    "        return False \n",
    "    # exit the for loop - note this is an implicit \"else\"\n",
    "    return True\n",
    "\n",
    "lst = [1, -2, 3, 4]\n",
    "print(poslist3(lst))"
   ]
  },
  {
   "cell_type": "markdown",
   "metadata": {},
   "source": [
    "# Problem: Timely return"
   ]
  },
  {
   "cell_type": "markdown",
   "metadata": {},
   "source": [
    "Rewrite the provided code for the function `issorted(numlist)` that takes a single argument `numlist` in the form of a list of numbers, and returns `True` if `numlist` is in increasing sort-order (noting that ties between adjacent elements are allowed), and `False` otherwise.\n",
    "\n",
    "In rewriting the code, you should introduce (at least) one more `return` statement, which aborts the function prematurely when a local violation of the sort-order requirement is detected (expect to fail one of the hidden test cases if you don't!).\n",
    "\n",
    "For example:\n"
   ]
  },
  {
   "cell_type": "markdown",
   "metadata": {},
   "source": [
    "```python\n",
    ">>> issorted([3, 4, 4, 5.0, 7])\n",
    "True\n",
    ">>> issorted([-1, 8, -3, 8])\n",
    "False\n",
    ">>> issorted([1])\n",
    "True\n",
    ">>> issorted([])\n",
    "True\n",
    "```  "
   ]
  },
  {
   "cell_type": "code",
   "execution_count": null,
   "metadata": {},
   "outputs": [],
   "source": [
    "def issorted(numlist):\n",
    "    sortbool = True\n",
    "    for i in range(1, len(numlist)):\n",
    "        if numlist[i] < numlist[i-1]:\n",
    "            sortbool = False\n",
    "    return sortbool\n"
   ]
  },
  {
   "cell_type": "markdown",
   "metadata": {},
   "source": [
    "# Problem: Base-n Number Validation"
   ]
  },
  {
   "cell_type": "markdown",
   "metadata": {},
   "source": [
    "In a base $n$ number system, all numbers are written using only the digits $\\{0,1,..,n-1\\}$. For example, in the decimal (= base 10) number system that you are used to using, all numbers are written using the digits 0,1,..,9, whereas in the binary (= base 2) number system, all numbers are written using the digits 0 and 1 only.\n",
    "\n",
    "Write a function `basenum(num, base)` that takes as arguments `num` (a non-negative integer) and `base` (a non-negative integer not greater than 10) and returns `True` if all digits of `num` are strictly less than `base`, and `False` otherwise (using lazy evaluation). Once again, expect to be tripped up by one of the hidden test cases if you do not use lazy evaluation.\n",
    "\n",
    "For example:\n"
   ]
  },
  {
   "cell_type": "markdown",
   "metadata": {},
   "source": [
    "```python\n",
    ">>> basenum(12345, 2)\n",
    "False\n",
    "```  "
   ]
  },
  {
   "cell_type": "markdown",
   "metadata": {},
   "source": [
    "```python\n",
    ">>> basenum(12345, 8)\n",
    "True\n",
    "```  "
   ]
  },
  {
   "cell_type": "markdown",
   "metadata": {},
   "source": [
    "```python\n",
    ">>> basenum(10110, 2)\n",
    "True\n",
    "```  "
   ]
  },
  {
   "cell_type": "markdown",
   "metadata": {},
   "source": [
    "```python\n",
    ">>> basenum(9, 5)\n",
    "False\n",
    "```  "
   ]
  },
  {
   "cell_type": "code",
   "execution_count": null,
   "metadata": {},
   "outputs": [],
   "source": [
    "# Your solution here"
   ]
  },
  {
   "cell_type": "markdown",
   "metadata": {},
   "source": [
    "# Namespace: Introduction"
   ]
  },
  {
   "cell_type": "markdown",
   "metadata": {},
   "source": [
    "It turns out that something very subtle but extremely important (the importance of which will become self-evident when we talk about recursion) happens when a function is called: any variables defined in the function are created in a local **namespace** (accessible only within the local function call), and destroyed on return from the function. To observe this, try running the following code, and looking at what is printed out:\n"
   ]
  },
  {
   "cell_type": "markdown",
   "metadata": {},
   "source": [
    "```python\n",
    "def vowel_count(word):\n",
    "    vowels = 0\n",
    "    for i in word:\n",
    "        print(i)\n",
    "        if i in 'aeiou':\n",
    "            vowels = vowels + 1\n",
    "    return vowels\n",
    "\n",
    "i = \"banana\"\n",
    "print(i)\n",
    "vowel_count(i)\n",
    "\n",
    "print(i)\n",
    "print(vowels)\n",
    "```  "
   ]
  },
  {
   "cell_type": "code",
   "execution_count": null,
   "metadata": {},
   "outputs": [],
   "source": [
    "# Try running the last example here"
   ]
  },
  {
   "cell_type": "markdown",
   "metadata": {},
   "source": [
    "\n",
    "To make sense of the output, when we trace the execution of the code relative to `i`, what happens is the following:\n",
    "\n",
    "1. first, we create the variable `i` outside the function, and call the function using it\n",
    "2. inside the function, we create a new variable `i` to assign each of the letters of `word` in the `for` loop\n",
    "3. on return from the function, our original `i` (the string `\"banana\"`) remains intact, whereas the variable `vowels` (and the variable `i` from inside the function) are no longer accessible\n"
   ]
  },
  {
   "cell_type": "markdown",
   "metadata": {},
   "source": [
    "# Local and Global Namespaces"
   ]
  },
  {
   "cell_type": "markdown",
   "metadata": {},
   "source": [
    "What is happening here is that, whenever a function is called, it creates a **local namespace** in which to define its own variables, completely separate to the **global namespace** outside the function. That is, in our preceding example, there is a global `i`, and separately a local `i` (in addition to a local `word` and `vowels`). By default, variables in functions are dereferenced relative to the local namespace, which is why `i` within the function is always referred to as the local variable. On return from a function, we permanently lose access to all locally-defined variables.\n"
   ]
  },
  {
   "cell_type": "markdown",
   "metadata": {},
   "source": [
    "# How Local?"
   ]
  },
  {
   "cell_type": "markdown",
   "metadata": {},
   "source": [
    "In practice, things are even more subtle than that. Try running the following code, and looking at what is printed out:\n"
   ]
  },
  {
   "cell_type": "markdown",
   "metadata": {},
   "source": [
    "```python\n",
    "def is_vowel(letter):\n",
    "    print(i)\n",
    "    return letter in 'aeiou'\n",
    "\n",
    "def vowel_count(word):\n",
    "    vowels = 0\n",
    "    for i in word:\n",
    "        if is_vowel(i):\n",
    "            vowels = vowels + 1\n",
    "    return vowels\n",
    "\n",
    "i = \"banana\"\n",
    "print(i)\n",
    "vowel_count(i)\n",
    "\n",
    "print(i)\n",
    "print(vowels)\n",
    "```"
   ]
  },
  {
   "cell_type": "code",
   "execution_count": null,
   "metadata": {},
   "outputs": [],
   "source": [
    "# Try running the last example here"
   ]
  },
  {
   "cell_type": "markdown",
   "metadata": {},
   "source": [
    "\n",
    "Have a look at this on [pythontutor](http://www.pythontutor.com/visualize.html#mode=edit).\n",
    "\n",
    "This time, we have a nested function call — `vowel_count()` calls the function `is_vowel()` — and `print(i)` in the body of `is_vowel()`. What is printed is, perhaps surprisingly, the global variable rather than the local variable in `vowel_count()` (despite the function call to `vowel_count()` still being \"live\"). It turns out that the explanation for this is simple: when a variable is encountered in a function, Python first attempts to dereference it relative to the local namespace (of the local function call), and failing this, it attempts to dereference it relative to the *global* namespace, bypassing the local namespace of any other functions. In fact, the \"local\" namespace of a given function call is exactly that — *local* to that function call, and inaccessible from any other function call.\n",
    "\n",
    "> ## Local Functions\n",
    "> One very subtle exception to this occurs when we define a function within another function (i.e. as a block of code within the first function), in which case, the namespace of the enclosing function is accessible to the embedded function (confirm this by running the code below and comparing it to the output of the original code above):"
   ]
  },
  {
   "cell_type": "markdown",
   "metadata": {},
   "source": [
    "```python\n",
    "def vowel_count(word):\n",
    "    def is_vowel(letter):\n",
    "        print(i)\n",
    "        return letter in 'aeiou'\n",
    "    vowels = 0\n",
    "    for i in word:\n",
    "        if is_vowel(i):\n",
    "            vowels = vowels + 1\n",
    "    return vowels\n",
    "\n",
    "i = \"banana\"\n",
    "print(i)\n",
    "vowel_count(i)\n",
    "\n",
    "print(i)\n",
    "print(vowels)\n",
    "```  "
   ]
  },
  {
   "cell_type": "code",
   "execution_count": null,
   "metadata": {},
   "outputs": [],
   "source": [
    "# Try running the last example here"
   ]
  },
  {
   "cell_type": "markdown",
   "metadata": {},
   "source": [
    "> When you are starting out programming, it is safest to avoid embedding functions like this.\n"
   ]
  },
  {
   "cell_type": "markdown",
   "metadata": {},
   "source": [
    "# Assigning to Global Variables in Functions &mdash; DON'T"
   ]
  },
  {
   "cell_type": "markdown",
   "metadata": {},
   "source": [
    "You could be forgiven for finding the code in the previous two examples confusing. It is generally considered bad practice to reference global variables in functions, and notoriously hard to debug. In fact, while Python allows you to implicitly dereference global variables in functions (i.e. use their values), if you attempt to assign a new value to a global variable within a function, all that will happen is that a local variable is created, e.g. try running:\n"
   ]
  },
  {
   "cell_type": "code",
   "execution_count": null,
   "metadata": {},
   "outputs": [],
   "source": [
    "def is_vowel(letter):\n",
    "    i = \"carrot\"\n",
    "    return letter in 'aeiou'\n",
    "\n",
    "def vowel_count(word):\n",
    "    vowels = 0\n",
    "    for i in word:\n",
    "        if is_vowel(i):\n",
    "            vowels = vowels + 1\n",
    "    return vowels\n",
    "\n",
    "i = \"banana\"\n",
    "print(i)\n",
    "vowel_count(i)\n",
    "print(i)"
   ]
  },
  {
   "cell_type": "markdown",
   "metadata": {},
   "source": [
    "\n",
    "There is a way to reassign global variables in functions (using the `global` keyword), but there is usually\n",
    "a better way of doing things, so we don't recommend you go down this path.\n"
   ]
  },
  {
   "cell_type": "markdown",
   "metadata": {},
   "source": [
    "# Global Constants"
   ]
  },
  {
   "cell_type": "markdown",
   "metadata": {},
   "source": [
    "As a final word on global variables, there are certainly instances where the use of global variables is appropriate, notably for (fixed-valued) parameters that will be used in various functions throughout a piece of code. In our previous example, e.g., the string containing our vowels may be used in other functions, in which case we might define it as a global variable:\n"
   ]
  },
  {
   "cell_type": "code",
   "execution_count": null,
   "metadata": {},
   "outputs": [],
   "source": [
    "VOWELS = 'aeiou'\n",
    "\n",
    "def is_vowel(letter):\n",
    "    return letter in VOWELS\n",
    "\n",
    "def vowel_count(word):\n",
    "    vowels = 0\n",
    "    for i in word:\n",
    "        if is_vowel(i):\n",
    "            vowels = vowels + 1\n",
    "    return vowels\n",
    "\n",
    "print(vowel_count(\"banana\"))"
   ]
  },
  {
   "cell_type": "markdown",
   "metadata": {},
   "source": [
    "\n",
    "As mentioned in Worksheet 10, a good typographical convention in these cases — to signify that a global variable is to be used with a fixed value variously in your code, including in functions — is to use an ALLCAPS variable name. Somewhat confusingly, these are generally termed **global constants** (despite being _variables_ in Python).\n"
   ]
  },
  {
   "cell_type": "markdown",
   "metadata": {},
   "source": [
    "# Function parameters"
   ]
  },
  {
   "cell_type": "markdown",
   "metadata": {},
   "source": [
    "As something of an aside, note that just as you can define local variables, you can also define default arguments for function parameters. This means that you do not have to provide them when calling the function:\n"
   ]
  },
  {
   "cell_type": "code",
   "execution_count": null,
   "metadata": {},
   "outputs": [],
   "source": [
    "def simple_sum(a, b=5):\n",
    "    return a + b\n",
    "    \n",
    "print(simple_sum(4))\n",
    "print(simple_sum(4,5))"
   ]
  },
  {
   "cell_type": "markdown",
   "metadata": {},
   "source": [
    "\n",
    "> ## Remember\n",
    "> For the function:"
   ]
  },
  {
   "cell_type": "markdown",
   "metadata": {},
   "source": [
    "```python\n",
    "def my_func(a, b):\n",
    "    return a + b\n",
    "\n",
    "print(my_func(4, 5))\n",
    "```  "
   ]
  },
  {
   "cell_type": "markdown",
   "metadata": {},
   "source": [
    "> we would say that the numbers  `4` and `5` are **arguments**, while `a` and `b` are **parameters**, but sometimes these terms are used interchangeably.\n"
   ]
  },
  {
   "cell_type": "markdown",
   "metadata": {},
   "source": [
    "# What the F(unction)?!"
   ]
  },
  {
   "cell_type": "markdown",
   "metadata": {},
   "source": [
    "Yes, we said that was the final word on global variables, but it turns out that there's an extra layer of subtlety when \"mutable\" types (lists, dictionaries and sets, for our purposes) are passed as arguments to functions which confuses the distinction somewhat. Recall what it means for a type to be mutable, relative to the following example, where we use the `.append()` method to internally-modify a list:\n"
   ]
  },
  {
   "cell_type": "code",
   "execution_count": null,
   "metadata": {},
   "outputs": [],
   "source": [
    "lst = [1, 2, 3]\n",
    "lst.append(4)\n",
    "print(lst)"
   ]
  },
  {
   "cell_type": "markdown",
   "metadata": {},
   "source": [
    "\n",
    "Based on what we have said about functions and local variables, read the following code and try to work out what the output will be, then run it to check whether your intuition was correct (remember what we saw when discussing mutability in Worksheet 8):\n"
   ]
  },
  {
   "cell_type": "code",
   "execution_count": null,
   "metadata": {},
   "outputs": [],
   "source": [
    "def append(lst2, item):\n",
    "    lst2.append(item)\n",
    "\n",
    "lst = [1, 2, 3]\n",
    "append(lst, 4)\n",
    "print(lst)"
   ]
  },
  {
   "cell_type": "markdown",
   "metadata": {},
   "source": [
    "\n",
    "Despite the `.append()` method being called over a local variable, the mutation also applied to the global variable that was passed to the function. Surprising given our earlier comments about local variables and assignment? At first glance, possibly, but then again, consider the following code (with no functions, and nothing untoward up Python's sleeves):\n"
   ]
  },
  {
   "cell_type": "code",
   "execution_count": null,
   "metadata": {},
   "outputs": [],
   "source": [
    "lst = [1, 2, 3]\n",
    "lst2 = lst\n",
    "lst2.append(4)\n",
    "print(lst)"
   ]
  },
  {
   "cell_type": "markdown",
   "metadata": {},
   "source": [
    "\n",
    "Once again, surprising? Possibly, yes, but what we observed with the function is at least consistent with this behaviour.\n"
   ]
  },
  {
   "cell_type": "markdown",
   "metadata": {},
   "source": [
    "# Making Sense of Calling by Object"
   ]
  },
  {
   "cell_type": "markdown",
   "metadata": {},
   "source": [
    "What we observed in the examples on the previous slide (and an equivalent behaviour can be observed with dictionaries and other mutable types) is a result of what is sometimes known as **call by object**: when we assign a variable to an object directly (e.g. `lst2 = lst`), all we are really doing is creating a new \"pseudonym\" for the object, rather than creating an entirely new object. If the object grows a moustache (bad example, but you get the idea), irrespective of which name it goes under (`lst` or `lst2`), the moustache is visible to all. Thus, when we mutate an object (in a function, or via a second variable name for the same object), the mutation is reflected in all variables that are bound to the object. If, on the other hand, as part of the assignment to a variable/function call, we create a new object (i.e. we do anything other than assign directly to an existing variable), we lose all connection between the two objects. For example, consider a close variant of the code from the preceding slide:\n"
   ]
  },
  {
   "cell_type": "code",
   "execution_count": null,
   "metadata": {},
   "outputs": [],
   "source": [
    "lst = [1, 2, 3]\n",
    "lst2 = lst + []\n",
    "lst2.append(4)\n",
    "print(lst)"
   ]
  },
  {
   "cell_type": "markdown",
   "metadata": {},
   "source": [
    "\n",
    "Here, a new object is created (`lst2 + []`) when we assign to `lst2`; it is based on the contents of `lst`, but is still a new object. Thus, when we mutate `lst2`, there is no impact on `lst`.\n",
    "\n",
    "Subtle? Absolutely! Details aside, the important thing to bear in mind is that direct assignment of variable to variable (including via a function call) results in a pseudonym being created, meaning any change to the object via one variable will be reflected in all of the other variables that point to the same object. And yes, this is one of the harder concepts to get your head around in this subject.\n",
    "\n",
    "Note that the reason Python opts to call by object is simple: it's more efficient, as the object could be arbitrarily large/complex (it could be a long list of lists, e.g.), making copying very expensive.\n"
   ]
  }
 ],
 "metadata": {
  "kernelspec": {
   "display_name": "Python 3 (ipykernel)",
   "language": "python",
   "name": "python3"
  },
  "language_info": {
   "codemirror_mode": {
    "name": "ipython",
    "version": 3
   },
   "file_extension": ".py",
   "mimetype": "text/x-python",
   "name": "python",
   "nbconvert_exporter": "python",
   "pygments_lexer": "ipython3",
   "version": "3.8.10"
  },
  "latex_envs": {
   "LaTeX_envs_menu_present": true,
   "autoclose": false,
   "autocomplete": true,
   "bibliofile": "biblio.bib",
   "cite_by": "apalike",
   "current_citInitial": 1,
   "eqLabelWithNumbers": true,
   "eqNumInitial": 1,
   "hotkeys": {
    "equation": "Ctrl-E",
    "itemize": "Ctrl-I"
   },
   "labels_anchors": false,
   "latex_user_defs": false,
   "report_style_numbering": false,
   "user_envs_cfg": false
  },
  "toc": {
   "base_numbering": 1,
   "nav_menu": {},
   "number_sections": true,
   "sideBar": true,
   "skip_h1_title": false,
   "title_cell": "Table of Contents",
   "title_sidebar": "Contents",
   "toc_cell": false,
   "toc_position": {},
   "toc_section_display": true,
   "toc_window_display": false
  },
  "varInspector": {
   "cols": {
    "lenName": 16,
    "lenType": 16,
    "lenVar": 40
   },
   "kernels_config": {
    "python": {
     "delete_cmd_postfix": "",
     "delete_cmd_prefix": "del ",
     "library": "var_list.py",
     "varRefreshCmd": "print(var_dic_list())"
    },
    "r": {
     "delete_cmd_postfix": ") ",
     "delete_cmd_prefix": "rm(",
     "library": "var_list.r",
     "varRefreshCmd": "cat(var_dic_list()) "
    }
   },
   "types_to_exclude": [
    "module",
    "function",
    "builtin_function_or_method",
    "instance",
    "_Feature"
   ],
   "window_display": false
  }
 },
 "nbformat": 4,
 "nbformat_minor": 1
}
