{
 "cells": [
  {
   "cell_type": "markdown",
   "metadata": {},
   "source": [
    "# Introduction"
   ]
  },
  {
   "cell_type": "markdown",
   "metadata": {},
   "source": [
    "As you may recall, when we introduced sequences, we introduced both lists and tuples, which were more or less the same, except we said that tuples were **immutable**. We now come back to discuss this in more depth.\n",
    "\n",
    "An object is said to be **mutable** if its value (contents) can be changed after it is created. If the value can't be changed, it is **immutable**.\n",
    "\n",
    "Whether an object is mutable or not is defined by its type — it is written in the \"Python Bible\".  The following holds true for types we have seen:\n",
    "\n",
    "Lists, dictionaries and sets (we will see these last two next) are **mutable**.\n",
    "\n",
    "Everything else is **immutable** — strings, tuples and numbers (including ints, floats and booleans).\n"
   ]
  },
  {
   "cell_type": "markdown",
   "metadata": {},
   "source": [
    "# Meaning of Mutability"
   ]
  },
  {
   "cell_type": "markdown",
   "metadata": {},
   "source": [
    "Recall that the id of an object is its unique identifier. If an object is mutable, then the object's value may change, while its id remains constant (as in, it stays the same object, only its value changes). Let's see an example of this with lists. Below, we change the value of (i.e. \"mutate\") the list, checking the object id before and after:\n"
   ]
  },
  {
   "cell_type": "code",
   "execution_count": 1,
   "metadata": {},
   "outputs": [],
   "source": [
    "my_list = [1,0]\n",
    "print(\"id of my_list:\", id(my_list))\n",
    "print(my_list)\n",
    "my_list[0] = 3\n",
    "print(\"id of my_list:\", id(my_list))\n",
    "print(my_list)"
   ]
  },
  {
   "cell_type": "markdown",
   "metadata": {},
   "source": [
    "We see the object id remains the same while the value changes. What about tuples?"
   ]
  },
  {
   "cell_type": "markdown",
   "metadata": {},
   "source": [
    "```python\n",
    "my_tuple = (1,0)\n",
    "print(my_tuple)\n",
    "my_tuple[0] = 3\n",
    "```"
   ]
  },
  {
   "cell_type": "code",
   "execution_count": 2,
   "metadata": {},
   "outputs": [],
   "source": [
    "# Try running the code in the last example"
   ]
  },
  {
   "cell_type": "markdown",
   "metadata": {},
   "source": [
    "\n",
    "An error is thrown because tuples are not mutable. A silly thing to try perhaps, since we already knew tuples were immutable."
   ]
  },
  {
   "cell_type": "markdown",
   "metadata": {},
   "source": [
    "# Further Examples"
   ]
  },
  {
   "cell_type": "markdown",
   "metadata": {},
   "source": [
    "What about integers? You might think that integers are mutable because we can \"change\" them by, for example, adding.\n"
   ]
  },
  {
   "cell_type": "code",
   "execution_count": 3,
   "metadata": {},
   "outputs": [
    {
     "name": "stdout",
     "output_type": "stream",
     "text": [
      "my_int: 5\n",
      "Id: 140710888810400\n",
      "my_int: 6\n",
      "Id: 140710888810432\n"
     ]
    }
   ],
   "source": [
    "my_int = 5\n",
    "print(\"my_int:\", my_int)\n",
    "print(\"Id:\", id(my_int))\n",
    "my_int += 1\n",
    "print(\"my_int:\", my_int)\n",
    "print(\"Id:\", id(my_int))"
   ]
  },
  {
   "cell_type": "markdown",
   "metadata": {},
   "source": [
    "\n",
    "But we see that the id of the object stored in the variable is different, which tells us that instead of changing the value of the object, we created a new object and assigned it to the same variable name. Usually when we perform operations we create a new object. Integers are **immutable**."
   ]
  },
  {
   "cell_type": "markdown",
   "metadata": {},
   "source": [
    "# Mutables inside Immutables"
   ]
  },
  {
   "cell_type": "markdown",
   "metadata": {},
   "source": [
    "There is a slight subtlety however. What happens if we have a mutable object (like a `list`) within an immutable object (like a `tuple`)? In this case it turns out we **are** allowed to change the value of the mutable object. Note that the ids of the objects in the tuple do not change, which means the \"value\" of the tuple is not changing, which is why the change is allowed. Just goes to show, if you try hard enough there is always a way to change your value.\n"
   ]
  },
  {
   "cell_type": "code",
   "execution_count": 4,
   "metadata": {},
   "outputs": [
    {
     "name": "stdout",
     "output_type": "stream",
     "text": [
      "ids of items in tuple: 140710888810464 2039604911616\n",
      "(7, ['hello'])\n",
      "ids of items in tuple: 140710888810464 2039604911616\n"
     ]
    }
   ],
   "source": [
    "my_tuple = (7,[])\n",
    "print(\"ids of items in tuple:\", id(my_tuple[0]),id(my_tuple[1]))\n",
    "my_tuple[1].append(\"hello\")\n",
    "print(my_tuple)\n",
    "print(\"ids of items in tuple:\", id(my_tuple[0]),id(my_tuple[1]))"
   ]
  },
  {
   "cell_type": "markdown",
   "metadata": {},
   "source": [
    "\n",
    "If we tried to put a different object in the tuple we would get an error."
   ]
  },
  {
   "cell_type": "markdown",
   "metadata": {},
   "source": [
    "```python\n",
    "my_tuple = (7,[])\n",
    "print(\"ids of items in tuple:\", id(my_tuple[0]),id(my_tuple[1]))\n",
    "my_tuple[0] = 2\n",
    "print(my_tuple)\n",
    "```"
   ]
  },
  {
   "cell_type": "code",
   "execution_count": 5,
   "metadata": {},
   "outputs": [],
   "source": [
    "# Try running the code in the last example"
   ]
  },
  {
   "cell_type": "markdown",
   "metadata": {},
   "source": [
    "> ## Append\n",
    "> You haven't seen the `.append()` method yet. We'll introduce it with some more list methods later in this worksheet, but for now, observe that it simply \"mutates\" a list to add another element on the end."
   ]
  },
  {
   "cell_type": "code",
   "execution_count": 6,
   "metadata": {},
   "outputs": [
    {
     "name": "stdout",
     "output_type": "stream",
     "text": [
      "['frog', 'tiger', 'rabbit', 'horse']\n"
     ]
    }
   ],
   "source": [
    "my_list = [\"frog\", \"tiger\"]\n",
    "my_list.append(\"rabbit\")\n",
    "my_list.append(\"horse\")\n",
    "print(my_list)"
   ]
  },
  {
   "cell_type": "markdown",
   "metadata": {},
   "source": [
    "# Mutability and Assignment"
   ]
  },
  {
   "cell_type": "markdown",
   "metadata": {},
   "source": [
    "It is important to understand that the assignment operator (=) points a variable to a particular object:\n"
   ]
  },
  {
   "cell_type": "code",
   "execution_count": 7,
   "metadata": {},
   "outputs": [
    {
     "name": "stdout",
     "output_type": "stream",
     "text": [
      "140710888810400\n",
      "140710888810400\n"
     ]
    }
   ],
   "source": [
    "# The 'object' id of 5\n",
    "print(id(5))\n",
    "q = 5\n",
    "# The 'object' now pointed to by the variable q. \n",
    "print(id(q))"
   ]
  },
  {
   "cell_type": "markdown",
   "metadata": {},
   "source": [
    "\n",
    "If we point two variables to the same mutable object and change one of them, we will see the change reflected in the other one too since they are both pointing to the same object!\n"
   ]
  },
  {
   "cell_type": "code",
   "execution_count": 8,
   "metadata": {},
   "outputs": [
    {
     "name": "stdout",
     "output_type": "stream",
     "text": [
      "The id of the object pointed to by list1: 2039604726336\n",
      "The id of the object pointed to by list2: 2039604726336\n",
      "[1, 2, 3, 8]\n",
      "[1, 2, 3, 8]\n"
     ]
    }
   ],
   "source": [
    "# point list1 to an object\n",
    "list1 = [1, 2, 3]\n",
    "print(\"The id of the object pointed to by list1:\", id(list1))\n",
    "list2 = list1\n",
    "print(\"The id of the object pointed to by list2:\", id(list2))\n",
    "# Changing the object pointed to by list1 (and list2)\n",
    "list1.append(8)\n",
    "print(list1)\n",
    "print(list2)"
   ]
  },
  {
   "cell_type": "markdown",
   "metadata": {},
   "source": [
    "\n",
    "Note we never did anything to the `list2` variable. This would never happen with an immutable object, because we cannot change its value.\n",
    "\n",
    "> ## type:design; The `is` operator\n",
    "> You can use the `is` operator to see whether two variables point to the same object. Unlike `==`, which will return `True` if the two objects are equal in value, `is` checks that the objects have an identical id as well.\n",
    ">\n",
    ">```python\n",
    ">list1 = [5]\n",
    ">list2 = list1\n",
    ">list3 = [5]\n",
    ">print(list1 is list2)\n",
    ">print(list1 == list3)\n",
    ">print(list1 is list3)\n",
    ">```\n",
    ">Since `list1` and `list2` point to the same object, `is` returns `True`. `list1` and `list3` have *contents* which are *equal* (the integer 5) but they are *different objects* with *different ids*, so return `True` for `==` and `False` for the `is` comparison."
   ]
  },
  {
   "cell_type": "markdown",
   "metadata": {},
   "source": [
    "# Function Arguments"
   ]
  },
  {
   "cell_type": "markdown",
   "metadata": {},
   "source": [
    "One place where you should be particularly aware of mutability is when you call a function with a variable which has been assigned to a mutable object, and the function mutates the argument. The function below exploits this to swap the first and last elements of a list without ever returning anything.\n"
   ]
  },
  {
   "cell_type": "code",
   "execution_count": 9,
   "metadata": {},
   "outputs": [
    {
     "name": "stdout",
     "output_type": "stream",
     "text": [
      "[3, 2, 1]\n"
     ]
    }
   ],
   "source": [
    "def swap(a_list):\n",
    "    tmp = a_list[0]\n",
    "    a_list[0] = a_list[-1]\n",
    "    a_list[-1] = tmp\n",
    "    \n",
    "my_list = [1,2,3]\n",
    "swap(my_list)\n",
    "\n",
    "print(my_list)"
   ]
  },
  {
   "cell_type": "markdown",
   "metadata": {},
   "source": [
    "# Problem: Cycling Lists"
   ]
  },
  {
   "cell_type": "markdown",
   "metadata": {},
   "source": [
    "Write a function `cycle(input_list)` that performs an \"in-place\" cycling of the elements of a list, moving each element one position earlier in the list. Here \"in place\" means the operation should be performed by mutating the original list, and your function should not return anything. Note that you may assume that `input_list` is non-empty (i.e. contains at least one element)\n",
    "\n",
    "For example:\n"
   ]
  },
  {
   "cell_type": "markdown",
   "metadata": {},
   "source": [
    "```python\n",
    ">>> l = [1, 2, 4, 5, 'd']\n",
    ">>> cycle(l)\n",
    ">>> l\n",
    "[2, 4, 5, 'd', 1]\n",
    ">>> cycle(l)\n",
    ">>> l\n",
    "[4, 5, 'd', 1, 2]\n",
    "```"
   ]
  },
  {
   "cell_type": "code",
   "execution_count": 10,
   "metadata": {},
   "outputs": [],
   "source": [
    "# write your code here"
   ]
  },
  {
   "cell_type": "markdown",
   "metadata": {},
   "source": [
    "# Problem: ReCycling Lists"
   ]
  },
  {
   "cell_type": "markdown",
   "metadata": {},
   "source": [
    "Now write a function `cycle(input_list)` that performs a cycling of the elements of a list as before, but this time returns the result as a new object and does not mutate the input argument. For example:\n"
   ]
  },
  {
   "cell_type": "markdown",
   "metadata": {},
   "source": [
    "```python\n",
    ">>> a_list = [1, 2, 4, 5, 'd']\n",
    ">>> cycle(a_list)\n",
    "[2, 4, 5, 'd', 1]\n",
    ">>> a_list\n",
    "[1, 2, 4, 5, 'd']\n",
    ">>> cycle([4, 5])\n",
    "[5, 4]\n",
    "```"
   ]
  },
  {
   "cell_type": "markdown",
   "metadata": {},
   "source": [
    "\n",
    "> ## Hint\n",
    "> To create a new list object with the same values as another list you can use the `.copy()` method:\n",
    " > ```python\n",
    " > list1 = [1, 4, \"3\"]\n",
    " > list2 = list1.copy()\n",
    " > print(id(list1),id(list2))\n",
    " > print(list2)\n",
    " > ```"
   ]
  },
  {
   "cell_type": "code",
   "execution_count": 11,
   "metadata": {},
   "outputs": [],
   "source": [
    "# write your code here"
   ]
  },
  {
   "cell_type": "markdown",
   "metadata": {},
   "source": [
    "# Useful List Methods (Part 1)"
   ]
  },
  {
   "cell_type": "markdown",
   "metadata": {},
   "source": [
    "Python provides a number of useful methods for manipulating lists. In particular, given that lists are mutable, many of the methods \"mutate\" the list they are applied to. The following are some notable examples of mutating list methods.\n",
    "\n",
    "`.append()` adds a new item onto the end of a list:\n"
   ]
  },
  {
   "cell_type": "code",
   "execution_count": 12,
   "metadata": {},
   "outputs": [
    {
     "name": "stdout",
     "output_type": "stream",
     "text": [
      "['colourless', 'green', 'ideas', 'sleep']\n"
     ]
    }
   ],
   "source": [
    "chomsky = ['colourless', 'green', 'ideas']\n",
    "chomsky.append('sleep')\n",
    "print(chomsky)"
   ]
  },
  {
   "cell_type": "markdown",
   "metadata": {},
   "source": [
    "\n",
    "`.pop()` removes the final element from a (non-empty) list, or if called with a numeric argument, removes the element of that index:\n"
   ]
  },
  {
   "cell_type": "code",
   "execution_count": 13,
   "metadata": {},
   "outputs": [
    {
     "name": "stdout",
     "output_type": "stream",
     "text": [
      "ideas\n",
      "['colourless', 'green']\n",
      "colourless\n",
      "['green']\n"
     ]
    }
   ],
   "source": [
    "chomsky = ['colourless', 'green', 'ideas']\n",
    "print(chomsky.pop())\n",
    "print(chomsky)\n",
    "print(chomsky.pop(0))\n",
    "print(chomsky)"
   ]
  },
  {
   "cell_type": "markdown",
   "metadata": {},
   "source": [
    "\n",
    "`.insert()` adds an item into a list at a specific index (remember that indices start at zero):\n"
   ]
  },
  {
   "cell_type": "code",
   "execution_count": 14,
   "metadata": {},
   "outputs": [
    {
     "name": "stdout",
     "output_type": "stream",
     "text": [
      "['colourless', 'sleep', 'green', 'ideas']\n"
     ]
    }
   ],
   "source": [
    "chomsky = ['colourless', 'green', 'ideas']\n",
    "chomsky.insert(1, 'sleep')\n",
    "print(chomsky)"
   ]
  },
  {
   "cell_type": "markdown",
   "metadata": {},
   "source": [
    "# Useful List Methods (Part 2)"
   ]
  },
  {
   "cell_type": "markdown",
   "metadata": {},
   "source": [
    "`.remove()` deletes the **first occurrence** of an item in a list. An error occurs if the item is not in the list.\n"
   ]
  },
  {
   "cell_type": "code",
   "execution_count": 15,
   "metadata": {},
   "outputs": [
    {
     "name": "stdout",
     "output_type": "stream",
     "text": [
      "['colourless', 'ideas', 'green']\n"
     ]
    }
   ],
   "source": [
    "chomsky = ['colourless', 'green', 'ideas', 'green']\n",
    "chomsky.remove('green')\n",
    "print(chomsky)"
   ]
  },
  {
   "cell_type": "markdown",
   "metadata": {},
   "source": [
    "\n",
    "And finally, `.index()` is a non-mutating method that returns the position of, again, the **first occurrence** of an item in a list, as seen in the following example, where the list contains multiple instances of `'ideas'`.\n"
   ]
  },
  {
   "cell_type": "code",
   "execution_count": 16,
   "metadata": {},
   "outputs": [
    {
     "name": "stdout",
     "output_type": "stream",
     "text": [
      "2\n"
     ]
    }
   ],
   "source": [
    "chomsky = ['colorless', 'green', 'ideas', 'are', 'good', 'ideas']\n",
    "print(chomsky.index('ideas'))"
   ]
  },
  {
   "cell_type": "markdown",
   "metadata": {},
   "source": [
    "\n",
    "An error occurs if the argument to `.index()` is not in the list:\n",
    "\n",
    "```\n",
    "chomsky = ['colorless', 'green', 'ideas', 'are', 'good', 'ideas']\n",
    "print(chomsky.index('furiously'))\n",
    "```"
   ]
  },
  {
   "cell_type": "code",
   "execution_count": 17,
   "metadata": {},
   "outputs": [],
   "source": [
    "# write your code here"
   ]
  },
  {
   "cell_type": "markdown",
   "metadata": {},
   "source": [
    "# Finding an index"
   ]
  },
  {
   "cell_type": "markdown",
   "metadata": {},
   "source": [
    "Watch out when using methods such as `.index()`. If you're iterating through a list using a for-in loop, it might not do exactly what you think it does:\n"
   ]
  },
  {
   "cell_type": "code",
   "execution_count": 18,
   "metadata": {},
   "outputs": [
    {
     "name": "stdout",
     "output_type": "stream",
     "text": [
      "5 found at index 2\n",
      "5 found at index 2\n"
     ]
    }
   ],
   "source": [
    "my_list = [1, 3, 5, 4, 5]\n",
    "for item in my_list:\n",
    "    if item == 5:\n",
    "        print(\"5 found at index\", my_list.index(item))"
   ]
  },
  {
   "cell_type": "markdown",
   "metadata": {},
   "source": [
    "\n",
    "Why does it say index 2 both times? Because when you use the index method to find the index of `item`, it doesn't actually know where in the list we're up to: instead it does a quick search to find the index of the **first occurrence** of that value in the list. In this case, it returns the correct index when encountering the first 5, but the second time at index 4, it has no way of knowing that this time we've gone past the first instance of 5. Similar issues can come about when using `.remove()` as it removes the first occurrence only.\n",
    "\n",
    "A better way to approach problems where you need to know the current index in a loop is to iterate through the indices directly using the `range()` function. This way you know exactly which index you're currently at:\n"
   ]
  },
  {
   "cell_type": "code",
   "execution_count": 19,
   "metadata": {},
   "outputs": [
    {
     "name": "stdout",
     "output_type": "stream",
     "text": [
      "5 found at index 2\n",
      "5 found at index 4\n"
     ]
    }
   ],
   "source": [
    "my_list = [1, 3, 5, 4, 5]\n",
    "for i in range(len(my_list)):\n",
    "    if my_list[i] == 5:\n",
    "        print(\"5 found at index\", i)"
   ]
  },
  {
   "cell_type": "markdown",
   "metadata": {},
   "source": [
    "\n",
    "It would be wise to avoid using `.index()` unless you're looking specifically for the first index of a value in a list, perhaps to initialise a value."
   ]
  },
  {
   "cell_type": "markdown",
   "metadata": {},
   "source": [
    "# Iterating over Lists"
   ]
  },
  {
   "cell_type": "markdown",
   "metadata": {},
   "source": [
    "Because lists are mutable, you should be careful when iterating over them. If you change the list while you iterate over it, this could have some unexpected effects. For example, the following code was supposed to print each element of a list, then remove it. Does it do what it is supposed to?\n"
   ]
  },
  {
   "cell_type": "code",
   "execution_count": 20,
   "metadata": {},
   "outputs": [
    {
     "name": "stdout",
     "output_type": "stream",
     "text": [
      "1\n",
      "5\n",
      "[2, 4]\n"
     ]
    }
   ],
   "source": [
    "my_list = [1,2,5,4]\n",
    "for i in my_list:\n",
    "    print(i)\n",
    "    my_list.remove(i)\n",
    "print(my_list)"
   ]
  },
  {
   "cell_type": "markdown",
   "metadata": {},
   "source": [
    "# Extracting  a <code data-lang-\"py3\">list</code> of Words from Strings"
   ]
  },
  {
   "cell_type": "markdown",
   "metadata": {},
   "source": [
    "As we saw earlier, Python provides a convenient way to turn a string into a `list` of words, via the `.split()` method.\n"
   ]
  },
  {
   "cell_type": "code",
   "execution_count": 21,
   "metadata": {},
   "outputs": [
    {
     "name": "stdout",
     "output_type": "stream",
     "text": [
      "['The', 'one', 'cube', 'left', 'by', 'the', 'person', 'too', 'lazy', 'to', 'refill', 'the', 'ice', 'tray']\n"
     ]
    }
   ],
   "source": [
    "sniglet = 'The one cube left by the person too lazy to refill the ice tray'\n",
    "sniglet_words = sniglet.split()\n",
    "print(sniglet_words)"
   ]
  },
  {
   "cell_type": "markdown",
   "metadata": {},
   "source": [
    "\n",
    "By default, `.split()` segments up a string based on \"whitespace\" separators (space characters, tab characters, and line breaks), removing the separators in the process. It is possible to change this behaviour by specifying a separator in the argument to `.split()`, e.g.:\n"
   ]
  },
  {
   "cell_type": "code",
   "execution_count": 22,
   "metadata": {},
   "outputs": [
    {
     "name": "stdout",
     "output_type": "stream",
     "text": [
      "['1', '2', '3']\n",
      "['l00k ', ' U l3ap']\n"
     ]
    }
   ],
   "source": [
    "print(\"1,2,3\".split(\",\"))\n",
    "print(\"l00k b4 U l3ap\".split(\"b4\"))"
   ]
  },
  {
   "cell_type": "markdown",
   "metadata": {},
   "source": [
    "# Problem: For loop with append"
   ]
  },
  {
   "cell_type": "markdown",
   "metadata": {},
   "source": [
    "Your friend's computer is having a few problems. They were typing some messages to you when their space key broke, so instead of a space they have decided to use a \"@\" character. To make matters worse, their computer is stuck on CAPS LOCK so the messages they send to you are very difficult to read.\n",
    "\n",
    "Use a `for` loop and the `.append()` method to write a function `wordlist(text)` that takes your friend's message as a single argument `text` in the form of a string, and returns a list of the words which your friend sent. The words must be separated by the \"@\" symbol and converted to lower case. For example:\n"
   ]
  },
  {
   "cell_type": "markdown",
   "metadata": {},
   "source": [
    "```python\n",
    ">>> wordlist(\"HOW@MUCH@WOOD@COULD@A@WOODCHUCK@CHUCK\")\n",
    "['how', 'much', 'wood', 'could', 'a', 'woodchuck', 'chuck']\n",
    ">>> wordlist(\"SEE@YOU@AT@12PM\")\n",
    "['see', 'you', 'at', '12pm']\n",
    ">>> wordlist(\"HI\")\n",
    "['hi']\n",
    "```"
   ]
  },
  {
   "cell_type": "code",
   "execution_count": 23,
   "metadata": {},
   "outputs": [],
   "source": [
    "# write your code here"
   ]
  },
  {
   "cell_type": "markdown",
   "metadata": {},
   "source": [
    "# Sorting"
   ]
  },
  {
   "cell_type": "markdown",
   "metadata": {},
   "source": [
    "One `list` operation that you will find many applications for is sorting the elements. There are two ways of doing this, which you will inevitably confuse at some point because of the names being so similar: **[1]** the `sorted()` function; and **[2]** the `.sort()` method.\n",
    "\n",
    "`sorted()` takes a list and returns a new list with the elements in sorted order (without mutating the original list). For example:\n"
   ]
  },
  {
   "cell_type": "code",
   "execution_count": 24,
   "metadata": {},
   "outputs": [
    {
     "name": "stdout",
     "output_type": "stream",
     "text": [
      "[1, 2, 3.0, 4, 5]\n",
      "[4, 1, 3.0, 2, 5]\n"
     ]
    }
   ],
   "source": [
    "randlist = [4, 1, 3.0, 2, 5]\n",
    "print(sorted(randlist))\n",
    "print(randlist)"
   ]
  },
  {
   "cell_type": "markdown",
   "metadata": {},
   "source": [
    "\n",
    "It can also be applied to a list of strings, in which case the sort order is based on the underlying Unicode values:\n"
   ]
  },
  {
   "cell_type": "code",
   "execution_count": 25,
   "metadata": {},
   "outputs": [
    {
     "name": "stdout",
     "output_type": "stream",
     "text": [
      "['ABC', 'a', 'aardvark', 'abacus']\n"
     ]
    }
   ],
   "source": [
    "print(sorted(['abacus', 'a', 'aardvark', 'ABC']))"
   ]
  },
  {
   "cell_type": "markdown",
   "metadata": {},
   "source": [
    "Note that while sorting a list of mixed `int` and `float` values generates the expected numeric sequence (see the example above), if you try to mix other types, `sorted()` will raise an exception:"
   ]
  },
  {
   "cell_type": "raw",
   "metadata": {},
   "source": [
    "print(sorted([1, 2, 'three', 'four', ['five']]))\n",
    "print(sorted(strlist))"
   ]
  },
  {
   "cell_type": "code",
   "execution_count": 26,
   "metadata": {},
   "outputs": [],
   "source": [
    "# Try running the code in the last example"
   ]
  },
  {
   "cell_type": "markdown",
   "metadata": {},
   "source": [
    "\n",
    "If you wish to reverse-sort the list, simply set the optional `reverse` keyword to `True`:\n"
   ]
  },
  {
   "cell_type": "code",
   "execution_count": 27,
   "metadata": {},
   "outputs": [
    {
     "name": "stdout",
     "output_type": "stream",
     "text": [
      "[5, 4, 3.0, 2, 1]\n",
      "[4, 1, 3.0, 2, 5]\n"
     ]
    }
   ],
   "source": [
    "randlist = [4, 1, 3.0, 2, 5]\n",
    "print(sorted(randlist, reverse=True))\n",
    "print(randlist)"
   ]
  },
  {
   "cell_type": "markdown",
   "metadata": {},
   "source": [
    "\n",
    "Hopefully all good to here. Where things get confusing is with the `.sort()` method, which operates **in-place**, in that it mutates the list so that the elements are sorted (i.e. the original ordering of elements is potentially changed):\n"
   ]
  },
  {
   "cell_type": "code",
   "execution_count": 28,
   "metadata": {},
   "outputs": [
    {
     "name": "stdout",
     "output_type": "stream",
     "text": [
      "[1, 2, 3.0, 4, 5]\n"
     ]
    }
   ],
   "source": [
    "randlist = [4, 1, 3.0, 2, 5]\n",
    "randlist.sort()\n",
    "print(randlist)"
   ]
  },
  {
   "cell_type": "markdown",
   "metadata": {},
   "source": [
    "\n",
    "The confusion comes when assigning the result of `.sort()` to a variable, or using sorting as part of a `for` loop. For example, the following code is fine:\n"
   ]
  },
  {
   "cell_type": "code",
   "execution_count": 29,
   "metadata": {},
   "outputs": [
    {
     "name": "stdout",
     "output_type": "stream",
     "text": [
      "[1, 2, 3.0, 4, 5]\n"
     ]
    }
   ],
   "source": [
    "randlist = [4, 1, 3.0, 2, 5]\n",
    "randlist = sorted(randlist)\n",
    "print(randlist)"
   ]
  },
  {
   "cell_type": "markdown",
   "metadata": {},
   "source": [
    "\n",
    "whereas the following is almost certainly not the desired effect:\n"
   ]
  },
  {
   "cell_type": "code",
   "execution_count": 30,
   "metadata": {},
   "outputs": [
    {
     "name": "stdout",
     "output_type": "stream",
     "text": [
      "None\n"
     ]
    }
   ],
   "source": [
    "randlist = [4, 1, 3.0, 2, 5]\n",
    "randlist = randlist.sort()\n",
    "print(randlist)"
   ]
  },
  {
   "cell_type": "markdown",
   "metadata": {},
   "source": [
    "\n",
    "Possibly the easiest way of avoiding this confusion is to use `sorted()` exclusively, and remember to reassign the result back to the list variable (as above) if the intention is to sort a list in-place. Another advantage of `sorted()` is that it can be applied to any sequence, including lists and tuples (although it will always return a list):\n"
   ]
  },
  {
   "cell_type": "code",
   "execution_count": 31,
   "metadata": {},
   "outputs": [
    {
     "name": "stdout",
     "output_type": "stream",
     "text": [
      "['a', 'a', 'a', 'b', 'n', 'n', 's']\n",
      "[1, 3, 5]\n"
     ]
    }
   ],
   "source": [
    "print(sorted(\"bananas\"))\n",
    "print(sorted((3, 1, 5)))"
   ]
  },
  {
   "cell_type": "markdown",
   "metadata": {},
   "source": [
    "\n",
    "> ## Seeing None?\n",
    "> Most mutating methods return `None`. If you find `None` somewhere in your code where you weren't expecting it, check that you haven't assigned the return value of a method which edits the object in-place."
   ]
  },
  {
   "cell_type": "markdown",
   "metadata": {},
   "source": [
    "# Problem: Sorted Words"
   ]
  },
  {
   "cell_type": "markdown",
   "metadata": {},
   "source": [
    "Write a function `sorted_words(wordlist)` that takes a single list-of-words argument `wordlist`, and returns a sorted list of the words in `wordlist` where the letters are alphabetically sorted. An example of such a word is `door`, as there is no letter in the word that has a higher Unicode value than any letter that follows it, whereas `cat` is not, as `c` precedes `a` in the word (hint: the `sorted` function may come in handy in testing whether the letters in a word are alphabetically sorted or not). For example:\n"
   ]
  },
  {
   "cell_type": "markdown",
   "metadata": {},
   "source": [
    "```python\n",
    ">>> sorted_words([\"bet\", \"abacus\", \"act\", \"celebration\", \"door\"])\n",
    "['act', 'bet', 'door']\n",
    ">>> sorted_words(['apples', 'bananas', 'spam'])\n",
    "[]\n",
    ">>> sorted_words([\"aims\", \"Zip\"])\n",
    "['Zip', 'aims']\n",
    "```"
   ]
  },
  {
   "cell_type": "markdown",
   "metadata": {},
   "source": [
    "> ## Unicode Values and Case\n",
    "> Recall that sorting is based on Unicode values, and that `\"Z\"` has a lower Unicode value than `\"z\"`. As such:\n",
    ">```python\n",
    ">print('Zip' < 'aims')\n",
    ">```"
   ]
  },
  {
   "cell_type": "code",
   "execution_count": 32,
   "metadata": {},
   "outputs": [],
   "source": [
    "# write your code here"
   ]
  },
  {
   "cell_type": "markdown",
   "metadata": {},
   "source": [
    "# Problem: Word Lengths"
   ]
  },
  {
   "cell_type": "markdown",
   "metadata": {},
   "source": [
    "Let's play around with the first paragraph of Moby Dick:\n",
    "\n",
    "\n",
    "> \n",
    "> Call me Ishmael. Some years ago - never mind how long precisely - having little or no money in my purse, and nothing particular to interest me on shore, I thought I would sail about a little and see the watery part of the world. It is a way I have of driving off the spleen and regulating the circulation. Whenever I find myself growing grim about the mouth; whenever it is a damp, drizzly November in my soul; whenever I find myself involuntarily pausing before coffin warehouses, and bringing up the rear of every funeral I meet; and especially whenever my hypos get such an upper hand of me, that it requires a strong moral principle to prevent me from deliberately stepping into the street, and methodically knocking people's hats off - then, I account it high time to get to sea as soon as I can. This is my substitute for pistol and ball. With a philosophical flourish Cato throws himself upon his sword; I quietly take to the ship. There is nothing surprising in this. If they but knew it, almost all men in their degree, some time or other, cherish very nearly the same feelings towards the ocean with me.\n",
    "> \n",
    "\n",
    "\n",
    "\n",
    "Your job is to write the function `prevword_ave_len(word)` which takes a single argument `word` (a `str`) and returns the average length (in characters) of the word that precedes `word` in the text. That is, for each occurrence of `word` in the text, you are to determine the (single) word which precedes it, and calculate the average length of all those preceding words. If one of the occurrences of `word` happens to be the first word occurring in the text, the length of the preceding word for that occurrence should be counted as zero. In the instance that `word` doesn't occur in the text, the function should return `False`. Note that we define a \"word\" to simply be a string that is delimited by \"whitespace\" (i.e. punctuation following a word is included as part of the word). Additionally, the casing in the original text (and in `word`) should be preserved.\n"
   ]
  },
  {
   "cell_type": "markdown",
   "metadata": {},
   "source": [
    "```python\n",
    ">>> prevword_ave_len('the')\n",
    "4.4\n",
    ">>> prevword_ave_len('whale')\n",
    "False\n",
    ">>> prevword_ave_len('ship.')\n",
    "3.0\n",
    "```"
   ]
  },
  {
   "cell_type": "markdown",
   "metadata": {},
   "source": [
    "\n",
    "> ## Hint\n",
    "> You should store the text of the paragraph as a string, and use the `.split()` method to make a list of the words in the text."
   ]
  },
  {
   "cell_type": "code",
   "execution_count": 33,
   "metadata": {},
   "outputs": [],
   "source": [
    "# write your code here"
   ]
  },
  {
   "cell_type": "markdown",
   "metadata": {},
   "source": [
    "# Problem: Middle word(s) problem"
   ]
  },
  {
   "cell_type": "markdown",
   "metadata": {},
   "source": [
    "Imagine that we have the following list of words:\n"
   ]
  },
  {
   "cell_type": "markdown",
   "metadata": {},
   "source": [
    "```python\n",
    "['Mirror', 'Mirror', 'on', 'the', 'wall']\n",
    "```"
   ]
  },
  {
   "cell_type": "markdown",
   "metadata": {},
   "source": [
    "\n",
    "There are 5 words in this list, with the middle word being `'on'`. When the length of the list is an odd number, there is exactly one middle word. If the length is even, on the other hand, then there are two middle words. For example, in the case of:\n"
   ]
  },
  {
   "cell_type": "markdown",
   "metadata": {},
   "source": [
    "```python\n",
    "['Baa', 'baa', 'black', 'sheep', 'have', 'you', 'any', 'wool']\n",
    "```"
   ]
  },
  {
   "cell_type": "markdown",
   "metadata": {},
   "source": [
    "\n",
    "the two middle words are `'sheep'` and `'have'`.\n",
    "\n",
    "Your task is to write a function `middle_words(word_list)` that returns the middle word(s) from the non-empty list-of-strings `word_list`. If the length of `word_list` is an odd number, you should return a list containing the single middle word; and if the length of `word_list` is an even number, you should return a list containing the two middle words, in the same order as they occurred in the `word_list`. For example:\n"
   ]
  },
  {
   "cell_type": "markdown",
   "metadata": {},
   "source": [
    "```python\n",
    ">>> middle_words(['Mirror', 'Mirror', 'on', 'the', 'wall'])\n",
    "[\"on\"]\n",
    ">>> middle_words(['Baa', 'baa', 'black', 'sheep', 'have', 'you', 'any', 'wool'])\n",
    "[\"sheep\", \"have\"]\n",
    "```"
   ]
  },
  {
   "cell_type": "code",
   "execution_count": 34,
   "metadata": {},
   "outputs": [],
   "source": [
    "# write your code here"
   ]
  },
  {
   "cell_type": "markdown",
   "metadata": {},
   "source": [
    "# Longest sentence problem"
   ]
  },
  {
   "cell_type": "markdown",
   "metadata": {},
   "source": [
    "As you saw earlier, the `.split()` method will break a string into separate words, based on its default behavior of break up the string at each occurrence of whitespace.\n",
    "\n",
    "You can also use `.split()` to break the string on different characters. For example, you could break the string on full-stops using `.split('.')`. This gives you an easy (if somewhat naive) way of generating all the sentences in a string:\n"
   ]
  },
  {
   "cell_type": "code",
   "execution_count": 35,
   "metadata": {},
   "outputs": [
    {
     "name": "stdout",
     "output_type": "stream",
     "text": [
      "['Hello world', ' My name is Plargleflarp', '']\n"
     ]
    }
   ],
   "source": [
    "string = 'Hello world. My name is Plargleflarp.'\n",
    "print(string.split('.'))"
   ]
  },
  {
   "cell_type": "markdown",
   "metadata": {},
   "source": [
    "\n",
    "Write a function `longest_sentence_length(text)` that takes a single string argument `text` and returns the **length** of the longest sentence in `text`, measured in words. For example:\n"
   ]
  },
  {
   "cell_type": "markdown",
   "metadata": {},
   "source": [
    "```python\n",
    ">>> text = 'Hello world. My name is Plargleflarp.'\n",
    ">>> longest_sentence_length(text)\n",
    "4\n",
    "```"
   ]
  },
  {
   "cell_type": "markdown",
   "metadata": {},
   "source": [
    "\n",
    "> ## Hint\n",
    "> The tests for this exercise use the first paragraph from *Moby Dick* seen in the first two exercises of this module. You may want to read those exercises first before trying this one."
   ]
  },
  {
   "cell_type": "code",
   "execution_count": 36,
   "metadata": {},
   "outputs": [],
   "source": [
    "# write your code here"
   ]
  },
  {
   "cell_type": "markdown",
   "metadata": {},
   "source": [
    "# Longest, Highest Word"
   ]
  },
  {
   "cell_type": "markdown",
   "metadata": {},
   "source": [
    "Write a function `long_high_word(wordlist)` that takes a non-empty list of words `wordlist` (each of which is a string), and returns the word which is longest, and in the instance of multiple words having that length, is highest among them, based on Unicode sort order. For example:\n"
   ]
  },
  {
   "cell_type": "markdown",
   "metadata": {},
   "source": [
    "```python\n",
    ">>> long_high_word(['a', 'cat', 'sat'])\n",
    "'sat'\n",
    ">>> long_high_word(['saturation', 'of', 'colour'])\n",
    "'saturation'\n",
    ">>> long_high_word(['abc', 'bc', 'c'])\n",
    "'abc'\n",
    ">>> long_high_word(['samIam'])\n",
    "'samIam'\n",
    "```"
   ]
  },
  {
   "cell_type": "code",
   "execution_count": 37,
   "metadata": {},
   "outputs": [],
   "source": [
    "# write your code here"
   ]
  }
 ],
 "metadata": {
  "kernelspec": {
   "display_name": "Python 3 (ipykernel)",
   "language": "python",
   "name": "python3"
  },
  "language_info": {
   "codemirror_mode": {
    "name": "ipython",
    "version": 3
   },
   "file_extension": ".py",
   "mimetype": "text/x-python",
   "name": "python",
   "nbconvert_exporter": "python",
   "pygments_lexer": "ipython3",
   "version": "3.8.10"
  },
  "latex_envs": {
   "LaTeX_envs_menu_present": true,
   "autoclose": false,
   "autocomplete": true,
   "bibliofile": "biblio.bib",
   "cite_by": "apalike",
   "current_citInitial": 1,
   "eqLabelWithNumbers": true,
   "eqNumInitial": 1,
   "hotkeys": {
    "equation": "Ctrl-E",
    "itemize": "Ctrl-I"
   },
   "labels_anchors": false,
   "latex_user_defs": false,
   "report_style_numbering": false,
   "user_envs_cfg": false
  },
  "toc": {
   "base_numbering": 1,
   "nav_menu": {},
   "number_sections": true,
   "sideBar": true,
   "skip_h1_title": false,
   "title_cell": "Table of Contents",
   "title_sidebar": "Contents",
   "toc_cell": false,
   "toc_position": {},
   "toc_section_display": true,
   "toc_window_display": false
  },
  "varInspector": {
   "cols": {
    "lenName": 16,
    "lenType": 16,
    "lenVar": 40
   },
   "kernels_config": {
    "python": {
     "delete_cmd_postfix": "",
     "delete_cmd_prefix": "del ",
     "library": "var_list.py",
     "varRefreshCmd": "print(var_dic_list())"
    },
    "r": {
     "delete_cmd_postfix": ") ",
     "delete_cmd_prefix": "rm(",
     "library": "var_list.r",
     "varRefreshCmd": "cat(var_dic_list()) "
    }
   },
   "types_to_exclude": [
    "module",
    "function",
    "builtin_function_or_method",
    "instance",
    "_Feature"
   ],
   "window_display": false
  }
 },
 "nbformat": 4,
 "nbformat_minor": 1
}
