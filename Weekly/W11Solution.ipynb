{
 "cells": [
  {
   "cell_type": "raw",
   "metadata": {},
   "source": [
    "Write a function mymax() that takes a single argument numlist in the form of a list of numbers, and returns the highest number in numlist in the case that it is non-empty, and None otherwise. Note that you may use the built-in function max() in your code.\n",
    "\n",
    "For example:\n",
    "\n",
    ">>> print(mymax([3, 4, 5.0, 7]))\n",
    "7\n",
    ">>> print(mymax([-1, 8, -3, 8]))\n",
    "8\n",
    ">>> print(mymax([]))\n",
    "None"
   ]
  },
  {
   "cell_type": "code",
   "execution_count": 1,
   "metadata": {},
   "outputs": [],
   "source": [
    "def mymax(numlist):\n",
    "    # CASE 1: empty list\n",
    "    if not numlist:\n",
    "        return None\n",
    "\n",
    "    # CASE 2: non-empty list\n",
    "    else:\n",
    "        return max(numlist)"
   ]
  },
  {
   "cell_type": "raw",
   "metadata": {},
   "source": [
    "Let's write our first function that returns multiple values, using a tuple.\n",
    "\n",
    "Write a function maxby(intlist) that takes a single argument intlist in the form of a list of integers, and returns a 2-tuple (maxnum, bymargin), where maxnum is the maximum integer in the list and bymargin is the difference between maxnum and the next-highest value.\n",
    "\n",
    "In the case of a tie for the maximum value, the difference over the next highest value should be 0. In the case that intlist is an empty list, both values should be set to None; in the case of a singleton list, bymargin should be set to None.\n",
    "\n",
    "For example:\n",
    "\n",
    ">>> maxby([3, 4, 5, 7])\n",
    "(7, 2)\n",
    ">>> maxby([-1, 8, -3, 8])\n",
    "(8, 0)\n",
    ">>> maxby([1])\n",
    "(1, None)\n",
    ">>> maxby([])\n",
    "(None, None)"
   ]
  },
  {
   "cell_type": "code",
   "execution_count": 2,
   "metadata": {},
   "outputs": [],
   "source": [
    "def maxby(intlist):\n",
    "    # CASE 1: empty list\n",
    "    if not intlist:\n",
    "        return (None, None)\n",
    "\n",
    "    else:\n",
    "        # CASE 2: single-element list\n",
    "        if len(intlist) == 1:\n",
    "            return (intlist[0], None)\n",
    "\n",
    "        # CASE 3: multi-element list\n",
    "        else:\n",
    "            (nextmaxnum, maxnum) = sorted(intlist)[-2:]\n",
    "            return (maxnum, maxnum - nextmaxnum)"
   ]
  },
  {
   "cell_type": "code",
   "execution_count": 3,
   "metadata": {},
   "outputs": [],
   "source": [
    "def maxby(intlist):\n",
    "    best = None\n",
    "    second = None\n",
    "    for item in intlist:\n",
    "        # Search for the best and second best item\n",
    "        if best is None or item >= best:\n",
    "            second = best\n",
    "            best = item\n",
    "        elif second is None or item >= second:\n",
    "            second = item\n",
    "\n",
    "    if len(intlist) <= 1:\n",
    "        # CASES 1 and 2: empty or single-element list\n",
    "        return (best, None)\n",
    "\n",
    "    # General case\n",
    "    return (best, best - second)"
   ]
  },
  {
   "cell_type": "raw",
   "metadata": {},
   "source": [
    "Rewrite the provided code for the function issorted(numlist) that takes a single argument numlist in the form of a list of numbers, and returns True if numlist is in increasing sort-order (noting that ties between adjacent elements are allowed), and False otherwise.\n",
    "\n",
    "In rewriting the code, you should introduce (at least) one more return statement, which aborts the function prematurely when a local violation of the sort-order requirement is detected (expect to fail one of the hidden test cases if you don't!).\n",
    "\n",
    "For example:\n",
    "\n",
    ">>> issorted([3, 4, 4, 5.0, 7])\n",
    "True\n",
    ">>> issorted([-1, 8, -3, 8])\n",
    "False\n",
    ">>> issorted([1])\n",
    "True\n",
    ">>> issorted([])\n",
    "True"
   ]
  },
  {
   "cell_type": "code",
   "execution_count": 4,
   "metadata": {},
   "outputs": [],
   "source": [
    "def issorted(numlist):\n",
    "    for i in range(1, len(numlist)):\n",
    "        if numlist[i] < numlist[i - 1]:\n",
    "            return False\n",
    "    return True"
   ]
  },
  {
   "cell_type": "raw",
   "metadata": {},
   "source": [
    "Write a function basenum(num, base) that takes as arguments num (a non-negative integer) and base (a non-negative integer not greater than 10) and returns True if all digits of num are strictly less than base, and False otherwise (using lazy evaluation). Once again, expect to be tripped up by one of the hidden test cases if you do not use lazy evaluation.\n",
    "\n",
    "For example:\n",
    "\n",
    ">>> basenum(12345, 2)\n",
    "False\n",
    ">>> basenum(12345, 8)\n",
    "True\n",
    ">>> basenum(10110, 2)\n",
    "True\n",
    ">>> basenum(9, 5)\n",
    "False"
   ]
  },
  {
   "cell_type": "code",
   "execution_count": 5,
   "metadata": {},
   "outputs": [],
   "source": [
    "def basenum(num, base):\n",
    "    for digit in str(num):\n",
    "        if int(digit) >= base:\n",
    "            return False\n",
    "    return True"
   ]
  }
 ],
 "metadata": {
  "kernelspec": {
   "display_name": "Python 3",
   "language": "python",
   "name": "python3"
  },
  "language_info": {
   "codemirror_mode": {
    "name": "ipython",
    "version": 3
   },
   "file_extension": ".py",
   "mimetype": "text/x-python",
   "name": "python",
   "nbconvert_exporter": "python",
   "pygments_lexer": "ipython3",
   "version": "3.8.5"
  }
 },
 "nbformat": 4,
 "nbformat_minor": 4
}
