{
 "cells": [
  {
   "cell_type": "markdown",
   "metadata": {},
   "source": [
    "# Taking a Breather"
   ]
  },
  {
   "cell_type": "markdown",
   "metadata": {},
   "source": [
    "Let's stop to take a breather for a moment, and put everything we've learned in context.\n"
   ]
  },
  {
   "cell_type": "markdown",
   "metadata": {},
   "source": [
    "# The Python Data Model (part 1)"
   ]
  },
  {
   "cell_type": "markdown",
   "metadata": {},
   "source": [
    "We have learned about a lot of stuff here which might seem separate, but actually there is a great Grand Unifying Theory underlying everything. This is great because it lets us condense our knowledge.\n",
    "\n",
    "The Grand Unifying Theory is: \"Everything in Python is an object with a **value**, an **id** (like a name; the details are beyond the scope of the subject, but see the Hint below for very basic information), and an unchangeable **type**.\"\n",
    "\n",
    "The type determines what operators, functions and methods you can use.\n",
    "\n",
    "We learned about a bunch of types, but they really all fall into two categories: Numbers and Sequences. What about Booleans? They are technically numbers too, and behave like `1` and `0` for `True` and `False`, respectively. See the following table.\n",
    "\n",
    "<table border=\"1\">\n",
    "<colgroup> <col width=\"27%\"> <col width=\"47%\"> <col width=\"27%\"> </colgroup>\n",
    "<thead valign=\"bottom\">\n",
    "<tr><th>Type</th> <th>Example Literals (Values)</th> <th>Operators</th>  <th>Useful Methods</th> </tr>\n",
    "</thead>\n",
    "<tbody valign=\"top\">\n",
    "    \n",
    "<tr><td><code data-lang=\"py3\">int</code></td> <td> <code data-lang=\"py3\">-3, -5, 10</code></td> <td><code data-lang=\"py3\">*</code>, <code data-lang=\"py3\">/</code>, <code data-lang=\"py3\">**</code>, <code data-lang=\"py3\">//</code>, <code data-lang=\"py3\">%</code>, <code data-lang=\"py3\">+</code>, <code data-lang=\"py3\">-</code>, relational operators</td> <td>See <code data-lang=\"py3\">dir()</code></td>\n",
    "</tr>\n",
    "\n",
    "<tr><td><code data-lang=\"py3\">float</code></td> <td> <code data-lang=\"py3\">-3.0, 0.5, 3.14159</code></td> <td>same as above</td> <td>See <code data-lang=\"py3\">dir()</code></td></tr>\n",
    "\n",
    "<tr><td><code data-lang=\"py3\">bool</code></td> <td> <code data-lang=\"py3\">True, False</code></td> <td>same as above, <code data-lang=\"py3\">and, or, not</code></td> <td>See <code data-lang=\"py3\">dir()</code></td> </tr>\n",
    "\n",
    "<tr><td><code data-lang=\"py3\">str</code></td> <td><code data-lang=\"py3\">\"Hello\"</code></td> <td><code data-lang=\"py3\">*</code>, <code data-lang=\"py3\">+</code>, relational operators,<code data-lang=\"py3\">in</code></td> <td><code data-lang=\"py3\">.upper()</code></td></tr>\n",
    "\n",
    "<tr><td><code data-lang=\"py3\">tuple</code></td> <td><code data-lang=\"py3\">(1, 2, \"h\")</code></td> <td>same as above</td> <td>See later</td> </tr>\n",
    "\n",
    "<tr><td><code data-lang=\"py3\">list</code></td> <td> <code data-lang=\"py3\">[1, 3, \"h\"]</code></td> <td>same as above</td> <td>See later</td> </tr>\n",
    "\n",
    "</tbody>\n",
    "</table>\n",
    "\n",
    "> ## `id`\n",
    "> You can find the id of an object like this:\n",
    " >     <pre class=\"js-editor\" data-eg-id=\"id0\">`print(id(\"hello\"), id(\"bob\"))\n",
    "> `</pre>\n",
    "> Every object is stored in the computer's memory somewhere. An object's <code data-lang=\"py3\">id</code> is the address of where the object lives in memory.\n"
   ]
  },
  {
   "cell_type": "markdown",
   "metadata": {},
   "source": [
    "# The Python Data Model (part 2)"
   ]
  },
  {
   "cell_type": "markdown",
   "metadata": {},
   "source": [
    "This structure is great because it means once you know a bit about a few extra coding constructs, you can learn the entire language by simply asking the questions: \"What objects exist?\" and \"What are their associated methods and operators?\".\n",
    "\n",
    "Below is a summary of other things we have learned:\n",
    "\n",
    "* You can convert between types.\n",
    "* You can index sequences.\n",
    "* Conditionals: \n",
    "```python\n",
    "if CONDITION:\n",
    "    # block of statements\n",
    "else:\n",
    "    # block of statements\n",
    "```\n",
    "* Functions.\n",
    "\n",
    "\n",
    "> ## Aside\n",
    "> Though it might not seem like it, even functions are objects with a type. Try using the `type` function to find the type of a function."
   ]
  },
  {
   "cell_type": "markdown",
   "metadata": {},
   "source": [
    "# Converting Between Types"
   ]
  },
  {
   "cell_type": "markdown",
   "metadata": {},
   "source": [
    "It is worth noting that while we have seen type conversion on a case-by-case basis, it is quite general, and you can typically convert between types (when it makes sense to do so) using a function with the same name as the type. See important examples below:\n"
   ]
  },
  {
   "cell_type": "code",
   "execution_count": 1,
   "metadata": {},
   "outputs": [
    {
     "name": "stdout",
     "output_type": "stream",
     "text": [
      "4\n",
      "7\n",
      "4.0\n",
      "4.0\n",
      "['h', 'e', 'l', 'l', 'o']\n",
      "['me1', 'me2']\n",
      "True\n"
     ]
    }
   ],
   "source": [
    "#str to int\n",
    "print(int(\"4\"))\n",
    "#int to str\n",
    "print(str(4+3))\n",
    "#int to float\n",
    "print(float(4))\n",
    "#str to float\n",
    "print(float(\"4\"))\n",
    "#str to list\n",
    "print(list(\"hello\"))\n",
    "#tuple to list\n",
    "print(list((\"me1\",\"me2\")))\n",
    "#str to bool\n",
    "print(bool(\"hello\"))"
   ]
  },
  {
   "cell_type": "markdown",
   "metadata": {},
   "source": [
    "> ## Remember Boolean Conversions\n",
    "> Good conversions to remember are the Boolean type conversions because they are implicitly done if you have a condition on a value. e.g. `if \"hello\"` is the same as `if bool(\"hello\")`. Will the code below print `hello`?\n",
    " > ```python\n",
    " > if \"hello\":\n",
    " >     print(\"hello\")\n",
    " > print(bool(\"hello\"))\n",
    " > ```"
   ]
  },
  {
   "cell_type": "markdown",
   "metadata": {},
   "source": [
    "# Chess Notation"
   ]
  },
  {
   "cell_type": "markdown",
   "metadata": {},
   "source": [
    "Now let's practice by doing some problems. The next four questions focus on incrementally building a program to validate [Algebraic chess notation](https://en.wikipedia.org/wiki/Algebraic_notation_(chess)).\n"
   ]
  },
  {
   "cell_type": "markdown",
   "metadata": {},
   "source": [
    "# Chess Problem 1"
   ]
  },
  {
   "cell_type": "markdown",
   "metadata": {},
   "source": [
    "Write a function `check_move(column, row)` which returns a string describing a chess move to a given row and column on the chess board. Your program must check if the row and column entered are both valid. The column in a chess board is a letter ranging from **A to H** (inclusive) and the row is a number between **1 and 8** (inclusive).\n",
    "\n",
    "* `column` will be given to your function as a string and `row` will be given as an integer.\n",
    "* `'A'` or `'E'` are valid columns but `'a'` or `'L'` are not.\n",
    "* Similarly, `2` and `8` are valid rows but `0` and `9` are not.\n",
    "\n",
    "\n",
    "If both coordinates are valid, such as `'E'` and `2`, your function must return `'The piece is moved to E2.'`, otherwise it returns `'The position is not valid.'`.\n",
    "\n",
    "For example, `check_move` should work like this with valid arguments:\n"
   ]
  },
  {
   "cell_type": "markdown",
   "metadata": {},
   "source": [
    "```python\n",
    ">>> check_move('B', 4)\n",
    "'The piece is moved to B4.'\n",
    "```"
   ]
  },
  {
   "cell_type": "markdown",
   "metadata": {},
   "source": [
    "and like this on invalid arguments:\n"
   ]
  },
  {
   "cell_type": "markdown",
   "metadata": {},
   "source": [
    "```python\n",
    ">>> check_move('b', 4)\n",
    "'The position is not valid.'\n",
    ">>> check_move('I', 4)\n",
    "'The position is not valid.'\n",
    ">>> check_move('F', 9)\n",
    "'The position is not valid.'\n",
    "```"
   ]
  },
  {
   "cell_type": "code",
   "execution_count": 2,
   "metadata": {},
   "outputs": [],
   "source": [
    "# write your code here"
   ]
  },
  {
   "cell_type": "markdown",
   "metadata": {},
   "source": [
    "# Chess Problem v2"
   ]
  },
  {
   "cell_type": "markdown",
   "metadata": {},
   "source": [
    "Write a new version of your algebraic chess notation validation function `check_move` such that it also allows the input of lower case letters. That is, columns such as `'a'` or `'f'` are now accepted as well.\n",
    "\n",
    "Your function should behave like this:\n"
   ]
  },
  {
   "cell_type": "markdown",
   "metadata": {},
   "source": [
    "```python\n",
    ">>> check_move('B', 4)\n",
    "'The piece is moved to B4.'\n",
    ">>> check_move('b', 4)\n",
    "'The piece is moved to B4.'\n",
    "```"
   ]
  },
  {
   "cell_type": "markdown",
   "metadata": {},
   "source": [
    "and like this on invalid arguments:\n"
   ]
  },
  {
   "cell_type": "markdown",
   "metadata": {},
   "source": [
    "```python\n",
    ">>> check_move('I', 4)\n",
    "'The position is not valid.'\n",
    ">>> check_move('F', 9)\n",
    "'The position is not valid.'\n",
    "```"
   ]
  },
  {
   "cell_type": "markdown",
   "metadata": {},
   "source": [
    "\n",
    "\n",
    "> ## Note\n",
    "> When the move is successful the returned message must specify the column as a capital letter even if a lower case letter was given to the function!"
   ]
  },
  {
   "cell_type": "code",
   "execution_count": 3,
   "metadata": {},
   "outputs": [],
   "source": [
    "# write your code here"
   ]
  },
  {
   "cell_type": "markdown",
   "metadata": {},
   "source": [
    "# Chess Problem v3"
   ]
  },
  {
   "cell_type": "markdown",
   "metadata": {},
   "source": [
    "Write a new version of `check_move()` where, when there is an error in the chess move, the returned message specifies whether it is column or row value that is out of range:\n",
    "\n",
    "* If the column value is out of range (regardless of whether the row value is in our out of range) return `'The column value is not in the range a-h or A-H!'`.\n",
    "* If the column value is in range but the the row value is out of range, return `'The row value is not in the range 1 to 8!'`.\n",
    "* If both column and row values are in range, return `'The piece is moved to .'` as in the previous problems.\n",
    "\n",
    "Your function should now work like this for invalid arguments:\n"
   ]
  },
  {
   "cell_type": "markdown",
   "metadata": {},
   "source": [
    "```python\n",
    ">>> check_move('I', 4)\n",
    "'The column value is not in the range a-h or A-H!'\n",
    ">>> check_move('F', 9)\n",
    "'The row value is not in the range 1 to 8!'\n",
    ">>> check_move('I', 9)\n",
    "'The column value is not in the range a-h or A-H!'\n",
    ">>> check_move('B', 4)\n",
    "'The piece is moved to B4'\n",
    "```"
   ]
  },
  {
   "cell_type": "code",
   "execution_count": 4,
   "metadata": {},
   "outputs": [],
   "source": [
    "# write your code here"
   ]
  },
  {
   "cell_type": "markdown",
   "metadata": {},
   "source": [
    "# Chess Problem v4"
   ]
  },
  {
   "cell_type": "markdown",
   "metadata": {},
   "source": [
    "Previously, your `check_move` function took two separate arguments: a column and a row value. Now you will rewrite the function to accept the board position as a single string argument. In other words, write `check_move(position)` which takes position strings such as `'B5'` that include both the column and the row value of a chess board.\n",
    "\n",
    "* When both the coordinates in `position` are valid, for example, `'c4'`, the function returns `'The piece is moved to C4.'`.\n",
    "* If `position` has too many or too few characters, return `'The position is not valid.'`\n",
    "* If the first coordinate is out of range (regardless of whether the second one is or not) return `'The column value is not in the range a-h or A-H!'`.\n",
    "* Otherwise, if the second coordinate is out of range, return `'The row value is not in the range 1 to 8!'`.\n",
    "\n",
    "\n",
    "Note that, irrespective of the casing of the column value, your code should output the value in upper case.\n",
    "\n",
    "Your function should work like this:\n"
   ]
  },
  {
   "cell_type": "markdown",
   "metadata": {},
   "source": [
    "```python\n",
    ">>> check_move('B4')\n",
    "'The piece is moved to B4.'\n",
    ">>> check_move('b4')\n",
    "'The piece is moved to B4.'\n",
    "```"
   ]
  },
  {
   "cell_type": "markdown",
   "metadata": {},
   "source": [
    "and like this with an invalid position:\n"
   ]
  },
  {
   "cell_type": "markdown",
   "metadata": {},
   "source": [
    "```python\n",
    ">>> check_move('I4')\n",
    "'The column value is not in the range a-h or A-H!'\n",
    ">>> check_move('F9')\n",
    "'The row value is not in the range 1 to 8!'\n",
    ">>> check_move('A')\n",
    "'The position is not valid.'\n",
    "```"
   ]
  },
  {
   "cell_type": "code",
   "execution_count": null,
   "metadata": {},
   "outputs": [],
   "source": [
    "# write your code here"
   ]
  },
  {
   "cell_type": "markdown",
   "metadata": {},
   "source": [
    "# CSC Problem"
   ]
  },
  {
   "cell_type": "markdown",
   "metadata": {},
   "source": [
    "The 3 digit [card security code](https://en.wikipedia.org/wiki/Card_security_code) (CSC) on a credit card helps to protect against credit card fraud. Write a simple function `check_csc(code)` that checks if a given code is valid. The code is valid if it is **three characters** long and all the three characters entered are **digits between 0 and 9**. If the CSC is valid, your function must return `True`. Otherwise it must return `False`.\n",
    "\n",
    "\n",
    "Your function should work like this:\n",
    "\n",
    "\n"
   ]
  },
  {
   "cell_type": "markdown",
   "metadata": {},
   "source": [
    "```python\n",
    ">>> check_csc('023')\n",
    "True\n",
    ">>> check_csc('23')\n",
    "False\n",
    ">>> check_csc('Ab3')\n",
    "False\n",
    ">>> check_csc('')\n",
    "False\n",
    "```"
   ]
  },
  {
   "cell_type": "code",
   "execution_count": 5,
   "metadata": {},
   "outputs": [],
   "source": [
    "# write your code here"
   ]
  }
 ],
 "metadata": {
  "kernelspec": {
   "display_name": "Python 3 (ipykernel)",
   "language": "python",
   "name": "python3"
  },
  "language_info": {
   "codemirror_mode": {
    "name": "ipython",
    "version": 3
   },
   "file_extension": ".py",
   "mimetype": "text/x-python",
   "name": "python",
   "nbconvert_exporter": "python",
   "pygments_lexer": "ipython3",
   "version": "3.8.10"
  },
  "latex_envs": {
   "LaTeX_envs_menu_present": true,
   "autoclose": false,
   "autocomplete": true,
   "bibliofile": "biblio.bib",
   "cite_by": "apalike",
   "current_citInitial": 1,
   "eqLabelWithNumbers": true,
   "eqNumInitial": 1,
   "hotkeys": {
    "equation": "Ctrl-E",
    "itemize": "Ctrl-I"
   },
   "labels_anchors": false,
   "latex_user_defs": false,
   "report_style_numbering": false,
   "user_envs_cfg": false
  },
  "toc": {
   "base_numbering": 1,
   "nav_menu": {},
   "number_sections": true,
   "sideBar": true,
   "skip_h1_title": false,
   "title_cell": "Table of Contents",
   "title_sidebar": "Contents",
   "toc_cell": false,
   "toc_position": {},
   "toc_section_display": true,
   "toc_window_display": false
  },
  "varInspector": {
   "cols": {
    "lenName": 16,
    "lenType": 16,
    "lenVar": 40
   },
   "kernels_config": {
    "python": {
     "delete_cmd_postfix": "",
     "delete_cmd_prefix": "del ",
     "library": "var_list.py",
     "varRefreshCmd": "print(var_dic_list())"
    },
    "r": {
     "delete_cmd_postfix": ") ",
     "delete_cmd_prefix": "rm(",
     "library": "var_list.r",
     "varRefreshCmd": "cat(var_dic_list()) "
    }
   },
   "types_to_exclude": [
    "module",
    "function",
    "builtin_function_or_method",
    "instance",
    "_Feature"
   ],
   "window_display": false
  }
 },
 "nbformat": 4,
 "nbformat_minor": 1
}
