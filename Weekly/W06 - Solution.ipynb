{
 "cells": [
  {
   "cell_type": "markdown",
   "metadata": {},
   "source": [
    "It is a common practice in retail to offer discounts on the unit price for bulk purchases, and an expectation that when the prices for a given item are advertised on a per-item and bulk manner, the bulk price will be cheaper. Unscrupulous operators such as [the Dodgy Brothers](https://en.wikipedia.org/wiki/Australia\\_You%27re\\_Standing\\_In\\_It) can sometimes abuse this expectation, in marking up the bulk price for the unwary.\n",
    "\n",
    "Write a function `dodgy_markup(price)` which takes a single (non-negative) float argument `price`, and uses a single f-string to return a string of the following form, where the unit-price is set to `price`, and the per-dozen price is set to `price` multiplied by 12, with a 10% markup. Note that all prices must be presented in dollars and cents (i.e. to exactly two-decimal places). For example:\n",
    "\n",
    "```python\n",
    ">>> dodgy_markup(.20)\n",
    "'$0.20 each, or a crazy, crazy $2.64 per dozen!'\n",
    ">>> dodgy_markup(1)\n",
    "'$1.00 each, or a crazy, crazy $13.20 per dozen!'\n",
    "```"
   ]
  },
  {
   "cell_type": "code",
   "execution_count": null,
   "metadata": {},
   "outputs": [],
   "source": [
    "def dodgy_markup(price):\n",
    "    return f\"${price:.2f} each, or a crazy, crazy ${price*12*1.1:.2f} per dozen!\""
   ]
  },
  {
   "cell_type": "markdown",
   "metadata": {},
   "source": [
    "The Dodgy Brothers sell a remarkable array of objects, all of dubious nature, and all at outlandish prices. To help them stay on top of their inventory, write a function `dodgy_inventorise(item)` which takes a single tuple argument `item` (containing an item description, price, and volume, respectively), and uses an f-string to present the item as a fixed-width column, where the item name is up to 20 characters (with any additional characters ignored) and left-justified, the price is up to 10 characters (in dollars and cents) and right-justified, and the volume is up to 6 characters and right-justified. You can assume that all prices are under $10,000,000, and all volumes are integers, under 100000. For example:\n",
    "\n",
    "```python\n",
    ">>> dodgy_inventorise((\"rust bucket car\", 150000, 1))\n",
    "'rust bucket car 150000.00 1'\n",
    ">>> dodgy_inventorise((\"chunky, chunky, chunky custard\", 4.5, 10000))\n",
    "'chunky, chunky, chun 4.50 10000'\n",
    "```"
   ]
  },
  {
   "cell_type": "code",
   "execution_count": null,
   "metadata": {},
   "outputs": [],
   "source": [
    "def dodgy_inventorise(item):\n",
    "    return f\"{item[0]:<20.20}{item[1]:10.2f}{item[2]:>6}\""
   ]
  }
 ],
 "metadata": {
  "kernelspec": {
   "display_name": "Python 3",
   "language": "python",
   "name": "python3"
  },
  "language_info": {
   "codemirror_mode": {
    "name": "ipython",
    "version": 3
   },
   "file_extension": ".py",
   "mimetype": "text/x-python",
   "name": "python",
   "nbconvert_exporter": "python",
   "pygments_lexer": "ipython3",
   "version": "3.8.5"
  },
  "toc": {
   "base_numbering": 1,
   "nav_menu": {},
   "number_sections": true,
   "sideBar": true,
   "skip_h1_title": false,
   "title_cell": "Table of Contents",
   "title_sidebar": "Contents",
   "toc_cell": false,
   "toc_position": {},
   "toc_section_display": true,
   "toc_window_display": false
  }
 },
 "nbformat": 4,
 "nbformat_minor": 4
}
