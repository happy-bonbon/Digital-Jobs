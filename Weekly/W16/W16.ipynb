{
 "cells": [
  {
   "cell_type": "markdown",
   "metadata": {},
   "source": [
    "# Introduction"
   ]
  },
  {
   "cell_type": "markdown",
   "metadata": {},
   "source": [
    "Data pipelines move and transform data from one source to another such that it can be stored, used for analytics / Machine Learning, or combined with other data. Specifically, the data pipeline we will cover is an End-to-End process to preprocess data, conduct analysis, perform Machine Learning tasks, and communicate findings.\n",
    "\n",
    "Here's a diagram provided depicting the \"Data Science\" pipeline we will cover in this subject:\n",
    "\n",
    "<img src=\"images/pipeline.png\" width=\"600\" height=\"300\">  \n",
    "\n",
    "For DATA0006, you will be spending a lot of time working with new data structures such as:\n",
    "- `Pandas DataFrames`\n",
    "- `JSON` and `XML` formats\n",
    "\n",
    "\n",
    "## Workshop 7 Overview\n",
    "- On your first week as an intern, your manager wants you to familiarise yourself with the data, practice loading the data onto Pandas Series and DataFrames, and answer some basic summary questions about the ticket sales in 2018. \n",
    "- The dataset this week is a summarised ticket sales for 30 movies in 2018 through the movie system.\n",
    "- These sales are summed up from more than 2000 movie sessions (which you will be presented with next week)\n",
    "\n",
    "Here's an example of what the dataset looks like:\n",
    "\n",
    "<table border=\"1\" class=\"dataframe\">\n",
    "  <thead>\n",
    "    <tr style=\"text-align: right;\">\n",
    "      <th></th>\n",
    "      <th>movie_name</th>\n",
    "      <th>classification</th>\n",
    "      <th>tickets_sold</th>\n",
    "      <th>max_capacity</th>\n",
    "    </tr>\n",
    "  </thead>\n",
    "  <tbody>\n",
    "    <tr>\n",
    "      <th>0</th>\n",
    "      <td>A Quiet Place</td>\n",
    "      <td>M</td>\n",
    "      <td>103813</td>\n",
    "      <td>427725</td>\n",
    "    </tr>\n",
    "    <tr>\n",
    "      <th>1</th>\n",
    "      <td>Alpha</td>\n",
    "      <td>PG</td>\n",
    "      <td>103596</td>\n",
    "      <td>422525</td>\n",
    "    </tr>\n",
    "    <tr>\n",
    "      <th>2</th>\n",
    "      <td>An Interview with God</td>\n",
    "      <td>PG</td>\n",
    "      <td>104182</td>\n",
    "      <td>426575</td>\n",
    "    </tr>\n",
    "    <tr>\n",
    "      <th>3</th>\n",
    "      <td>Animal World</td>\n",
    "      <td>G</td>\n",
    "      <td>108293</td>\n",
    "      <td>427300</td>\n",
    "    </tr>\n",
    "    <tr>\n",
    "      <th>4</th>\n",
    "      <td>Ant-Man and the Wasp</td>\n",
    "      <td>PG</td>\n",
    "      <td>104631</td>\n",
    "      <td>429350</td>\n",
    "    </tr>\n",
    "    <tr>\n",
    "      <th>5</th>\n",
    "      <td>Aquaman</td>\n",
    "      <td>M</td>\n",
    "      <td>102655</td>\n",
    "      <td>423100</td>\n",
    "    </tr>\n",
    "    <tr>\n",
    "      <th>6</th>\n",
    "      <td>Avengers: Infinity War</td>\n",
    "      <td>M</td>\n",
    "      <td>112178</td>\n",
    "      <td>424325</td>\n",
    "    </tr>\n",
    "    <tr>\n",
    "      <th>7</th>\n",
    "      <td>A-X-L</td>\n",
    "      <td>PG</td>\n",
    "      <td>99339</td>\n",
    "      <td>423200</td>\n",
    "    </tr>\n",
    "    <tr>\n",
    "      <th>8</th>\n",
    "      <td>Between Worlds</td>\n",
    "      <td>MA15+</td>\n",
    "      <td>103208</td>\n",
    "      <td>423375</td>\n",
    "    </tr>\n",
    "    <tr>\n",
    "      <th>9</th>\n",
    "      <td>Black Panther</td>\n",
    "      <td>M</td>\n",
    "      <td>108831</td>\n",
    "      <td>423375</td>\n",
    "    </tr>\n",
    "  </tbody>\n",
    "</table>\n",
    "\n",
    "As you can see, we have 4 features (also known as *columns* or *attributes*): Movie Name, Classification, Total Tickets Sold, and Total Capacity.\n",
    "\n",
    "## Learning objectives\n",
    "Become proficient in manipulating tabular data using Python's `pandas` package. `pandas` introduces powerful data structures for data analysis, time series, and statistical modelling. \n",
    "\n",
    "- Understand the data structures in the `Pandas` library: `Series`, `DataFrame`\n",
    "- Construct or load a Series or DataFrame using `Pandas`\n",
    "- Slicing and indexing using the `.loc[]` and `.iloc[]` methods\n",
    "- How to work with Series and DataFrames using *methods* and *attributes*\n",
    "- 5 Number Summary Statistics\n",
    "- Sorting, Filtering, and Grouping DataFrames\n",
    "- Problem Solving using a given dataset. \n",
    "- Learn to view and find functions using the API Documentation\n",
    "\n",
    "\n",
    "## Workshop Overview\n",
    "\n",
    "1. Load the `week1_booking_summary.csv` using `pandas`. Previously, you would have used the `csv` library and use `open()`.\n",
    "2. Calculate the occupancy rate for each movie.\n",
    "3. Get the classification rating of `'Ralph Breaks the Internet'`.\n",
    "4. Query and return the movie with the highest number of tickets sold.\n",
    "5. Sort the dataframe by Classification (ascending), Occupancy (descending), then Number of Tickets Sold (descending). Avoid outputting the Max Capacity feature. \n",
    "6. Filter the data to *only* show PG-Rated Movie.\n",
    "7. How many movies are there *in each classification category*? For each category, which movie has the *highest* sales? Which one has the *lowest* sales?"
   ]
  },
  {
   "cell_type": "markdown",
   "metadata": {},
   "source": [
    "# Getting Started with Jupyter Notebook\n",
    "Jupyter notebook is an extremely useful tool for developing and presenting projects (particularly in python).  You can include code segments and view their output directly in your browser.  You can also add rich text, visualisations, equations and more.\n",
    "\n",
    "## Cells\n",
    "Jupyter notebooks contains two main types of cells:\n",
    "- Markdown cells: These can be used to contain text, equations and other non-code items.  The cell that you're reading right now is a markdown cell.  You can use [Markdown](https://www.markdownguide.org/) to format your text.  If you prefer, you can also format your text using <b>HTML</b>.  Clicking the <button class='btn btn-default btn-xs'><i class=\"fa-play fa\"></i><span class=\"toolbar-btn-label\">Run</span></button> button button will format and display your text.\n",
    "- Code cells: These contain code segments that can be executed individually.  When executed, the output of the code will be displayed below the code cell.\n",
    "\n",
    "## Keyboard Shortcuts\n",
    "Cell Running shortcuts:\n",
    "- _You can tell you are selecting a cell when the outline is colored is green_\n",
    "- `shift + enter` : Run current cell - keyboard shortcut for the <button class='btn btn-default btn-xs'><i class=\"fa-play fa\"></i><span class=\"toolbar-btn-label\">Run</span></button> button\n",
    "- `ctrl + enter` : Run selected cells\n",
    "\n",
    "Command mode (press `esc` to enter):\n",
    "- _You can tell you are in Command Mode when the outline is colored is blue_\n",
    "- Enter command mode pressing `esc` (blue highlight)\n",
    "- `a` to create a cell **above**\n",
    "- `b` to create a cell **below**\n",
    "- `dd` (double d) to **delete** a cell\n",
    "- `m` to make the cell render in **markdown**\n",
    "- `r` to make the cell render in **raw** text\n",
    "- `y` to make the cell render python code\n",
    "- `enter` to \"edit\" the cell"
   ]
  },
  {
   "cell_type": "markdown",
   "metadata": {},
   "source": [
    "# Pandas\n",
    "Depending on the use case, data come in various shapes and structures. One of the most common forms is *tabular data*, or data tables (think Excel spreadsheets or SQL tables). It's both human-readable and machine-readable, and it's easy to *vectorize* any transformation to our data. Here's a visualisation of what a DataFrame looks like:\n",
    "![Dataframe](images/dataframe.jpg)\n",
    "\n",
    "To work with tabular data in Python, we use the library `pandas`. We **strongly recommend** you bookmark the [API reference (Documentation)](https://pandas.pydata.org/pandas-docs/stable/reference/index.html) which will serve as a bible for this subject.\n",
    "\n",
    "In case you require additional reading material:\n",
    "- [Intro to Data Structures](https://pandas.pydata.org/pandas-docs/stable/getting_started/dsintro.html) \n",
    "- There are also a number of step-by-step tutorials such as [this one by DataCamp](https://www.datacamp.com/community/tutorials/pandas-tutorial-dataframe-python).\n",
    "\n",
    "Depending on where you are using your Jupyter Notebook and your OS (Operating System), you may need to *install* the `Pandas` package. To do so, run the command that matches your system:\n",
    "```python\n",
    "# for Windows with only Python installed\n",
    "pip install pandas\n",
    "\n",
    "# for Mac or Linux with Python3 installed\n",
    "pip3 install pandas\n",
    "```\n",
    "\n",
    "If you are using the JupyterHub Server or a local installation of Jupyter Notebook via Anaconda, it should already be installed!\n",
    "\n",
    "If you would like to install locally (on your PC/laptop), you can use this guide from 2017: https://github.com/resbaz/Intro_Python_Nov2017/blob/master/Python_Installation.md "
   ]
  },
  {
   "cell_type": "code",
   "execution_count": null,
   "metadata": {
    "ExecuteTime": {
     "end_time": "2021-11-22T00:50:59.395432Z",
     "start_time": "2021-11-22T00:50:56.894341Z"
    }
   },
   "outputs": [],
   "source": [
    "# run whichever command you require if need be\n",
    "# the ! in front is a \"magic\" command unique to Jupyter Notebook\n",
    "# it allows users to run bash or cmd commands directly in the notebook\n",
    "!pip install pandas\n",
    "!pip3 install pandas"
   ]
  },
  {
   "cell_type": "markdown",
   "metadata": {},
   "source": [
    "Like `collections`, we import `pandas` in the same manner. The only note here is that we are importing and giving it the alias `pd` to shorten the amount of code we need to write (`pd.DataFrame()` vs `pandas.DataFrame()`)"
   ]
  },
  {
   "cell_type": "code",
   "execution_count": null,
   "metadata": {
    "ExecuteTime": {
     "end_time": "2021-11-22T00:50:59.609065Z",
     "start_time": "2021-11-22T00:50:59.397444Z"
    }
   },
   "outputs": [],
   "source": [
    "import pandas as pd"
   ]
  },
  {
   "cell_type": "markdown",
   "metadata": {},
   "source": [
    "## <u>Concept: Series</u>\n",
    "A Series is a One-dimensional array-like object containing the array of data and an associated array of data labels called index. It's best to think of Series as a single column in Excel, or a vertical `list`-like object. Here's a visual example of what it looks like:\n",
    "\n",
    "![Dataframe](images/series.jpg)"
   ]
  },
  {
   "cell_type": "markdown",
   "metadata": {},
   "source": [
    "### Creating a Pandas Series"
   ]
  },
  {
   "cell_type": "code",
   "execution_count": null,
   "metadata": {
    "ExecuteTime": {
     "end_time": "2021-11-22T00:50:59.613448Z",
     "start_time": "2021-11-22T00:50:59.610155Z"
    }
   },
   "outputs": [],
   "source": [
    "# define a list of values and index\n",
    "sales_list = [107512, 103208, 99388, 103838, 104631]\n",
    "sales_index = ['The Kissing Booth', \n",
    "            'Between Worlds', \n",
    "            'Sicario: Day of the Soldado', \n",
    "            'Spider-Man: Into the Spider-Verse', \n",
    "            'Ant-Man and the Wasp']\n",
    "\n",
    "# create a Pandas series\n",
    "sales_series = pd.Series(data = sales_list, \n",
    "                         index = sales_index)"
   ]
  },
  {
   "cell_type": "code",
   "execution_count": null,
   "metadata": {
    "ExecuteTime": {
     "end_time": "2021-11-22T00:50:59.621943Z",
     "start_time": "2021-11-22T00:50:59.615102Z"
    }
   },
   "outputs": [],
   "source": [
    "# notice how we can just \"display\" the variable without printing it\n",
    "sales_series"
   ]
  },
  {
   "cell_type": "markdown",
   "metadata": {},
   "source": [
    "### <u>Concept: Attributes and Methods of a Python object</u>\n",
    "The Pandas `series` also comes with useful attributes in methods. To be specific:  \n",
    "1. Attributes are static variables that are stored when the object is created.\n",
    "2. Methods are functions that a pre-defined with that object.\n",
    "\n",
    "Examples of `series` attributes:\n",
    "- `series.index` attribute (returns the index field like `dict.keys()`)\n",
    "- `series.values` attribute (returns the values like `dict.values()`)\n",
    "\n",
    "Examples of `series` methods:\n",
    "- `series.mean()` method (computes the average)\n",
    "- `series.sum()` method (computes the grand total sum)\n",
    "\n",
    "To get all the attributes and methods available, you can call `help(pd.Series)`. \n",
    "\n",
    "\n",
    "There are a lot of functions, methods and attributes in the `pandas` library, so we won't be covering all of them in this subject. We encourage students to look up the [API Documentation](https://pandas.pydata.org/pandas-docs/stable/reference/api/pandas.Series.html) if you wish to use something outside the scope of this subject.\n",
    "\n"
   ]
  },
  {
   "cell_type": "code",
   "execution_count": null,
   "metadata": {
    "ExecuteTime": {
     "end_time": "2021-11-22T00:50:59.626448Z",
     "start_time": "2021-11-22T00:50:59.623262Z"
    }
   },
   "outputs": [],
   "source": [
    "# The default indexing starts from zero\n",
    "print(sales_series.index)\n",
    "\n",
    "# Retrieve the values of the series\n",
    "print(sales_series.values)"
   ]
  },
  {
   "cell_type": "markdown",
   "metadata": {},
   "source": [
    "Like dictionaries, we can access values using `[]`"
   ]
  },
  {
   "cell_type": "code",
   "execution_count": null,
   "metadata": {
    "ExecuteTime": {
     "end_time": "2021-11-22T00:50:59.630940Z",
     "start_time": "2021-11-22T00:50:59.627719Z"
    }
   },
   "outputs": [],
   "source": [
    "# Access the sales values based on index\n",
    "print(sales_series['Ant-Man and the Wasp'])"
   ]
  },
  {
   "cell_type": "code",
   "execution_count": null,
   "metadata": {
    "ExecuteTime": {
     "end_time": "2021-11-22T00:50:59.635404Z",
     "start_time": "2021-11-22T00:50:59.631811Z"
    }
   },
   "outputs": [],
   "source": [
    "# Create a series from a python dict\n",
    "sales_dict = {'Dragon Ball Super: Origin of the Saiyans': 105982,\n",
    "              'Animal World': 108293,\n",
    "              'Avengers: Infinity War': 112178,\n",
    "              'A Quiet Place': 103813,\n",
    "              'Bumblebee': 106562}\n",
    "\n",
    "sales_series_dict = pd.Series(sales_dict)\n",
    "print(sales_series_dict)"
   ]
  },
  {
   "cell_type": "markdown",
   "metadata": {},
   "source": [
    "If we want to concatenate two series together, we can use `pd.concat([LIST OF SERIES], axis='rows')`. If you forgot what **concatenate** is, recall _string concatenation_!"
   ]
  },
  {
   "cell_type": "code",
   "execution_count": null,
   "metadata": {
    "ExecuteTime": {
     "end_time": "2021-11-22T00:50:59.639933Z",
     "start_time": "2021-11-22T00:50:59.636526Z"
    }
   },
   "outputs": [],
   "source": [
    "# Vertically concatenate two series\n",
    "sales_series = pd.concat([sales_series, sales_series_dict], axis='rows')\n",
    "print(sales_series)"
   ]
  },
  {
   "cell_type": "markdown",
   "metadata": {},
   "source": [
    "Here are some operations that we can do (such as filtering the data).\n",
    "- Here, we use `.loc` to *locate* the values that fulfill the conditions. \n",
    "- `.iloc` can also be used which *locates* the *indicies* that correspond to the slice provided"
   ]
  },
  {
   "cell_type": "code",
   "execution_count": null,
   "metadata": {
    "ExecuteTime": {
     "end_time": "2021-11-22T00:50:59.645408Z",
     "start_time": "2021-11-22T00:50:59.641122Z"
    }
   },
   "outputs": [],
   "source": [
    "# Slicing the series using a boolean array operation \n",
    "sales_series.loc[sales_series < 100000]"
   ]
  },
  {
   "cell_type": "code",
   "execution_count": null,
   "metadata": {
    "ExecuteTime": {
     "end_time": "2021-11-22T00:50:59.651938Z",
     "start_time": "2021-11-22T00:50:59.647515Z"
    }
   },
   "outputs": [],
   "source": [
    "# Slicing the series using index range\n",
    "sales_series.loc['Ant-Man and the Wasp':'A Quiet Place']"
   ]
  },
  {
   "cell_type": "code",
   "execution_count": null,
   "metadata": {
    "ExecuteTime": {
     "end_time": "2021-11-22T00:50:59.656910Z",
     "start_time": "2021-11-22T00:50:59.653035Z"
    }
   },
   "outputs": [],
   "source": [
    "# Doubling the values of the series object\n",
    "doubled = sales_series * 2\n",
    "doubled"
   ]
  },
  {
   "cell_type": "code",
   "execution_count": null,
   "metadata": {
    "ExecuteTime": {
     "end_time": "2021-11-22T00:50:59.661430Z",
     "start_time": "2021-11-22T00:50:59.658215Z"
    }
   },
   "outputs": [],
   "source": [
    "# Finding the average value of the series\n",
    "sales_series.mean()"
   ]
  },
  {
   "cell_type": "markdown",
   "metadata": {},
   "source": [
    "## Exercise 1\n",
    "1. Find all movies that sold under 100,000 movie tickets.  \n",
    "_Hint: You may want to use `.loc[]` for this._  \n",
    "\n",
    "\n",
    "2. Find the grand total number of movie tickets sold."
   ]
  },
  {
   "cell_type": "code",
   "execution_count": null,
   "metadata": {
    "ExecuteTime": {
     "end_time": "2021-11-22T00:50:59.664907Z",
     "start_time": "2021-11-22T00:50:59.662921Z"
    }
   },
   "outputs": [],
   "source": [
    "### ANSWER 1 HERE\n"
   ]
  },
  {
   "cell_type": "code",
   "execution_count": null,
   "metadata": {
    "ExecuteTime": {
     "end_time": "2021-11-22T00:50:59.667914Z",
     "start_time": "2021-11-22T00:50:59.665881Z"
    }
   },
   "outputs": [],
   "source": [
    "### ANSWER 2 HERE\n"
   ]
  },
  {
   "cell_type": "markdown",
   "metadata": {},
   "source": [
    "## <u>Concept: Dataframe</u>\n",
    "A DataFrame has both row and column indices like a `series` and contains many useful methods to aid your analysis. \n",
    "- [API reference](https://pandas.pydata.org/pandas-docs/stable/reference/index.html) details all of the functionality provided by `pandas`.  \n",
    "- You will particularly need consult the [DataFrame](https://pandas.pydata.org/pandas-docs/stable/reference/frame.html) reference page.\n",
    "\n",
    "\n",
    "Here's a visualisation of what a DataFrame looks like:\n",
    "![Dataframe](images/dataframe.jpg)"
   ]
  },
  {
   "cell_type": "markdown",
   "metadata": {},
   "source": [
    "### Working with Pandas Dataframe"
   ]
  },
  {
   "cell_type": "code",
   "execution_count": null,
   "metadata": {
    "ExecuteTime": {
     "end_time": "2021-11-22T00:50:59.672406Z",
     "start_time": "2021-11-22T00:50:59.669150Z"
    }
   },
   "outputs": [],
   "source": [
    "tickets_sold_dict =  {'The Kissing Booth': 107512,\n",
    "                        'Between Worlds': 103208,\n",
    "                        'Sicario: Day of the Soldado': 99388,\n",
    "                        'Spider-Man: Into the Spider-Verse': 103838,\n",
    "                        'Ant-Man and the Wasp': 104631, \n",
    "                        'Dragon Ball Super: Origin of the Saiyans': 105982,\n",
    "                        'Animal World': 108293,\n",
    "                        'Avengers: Infinity War': 112178,\n",
    "                        'A Quiet Place': 103813,\n",
    "                        'Bumblebee': 106562}\n",
    "\n",
    "tickets_sold = pd.Series(tickets_sold_dict)"
   ]
  },
  {
   "cell_type": "code",
   "execution_count": null,
   "metadata": {
    "ExecuteTime": {
     "end_time": "2021-11-22T00:50:59.676406Z",
     "start_time": "2021-11-22T00:50:59.673393Z"
    }
   },
   "outputs": [],
   "source": [
    "max_capacity_dict = {'A Quiet Place': 427725,\n",
    "                      'Animal World': 427300,\n",
    "                      'Ant-Man and the Wasp': 429350,\n",
    "                      'Avengers: Infinity War': 424325,\n",
    "                      'Between Worlds': 423375,\n",
    "                      'Bumblebee': 427950,\n",
    "                      'Dragon Ball Super: Origin of the Saiyans': 423225,\n",
    "                      'Sicario: Day of the Soldado': 427950,\n",
    "                      'Spider-Man: Into the Spider-Verse': 428375,\n",
    "                      'The Kissing Booth': 418750}\n",
    "\n",
    "max_capacity = pd.Series(max_capacity_dict)"
   ]
  },
  {
   "cell_type": "code",
   "execution_count": null,
   "metadata": {
    "ExecuteTime": {
     "end_time": "2021-11-22T00:50:59.684433Z",
     "start_time": "2021-11-22T00:50:59.677559Z"
    }
   },
   "outputs": [],
   "source": [
    "# create a DataFrame object from the series objects\n",
    "sales_df = pd.DataFrame({'tickets_sold': tickets_sold, \n",
    "                         'max_capacity': max_capacity})\n",
    "sales_df"
   ]
  },
  {
   "cell_type": "markdown",
   "metadata": {},
   "source": [
    "As you can see, a DataFrame is essentially made up of several `series` (i.e columns or features)."
   ]
  },
  {
   "cell_type": "code",
   "execution_count": null,
   "metadata": {
    "ExecuteTime": {
     "end_time": "2021-11-22T00:50:59.688986Z",
     "start_time": "2021-11-22T00:50:59.685604Z"
    }
   },
   "outputs": [],
   "source": [
    "# access a specific column (like dict[key])\n",
    "sales_df['tickets_sold']"
   ]
  },
  {
   "cell_type": "code",
   "execution_count": null,
   "metadata": {
    "ExecuteTime": {
     "end_time": "2021-11-22T00:50:59.695423Z",
     "start_time": "2021-11-22T00:50:59.690183Z"
    }
   },
   "outputs": [],
   "source": [
    "# find movies which did not sell 100k tickets\n",
    "sales_df.loc[sales_df['tickets_sold'] < 100000]"
   ]
  },
  {
   "cell_type": "markdown",
   "metadata": {},
   "source": [
    "**Question: What do you notice about the order of the movies?**"
   ]
  },
  {
   "cell_type": "markdown",
   "metadata": {},
   "source": []
  },
  {
   "cell_type": "markdown",
   "metadata": {},
   "source": [
    "## Reading CSV's using Pandas\n",
    "To read CSV's using `pandas`, it is as simple as `pd.read_csv(filename)`.\n",
    "\n",
    "Here, we will use the `df.head()` method which displays the first 5 rows by default. Correspondingly, the `df.tail()` method displays the last 5 rows by default. You can specify more/less rows by adding in the number as an argument."
   ]
  },
  {
   "cell_type": "code",
   "execution_count": null,
   "metadata": {
    "ExecuteTime": {
     "end_time": "2021-11-22T00:50:59.703903Z",
     "start_time": "2021-11-22T00:50:59.696489Z"
    }
   },
   "outputs": [],
   "source": [
    "# create a DataFrame from a csv file\n",
    "total_sales = pd.read_csv('week1_booking_summary.csv')\n",
    "total_sales.head(10)"
   ]
  },
  {
   "cell_type": "markdown",
   "metadata": {},
   "source": [
    "## Exercise 2\n",
    "Count the number of movies in each classification. \n",
    "\n",
    "Hint: Try to search up _\"pandas count values in dataframe\"_"
   ]
  },
  {
   "cell_type": "code",
   "execution_count": null,
   "metadata": {
    "ExecuteTime": {
     "end_time": "2021-11-22T00:50:59.706906Z",
     "start_time": "2021-11-22T00:50:59.704918Z"
    }
   },
   "outputs": [],
   "source": [
    "### ANSWER HERE\n"
   ]
  },
  {
   "cell_type": "markdown",
   "metadata": {},
   "source": [
    "We will now set the `movie_name` as our index.\n",
    "\n",
    "**Question: Why would we want to set the name of the movie as the index?**"
   ]
  },
  {
   "cell_type": "markdown",
   "metadata": {},
   "source": []
  },
  {
   "cell_type": "code",
   "execution_count": null,
   "metadata": {
    "ExecuteTime": {
     "end_time": "2021-11-22T00:50:59.714908Z",
     "start_time": "2021-11-22T00:50:59.707905Z"
    }
   },
   "outputs": [],
   "source": [
    "# set the name of movie as the index\n",
    "total_sales = total_sales.set_index('movie_name')\n",
    "total_sales"
   ]
  },
  {
   "cell_type": "markdown",
   "metadata": {},
   "source": [
    "## Exercise 3\n",
    "1. Calculate the occupancy rate for each movie. The occupancy rate is the number of tickets sold divided by the max capacity. Output this to a `'occupancy_rate'` column. Round the result to two decimal places using the `round()` function.\n",
    "\n",
    "2. Return only the `classification` and `'occupancy_rate'` of `'Ralph Breaks the Internet'` \n",
    "\n",
    "3. Get data row (known as an *instance*) of the movie with the highest number of tickets sold. You may want to sort your values first using `df.sort_values(by=COLUMN)`\n",
    "\n",
    "4. Find the subset of movies that have a `PG` classification."
   ]
  },
  {
   "cell_type": "code",
   "execution_count": null,
   "metadata": {
    "ExecuteTime": {
     "end_time": "2021-11-22T00:50:59.717927Z",
     "start_time": "2021-11-22T00:50:59.715998Z"
    }
   },
   "outputs": [],
   "source": [
    "### ANSWER 1 HERE\n"
   ]
  },
  {
   "cell_type": "code",
   "execution_count": null,
   "metadata": {
    "ExecuteTime": {
     "end_time": "2021-11-22T00:50:59.720935Z",
     "start_time": "2021-11-22T00:50:59.719120Z"
    }
   },
   "outputs": [],
   "source": [
    "### ANSWER 2 HERE\n"
   ]
  },
  {
   "cell_type": "code",
   "execution_count": null,
   "metadata": {
    "ExecuteTime": {
     "end_time": "2021-11-22T00:50:59.723913Z",
     "start_time": "2021-11-22T00:50:59.721954Z"
    }
   },
   "outputs": [],
   "source": [
    "### ANSWER 3 HERE\n"
   ]
  },
  {
   "cell_type": "code",
   "execution_count": null,
   "metadata": {
    "ExecuteTime": {
     "end_time": "2021-11-22T00:50:59.727037Z",
     "start_time": "2021-11-22T00:50:59.724982Z"
    }
   },
   "outputs": [],
   "source": [
    "### ANSWER 4 HERE\n"
   ]
  },
  {
   "cell_type": "markdown",
   "metadata": {},
   "source": [
    "### Advanced: Sort the data over multiple columns\n",
    "To sort values over multiple columns, you can pass through a `list` of columns (in order) to the `by=` argument.\n",
    "\n",
    "Here's an example of sorting by:\n",
    "1. Classification ascending\n",
    "2. Occupancy rate descending\n",
    "3. Tickets sold descending"
   ]
  },
  {
   "cell_type": "code",
   "execution_count": null,
   "metadata": {
    "ExecuteTime": {
     "end_time": "2021-11-22T00:50:59.842403Z",
     "start_time": "2021-11-22T00:50:59.728334Z"
    }
   },
   "outputs": [],
   "source": [
    "total_sales.sort_values(['classification', 'occupancy_rate', 'tickets_sold'],\n",
    "                       ascending=[True, False, False]).drop(['max_capacity'], axis='columns')"
   ]
  },
  {
   "cell_type": "markdown",
   "metadata": {},
   "source": [
    "## <u>Concept: Group by</u>\n",
    "The `groupby` method lets you separate the data into different groups based off shared characteristics (akin to `itertools.groupby`). For example, we could group countries by region or income range, then analyse those groups individually.  \n",
    "\n",
    "The official documentation on groupby can be found [here](https://pandas.pydata.org/pandas-docs/stable/user_guide/groupby.html). [This tutorial](https://www.marsja.se/python-pandas-groupby-tutorial-examples/) is also well worth reading.\n",
    "\n",
    "\n",
    "Here's an example of finding the total number of tickets sold for each classification."
   ]
  },
  {
   "cell_type": "code",
   "execution_count": null,
   "metadata": {
    "ExecuteTime": {
     "end_time": "2021-11-22T00:50:59.846610Z",
     "start_time": "2021-11-22T00:50:59.846601Z"
    }
   },
   "outputs": [],
   "source": [
    "total_sales.groupby('classification')['tickets_sold'].sum()"
   ]
  },
  {
   "cell_type": "markdown",
   "metadata": {},
   "source": [
    "## Exercise 4\n",
    "1. How many movies are there in each classification category? Think of key search terms such as \"size\" or \"count\".\n",
    "\n",
    "2. Then, for each category, what is the `mean` number of tickets sold?"
   ]
  },
  {
   "cell_type": "code",
   "execution_count": null,
   "metadata": {
    "ExecuteTime": {
     "end_time": "2021-11-22T00:50:59.847503Z",
     "start_time": "2021-11-22T00:50:59.847494Z"
    }
   },
   "outputs": [],
   "source": [
    "### ANSWER 1 HERE\n"
   ]
  },
  {
   "cell_type": "code",
   "execution_count": null,
   "metadata": {
    "ExecuteTime": {
     "end_time": "2021-11-22T00:50:59.848047Z",
     "start_time": "2021-11-22T00:50:59.848037Z"
    }
   },
   "outputs": [],
   "source": [
    "### ANSWER 2 HERE\n"
   ]
  },
  {
   "cell_type": "markdown",
   "metadata": {},
   "source": [
    "Finally, an advanced use case of groupby. Here, we are:\n",
    "- Getting the max capacity possible for the classification;\n",
    "- the average number of tickets sold for the classification;\n",
    "- and the average occupancy rate.\n",
    "\n",
    "The syntax for this is a dictionary using the `.agg()` method where the:\n",
    "- `key` corresponds to the column\n",
    "- `value` corresponds to the type of aggregation\n",
    "\n",
    "View more here: https://pandas.pydata.org/pandas-docs/stable/reference/api/pandas.DataFrame.agg.html"
   ]
  },
  {
   "cell_type": "code",
   "execution_count": null,
   "metadata": {
    "ExecuteTime": {
     "end_time": "2021-11-22T00:50:59.848675Z",
     "start_time": "2021-11-22T00:50:59.848666Z"
    }
   },
   "outputs": [],
   "source": [
    "total_sales.groupby('classification').agg({'max_capacity': 'max', 'tickets_sold': 'mean', 'occupancy_rate': 'mean'})"
   ]
  },
  {
   "cell_type": "markdown",
   "metadata": {},
   "source": [
    "# Challenge questions\n",
    "\n",
    "Some questions require use of functions or methods not covered in this tutorial, and some questions are open-ended (no fixed answer, depending on their arguments). We have provided this to give students a chance to get used to searching up the documentation."
   ]
  },
  {
   "cell_type": "markdown",
   "metadata": {},
   "source": [
    "1. Suppose that the average purchase price per ticket is `$22.00`, what's the average dollar sales for `MA15+` movies? Compared this to the median dollar sales for `M`-rated movies.\n",
    "\n",
    "2. How many movies have a title that begins with `\"T\"`? \n",
    "\n",
    "3. How many movies have a below-average occupancy rate in each classification category?"
   ]
  },
  {
   "cell_type": "code",
   "execution_count": null,
   "metadata": {
    "ExecuteTime": {
     "end_time": "2021-11-22T00:50:59.850415Z",
     "start_time": "2021-11-22T00:50:59.850403Z"
    }
   },
   "outputs": [],
   "source": [
    "### ANSWER 1 HERE\n"
   ]
  },
  {
   "cell_type": "code",
   "execution_count": null,
   "metadata": {
    "ExecuteTime": {
     "end_time": "2021-11-22T00:50:59.851206Z",
     "start_time": "2021-11-22T00:50:59.851197Z"
    }
   },
   "outputs": [],
   "source": [
    "### ANSWER 2 HERE\n"
   ]
  },
  {
   "cell_type": "code",
   "execution_count": null,
   "metadata": {
    "ExecuteTime": {
     "end_time": "2021-11-22T00:50:59.852242Z",
     "start_time": "2021-11-22T00:50:59.852231Z"
    }
   },
   "outputs": [],
   "source": [
    "### ANSWER 3 HERE\n"
   ]
  }
 ],
 "metadata": {
  "kernelspec": {
   "display_name": "Python 3 (ipykernel)",
   "language": "python",
   "name": "python3"
  },
  "language_info": {
   "codemirror_mode": {
    "name": "ipython",
    "version": 3
   },
   "file_extension": ".py",
   "mimetype": "text/x-python",
   "name": "python",
   "nbconvert_exporter": "python",
   "pygments_lexer": "ipython3",
   "version": "3.8.10"
  },
  "latex_envs": {
   "LaTeX_envs_menu_present": true,
   "autoclose": false,
   "autocomplete": true,
   "bibliofile": "biblio.bib",
   "cite_by": "apalike",
   "current_citInitial": 1,
   "eqLabelWithNumbers": true,
   "eqNumInitial": 1,
   "hotkeys": {
    "equation": "Ctrl-E",
    "itemize": "Ctrl-I"
   },
   "labels_anchors": false,
   "latex_user_defs": false,
   "report_style_numbering": false,
   "user_envs_cfg": false
  },
  "toc": {
   "base_numbering": 1,
   "nav_menu": {},
   "number_sections": true,
   "sideBar": true,
   "skip_h1_title": false,
   "title_cell": "Table of Contents",
   "title_sidebar": "Contents",
   "toc_cell": false,
   "toc_position": {},
   "toc_section_display": true,
   "toc_window_display": false
  },
  "varInspector": {
   "cols": {
    "lenName": 16,
    "lenType": 16,
    "lenVar": 40
   },
   "kernels_config": {
    "python": {
     "delete_cmd_postfix": "",
     "delete_cmd_prefix": "del ",
     "library": "var_list.py",
     "varRefreshCmd": "print(var_dic_list())"
    },
    "r": {
     "delete_cmd_postfix": ") ",
     "delete_cmd_prefix": "rm(",
     "library": "var_list.r",
     "varRefreshCmd": "cat(var_dic_list()) "
    }
   },
   "types_to_exclude": [
    "module",
    "function",
    "builtin_function_or_method",
    "instance",
    "_Feature"
   ],
   "window_display": false
  }
 },
 "nbformat": 4,
 "nbformat_minor": 4
}
