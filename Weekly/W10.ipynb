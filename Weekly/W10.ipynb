{
 "cells": [
  {
   "cell_type": "markdown",
   "metadata": {},
   "source": [
    "# Readability Counts"
   ]
  },
  {
   "cell_type": "markdown",
   "metadata": {},
   "source": [
    "So far we have thought of a program as a list of instructions only for a computer.\n",
    "\n",
    "Apart from figuring out *what* instructions to give the computer (the kind of 'problem solving' we have been practising in this subject), telling a computer to do something is really very simple: we write the instructions, and as long as we use valid Python syntax, the computer will very quickly and precisely be able to read and follow these instructions.\n",
    "\n",
    "While learning to program, it's easy to focus on just *writing* code, and to forget that code isn't just written for computers to read and follow---*programmers* often have to read code, too:\n",
    "\n",
    "* Programmers will probably need to read code written by others in order to use it to help solve their problem or to better understand a programming concept.\n",
    "* Programmers working in teams will also need to read code written by their colleagues when they work together to solve a problem.\n",
    "* Programmers will inevitably need to read *their own code* after writing it, maybe after a long time---to change the program or fix a problem, to re-use the code to help solve a new problem, or just to continue working on the same problem.\n",
    "\n",
    "Indeed, it is said that:\n",
    "\n",
    "<center>\n",
    "    <b>Code is read more times than it is written.</b>\n",
    "</center>\n",
    "<br>\n",
    "\n",
    "We write a piece of code once, but that code may be read many times after it is written; by the person who wrote the code, or by others who are working with them or with their program.\n",
    "\n",
    "Compared to computers, it's a lot harder and slower for a human to load a piece of code into their brain---the complex, multi-layered ideas that play out across a program are difficult for a human to grasp without significant time and effort.\n",
    "\n",
    "As a result, it's *incredibly* important that we write code that is **readable**. **Readable** code is code that is as easy as possible for other programmers to read *and understand*. We need to take steps when writing our code to make sure that the flow of the program, and the ideas and steps used to solve the problem, are laid out clearly for the reader to see.\n",
    "\n"
   ]
  },
  {
   "cell_type": "markdown",
   "metadata": {},
   "source": [
    "# Commenting"
   ]
  },
  {
   "cell_type": "markdown",
   "metadata": {},
   "source": [
    "A fundamentally important part of writing readable programs is including helpful **comments** in the program's code.\n",
    "\n",
    "**Comments** are parts of a program written in natural language. They don't help the computer understand the program (in fact, comments are completely ignored by the computer when it is running a program). They are there only for programmers who are reading the program.\n",
    "\n",
    "---\n",
    "\n",
    "In Python, a comment is created by inserting the `#` character (number sign/hash symbol). After the `#` everything else on that line of code will be considered part of the comment and ignored by the computer.\n",
    "\n",
    "Comments can be the only thing on a line of a program:\n"
   ]
  },
  {
   "cell_type": "code",
   "execution_count": null,
   "metadata": {},
   "outputs": [],
   "source": [
    "# A friendly greeting\n",
    "print(\"Hello, world!\")"
   ]
  },
  {
   "cell_type": "markdown",
   "metadata": {},
   "source": [
    "\n",
    "Or there can be code on a line, before a comment starts:\n"
   ]
  },
  {
   "cell_type": "code",
   "execution_count": null,
   "metadata": {},
   "outputs": [],
   "source": [
    "print(\"Hello, world!\") # A friendly greeting"
   ]
  },
  {
   "cell_type": "markdown",
   "metadata": {},
   "source": [
    "\n",
    "But we can't run any code on a line *after* the `#`. After the `#`, all remaining code will be considered part of the comment, and it will be ignored. There is no way to *end* a Python comment on a line once it has started.\n"
   ]
  },
  {
   "cell_type": "code",
   "execution_count": null,
   "metadata": {},
   "outputs": [],
   "source": [
    "# A friendly greeting print(\"Hello, world!\")"
   ]
  },
  {
   "cell_type": "markdown",
   "metadata": {},
   "source": [
    "\n",
    "> ## Comments and strings\n",
    "> \n",
    "> Actually, including a `#` symbol won't *always* turn the rest of the line into a comment. It's safe to use this symbol *inside a string*---there, it will just be treated as a `#` symbol.\n",
    "> "
   ]
  },
  {
   "cell_type": "markdown",
   "metadata": {},
   "source": [
    "```python\n",
    "print(\"Hello, world! # A friendly greeting\")\n",
    "```"
   ]
  },
  {
   "cell_type": "code",
   "execution_count": null,
   "metadata": {},
   "outputs": [],
   "source": [
    "# Try running the last example here"
   ]
  },
  {
   "cell_type": "markdown",
   "metadata": {},
   "source": [
    "# When to Comment"
   ]
  },
  {
   "cell_type": "markdown",
   "metadata": {},
   "source": [
    "Adding a comment to a Python program is easy. Adding a *helpful* comment to a Python program to make the program more readable? That's *not* easy.\n",
    "\n",
    "Learning to use comments to make programs more readable takes practice. It also takes time, and exposure to examples of well-written, well-commented, readable code.\n",
    "\n",
    "However, some guiding principles can help us get started writing helpful comments and making our programs more readable. Here's the first, concerning how to decide **when to comment** in a program:\n",
    "\n",
    "<center>\n",
    "   <b>A comment for every 'step' towards solving the problem.</b>\n",
    "</center><br>\n",
    "\n",
    "That is, you should group related lines of code together into one or more 'steps', each taking a significant step towards solving the problem. Then, every step should have a comment to help a reader identify and understand it.\n",
    "\n",
    "With a comment for each high-level step like this, a reader can scan the comments to get an overview of the program, and focus their attention only on the steps they are interested in.\n",
    "\n",
    "Without a comment for each step, the reader has to discover the steps as they are reading the code. If they are only interested in a particular part of the program, they have to carefully read every line all the way from the beginning of the program to figure out where it starts.\n",
    "\n",
    "> ## Ask yourself\n",
    "> \n",
    "> If you removed all of the code from your program and left only the comments, could you still understand the program's approach to solving the problem?\n"
   ]
  },
  {
   "cell_type": "markdown",
   "metadata": {},
   "source": [
    "# What to Say"
   ]
  },
  {
   "cell_type": "markdown",
   "metadata": {},
   "source": [
    "Once we decide which parts of a program to explain with comments, we still have to decide what we will actually put into the comment. The choice we make here can be the difference between comments that are helpful and comments that are useless (or worse).\n",
    "\n",
    "Here's another guiding principle about adding helpful comments to a program, concerning how to decide **what to say** in a comment:\n",
    "\n",
    "<center>\n",
    "    <b>Say <i>why</i>, not <i>how</i>.</b>\n",
    "</center><br>\n",
    "\n",
    "That is, you should use comments to explain *the idea* behind what your code is doing, not *the details* of how it does that.\n",
    "\n",
    "You can assume that the people reading your code are familiar with the programming language you are using. So, they will already be able to see *how* your program works by reading the code. Comments explaining these details can actually distract from the code. Or worse, they can accidentally *contradict* the code! Either way, they can actually make it *harder* for the reader to understand the code, not easier.\n",
    "\n",
    "The part of a program that is difficult for a reader to grasp is not the details, but the 'bigger picture': *why* is the program doing some thing, and where does this fit into the overall approach to solving the problem?\n",
    "These are the questions comments should help the reader to answer.\n",
    "\n",
    "> ## Ask yourself\n",
    "> \n",
    "> Before you figured out how to solve the problem, what would you have needed to hear to understand the solution?\n"
   ]
  },
  {
   "cell_type": "markdown",
   "metadata": {},
   "source": [
    "# Problem: Constant Commentary"
   ]
  },
  {
   "cell_type": "markdown",
   "metadata": {},
   "source": [
    "Below is the program for validating algebraic chess notation.\n",
    "\n",
    "Comments have been added in an attempt to make the program more readable (initially, there were no comments).\n"
   ]
  },
  {
   "cell_type": "markdown",
   "metadata": {},
   "source": [
    "```python\n",
    "# Ask the user to input a position\n",
    "position = input(\"Enter a position: \")\n",
    "\n",
    "# Check the length of the position\n",
    "if len(position) == 2:\n",
    "    # If the length of the position is 2\n",
    "    file = position[0] # get the first character\n",
    "    rank = position[1] # get the second character\n",
    "    # check whether the rank is in 1-8 and the file in a-h\n",
    "    # (make sure to lower-case the file first incase it is\n",
    "    # a capital letter)\n",
    "    if rank in \"12345678\" and file.lower() in \"abcdefgh\":\n",
    "        # this rank and file is okay!\n",
    "        print(\"Okay!\", file, rank) # print it to the user\n",
    "    else:\n",
    "        # this rank and file is not okay!\n",
    "        print(\"Invalid file or rank\") # print it to the user\n",
    "else:\n",
    "    # Else, the length is invalid\n",
    "    print(\"Error! Invalid length.\") # print it to the user\n",
    "```"
   ]
  },
  {
   "cell_type": "markdown",
   "metadata": {},
   "source": [
    "\n",
    "Select the one or more statements from below that correctly describe the commenting of this program.\n",
    "\n",
    "- The comments do a good job of explaining 'why' the program is written this way. They make the overall approach to solving the problem clear.\n",
    "- The large number of comments distracts from the understanding of the program; they actually make it less readable.\n",
    "- The comments are helpful because they explain every step of the program in a high level of detail. Readers will appreciate the level of detail because it helps to understand the code.\n",
    "- The comments are unhelpful because they only explain the obvious: each comment contains information that could have been gained just by reading the code."
   ]
  },
  {
   "cell_type": "code",
   "execution_count": null,
   "metadata": {},
   "outputs": [],
   "source": []
  },
  {
   "cell_type": "markdown",
   "metadata": {},
   "source": [
    "# Problem: Speaks for Itself"
   ]
  },
  {
   "cell_type": "markdown",
   "metadata": {},
   "source": [
    "Below is the program for analysing political speeches.\n",
    "\n",
    "Comments have been added in an attempt to make the program more readable (initially, there were no comments).\n"
   ]
  },
  {
   "cell_type": "markdown",
   "metadata": {},
   "source": [
    "```python\n",
    "def analyse(speech):\n",
    "    # first, we'll break the speech into a list of words\n",
    "    # (including punctuation) and count these words\n",
    "    raw_words = speech.split()\n",
    "    print(\"Length of speech:\", len(raw_words))\n",
    "\n",
    "    # next, we'll remove punctuation from the raw words\n",
    "    words = []\n",
    "    for raw_word in raw_words:\n",
    "        word = raw_word.lower().strip(',.!?\"\\'-;:')\n",
    "        words.append(word)\n",
    "\n",
    "    # and find the number of unique words (remove duplicates)\n",
    "    set_words = set(words)\n",
    "    print(\"Unique words:\", len(set_words))\n",
    "\n",
    "    # finally, we want to count the uses of each unique word\n",
    "    word_counts = {}\n",
    "    for word in set_words:\n",
    "        word_counts[word] = 0\n",
    "    for word in words:\n",
    "        word_counts[word] = word_counts[word] + 1\n",
    "\n",
    "    # now we can look inside this dictionary to see how\n",
    "    # many times certain words were used in the speech\n",
    "    print(\"How many mentions of 'America': \", word_counts[\"america\"])\n",
    "```"
   ]
  },
  {
   "cell_type": "markdown",
   "metadata": {},
   "source": [
    "\n",
    "Select the one or more statements from below that correctly describe the commenting of this program.\n",
    "\n",
    "- The comments are clear and helpful, but there could be more detail. Readers will appreciate extra detail on each individual line, for example, explaining the effect of the split() method to break the speech up into a list of words.\n",
    "- The parts of the program are grouped together into several, high-level 'steps', and the comments give a good overview of the meaning of each step. By reading the comments (and ignoring the code), we can get a good sense of how the program solves the problem.\n",
    "- The comments do a good job of explaining 'why' the program is written this way, rather than just repeating the information in the code itself.\n",
    "- The large number of comments distracts from the understanding of the program; they actually make it less readable."
   ]
  },
  {
   "cell_type": "code",
   "execution_count": null,
   "metadata": {},
   "outputs": [],
   "source": []
  },
  {
   "cell_type": "markdown",
   "metadata": {},
   "source": [
    "# Commenting Functions"
   ]
  },
  {
   "cell_type": "markdown",
   "metadata": {},
   "source": [
    "When we write a function, we're creating a \"black box\" which takes some input, does some process and returns some output. When using a function we wrote, we know exactly what input to give and exactly what it will do, but what about when someone else uses our function?\n",
    "\n",
    "Just as code needs comments, our functions do too. For functions it's conventional to write a block of comments under the function definition and encased in `'''`triple quotes`'''`. This is called a **docstring** and is a requirement for each function you write in projects for this subject.\n",
    "\n",
    "Below is an example of a function `ave_len()` which has a doctstring.\n"
   ]
  },
  {
   "cell_type": "markdown",
   "metadata": {},
   "source": [
    "```python\n",
    "def ave_len(words):\n",
    "    \"\"\" \n",
    "    Accepts a sequence of strings as input and returns\n",
    "    the average length of strings in that sequence as a float.\n",
    "    \"\"\"\n",
    "    count = 0\n",
    "    for word in words:\n",
    "        count += len(word)\n",
    "    return count / len(words)\n",
    "```    "
   ]
  },
  {
   "cell_type": "markdown",
   "metadata": {},
   "source": [
    "\n",
    "When you write docstrings, remember that they need to convey: (1) what the inputs to the function are; (2) what the function does; and (3) what the return value is. See if you can identify those three things in the following example.\n"
   ]
  },
  {
   "cell_type": "markdown",
   "metadata": {},
   "source": [
    "```python\n",
    "def shuffle(my_list):\n",
    "    \"\"\" \n",
    "    Accepts a list of integers as input and mutates\n",
    "    it by swapping values at index 2 and 3. Returns the\n",
    "    sum of the two swapped integers.\n",
    "    \"\"\"\n",
    "    temp = my_list[3] \n",
    "    my_list[3] = my_list[2]\n",
    "    my_list[2] = temp\n",
    "    return my_list[2] + my_list[3]\n",
    "```    "
   ]
  },
  {
   "cell_type": "markdown",
   "metadata": {},
   "source": [
    "\n",
    "In more complex, longer functions, you won't be able to go into as much detail because docstrings shouldn't be lines and lines long, but try to give an overview of the function which would help someone attempting to use it.\n",
    "\n",
    "> ## `help()`\n",
    "> One benefit of a docstring is that you can access it whenever you want by supplying the function name to the `help()` function. Try it with some of the in-built functions you've used so far. Warning: like all documentation, the `help()` pages can get pretty long and technical!"
   ]
  },
  {
   "cell_type": "markdown",
   "metadata": {},
   "source": [
    "```python\n",
    "def my_func():\n",
    "    \"\"\" This function does nothing. \"\"\"\n",
    "    help(my_func)\n",
    "```    "
   ]
  },
  {
   "cell_type": "code",
   "execution_count": null,
   "metadata": {},
   "outputs": [],
   "source": [
    "# Try running the last example here"
   ]
  },
  {
   "cell_type": "markdown",
   "metadata": {},
   "source": [
    "## Important Differences between Docstrings vs Comments\n",
    "It's important to take note that a docstring and comment is not equal.\n",
    "\n",
    "For example:\n",
    "```python\n",
    "def ave_len(words):\n",
    "    \"\"\" \n",
    "    Accepts a sequence of strings as input and returns\n",
    "    the average length of strings in that sequence as a float.\n",
    "    \"\"\"\n",
    "    count = 0\n",
    "    for word in words:\n",
    "        count += len(word)\n",
    "    return count / len(words)\n",
    "```\n",
    "\n",
    "is not the same as\n",
    "```python\n",
    "def ave_len(words):\n",
    "    # Accepts a sequence of strings as input and returns\n",
    "    # the average length of strings in that sequence as a float.\n",
    "    count = 0\n",
    "    for word in words:\n",
    "        count += len(word)\n",
    "    return count / len(words)\n",
    "```\n",
    "\n",
    "We won't go into too much detail about it now (covered later in the semester), but multi-line comments are not docstrings. Please keep this in mind!"
   ]
  },
  {
   "cell_type": "markdown",
   "metadata": {},
   "source": [
    "# Program Spectacular"
   ]
  },
  {
   "cell_type": "markdown",
   "metadata": {},
   "source": [
    "Comments are important for communicating the intent of our code. But there are other things that make reading a program difficult.\n",
    "\n",
    "A running program is a *spectacular* involving many parts moving around in elaborate ways:\n",
    "\n",
    "* Many, possibly nested, control flow structures will divert the program this way and that way.\n",
    "* Various functions will be defined and repeatedly called, redirecting our attention around the program.\n",
    "* A large cast of objects (some simple values and some complex collections of multiple other objects) will be created, assigned to variables, possibly mutated, and used in other calculations.\n",
    "\n",
    "In any one part of a program's code, we are seeing a 'freeze frame' of the ongoing interactions between these many parts that occur when the program runs.\n",
    "\n",
    "<br>\n",
    "\n",
    "Part of understanding a program is looking at a piece of code and figuring out what is actually going on when this code runs. Anything we can do to make this task a little easier will increase the readability of the program.\n",
    "\n",
    "One strategy is to use code comments to clarify what is going on. The role of each variable, each function, each operation, each control flow construct, can be explained with a simple comment whenever it appears in the code. That way, the programmer doesn't have to trace through the entire program up to a particular point just to understand what significance each piece holds.\n",
    "\n",
    "However, we know that adding too many comments to our code might actually make it harder to read! Luckily, there's another tool we can use to increase the readability of our code without resorting to over-commenting. To find out, move on to the next slide. Don't wait for us---just go! Onwards!"
   ]
  },
  {
   "cell_type": "markdown",
   "metadata": {},
   "source": [
    "# Names have Power"
   ]
  },
  {
   "cell_type": "markdown",
   "metadata": {},
   "source": [
    "The tool we can use to increase the readability of our programs is actually something we have been using all along: *names*.\n",
    "\n",
    "Whenever we define a function or variable we have a chance to choose a name for it. Later, when we want to use a variable or call a function in our program, we have to use this name.\n",
    "\n",
    "The name appears *everywhere* in the code where the function or variable plays a role: first at the definition, and also at every use. Therefore, we should take this opportunity to choose a good name: we will be controlling how this piece of our program appears to any programmers reading our code.\n",
    "\n",
    "<br>\n",
    "\n",
    "Ideally, a reader should be able to understand the role a function or variable plays in a piece of code instantly, just by looking at the name. No extra comments should be required!\n",
    "\n",
    "The following are some tips for choosing good function and variable names.\n",
    "\n",
    "* Meaningful, not generic. It makes the **purpose of the variable** and its value in the program, or the **action performed by the function** immediately clear.\n",
    "\n",
    "    For example:\n",
    "\n",
    "    * Store a user's name in a variable called `name`, not a generic name like `string` or `value`.\n",
    "    * Store a list of the colour-values of nearby pixels in `nearby_colour_values` or `nearby_values`, not just `my_list` (or even worse: `a`).\n",
    "\n",
    "* Obvious, not obscure. Avoid making your own abbreviations; the **meaning of the name** should be immediately clear.\n",
    "\n",
    "    For example:\n",
    "\n",
    "    * Store a user's name in a variable called `name`, not an abbreviated name like `nm` or `n` or something else.\n",
    "    * Store an image object in a variable called `image` (or something even more specific to the problem, like `original_image`) rather than `im` or `i`.\n",
    "    * Store the a colour-to-be-highlighted in a variable called `highlight_colour`, not `hc` or `h`.\n",
    "    * Call your function `average()`, `mean()`, or, if you must, `avg()`, but not `av()` or `a()`.\n",
    "\n",
    "    Some common abbreviations are acceptable (for example, `max_speed()` instead of `maximum_speed()`) but abbreviations should typically be avoided.\n",
    "\n",
    "Importantly, you **should not** use one-letter variable or function names, apart from conventions understood by all programmers (such as the names of loop variables in range-based `for` loops) or in mathematical contexts (such as using `x` and `y` to store coordinates).\n"
   ]
  },
  {
   "cell_type": "markdown",
   "metadata": {},
   "source": [
    "# Problem: Product Naming"
   ]
  },
  {
   "cell_type": "markdown",
   "metadata": {},
   "source": [
    "Below is a short function written without comments.\n"
   ]
  },
  {
   "cell_type": "markdown",
   "metadata": {},
   "source": [
    "```python\n",
    "def product(a):\n",
    "    tot = 1\n",
    "    for i in a:\n",
    "        if i:\n",
    "            tot *= i\n",
    "return tot\n",
    "```"
   ]
  },
  {
   "cell_type": "markdown",
   "metadata": {},
   "source": [
    "\n",
    "Select the one or more statements from below that correctly describe the readability of this program.\n",
    "\n",
    "- Because the function is so short, if the variable names were clearer, there might not be any need for comments to describe what's going on.\n",
    "- The function name product could be made more specific. This would make its exact behaviour more clear in parts of the program where it is called.\n",
    "- Because the function is so short, it's easy enough to figure out what's going on even though the variable names are not clear and there are no comments.\n",
    "- The short names i, a, tot are helpful because they make the function shorter and faster to write. They don't affect readability because they only appear inside the function."
   ]
  },
  {
   "cell_type": "code",
   "execution_count": null,
   "metadata": {},
   "outputs": [],
   "source": []
  },
  {
   "cell_type": "markdown",
   "metadata": {},
   "source": [
    "# Problem: Broken Promises"
   ]
  },
  {
   "cell_type": "markdown",
   "metadata": {},
   "source": [
    "Promise you will not use one-letter variable or function names in your assignments (apart from conventions understood by all programmers, such as the names of loop variables in range-based `for` loops, or in mathematical contexts such as using `x` and `y` to store coordinates).\n",
    "\n",
    "- I promise I will not use one-letter variable or function names in my assignments (apart from conventions understood by all programmers, such as the names of loop variables in range-based for loops, or in mathematical contexts such as using x and y to store coordinates).\n",
    "- No."
   ]
  },
  {
   "cell_type": "code",
   "execution_count": null,
   "metadata": {},
   "outputs": [],
   "source": []
  },
  {
   "cell_type": "markdown",
   "metadata": {},
   "source": [
    "# Problem: Function Investigation"
   ]
  },
  {
   "cell_type": "markdown",
   "metadata": {},
   "source": [
    "Below are some attempts at writing a function to find the shortest string in a list of strings.\n",
    "\n",
    "Unfortunately, three out of the four functions will not return the correct answer. The mistakes would be easy to spot if the progams were written with good variable names, because they all involve a clear error in programming logic. However, these functions have been written using poor choices of variable names (well, at least one of the four programs has some comments to help!).\n",
    "\n",
    "Your task is to find the working function among them. Read these functions carefully (investigating the purpose and value of each variable) and select the working function."
   ]
  },
  {
   "cell_type": "markdown",
   "metadata": {},
   "source": [
    "```python\n",
    "def min_by_len(words):\n",
    "    ln = len(words[0])\n",
    "    w = words[0]\n",
    "    for w2 in words:\n",
    "        # if the new length is smaller\n",
    "        if ln < len(w2):\n",
    "            # hold onto this new w2\n",
    "            w2 = w\n",
    "            ln = len(w2)\n",
    "    return w\n",
    "```    "
   ]
  },
  {
   "cell_type": "markdown",
   "metadata": {},
   "source": [
    "```python\n",
    "def min_by_len(words):\n",
    "    ln = len(words[0])\n",
    "    w = words[0]\n",
    "    for w2 in words:\n",
    "        if len(w2) < ln:\n",
    "            ln = len(w2)\n",
    "            w = w2\n",
    "    return w\n",
    "```      "
   ]
  },
  {
   "cell_type": "markdown",
   "metadata": {},
   "source": [
    "```python\n",
    "def min_by_len(words):\n",
    "    ln = len(words[0])\n",
    "    w = words[0]\n",
    "    for w2 in words:\n",
    "        if len(w2) < ln:\n",
    "            ln = len(w2)\n",
    "            w = w2\n",
    "    return ln\n",
    "```      "
   ]
  },
  {
   "cell_type": "markdown",
   "metadata": {},
   "source": [
    "```python\n",
    "def min_by_len(words):\n",
    "    ln = len(words[0])\n",
    "    w = words[0]\n",
    "    for w2 in words:\n",
    "        if len(w2) < ln:\n",
    "            w2 = w\n",
    "            ln = len(w2)\n",
    "    return w\n",
    "```      "
   ]
  },
  {
   "cell_type": "markdown",
   "metadata": {},
   "source": [
    "# Magic Numbers"
   ]
  },
  {
   "cell_type": "markdown",
   "metadata": {},
   "source": [
    "We can take this idea one step further, and *use* variables and functions as a way to explain code where we otherwise would have no named variables. For example, we can use variables to eliminate **magic numbers**.\n",
    "\n",
    "Magic numbers are any literal numbers written into a program (and not on their own in a variable assignment). For example, the literals `120` and `3` in the program:\n"
   ]
  },
  {
   "cell_type": "code",
   "execution_count": 2,
   "metadata": {},
   "outputs": [],
   "source": [
    "from turtle import *\n",
    "\n",
    "for i in range(3):\n",
    "    forward(120)\n",
    "    right(120)"
   ]
  },
  {
   "cell_type": "markdown",
   "metadata": {},
   "source": [
    "\n",
    "We have been using magic numbers in our programs until now. They are sometimes acceptable in small programs,  but they are usually discouraged.\n",
    "\n",
    "Since literal values have no name, they can cause problems for readability. While we might understand the purposes of these numbers when we first write the program, it's easy to forget, for example, that one of those `120`s represents the side length of a triangle, and the other represents an interior angle. And that `3`, where did that come from? What significance does it have to the program? It may not be immediately obvious that this `3` is used to represent the number of sides of a triangle.\n",
    "\n",
    "By using variables, we could make these ideas more obvious:\n"
   ]
  },
  {
   "cell_type": "code",
   "execution_count": null,
   "metadata": {},
   "outputs": [],
   "source": [
    "from turtle import *\n",
    "\n",
    "SIDE_LENGTH = 120\n",
    "NUMBER_SIDES = 3\n",
    "INTERIOR_ANGLE = 120\n",
    "\n",
    "for i in range(NUMBER_SIDES):\n",
    "    forward(SIDE_LENGTH)\n",
    "    right(INTERIOR_ANGLE)"
   ]
  },
  {
   "cell_type": "markdown",
   "metadata": {},
   "source": [
    "\n",
    "While a few lines longer, this program is now much clearer: the meaning of each of the values in the program has been tied to an obvious name.\n",
    "\n",
    "Think also how much easier we've made it to edit the program. If for example we wanted to change the side length, we wouldn't have to search through the program to find where we've used the side length in our code, we'd just assign `SIDE_LENGTH` to a different value. Simple!\n",
    "\n",
    "> ## Invariable variables\n",
    "> \n",
    "> By using a variable to give a name to a magic number, we are creating a variable whose assigned value will never actually change. Such a variable is called a *constant*, since its value is constant throughout the program.\n",
    "> \n",
    "> Conventionally, Python programmers use uppercase variable names to name constants. This sets them apart from the regular variables in the program, and makes it more clear to a reader that the variables in use are just fixed values given a meaningful name. That's why the variable names in the above program are written with capital letters.\n"
   ]
  },
  {
   "cell_type": "markdown",
   "metadata": {},
   "source": [
    "# Horrible Expressions"
   ]
  },
  {
   "cell_type": "markdown",
   "metadata": {},
   "source": [
    "Furthermore, we use functions to demystify any large, complex calculations performed in our programs.\n",
    "\n",
    "If our program ever has a very large expression with more than a couple of operations or with deep nested structure, then we'd call it a complex expression.\n",
    "\n",
    "These expressions are usually hard to read for anyone except the programmer who is writing them. And even this programmer may forget how their calculation worked, or what it calculated at all, a few days after writing it.\n",
    "\n",
    "Expressions that are overly complex should be avoided. However, sometimes some complex expressions are necessary. To improve the readability of code containing these complex expressions, we should separate the expressions into their own functions. The inputs to the expression will become function arguments (with suitable names), and the expression will be replaced with a clear function name that describes what the expression is calculating.\n",
    "\n",
    "The functions themselves will be short: probably only one line, returning the value calculated with the same expression as before.\n",
    "\n",
    "The complexity is still there, but it's hidden away behind a function with a clear name. We can read the code that uses the expression without worrying about how the expression actually works."
   ]
  },
  {
   "cell_type": "markdown",
   "metadata": {},
   "source": [
    "# The PEP8 Test"
   ]
  },
  {
   "cell_type": "markdown",
   "metadata": {},
   "source": [
    "In the previous slides we discussed what does or doesn't make code *readable*. For your projects and the rest of the Grok worksheets, you will be assessed on the readability of your code, and see a new series of tests called **PEP 8** to measure this. PEP 8 is Python's style guide.\n",
    "\n",
    "A programming style guide is a set of rules that one should follow in order for their program to be considered easy to read. Following a good set of style rules also usually makes your code less error prone. It’s similar to how it can be harder to spot spelling mistakes when your handwriting is messy. Clean, well-formatted code means less frustration debugging your code!\n"
   ]
  },
  {
   "cell_type": "markdown",
   "metadata": {},
   "source": [
    "# PEP 8 Rules"
   ]
  },
  {
   "cell_type": "markdown",
   "metadata": {},
   "source": [
    "The official coding style guide for Python is located [here](https://www.python.org/dev/peps/pep-0008/), but you don't have to worry about reading it. We also won't enforce everything in the guide, but the rules we do care about are as follows:\n",
    "\n",
    "Spacing:\n",
    "\n",
    "* Line length must not exceed 79 characters.\n",
    "* There should be no spaces between function/method names and arguments (also for slices and indexing) ie. write `myfunc(arg)` instead of `myfunc (arg)`\n",
    "* Use blank lines between logically separate blocks of code (e.g. between functions and major sections associated with different comments).\n",
    "* Avoid multiple statements on the same line\n",
    "* Always start a new line after a statement containing `if, elif, else, while, for`, etc.\n",
    "* Include spaces between arithmetic operators, i.e. write `2 * 1` instead of `2*1`\n",
    "* To distinguish them from standard assignment, do not include spaces between (default) parameter variables in the function definition, i.e write `def my_function(myvar=1):` instead of `def my_function(myvar = 1)`\n",
    "* Use 4 spaces for indentation. (Grok does this by default. If you're having problems, check your user settings.)\n",
    "* Don't use tab characters in your code. (Again, Grok is your friend here, in that it will automatically translate any tab-based indentation into spaces.)\n",
    "\n",
    "\n",
    "Commenting:\n",
    "\n",
    "* Keep the indentation level of any comments the same as the line of code it is associated with.\n",
    "* Do not state the obvious in comments.\n",
    "* Do not use docstrings (`'''these green comments'''`) for anything other than function documentation. Use the inline comments (`# the red ones`) for everything else.\n",
    "\n",
    "> ## Turning it on!\n",
    "> Why are we labouring this? Because for the remainder of the worksheets \n",
    "> (and all the projects), your code will be automatically tested for \n",
    "> compliance with this stripped-down version of PEP 8. At first, expect\n",
    "> to be slightly annoyed at the warnings, but if you pay attention to them,\n",
    "> you will quickly learn good code stylistics, and all the (healthy!) pedantry\n",
    "> will rub off as you learn to write beautiful code!"
   ]
  },
  {
   "cell_type": "markdown",
   "metadata": {},
   "source": [
    "# Summary"
   ]
  },
  {
   "cell_type": "markdown",
   "metadata": {},
   "source": [
    "## Congratulations!\n",
    "\n",
    "You made it to the end of Worksheet 10.\n",
    "\n",
    "Here's a summary of some important points from this worksheet:\n",
    "\n",
    "* Programs are read more times than they are written, so we must work to make sure our programs are as readable as possible\n",
    "* We can make our programs more readable by following a few guidelines:\n",
    "    * include helpful comments describing the important steps the program takes to solve a problem\n",
    "    * use meaningful variable and function names, including for pieces of code that would not otherwise have any name at all (magic numbers and complex expressions)\n",
    "* Python has a style guide called PEP 8 which we will be following for the remaining worksheets and the projects"
   ]
  },
  {
   "cell_type": "markdown",
   "metadata": {},
   "source": [
    "# Challenges"
   ]
  },
  {
   "cell_type": "markdown",
   "metadata": {},
   "source": [
    "This is not so much a challenge, but it's definitely good practice! Go back through all of your previous Grok programs and make your solutions more readable: add comments, improve your function and variable names, and add docstrings to your functions. If you would like some feedback on your restyled code, ask the online tutor or ask your tutor after class to get their feedback on how readable your solutions are.\n",
    "\n",
    "> ## Is readability assessed?\n",
    "> \n",
    "> Your mark for the Grok modules is based only on the tests you pass. Nobody is going to check your code to make sure it is nice and readable. So, you don't have to do this challenge.\n",
    ">\n",
    "> However, readability is an important part of the marking of the projects. So, this practice (and the feedback you get from your demonstrator) will help you maximise your marks on these assignments.\n",
    ">\n",
    "> Remember, if we can't read your code in the projects, we can't even try to give you marks, so help us to help you by writing readable code!"
   ]
  }
 ],
 "metadata": {
  "kernelspec": {
   "display_name": "Python 3 (ipykernel)",
   "language": "python",
   "name": "python3"
  },
  "language_info": {
   "codemirror_mode": {
    "name": "ipython",
    "version": 3
   },
   "file_extension": ".py",
   "mimetype": "text/x-python",
   "name": "python",
   "nbconvert_exporter": "python",
   "pygments_lexer": "ipython3",
   "version": "3.8.10"
  },
  "latex_envs": {
   "LaTeX_envs_menu_present": true,
   "autoclose": false,
   "autocomplete": true,
   "bibliofile": "biblio.bib",
   "cite_by": "apalike",
   "current_citInitial": 1,
   "eqLabelWithNumbers": true,
   "eqNumInitial": 1,
   "hotkeys": {
    "equation": "Ctrl-E",
    "itemize": "Ctrl-I"
   },
   "labels_anchors": false,
   "latex_user_defs": false,
   "report_style_numbering": false,
   "user_envs_cfg": false
  },
  "toc": {
   "base_numbering": 1,
   "nav_menu": {},
   "number_sections": true,
   "sideBar": true,
   "skip_h1_title": false,
   "title_cell": "Table of Contents",
   "title_sidebar": "Contents",
   "toc_cell": false,
   "toc_position": {},
   "toc_section_display": true,
   "toc_window_display": false
  },
  "varInspector": {
   "cols": {
    "lenName": 16,
    "lenType": 16,
    "lenVar": 40
   },
   "kernels_config": {
    "python": {
     "delete_cmd_postfix": "",
     "delete_cmd_prefix": "del ",
     "library": "var_list.py",
     "varRefreshCmd": "print(var_dic_list())"
    },
    "r": {
     "delete_cmd_postfix": ") ",
     "delete_cmd_prefix": "rm(",
     "library": "var_list.r",
     "varRefreshCmd": "cat(var_dic_list()) "
    }
   },
   "types_to_exclude": [
    "module",
    "function",
    "builtin_function_or_method",
    "instance",
    "_Feature"
   ],
   "window_display": false
  }
 },
 "nbformat": 4,
 "nbformat_minor": 1
}
