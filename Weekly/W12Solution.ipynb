{
 "cells": [
  {
   "cell_type": "raw",
   "metadata": {},
   "source": [
    "Write a function is_capital(state, city) that returns True if the named city is the capital of the named state and False otherwise. Every city and state in the following table should be recognised.\n",
    "If a city or state is not in the table the function must return False.\n",
    "\n",
    "Here are some examples of how your function should work:\n",
    "\n",
    ">>> is_capital('Victoria', 'Melbourne')\n",
    "True\n",
    ">>> is_capital('Queensland', 'Adelaide')\n",
    "False\n"
   ]
  },
  {
   "cell_type": "code",
   "execution_count": 1,
   "metadata": {},
   "outputs": [],
   "source": [
    "CAPITALS = { 'Victoria': 'Melbourne',\n",
    "    'New South Wales': 'Sydney',\n",
    "    'Queensland': 'Brisbane',\n",
    "    'Tasmania': 'Hobart',\n",
    "    'South Australia': 'Adelaide',\n",
    "    'Western Australia': 'Perth' }\n",
    "\n",
    "def is_capital(state, city):\n",
    "    \"\"\"Takes strings state and city and returns True if city is the capital of the named state.\"\"\"\n",
    "\n",
    "    if state in CAPITALS:\n",
    "        return CAPITALS[state] == city\n",
    "    else:\n",
    "        return False"
   ]
  },
  {
   "cell_type": "code",
   "execution_count": 2,
   "metadata": {},
   "outputs": [],
   "source": [
    "CAPITALS = { 'Victoria': 'Melbourne',\n",
    "    'New South Wales': 'Sydney',\n",
    "    'Queensland': 'Brisbane',\n",
    "    'Tasmania': 'Hobart',\n",
    "    'South Australia': 'Adelaide',\n",
    "    'Western Australia': 'Perth' }\n",
    "\n",
    "def is_capital(state, capital):\n",
    "    \"\"\"Takes strings state and city and returns True if city is the capital of the named state.\"\"\"  \n",
    "    return state in CAPITALS and CAPITALS[state] == capital"
   ]
  },
  {
   "cell_type": "raw",
   "metadata": {},
   "source": [
    "Write a function repeat_word_count(text, n) that takes a string text and a positive integer n, converts text into a list of words based on simple whitespace separation (with no removal of punctuation or changing of case), and returns a sorted list of words that occur n or more times in text. For example:\n",
    "\n",
    ">>> repeat_word_count(\"buffalo buffalo buffalo buffalo\", 2)\n",
    "['buffalo']\n",
    ">>> repeat_word_count(\"one one was a racehorse two two was one too\", 3)\n",
    "['one']\n",
    ">>> repeat_word_count(\"how much wood could a wood chuck chuck\", 1)\n",
    "['a', 'chuck', 'could', 'how', 'much', 'wood']"
   ]
  },
  {
   "cell_type": "code",
   "execution_count": 3,
   "metadata": {},
   "outputs": [],
   "source": [
    "def repeat_word_count(text, n):\n",
    "    \"\"\"Takes a string 'text' and an integer n and\n",
    "    returns a sorted list of words in text that occur n or more times\"\"\"\n",
    "\n",
    "    # Store the frequency counts of each word in the dictionary 'words'.\n",
    "    words = {}\n",
    "    for word in text.split():\n",
    "        if word not in words:\n",
    "            words[word] = 0\n",
    "        words[word] += 1\n",
    "\n",
    "    # Add words that have frequency counts > n to word_list\n",
    "    word_list = []\n",
    "    for word in words:\n",
    "        if words[word] >= n:\n",
    "            word_list.append(word)\n",
    "    return(sorted(word_list))"
   ]
  },
  {
   "cell_type": "raw",
   "metadata": {},
   "source": [
    "Write a function mode(numlist) that takes a single argument numlist (a non-empty list of numbers), and returns the sorted list of numbers which appear with the highest frequency in numlist (i.e. the mode). For example:\n",
    "\n",
    ">>> mode([0, 2, 0, 1])\n",
    "[0]\n",
    ">>> mode([5, 1, 1, 5])\n",
    "[1, 5]\n",
    ">>> mode([4.0])\n",
    "[4.0]"
   ]
  },
  {
   "cell_type": "code",
   "execution_count": 4,
   "metadata": {},
   "outputs": [],
   "source": [
    "def mode(numlist):\n",
    "    \"\"\"Takes a list 'numlist' and returns a sorted list of \n",
    "    the most frequently occurring numbers in numlist\"\"\"\n",
    "    # Store the frequency counts of the numbers in dictionary numdict.\n",
    "    numdict = {}\n",
    "    for num in numlist:\n",
    "        if num in numdict:\n",
    "            numdict[num] += 1\n",
    "        else:\n",
    "            numdict[num] = 1\n",
    "\n",
    "    # Find the most frequently occurring numbers and store them in modelist\n",
    "    modelist = []\n",
    "    maxfreq = 0\n",
    "    for num in numdict:\n",
    "        if numdict[num] > maxfreq:\n",
    "            modelist = [num]\n",
    "            maxfreq = numdict[num]\n",
    "        elif numdict[num] == maxfreq:\n",
    "            modelist.append(num)\n",
    "    return sorted(modelist)"
   ]
  },
  {
   "cell_type": "code",
   "execution_count": 5,
   "metadata": {},
   "outputs": [],
   "source": [
    "def mode(numlist):\n",
    "    d = dict((x, numlist.count(x)) for x in set(numlist))\n",
    "    maxi = max(d.items(), key = lambda x: x[1])[1]\n",
    "    return [i for i in d if d[i] == maxi]"
   ]
  },
  {
   "cell_type": "raw",
   "metadata": {},
   "source": [
    "Write a function top5_words(text) that takes a single argument text (a non-empty string), tokenises text into words based on whitespace (once again, without any stripping of punctuation or case normalisation), and returns the top-5 words as a list of strings, in descending order of frequency. If there is a tie in frequency at any point, the words with the same frequency should be sub-sorted alphabetically. If there are less than five distinct words in text, the function should return the words in descending order of frequency (with the same tie-breaking mechanism). For example:\n",
    "\n",
    ">>> top5_words(\"one one was a racehorse two two was one too\")\n",
    "[\"one\", \"two\", \"was\", \"a\", \"racehorse\"]\n",
    ">>> top5_words(\"buffalo buffalo buffalo chicken buffalo\")\n",
    "[\"buffalo\", \"chicken\"]\n",
    ">>> top5_words(\"the quick brown fox jumped over the lazy dog\")\n",
    "[\"the\", \"brown\", \"dog\", \"fox\", \"jumped\"]"
   ]
  },
  {
   "cell_type": "code",
   "execution_count": 6,
   "metadata": {},
   "outputs": [],
   "source": [
    "def top5_words(text):\n",
    "    \"\"\"Takes a string 'text' and returns a sorted list of \n",
    "    the five most frequently occurring words\"\"\"\n",
    "    \n",
    "    # Store the word frequency counts in word_freq\n",
    "    word_freq = {}\n",
    "    for word in text.split():\n",
    "        if word not in word_freq:\n",
    "            word_freq[word] = 0\n",
    "        word_freq[word] += 1\n",
    "    \n",
    "    # store the words and their frequencies in a list of tuples: word_freq_list\n",
    "    word_freq_list = []\n",
    "    for word, freq in word_freq.items():\n",
    "        word_freq_list.append((-freq, word))\n",
    "\n",
    "    # store the 5 most frequent words in top5\n",
    "    top5 = []\n",
    "    for _negfreq, word in sorted(word_freq_list)[:5]:\n",
    "        top5.append(word)\n",
    "    return top5"
   ]
  },
  {
   "cell_type": "raw",
   "metadata": {},
   "source": [
    "Write a function mutual_friends(list1,list2) that takes two lists of friends and returns the number of friends in common. Use sets. Your problem should behave as follows:\n",
    "\n",
    ">>> mutual_friends([\"Bob\",\"Joe\"],[\"Esmerelda\"])\n",
    "0\n",
    ">>> mutual_friends([\"Bob\",\"Joe\"],[\"Bob\",\"Joe\"])\n",
    "2\n",
    ">>> mutual_friends([\"Bob\",\"Joe\"],[\"Bob\",\"Joe\",\"Keitha\"])\n",
    "2"
   ]
  },
  {
   "cell_type": "code",
   "execution_count": null,
   "metadata": {},
   "outputs": [],
   "source": [
    "def mutual_friends(list1,list2):\n",
    "    return (len(set(list1)&set(list2)))"
   ]
  }
 ],
 "metadata": {
  "kernelspec": {
   "display_name": "Python 3",
   "language": "python",
   "name": "python3"
  },
  "language_info": {
   "codemirror_mode": {
    "name": "ipython",
    "version": 3
   },
   "file_extension": ".py",
   "mimetype": "text/x-python",
   "name": "python",
   "nbconvert_exporter": "python",
   "pygments_lexer": "ipython3",
   "version": "3.8.5"
  }
 },
 "nbformat": 4,
 "nbformat_minor": 4
}
