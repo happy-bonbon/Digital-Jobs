{
 "cells": [
  {
   "cell_type": "raw",
   "metadata": {},
   "source": [
    "Write a function triangle_legs(hyp, angle) that returns the lengths of the two sides of a right-angled triangle that are adjacent to the right angle (i.e. the \"legs\"), given the length of the hypotenuse (hyp — a positive number) and one of the two non-right angles of the triangle (angle — a positive number in degrees, less than 90). The function should return a 2-element tuple of floats, with the shortest leg first, e.g.\n",
    "\n",
    ">>> triangle_legs(1, 45)\n",
    "(0.7071067811865475, 0.7071067811865476)\n",
    ">>> triangle_legs(5, 53.13010235415599)\n",
    "(2.999999999999999, 4.000000000000001)"
   ]
  },
  {
   "cell_type": "code",
   "execution_count": null,
   "metadata": {},
   "outputs": [],
   "source": [
    "from math import cos, sin, radians\n",
    "\n",
    "def triangle_legs(hyp, angle):\n",
    "    angle = radians(angle)\n",
    "    return tuple(sorted([hyp * cos(angle), hyp * sin(angle)]))"
   ]
  },
  {
   "cell_type": "raw",
   "metadata": {},
   "source": [
    "In this question, we are going to do some analysis of Donald Trump's election speeches, and compare them to some of Barack Obama's speeches.\n",
    "\n",
    "In speeches.txt (included in the tab to the right) there are two speeches: one by Obama (more here), and another by Trump (from here). Linguists have said that Trump's language is simple. One interpretation of this is that he uses short words more frequently. We will write a function that takes a string and returns the top-5 most frequent word lengths in the string to find out whether this is the case.\n",
    "\n",
    "For this problem you should write two functions. The first function count_lengths() should take a string text, and return a default dictionary containing the frequency counts of each word length. Your function should split text up into words based whitespace using the .split() method, without removing punctuation or changing the case of any of the \"words\".\n",
    "\n",
    "The second function top5_word_lengths() should take a string text, and return the list of the (up to) five most-frequent word lengths. It should operate by first calling count_lengths over text to generate a dictionary of word lengths, then sorting the word lengths in terms in descending order of frequency, and returning the top 5 (or less in the instance that there aren't 5). In the case of a tie in frequency, the word lengths should be sub-sorted in descending order of word length.\n",
    "\n",
    "The two functions will be tested separately.\n",
    "\n",
    "top5_word_lengths() should return word-lengths in descending order in the event that they have the same frequency. If there are fewer than 5 word lengths it should return a shorter list of the sorted word lengths.\n",
    "\n",
    "Your program should behave as follows:\n",
    "\n",
    ">>> count_lengths(\"one one was a racehorse two two was one too\")\n",
    "defaultdict(<class 'int'>, {3: 8, 1: 1, 9: 1})\n",
    ">>> top5_word_lengths(\"one one was a racehorse two two was one too\")\n",
    "[3, 9, 1]\n",
    ">>> top5_word_lengths(\"buffalo buffalo buffalo chicken buffalo\")\n",
    "[7]\n",
    ">>> top5_word_lengths(\"the quick brown fox jumped over a lazy dog\")\n",
    "[3, 5, 4, 6, 1]\n",
    "Try running your program on the speeches by copy-pasting them from speeches.txt as an argument to your function. Compare with your classmates. Is Trump's language simpler?"
   ]
  },
  {
   "cell_type": "code",
   "execution_count": null,
   "metadata": {},
   "outputs": [],
   "source": [
    "from collections import defaultdict\n",
    "\n",
    "def count_lengths(text):\n",
    "    \"\"\" Takes a string and returns a defaultdict with the frequency counts.\"\"\"\n",
    "    length_freq = defaultdict(int)\n",
    "    for word in text.split():\n",
    "        length_freq[len(word)]+=1\n",
    "    return length_freq\n",
    "\n",
    "def top5_word_lengths(text):\n",
    "    \"\"\"takes a string text and returns a list of the top five most frequent \n",
    "    word lengths in text.\"\"\"\n",
    "    length_freq = count_lengths(text)\n",
    "     \n",
    "    # Store the word lengths and their frequency counts in the list \n",
    "    # length_freq_list.\n",
    "    length_freq_list = []\n",
    "    for length, freq in length_freq.items():\n",
    "        length_freq_list.append((freq, length))\n",
    "\n",
    "    # Sort the frequency lengths and store them in top5.\n",
    "    top5 = []\n",
    "    for freq, length in sorted(length_freq_list, reverse=True)[:5]:\n",
    "        top5.append(length)\n",
    "    return top5"
   ]
  },
  {
   "cell_type": "raw",
   "metadata": {},
   "source": [
    "Write a program that asks the user for a positive integer limit and prints a table to visualize all factors of each integer ranging from 1 to limit.\n",
    "The output of your program should look like this:\n",
    "\n",
    "Maximum number to factorise: 20\n",
    "* - - - - - - - - - - - - - - - - - - - \n",
    "* * - - - - - - - - - - - - - - - - - - \n",
    "* - * - - - - - - - - - - - - - - - - - \n",
    "* * - * - - - - - - - - - - - - - - - - \n",
    "* - - - * - - - - - - - - - - - - - - - \n",
    "* * * - - * - - - - - - - - - - - - - - \n",
    "* - - - - - * - - - - - - - - - - - - - \n",
    "* * - * - - - * - - - - - - - - - - - - \n",
    "* - * - - - - - * - - - - - - - - - - - \n",
    "* * - - * - - - - * - - - - - - - - - - \n",
    "* - - - - - - - - - * - - - - - - - - - \n",
    "* * * * - * - - - - - * - - - - - - - - \n",
    "* - - - - - - - - - - - * - - - - - - - \n",
    "* * - - - - * - - - - - - * - - - - - - \n",
    "* - * - * - - - - - - - - - * - - - - - \n",
    "* * - * - - - * - - - - - - - * - - - - \n",
    "* - - - - - - - - - - - - - - - * - - - \n",
    "* * * - - * - - * - - - - - - - - * - - \n",
    "* - - - - - - - - - - - - - - - - - * - \n",
    "* * - * * - - - - * - - - - - - - - - * "
   ]
  },
  {
   "cell_type": "code",
   "execution_count": null,
   "metadata": {},
   "outputs": [],
   "source": [
    "limit = int(input(\"Maximum number to factorise: \"))\n",
    "for i in range(1, limit + 1):\n",
    "    line = ''\n",
    "    for j in range(1, limit + 1):\n",
    "        if i % j == 0:\n",
    "            line += \"* \"\n",
    "        else:\n",
    "            line += \"- \"\n",
    "    print(line)"
   ]
  },
  {
   "cell_type": "raw",
   "metadata": {},
   "source": [
    "In molecular biology, a codon refers to a substring of a DNA sequence made up of the nucleotides A, T, C and G. The nucleotide A always binds with T, and T always binds with A. A and T are referred to as \"base pairs\". Similarly, C and G are base pairs, that is, C always binds with G, and G always binds with C. Two codons are complementary if each of their respective nucleotides are base pairs.\n",
    "\n",
    "Write a function matching_codons(complements, pool1, pool2) that takes three arguments: a dictionary complements and two lists pool1 and pool2. The dictionary contains the base pairs, and the pools each contain a list of codon sequences. Your task is to find the complementary codon sequence in pool2 for each codon sequence in pool1, and return all matching pairs in following format:\n",
    "\n",
    ">>> complements = {'A':'T', 'C':'G', 'T':'A', 'G':'C'}\n",
    ">>> pool1 = ['AAG', 'TAC', 'CGG', 'GAT', 'TTG', 'GTG', 'CAT', 'GGC', 'ATT', 'TCT']\n",
    ">>> pool2 = ['TAA', 'CTA', 'AAC', 'TTC', 'AGA', 'CCC', 'CCG', 'GTA']\n",
    ">>> matching_codons(complements, pool1, pool2)\n",
    "[('AAG', 'TTC'), ('GAT', 'CTA'), ('TTG', 'AAC'), ('CAT', 'GTA'), ('GGC', 'CCG'), ('ATT', 'TAA'), ('TCT', 'AGA')]\n",
    "The return value is a list of 2-tuples of codons. The first item in each tuple is a codon from pool1 and the second is the matching codon found in pool2. For example, the sequences AAG (pool1[0]) and TTC (pool2[3]) are complementary as the base pair of A is T and that of G is C. For CCG, on the other hand, the matching codon (GGC) does not occur in pool2, and it is thus not contained in the output of the function. The returned list should preserve the original order of pool1. Note that you may assume that there are no duplicate codons in pool1 or pool2.\n",
    "\n",
    "Make sure to use the base pair information given in the complements dictionary to identify the complementary codons, and not hard-code any assumptions about base pairs in your code (and expect some of the hidden tests to confirm that you are doing this!)."
   ]
  },
  {
   "cell_type": "code",
   "execution_count": null,
   "metadata": {},
   "outputs": [],
   "source": [
    "def matching_codons(complements, pool1, pool2):\n",
    "    \"\"\"Return pairs of matching codons from two pools.\"\"\"\n",
    "\n",
    "    result = []\n",
    "    for seq1 in pool1:\n",
    "        comp1 = ''\n",
    "        for nucleotide in seq1:\n",
    "            comp1 += complements[nucleotide]\n",
    "        if comp1 in pool2:\n",
    "            result.append((seq1, comp1))\n",
    "    return result"
   ]
  },
  {
   "cell_type": "raw",
   "metadata": {},
   "source": [
    "Write a Python function grey_value(image) which takes an image image (represented as a list of lists like above) and returns its grey value. The grey value of a black and white picture is defined as the number of white pixels divided by the total number of pixels in the picture. Your function should return the grey value as a single floating-point number in the range 0.0 to 1.0.\n",
    "\n",
    ">>> grey_value([[0, 1], [1, 0]])\n",
    "0.5\n",
    ">>> grey_value([[0, 1, 1, 0], [1, 0, 1, 1]])\n",
    "0.625"
   ]
  },
  {
   "cell_type": "code",
   "execution_count": null,
   "metadata": {},
   "outputs": [],
   "source": [
    "def grey_value(image):\n",
    "    \"\"\"Return the proportion of white pixels in the image.\"\"\"\n",
    "\n",
    "    white_count = 0\n",
    "    total = 0\n",
    "    for row in image:\n",
    "        total += len(row)\n",
    "        for pixel in row:\n",
    "            white_count += pixel\n",
    "    return white_count / total"
   ]
  }
 ],
 "metadata": {
  "kernelspec": {
   "display_name": "Python 3",
   "language": "python",
   "name": "python3"
  },
  "language_info": {
   "codemirror_mode": {
    "name": "ipython",
    "version": 3
   },
   "file_extension": ".py",
   "mimetype": "text/x-python",
   "name": "python",
   "nbconvert_exporter": "python",
   "pygments_lexer": "ipython3",
   "version": "3.8.5"
  }
 },
 "nbformat": 4,
 "nbformat_minor": 4
}
