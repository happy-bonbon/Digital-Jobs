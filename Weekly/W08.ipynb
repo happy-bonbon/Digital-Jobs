{
 "cells": [
  {
   "cell_type": "markdown",
   "metadata": {},
   "source": [
    "# Repeating actions"
   ]
  },
  {
   "cell_type": "markdown",
   "metadata": {},
   "source": [
    "Often, we need to perform repeating tasks in a program such as counting down, generating a table automatically (in which case the \"repeats\" are the rows in the table), or reading multiple lines of input (in which case the \"repeats\" are the individual lines). This is called **iteration**.\n",
    "\n",
    "Assume you have to write the launch sequence for a rocket launch, that counts down from 10 seconds and prints every second until take off. Here is one way to achieve this:\n"
   ]
  },
  {
   "cell_type": "code",
   "execution_count": 1,
   "metadata": {},
   "outputs": [
    {
     "name": "stdout",
     "output_type": "stream",
     "text": [
      "10 seconds to start!\n",
      "9 seconds to start!\n",
      "8 seconds to start!\n",
      "7 seconds to start!\n",
      "6 seconds to start!\n",
      "5 seconds to start!\n",
      "4 seconds to start!\n",
      "3 seconds to start!\n",
      "2 seconds to start!\n",
      "1 seconds to start!\n",
      "Ignition complete. Launch initiated!\n"
     ]
    }
   ],
   "source": [
    "print('10 seconds to start!')\n",
    "print('9 seconds to start!')\n",
    "print('8 seconds to start!')\n",
    "print('7 seconds to start!')\n",
    "print('6 seconds to start!')\n",
    "print('5 seconds to start!')\n",
    "print('4 seconds to start!')\n",
    "print('3 seconds to start!')\n",
    "print('2 seconds to start!')\n",
    "print('1 seconds to start!')\n",
    "print('Ignition complete. Launch initiated!')\n"
   ]
  },
  {
   "cell_type": "markdown",
   "metadata": {},
   "source": [
    "\n",
    "Although this is certainly a possible solution, it has significant disadvantages. First, we would end up with a large number of lines (not to mention tedium on the part of the programmer!) if we would like to use this program for larger start values, for example 10 minutes. In this case the above solution would require you to write 601 lines of code.\n",
    "\n",
    "Second, this technique is error-prone: each line of code might contain a mistake or a typo. Third and related, if you decided that you wanted to change the message to `XX seconds to launch`, you would need to individually edit every line.\n",
    "\n",
    "> ## Hint\n",
    "> Iteration is an incredibly important concept in computing, which comes back to the fundamentals of how computers work. A physicist called Richard Feynman has a nice explanation [here](https://www.youtube.com/watch?v=EKWGGDXe5MA).\n"
   ]
  },
  {
   "cell_type": "markdown",
   "metadata": {},
   "source": [
    "# <code data-lang=\"py3\">while</code> Loops"
   ]
  },
  {
   "cell_type": "markdown",
   "metadata": {},
   "source": [
    "Python provides better and more scalable approaches to loop (or **iterate**) over data. The first approach is based on the `while` statement. Here is the code that provides the same output as before, based on the `while` statement.\n"
   ]
  },
  {
   "cell_type": "code",
   "execution_count": 2,
   "metadata": {},
   "outputs": [
    {
     "name": "stdout",
     "output_type": "stream",
     "text": [
      "10 seconds to start!\n",
      "9 seconds to start!\n",
      "8 seconds to start!\n",
      "7 seconds to start!\n",
      "6 seconds to start!\n",
      "5 seconds to start!\n",
      "4 seconds to start!\n",
      "3 seconds to start!\n",
      "2 seconds to start!\n",
      "1 seconds to start!\n",
      "Ignition complete. Launch initiated!\n"
     ]
    }
   ],
   "source": [
    "sec = 10\n",
    "while sec > 0:\n",
    "    print(f'{sec} seconds to start!')\n",
    "    sec = sec - 1\n",
    "print('Ignition complete. Launch initiated!')\n"
   ]
  },
  {
   "cell_type": "markdown",
   "metadata": {},
   "source": [
    "\n",
    "Similar to the `if` statement, the `while` statement tests whether a condition — in our case `sec > 0` — evaluates to `True`. In the instance it evaluates to `True`, it executes the block of code associated with the `while` statement (again, akin to an `if` statement).\n",
    "\n",
    "Where the difference comes in is that instead of then proceeding to execute the code following the `if`-`elif`-`else` block, the condition in the `while` statement is evaluated again (i.e. the code \"loops\" back to the start), and if the condition evaluates to `True`, the block of code is executed again ... and so on: as long as the condition is `True`, the indented block of code will be executed, over and over again.\n",
    "\n",
    "In our code example, the block of code consists of two lines, where the first line prints out the countdown sequence and the second line decreases the value of the variable `sec`.\n",
    "\n",
    "This example shows a more general property of `while` loops: you must ensure that the `while` loop will terminate, or you will have an **infinite loop**, which will theoretically run forever! That is, there must be either: (a) some statement in the block of code that modifies an object that is part of the condition in the `while` statement, bringing it a step closer to termination (as we have in the example above); or (b) an explicit means of short-circuiting the loop within the block of code, and a guarantee that this will eventually happen (we'll see this soon).\n",
    "\n",
    "The general form of the while statement is the following:\n"
   ]
  },
  {
   "cell_type": "markdown",
   "metadata": {},
   "source": [
    "```python\n",
    "while condition:\n",
    "    block of statements\n",
    "```"
   ]
  },
  {
   "cell_type": "markdown",
   "metadata": {},
   "source": [
    "# Aside: Assignment operators"
   ]
  },
  {
   "cell_type": "markdown",
   "metadata": {},
   "source": [
    "When iterating, it is very common to need to assign values to variables which depend on the previous value of the variable. A particularly common one:\n",
    "\n",
    "```python\n",
    "\n",
    "i = 0\n",
    "print(i)\n",
    "i = i + 1\n",
    "print(i)\n",
    "```\n",
    "\n",
    "can be shortened to:\n",
    "\n",
    "```python\n",
    "\n",
    "i = 0\n",
    "print(i)\n",
    "i += 1\n",
    "print(i)\n",
    "```\n",
    "\n",
    "but there are many more, as indicated below. You might be able to notice a pattern: any operator plus the equals sign is the operator. The `+=` operator will be most important.\n",
    "\n",
    "<table border=\"1\">\n",
    "<colgroup> <col width=\"27%\"> <col width=\"47%\"> <col width=\"27%\"> </colgroup>\n",
    "<thead valign=\"bottom\">\n",
    "<tr>\n",
    "<th>Operator</th> \n",
    "<th>Description</th> </tr>\n",
    "</thead>\n",
    "<tbody valign=\"top\">\n",
    "\n",
    "<tr><td><code data-lang=\"py3\">*=</code></td> <td><code data-lang=\"py3\">c *= 2</code> is the same as <code data-lang=\"py3\">c = c * 2</code></td> \n",
    "</tr>\n",
    "\n",
    "<tr><td><code data-lang=\"py3\">/=</code></td> <td><code data-lang=\"py3\">c /= 2</code> is the same as <code data-lang=\"py3\">c = c / 2</code></td>  </tr>\n",
    "\n",
    "<tr><td><code data-lang=\"py3\">+=</code></td> <td><code data-lang=\"py3\">c += 2</code> is the same as <code data-lang=\"py3\">c = c + 2</code></td> </tr>\n",
    "\n",
    "<tr><td><code data-lang=\"py3\">-=</code></td> <td><code data-lang=\"py3\">c -= 2</code> is the same as <code data-lang=\"py3\">c = c - 2</code></td>  </tr>\n",
    "\n",
    "<tr><td><code data-lang=\"py3\">//=</code></td> <td><code data-lang=\"py3\">c //= 2</code> is the same as <code data-lang=\"py3\">c = c // 2</code></td> </tr>\n",
    "\n",
    "<tr><td><code data-lang=\"py3\">%=</code></td> <td><code data-lang=\"py3\">c %= 2</code> is the same as <code data-lang=\"py3\">c = c % 2</code></td> </tr>\n",
    "\n",
    "<tr><td><code data-lang=\"py3\">**=</code></td> <td><code data-lang=\"py3\">c **= 2</code> is the same as <code data-lang=\"py3\">c = c**2</code></td>  </tr>\n",
    "\n",
    "</tbody>\n",
    "</table>\n"
   ]
  },
  {
   "cell_type": "markdown",
   "metadata": {},
   "source": [
    "# <code data-lang=\"py3\">while</code> Exercise"
   ]
  },
  {
   "cell_type": "markdown",
   "metadata": {},
   "source": [
    "Write a program that takes values `num` and `N` as input and prints the first `N` lines of an exponential table for `num` starting from `1`, where both `N` and `num` are strictly positive integers. For example:\n"
   ]
  },
  {
   "cell_type": "markdown",
   "metadata": {},
   "source": [
    "```python\n",
    "Enter the number for 'num': 4\n",
    "Enter the number for 'N': 10\n",
    "1 ** 4 = 1\n",
    "2 ** 4 = 16\n",
    "3 ** 4 = 81\n",
    "4 ** 4 = 256\n",
    "5 ** 4 = 625\n",
    "6 ** 4 = 1296\n",
    "7 ** 4 = 2401\n",
    "8 ** 4 = 4096\n",
    "9 ** 4 = 6561\n",
    "10 ** 4 = 10000\n",
    "```"
   ]
  },
  {
   "cell_type": "markdown",
   "metadata": {},
   "source": [
    "```python\n",
    "Enter the number for 'num': 1\n",
    "Enter the number for 'N': 1\n",
    "1 ** 1 = 1\n",
    "```"
   ]
  },
  {
   "cell_type": "markdown",
   "metadata": {},
   "source": [
    "\n",
    "On an invalid input for either `num` or `N`, it should fail as follows:\n"
   ]
  },
  {
   "cell_type": "markdown",
   "metadata": {},
   "source": [
    "```python\n",
    "Enter the number for 'num': 'blarg!'\n",
    "Enter the number for 'N': 1\n",
    "Invalid input\n",
    "```"
   ]
  },
  {
   "cell_type": "markdown",
   "metadata": {},
   "source": [
    "```python\n",
    "Enter the number for 'num': 4\n",
    "Enter the number for 'N': 1.0\n",
    "Invalid input\n",
    "```"
   ]
  },
  {
   "cell_type": "markdown",
   "metadata": {},
   "source": [
    "\n",
    "> ## Hint\n",
    "> Initialize a variable `count` to `1` and use this number to control the number of times the statements in the loop will be iterated. You might also want to use `.isdigit()`."
   ]
  },
  {
   "cell_type": "code",
   "execution_count": 3,
   "metadata": {},
   "outputs": [],
   "source": [
    "# write your code here"
   ]
  },
  {
   "cell_type": "markdown",
   "metadata": {},
   "source": [
    "# Breaking <code data-lang=\"py3\">while</code> Loops"
   ]
  },
  {
   "cell_type": "markdown",
   "metadata": {},
   "source": [
    "As hinted earlier, there is an alternative for exiting `while` loops: a `break` statement in the body of the loop, which terminates the iteration at the point it is executed. For example:\n"
   ]
  },
  {
   "cell_type": "code",
   "execution_count": 4,
   "metadata": {},
   "outputs": [
    {
     "name": "stdout",
     "output_type": "stream",
     "text": [
      "vous\n"
     ]
    }
   ],
   "source": [
    "word = \"rendezvous\"\n",
    "while word:\n",
    "    if word[0] == 'z':\n",
    "        word = word[1:]\n",
    "        break\n",
    "    word = word[1:]\n",
    "print(word)"
   ]
  },
  {
   "cell_type": "markdown",
   "metadata": {},
   "source": [
    "\n",
    "What the code does is work through `word` one letter at a time from the left, until it finds a `z`, and remove the `z` and whatever substring preceded it. It does this by \"destructively\" working its way through `word`, removing the first character on each iteration (insert a `print` statement into the body of the loop to see this), and additionally checking to see if the first character is `z` on each iteration, and using `break` to exit the loop if this is the case.\n",
    "\n",
    "Note that because we use string slicing, we don't have to worry about raising a dreaded `IndexError` if the string ends with or doesn't contain a `z`.\n"
   ]
  },
  {
   "cell_type": "markdown",
   "metadata": {},
   "source": [
    "# For loops "
   ]
  },
  {
   "cell_type": "markdown",
   "metadata": {},
   "source": [
    " There is another way to iterate called a `for` loop. This may be thought of as analogous to the English expression *for each*. For example, the below code says: *for each element of the list, print that element*:\n",
    "\n",
    "\n"
   ]
  },
  {
   "cell_type": "code",
   "execution_count": 5,
   "metadata": {},
   "outputs": [
    {
     "name": "stdout",
     "output_type": "stream",
     "text": [
      "1\n",
      "2\n",
      "3\n"
     ]
    }
   ],
   "source": [
    "my_list = [1,2,3]\n",
    "for elem in my_list:\n",
    "    print(elem)"
   ]
  },
  {
   "cell_type": "markdown",
   "metadata": {},
   "source": [
    "\n",
    "The variable `elem` takes each value of `my_list` one by one until we get to the end of the list. Try editing the code above: \n",
    "\n",
    "\n",
    "* What happens if you add more elements to `my_list`?\n",
    "* What happens if you print the square of `elem` instead of `elem`?\n",
    "* What happens if you change the name of `elem`? `elem` is like any variable name — it can be (almost) anything!\n",
    "\n",
    "\n",
    "You can also iterate over strings, in fact you can iterate over any sequence:\n",
    "\n",
    "\n"
   ]
  },
  {
   "cell_type": "code",
   "execution_count": 6,
   "metadata": {},
   "outputs": [
    {
     "name": "stdout",
     "output_type": "stream",
     "text": [
      "H\n",
      "e\n",
      "l\n",
      "l\n",
      "o\n",
      " \n",
      "B\n",
      "i\n",
      "l\n",
      "l\n"
     ]
    }
   ],
   "source": [
    "my_string = \"Hello Bill\"\n",
    "for char in my_string:\n",
    "    print(char)"
   ]
  },
  {
   "cell_type": "markdown",
   "metadata": {},
   "source": [
    "\n",
    "Actually, `for` loops work with any **iterable** object — objects that can return values one by one in sequence. More on this later.\n",
    "\n",
    "\n"
   ]
  },
  {
   "cell_type": "markdown",
   "metadata": {},
   "source": [
    "# An Example"
   ]
  },
  {
   "cell_type": "markdown",
   "metadata": {},
   "source": [
    "Now let's analyse exactly what's going on in another example. Below we iterate over a string to count the number of vowels (note we assume all the variables in the initial string are lower-case):\n"
   ]
  },
  {
   "cell_type": "code",
   "execution_count": 7,
   "metadata": {},
   "outputs": [
    {
     "name": "stdout",
     "output_type": "stream",
     "text": [
      "6\n"
     ]
    }
   ],
   "source": [
    "text = \"a piece of string\"\n",
    "vowel_count = 0 \n",
    "for letter in text:\n",
    "    if letter in \"aeiou\":\n",
    "        vowel_count = vowel_count + 1\n",
    "print(vowel_count)"
   ]
  },
  {
   "cell_type": "markdown",
   "metadata": {},
   "source": [
    "\n",
    "[Try](https://www.youtube.com/watch?v=a6P40wLThbc) copy-pasting the code into [pythontutor](http://www.pythontutor.com/visualize.html#mode=edit) to see what's happening.\n",
    "\n",
    "The program uses the variable `letter` to iterate over `text`.\n",
    "\n",
    "The first iteration of the `for` loop assigns the character `a` to the variable `letter`. Then the indented block of code is run with this value of the variable. In this case, `letter` is one of the vowels, so  `vowel_count` is incremented by one, i.e., it now has the value `1` (because we initialised it to `0` before the `for` loop).\n",
    "\n",
    "In the next iteration, the variable `letter` is assigned the space character and the `if` statement fails, meaning `vowel_count` is not incremented.\n",
    "\n",
    "The `for` loop continues in this way,  with the variable `letter` being assigned to all the characters of `text` (something that you can check on by inserting a `print` function into the body of the `for` loop). The indented code block is run for each of these values.\n",
    "\n",
    "When we reach the end, the for loop is done, and we go on to the print statement which prints the variable `vowel_count`, which now holds the total number of vowels in the string, because we checked each character!\n",
    "\n",
    "In general, a `for` loop iterates over all elements of a sequence: if a sequence has five elements, e.g., the `for` loop will iterate five times. This is the main difference as compared to `while` loops: the number of iterations of a `for` loop is generally pre-defined by the number of elements in the iterable it is applied to (unless you change the object you are iterating over in the body of the `for` loop, which can be hard to debug and is prone to infinite loops!).\n"
   ]
  },
  {
   "cell_type": "markdown",
   "metadata": {},
   "source": [
    "# Word Formation Problem"
   ]
  },
  {
   "cell_type": "markdown",
   "metadata": {},
   "source": [
    "In this problem you will write a program that prints a list of words that share the same suffix. First, your program must ask the user to enter all of the words **separated by a space**. Then your program must ask for the common suffix shared by every word. Form words by taking each word and adding the second string to it.\n",
    "\n",
    "For example, if the initial words are `bake cake lake make rake take wake` and the suffix is `s`, then the first word will be `bakes` (`bake` + `s`), followed by `cakes`, `lakes`, `makes`, `rakes`, `takes`, and `wakes`.\n",
    "\n",
    "Your program should generate all the words and print them one line at a time. Use the `.split()` method to turn the string of words into a list and then use a `for` loop to access each word. The output of your program should look like this:\n"
   ]
  },
  {
   "cell_type": "markdown",
   "metadata": {},
   "source": [
    "```python\n",
    "Enter the list of words: bake cake lake make rake take wake\n",
    "Enter the common suffix: s\n",
    "bakes\n",
    "cakes\n",
    "lakes\n",
    "makes\n",
    "rakes\n",
    "takes\n",
    "wakes\n",
    "```"
   ]
  },
  {
   "cell_type": "code",
   "execution_count": null,
   "metadata": {},
   "outputs": [],
   "source": [
    "# write your code here"
   ]
  },
  {
   "cell_type": "markdown",
   "metadata": {},
   "source": [
    "# Another Example"
   ]
  },
  {
   "cell_type": "markdown",
   "metadata": {},
   "source": [
    "The next program shows you how to use a `for` loop to compute the average of a `list` of numbers.\n"
   ]
  },
  {
   "cell_type": "code",
   "execution_count": 8,
   "metadata": {},
   "outputs": [
    {
     "name": "stdout",
     "output_type": "stream",
     "text": [
      "11.6\n"
     ]
    }
   ],
   "source": [
    "numlist = [14, 5, 7, 9, 23] \n",
    "total = 0\n",
    "for num in numlist:\n",
    "    total = total + num \n",
    "print(total/len(numlist))"
   ]
  },
  {
   "cell_type": "markdown",
   "metadata": {},
   "source": [
    "\n",
    "Again, try [pythontutor](http://www.pythontutor.com/visualize.html#mode=edit) to see what's going on.\n",
    "\n",
    "The `for` loop iterates over `numlist`, applying the indented block of code to each item in it. For each iteration, it assigns the current list element in the variable `num`. The indented code adds the value of `num` to the value stored in `total`, i.e., the cumulative sum from the previous iterations. On termination of the `for` loop, the `print` function prints out the average of the values stored in the variable `sequence`.\n",
    "\n",
    "The general form of the `for` statement is the following:\n"
   ]
  },
  {
   "cell_type": "markdown",
   "metadata": {},
   "source": [
    "```python\n",
    "for variable in sequence:\n",
    "    block of statements\n",
    "```"
   ]
  },
  {
   "cell_type": "markdown",
   "metadata": {},
   "source": [
    "# Gamertag problem"
   ]
  },
  {
   "cell_type": "markdown",
   "metadata": {},
   "source": [
    "A gamer's tag is a distinct username you use to identify yourself in an online gaming community. With the size of such communities growing, it is highly likely that a simple tag such as your name might already be taken. You could still choose to use your name as the tag albeit with slight modifications like inserting a hyphen (`-`) after each letter. For example, if your name is `Richard`, the gamer's tag would be `R-i-c-h-a-r-d-`.\n",
    "\n",
    "Write a function `make_gamertag(name)` which returns the gamer's tag when given the user's name as a string. Your function should work like this:\n"
   ]
  },
  {
   "cell_type": "markdown",
   "metadata": {},
   "source": [
    "```python\n",
    ">>> make_gamertag('Alex')\n",
    "'A-l-e-x-'\n",
    "```"
   ]
  },
  {
   "cell_type": "markdown",
   "metadata": {},
   "source": [
    "\n",
    "> ## Hint\n",
    "> Try starting with the empty string and adding one letter and one hyphen at a time."
   ]
  },
  {
   "cell_type": "code",
   "execution_count": 9,
   "metadata": {},
   "outputs": [],
   "source": [
    "# write your code here"
   ]
  },
  {
   "cell_type": "markdown",
   "metadata": {},
   "source": [
    "# From <code data-lang=\"py3\">while</code> to <code data-lang=\"py3\">for</code> (Part 1)"
   ]
  },
  {
   "cell_type": "markdown",
   "metadata": {},
   "source": [
    "It is worth spending a moment reflecting on the relationship between `while` and `for`, to better understand how each form of iteration works. Consider the following `while` loop:\n"
   ]
  },
  {
   "cell_type": "code",
   "execution_count": 10,
   "metadata": {},
   "outputs": [
    {
     "name": "stdout",
     "output_type": "stream",
     "text": [
      "0\n"
     ]
    }
   ],
   "source": [
    "numlist = [1, 3, 2, 5, 2, 0]\n",
    "minnum = numlist[0]\n",
    "i = 1\n",
    "while i < len(numlist):\n",
    "    num = numlist[i]\n",
    "    if num < minnum:\n",
    "        minnum = num\n",
    "    i = i + 1\n",
    "print(minnum)"
   ]
  },
  {
   "cell_type": "markdown",
   "metadata": {},
   "source": [
    "\n",
    "Spend a moment looking over this code in detail to fully understand it, as this is a programming \"idiom\" that is used commonly. What the code does is calculate the minimum number in `numlist`. It does this by setting up a \"local\" minimum number (relative to the numbers in `numlist` processed to date) in `minnum`, and checking whether the current number `num` is smaller than the current `minnum`, in which case it updates `minnum` to `num`.\n",
    "\n",
    "A very important part of this is the approach it uses to initialise `minnum` before entering the loop: it takes the first element of `numlist`, as the minimum value within `numlist[:1]`, i.e. the prefix list of length 1 (although in doing so, it assumes that `numlist` has at least one element, and you might like to think about how you could make the code more robust, in not generating an `IndexError` over empty lists).\n",
    "\n",
    "The way the code iterates through `numlist` using a `while` loop is by using list indexing, generating a value `i` for each index position in `numlist` (but starting from 1 rather than 0 — why?)\n"
   ]
  },
  {
   "cell_type": "markdown",
   "metadata": {},
   "source": [
    "# From <code data-lang=\"py3\">while</code> to <code data-lang=\"py3\">for</code> (Part 2)"
   ]
  },
  {
   "cell_type": "markdown",
   "metadata": {},
   "source": [
    "What would the code from the previous slide look like in a `for` loop? There are two possible answers. First, we could generate the sequence of index variables using the `range` function, which when called as `range(start, end)`, generates an iterable which outputs one value at a time, starting from `start`, incrementing one at a time, stopping at `end - 1` (that is, `end` is not included in the numeric sequence, much like how slices work). We can see this by translating the iterable into a `list` (to expand out the full sequence in one go) in the following examples:\n"
   ]
  },
  {
   "cell_type": "code",
   "execution_count": 11,
   "metadata": {},
   "outputs": [
    {
     "name": "stdout",
     "output_type": "stream",
     "text": [
      "[0, 1, 2, 3, 4]\n",
      "[1, 2]\n",
      "[]\n"
     ]
    }
   ],
   "source": [
    "print(list(range(0, 5)))\n",
    "print(list(range(1, 3)))\n",
    "print(list(range(2, 2)))"
   ]
  },
  {
   "cell_type": "markdown",
   "metadata": {},
   "source": [
    "\n",
    "Using `range`, we can rewrite our `while` loop into a `for` loop as follows:\n"
   ]
  },
  {
   "cell_type": "code",
   "execution_count": 12,
   "metadata": {},
   "outputs": [
    {
     "name": "stdout",
     "output_type": "stream",
     "text": [
      "0\n"
     ]
    }
   ],
   "source": [
    "numlist = [1, 3, 2, 5, 2, 0]\n",
    "minnum = numlist[0]\n",
    "for i in range(1, len(numlist)):\n",
    "    num = numlist[i]\n",
    "    if num < minnum:\n",
    "        minnum = num\n",
    "print(minnum)"
   ]
  },
  {
   "cell_type": "markdown",
   "metadata": {},
   "source": [
    "\n",
    "A second, and perhaps more elegant, approach (assuming we don't need to use information about the index of the `list` elements) is to iterate over `numlist` directly:\n"
   ]
  },
  {
   "cell_type": "code",
   "execution_count": 13,
   "metadata": {},
   "outputs": [
    {
     "name": "stdout",
     "output_type": "stream",
     "text": [
      "0\n"
     ]
    }
   ],
   "source": [
    "numlist = [1, 3, 2, 5, 2, 0]\n",
    "minnum = numlist[0]\n",
    "for num in numlist[1:]:\n",
    "    if num < minnum:\n",
    "        minnum = num\n",
    "print(minnum)"
   ]
  },
  {
   "cell_type": "markdown",
   "metadata": {},
   "source": [
    "\n",
    "One slightly subtle thing to note here is the use of the list slice, to avoid redundantly processing `numlist[0]` in our `for` loop (why would the processing be redundant without this?).\n"
   ]
  },
  {
   "cell_type": "markdown",
   "metadata": {},
   "source": [
    "# From <code data-lang=\"py3\">while</code> to <code data-lang=\"py3\">for</code> (Part 3)"
   ]
  },
  {
   "cell_type": "markdown",
   "metadata": {},
   "source": [
    "Look at two equivalent loops, one `for` and one `while`:\n"
   ]
  },
  {
   "cell_type": "code",
   "execution_count": 14,
   "metadata": {},
   "outputs": [
    {
     "name": "stdout",
     "output_type": "stream",
     "text": [
      "10\n"
     ]
    }
   ],
   "source": [
    "count = 0\n",
    "for i in range(5):\n",
    "    count += i\n",
    "print(count)"
   ]
  },
  {
   "cell_type": "code",
   "execution_count": 15,
   "metadata": {},
   "outputs": [
    {
     "name": "stdout",
     "output_type": "stream",
     "text": [
      "10\n"
     ]
    }
   ],
   "source": [
    "count = 0\n",
    "i = 0\n",
    "while i < 5:\n",
    "    count += i\n",
    "    i += 1\n",
    "print(count)"
   ]
  },
  {
   "cell_type": "markdown",
   "metadata": {},
   "source": [
    "\n",
    "One way to think about loops is that they need three things. Using the `while` loop as an example:\n",
    "\n",
    "**1. Initialisation of a loop variable.**<br>\n",
    "In this case, the loop variable is `i` and it is initialised `i = 0`\n",
    "\n",
    "**2. Update of the loop variable.**<br>\n",
    "Each time the loop is run. the loop variable must change as progress happens. In this case, each iteration we increment `i += 1`.\n",
    "\n",
    "**3. Termination of the loop.**<br>\n",
    "When will the loop stop? The `while i < 5:` controls this.\n",
    "\n",
    "When converting between `for` and `while` loops, it's important to capture these three things so that you can write them into the loop. A key difference between our two types of loops is that while in a `while` loop you must write all three steps explicitly, the `for` structure handles the initialisation and update of the variable automatically: the `range()` function generates the required values of `i` and after these values are used, the loop terminates.\n",
    "\n",
    "`for` loops are more friendly in this way, and when converting from `while` to `for` you should remember which things you have to write in and which things you have to \"build\" into the structure of the loop. When converting to `while`, think about what the `for` loop is doing automatically and try to write that into explicit statements."
   ]
  },
  {
   "cell_type": "markdown",
   "metadata": {},
   "source": [
    "# For a While ..."
   ]
  },
  {
   "cell_type": "markdown",
   "metadata": {},
   "source": [
    "Let's put this into action, in rewriting a `while` loop to a `for` loop, in the context of the provided function `allnum(strlist)`, which takes a list of strings `strlist`, and returns the list of strings which are made up exclusively of digits (in the same order the strings occurred in the original).\n",
    "\n",
    "\n",
    "Note that the rewritten function should behave identically to the original, and the only changes you should make are to the `while` loop and associated variables, to rewrite it as a `for` loop. Note also that in the rewritten version of the code, you should iterate over the elements of `strlist` directly, *without indexing*. Submissions which don't conform with *both* of these will be rejected, so be sure to follow the requirements of the problem carefully!\n",
    "\n",
    "\n"
   ]
  },
  {
   "cell_type": "markdown",
   "metadata": {},
   "source": [
    "```python\n",
    "# Original while loop function\n",
    "def allnum(strlist):\n",
    "    i = 0\n",
    "    allnum_strlist = []\n",
    "    while i < len(strlist):\n",
    "        curr_str = strlist[i]\n",
    "        if curr_str.isdigit():\n",
    "            allnum_strlist.append(curr_str)\n",
    "        i = i + 1\n",
    "    return allnum_strlist\n",
    "\n",
    ">>> allnum([\"3\", \"-4\", \"5\", \"3.1416\", \"0xfff\", \"blerg!\"])\n",
    "['3', '5']\n",
    "```\n"
   ]
  },
  {
   "cell_type": "code",
   "execution_count": 16,
   "metadata": {},
   "outputs": [],
   "source": [
    "# write your code here"
   ]
  },
  {
   "cell_type": "markdown",
   "metadata": {},
   "source": [
    "# From <code data-lang=\"py3\">for</code> to <code data-lang=\"py3\">while</code> (Part 1)"
   ]
  },
  {
   "cell_type": "markdown",
   "metadata": {},
   "source": [
    "It is also worthwhile considering how to go from a `for` loop to a `while` loop, with the big thing we need to look out for being what condition to have in the `while` statement. Let's consider this relative to the following code:\n"
   ]
  },
  {
   "cell_type": "code",
   "execution_count": 17,
   "metadata": {},
   "outputs": [
    {
     "name": "stdout",
     "output_type": "stream",
     "text": [
      "['bananas', 'cantaloupes']\n"
     ]
    }
   ],
   "source": [
    "wordlist = [\"apples\", \"bananas\", \"cantaloupes\"]\n",
    "MIN_WORD_LENGTH = 7\n",
    "longwords = []\n",
    "\n",
    "for word in wordlist:\n",
    "    if len(word) >= MIN_WORD_LENGTH:\n",
    "        longwords.append(word)\n",
    "        \n",
    "print(longwords)"
   ]
  },
  {
   "cell_type": "markdown",
   "metadata": {},
   "source": [
    "\n",
    "Here, we iterate through a list of strings, and test to see if each word is at least a certain length in characters (`MIN_WORD_LENGTH`; note that the variable name is in all-caps as a Python convention for variables which have constant values in our code). For words which satisfy this criterion, we append them to `longwords`, which we print out at the end of our program.\n"
   ]
  },
  {
   "cell_type": "markdown",
   "metadata": {},
   "source": [
    "# From <code data-lang=\"py3\">for</code> to <code data-lang=\"py3\">while</code> (Part 2)"
   ]
  },
  {
   "cell_type": "markdown",
   "metadata": {},
   "source": [
    "What would this look like as a `while` loop? We need some way of iterating over the elements of the list, and a condition that is appropriate for the method of iteration.\n",
    "\n",
    "The first approach (assuming we don't need to use `wordlist` later in our code; why is this a consideration?) is to \"destructively\" work through `wordlist`, and base our `while` condition on whether there are any words left in the list, i.e.:\n"
   ]
  },
  {
   "cell_type": "code",
   "execution_count": 18,
   "metadata": {},
   "outputs": [
    {
     "name": "stdout",
     "output_type": "stream",
     "text": [
      "['bananas', 'cantaloupes']\n"
     ]
    }
   ],
   "source": [
    "wordlist = [\"apples\", \"bananas\", \"cantaloupes\"]\n",
    "MIN_WORD_LENGTH = 7\n",
    "longwords = []\n",
    "\n",
    "while wordlist:\n",
    "    if len(wordlist[0]) >= MIN_WORD_LENGTH:\n",
    "        longwords.append(wordlist[0])\n",
    "    wordlist = wordlist[1:]\n",
    "    \n",
    "print(longwords)"
   ]
  },
  {
   "cell_type": "markdown",
   "metadata": {},
   "source": [
    "\n",
    "The second approach, which doesn't involve any mutation of the list, is to use a list index, and a `while` condition over the length of the list:\n"
   ]
  },
  {
   "cell_type": "code",
   "execution_count": 19,
   "metadata": {},
   "outputs": [
    {
     "name": "stdout",
     "output_type": "stream",
     "text": [
      "['bananas', 'cantaloupes']\n"
     ]
    }
   ],
   "source": [
    "wordlist = [\"apples\", \"bananas\", \"cantaloupes\"]\n",
    "MIN_WORD_LENGTH = 7\n",
    "longwords = []\n",
    "\n",
    "i = 0\n",
    "while i < len(wordlist):\n",
    "    if len(wordlist[i]) >= MIN_WORD_LENGTH:\n",
    "        longwords.append(wordlist[i])\n",
    "    i += 1\n",
    "    \n",
    "print(longwords)"
   ]
  },
  {
   "cell_type": "markdown",
   "metadata": {},
   "source": [
    "# While a For ..."
   ]
  },
  {
   "cell_type": "markdown",
   "metadata": {},
   "source": [
    "OK, time now to rewrite a `for` loop as a `while` loop.\n",
    "\n",
    "\n",
    "Mr Frodo is having second thoughts about the trip to Mordor. Being both a superstitious little chap and a [Dungeons and Dragons](https://en.wikipedia.org/wiki/Dungeons_%26_Dragons) fan, he carries a 20-sided die wherever he goes. He decides that he will roll the die a fixed number of times, and if his favourite number comes up, he will go to Mordor, and if not, he will return to the Shire. We will simulate the 20-sided die through the use of the `randint` function from the `random` library (a topic that we will cover properly in Worksheet 13; for now, just accept that `from random import randint` gives you access to the function, which returns a random integer between the values of the first and second arguments, inclusive).\n",
    "\n",
    "\n",
    "Given the provided function `luck_tester(lucky_number, max_rolls, die_size)`, which takes as arguments: (1) a lucky number `lucky_number` (3 in Mr Frodo's case: [the number of trolls his uncle encountered in the Trollshaws](http://lotr.wikia.com/wiki/Tom,_Bert,_and_William)); (2) the maximum number of die rolls `max_rolls`; and (3) the die size `die_size` (in terms of the number of sides the die has; 20 in Mr Frodo's case); all can be assumed to be integers. The function should return a string, of value depending on whether the lucky number comes up in the provided number of rolls of the die or not; the precise strings are provided in the original code.\n",
    "\n",
    "\n",
    "Note that rewritten function should behave identically to the original, and the only changes you should make are to the `for` loop and associated variables, to rewrite it as a `while` loop. Submissions which don't do this will be rejected, so be sure to follow the requirements of the problem carefully!\n",
    "\n",
    "\n"
   ]
  },
  {
   "cell_type": "markdown",
   "metadata": {},
   "source": [
    "```python\n",
    "# Original for loop\n",
    "def luck_tester(lucky_number, max_rolls, die_size):\n",
    "    # import the `randint` function\n",
    "    from random import randint\n",
    "\n",
    "    for _draws in range(1, max_rolls + 1):\n",
    "        # simulate the rolling of the die, and check whether it\n",
    "        # is the provided lucky number\n",
    "        if randint(1, die_size) == lucky_number:\n",
    "            return 'Off to Mordor!'\n",
    "\n",
    "    return 'Back to the Shire!'\n",
    "\n",
    ">>> luck_tester(42, 10, 20)\n",
    "'Back to the Shire!'\n",
    "```"
   ]
  },
  {
   "cell_type": "markdown",
   "metadata": {},
   "source": [
    "\n",
    "\n",
    "Dummy Variables\n",
    "---------------\n",
    "\n",
    "\n",
    "You may have noticed the use of the underscore at the start of the variable name in the original `for` loop. This is a common way of indicating that the variable isn't actually referred to anywhere in the code, and is hence a \"dummy\" variable. There needs to be a variable there, as part of the syntax of the `for` construct, but we actually don't care about the value of the variable.\n",
    "\n",
    "\n"
   ]
  },
  {
   "cell_type": "code",
   "execution_count": 20,
   "metadata": {},
   "outputs": [],
   "source": [
    "# write your code here"
   ]
  },
  {
   "cell_type": "markdown",
   "metadata": {},
   "source": [
    "# Choosing between <code data-lang=\"py3\">for</code> and <code data-lang=\"py3\">while</code>"
   ]
  },
  {
   "cell_type": "markdown",
   "metadata": {},
   "source": [
    "All of this begs the question of when to use `for` and when to use `while`.\n",
    "\n",
    "As we have hopefully observed in the examples, `while` loops are slightly \"fiddlier\" than `for` loops, in that we need to set up a test in the `while` condition, and make sure to update the variable in the test appropriately in the body of our code. In programming, \"fiddlier\"/more lines of code tends to correlate with \"greater margin for error\", and as such `for` loops should be your default choice. In fact, expect/aim to use `for` much more than `while`. Having said that, there are occasional instances of `while` leading to cleaner code, e.g. in cases where you know that you won't need to iterate over all of the elements in the iterable, such as checking for the existence of an element of a particular type in an iterable, e.g.:\n"
   ]
  },
  {
   "cell_type": "code",
   "execution_count": 21,
   "metadata": {},
   "outputs": [
    {
     "name": "stdout",
     "output_type": "stream",
     "text": [
      "[3, 1, -1, 0] contains negative number(s)\n"
     ]
    }
   ],
   "source": [
    "numlist = [3, 1, -1, 0]\n",
    "found_negative = False\n",
    "i = 0\n",
    "\n",
    "while (not found_negative) and i < len(numlist):\n",
    "    if numlist[i] < 0:\n",
    "        found_negative = True\n",
    "        print(\"{} contains negative number(s)\".format(numlist))\n",
    "    i += 1\n",
    "    \n",
    "if not found_negative:\n",
    "    print(\"{} DOESN'T contain any negative numbers\".format(numlist))"
   ]
  },
  {
   "cell_type": "markdown",
   "metadata": {},
   "source": [
    "\n",
    "The important thing to observe here is how we are using `found_negative` to keep track of whether we have found a negative value or not, and that this also determines whether we keep iterating over the list or not (noting that we never actually check any values after we find the first negative value). Yes, it's possible to do a similar thing with a `for` loop (noting that `break` can equally be used with a `for` loop), but the logic is arguably cleaner with a `while` loop.\n"
   ]
  },
  {
   "cell_type": "markdown",
   "metadata": {},
   "source": [
    "# Left triangle"
   ]
  },
  {
   "cell_type": "markdown",
   "metadata": {},
   "source": [
    "Write a program that uses iteration to print a left-aligned right-angled isosceles triangle with a height specified by the user's keyboard input (a non-negative integer). A **left-aligned** triangle is as follows:\n",
    "\n",
    "\n"
   ]
  },
  {
   "cell_type": "markdown",
   "metadata": {},
   "source": [
    "```python\n",
    "Enter height: 6\n",
    "*\n",
    "**\n",
    "***\n",
    "****\n",
    "*****\n",
    "******\n",
    "```"
   ]
  },
  {
   "cell_type": "code",
   "execution_count": 22,
   "metadata": {},
   "outputs": [],
   "source": [
    "# write your code here"
   ]
  },
  {
   "cell_type": "markdown",
   "metadata": {},
   "source": [
    "# Diamond"
   ]
  },
  {
   "cell_type": "markdown",
   "metadata": {},
   "source": [
    "Write a program to print a diamond made up of left- and right-aligned right-angled isosceles triangles, all of positive integer height specified by the user's keyboard input, as follows:\n",
    "\n",
    "\n"
   ]
  },
  {
   "cell_type": "markdown",
   "metadata": {},
   "source": [
    "```python\n",
    "Enter triangle height: 6\n",
    "************\n",
    "***** *****\n",
    "**** ****\n",
    "*** ***\n",
    "** **\n",
    "* *\n",
    "** **\n",
    "*** ***\n",
    "**** ****\n",
    "***** *****\n",
    "************\n",
    "```\n"
   ]
  },
  {
   "cell_type": "code",
   "execution_count": 23,
   "metadata": {},
   "outputs": [],
   "source": [
    "# write your code here"
   ]
  },
  {
   "cell_type": "markdown",
   "metadata": {},
   "source": [
    "# Credit card validation problem"
   ]
  },
  {
   "cell_type": "markdown",
   "metadata": {},
   "source": [
    "Assume that the Internet connection at your retail store is temporarily down and you need to quickly validate a customer's credit card number before sending it off for debit authorization. A credit card number is valid if it has 16 digits and the sum of all digits is a multiple of 10, and invalid otherwise. Write a function `validate_card(cardnum)` which takes a string of digits `cardnum` as input (e.g. `'1111111111120133'`) and returns `True` if `cardnum` is a valid credit card number, and `False` otherwise.\n",
    "\n",
    "\n",
    "You function should work like this:\n",
    "\n",
    "\n"
   ]
  },
  {
   "cell_type": "markdown",
   "metadata": {},
   "source": [
    "```python\n",
    "print(validate_card('1111111111111133'))\n",
    "print(validate_card('1111111111111111'))\n",
    "print(validate_card('1111111111'))\n",
    "```"
   ]
  },
  {
   "cell_type": "raw",
   "metadata": {},
   "source": [
    "True\n",
    "False\n",
    "False"
   ]
  },
  {
   "cell_type": "markdown",
   "metadata": {},
   "source": [
    "\n",
    "You may assume that only digits (numbers, not letters) appear in the input argument.\n",
    "\n",
    "\n",
    "\n",
    "> Hint\n",
    "> ----\n",
    "A general way to check whether a number is a multiple of $n$ is to use the \"modulus\" operator (`%` in Python), which returns the remainder when that number is divided by $n$. For example:"
   ]
  },
  {
   "cell_type": "code",
   "execution_count": 24,
   "metadata": {},
   "outputs": [
    {
     "name": "stdout",
     "output_type": "stream",
     "text": [
      "1\n",
      "5\n",
      "3\n"
     ]
    }
   ],
   "source": [
    "print(101 % 10)\n",
    "print(12 % 7)\n",
    "print(7 % 4)"
   ]
  },
  {
   "cell_type": "code",
   "execution_count": 25,
   "metadata": {},
   "outputs": [],
   "source": [
    "# write your code here"
   ]
  }
 ],
 "metadata": {
  "kernelspec": {
   "display_name": "Python 3 (ipykernel)",
   "language": "python",
   "name": "python3"
  },
  "language_info": {
   "codemirror_mode": {
    "name": "ipython",
    "version": 3
   },
   "file_extension": ".py",
   "mimetype": "text/x-python",
   "name": "python",
   "nbconvert_exporter": "python",
   "pygments_lexer": "ipython3",
   "version": "3.8.10"
  },
  "latex_envs": {
   "LaTeX_envs_menu_present": true,
   "autoclose": false,
   "autocomplete": true,
   "bibliofile": "biblio.bib",
   "cite_by": "apalike",
   "current_citInitial": 1,
   "eqLabelWithNumbers": true,
   "eqNumInitial": 1,
   "hotkeys": {
    "equation": "Ctrl-E",
    "itemize": "Ctrl-I"
   },
   "labels_anchors": false,
   "latex_user_defs": false,
   "report_style_numbering": false,
   "user_envs_cfg": false
  },
  "toc": {
   "base_numbering": 1,
   "nav_menu": {},
   "number_sections": true,
   "sideBar": true,
   "skip_h1_title": false,
   "title_cell": "Table of Contents",
   "title_sidebar": "Contents",
   "toc_cell": false,
   "toc_position": {},
   "toc_section_display": true,
   "toc_window_display": false
  },
  "varInspector": {
   "cols": {
    "lenName": 16,
    "lenType": 16,
    "lenVar": 40
   },
   "kernels_config": {
    "python": {
     "delete_cmd_postfix": "",
     "delete_cmd_prefix": "del ",
     "library": "var_list.py",
     "varRefreshCmd": "print(var_dic_list())"
    },
    "r": {
     "delete_cmd_postfix": ") ",
     "delete_cmd_prefix": "rm(",
     "library": "var_list.r",
     "varRefreshCmd": "cat(var_dic_list()) "
    }
   },
   "types_to_exclude": [
    "module",
    "function",
    "builtin_function_or_method",
    "instance",
    "_Feature"
   ],
   "window_display": false
  }
 },
 "nbformat": 4,
 "nbformat_minor": 1
}
