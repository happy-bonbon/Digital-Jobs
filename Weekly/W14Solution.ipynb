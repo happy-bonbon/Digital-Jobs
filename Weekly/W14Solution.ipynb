{
 "cells": [
  {
   "cell_type": "raw",
   "metadata": {},
   "source": [
    "List comprehensions can be baffling to incomprehensible at first (joke!), so let's get some experience pulling a list comprehension apart into code that you are more familiar with. Given the following mystery function, write an equivalent function aha(minval, maxval) with the exact same functionality but which doesn't make use of list comprehensions.\n",
    "\n",
    "def mystery(minval, maxval):\n",
    "    return [i**2 % 10 for i in range(minval, maxval + 1)]\n",
    "For example:\n",
    "\n",
    ">>> aha(3, 7)\n",
    "[9, 6, 5, 6, 9]\n",
    ">>> aha(0, 10)\n",
    "[0, 1, 4, 9, 6, 5, 6, 9, 4, 1, 0]"
   ]
  },
  {
   "cell_type": "code",
   "execution_count": 1,
   "metadata": {},
   "outputs": [],
   "source": [
    "def aha(minval, maxval):\n",
    "    output = []\n",
    "    for i in range(minval, maxval + 1):\n",
    "        output.append(i**2 % 10)\n",
    "    return output"
   ]
  },
  {
   "cell_type": "raw",
   "metadata": {},
   "source": [
    "A very silly sysadmin has written down the password to a computer that has access to the top-secret military intelligence servers of the G'Gugvuntts. They half-heartedly tore the piece of paper into three pieces and threw it in the rubbish. You are part of the Vl'hurg Secret Service, and have been charged with placing a worm on their computer which will surreptitiously encrypt their hard drive, so that only you will have access to their data.\n",
    "\n",
    "An agent on the ground has been pretending to be a garbage truck driver and has found the middle piece of the paper with the password written on it, based on which you know that the password contains:\n",
    "\n",
    "Horse20\n",
    "\n",
    "From psycho-analysis of the sysadmin, we know that the first part of the password is generated from the concatenation of 2 of the following words in some order:\n",
    "\n",
    "LIKELY_WORDS = [\"Frenchy\", \"INTENSE\", \"ComputerScienceFTW\", \"HelloMrGumby\"]\n",
    "We also know that the last two digits of the password will be the age of the sysadmin's cat. This is yet to be determined by the agent but they are certain that it's no more than Creme Puff, who was 38 (and at least \"00\", of course, noting that whatever number it is, it must be rendered as two digits!).\n",
    "\n",
    "For example, one possible password based on this intelligence is \"HelloMrGumbyComputerScienceFTWHorse2007\". Yep, for all their faults, the sysadmin must be an accurate and patient typist!\n",
    "\n",
    "Write a function hack_it(start, middle, end) which takes three arguments as input: (1) start, a list of at least two words from which the first part of the password is formed; (2) middle, a string containing the middle part of the password; and (3) end, an integer defining the maximum age for the sysadmin's cat. The arguments should be set to the pre-defined constants LIKELY_WORDS, MIDDLE, and CREME_PUFF, respectively, by default. The function should return a list of all possible password strings, to use in a brute-force password attack.r"
   ]
  },
  {
   "cell_type": "code",
   "execution_count": null,
   "metadata": {},
   "outputs": [],
   "source": [
    "from itertools import permutations\n",
    "\n",
    "LIKELY_WORDS = [\"Frenchy\", \"INTENSE\", \"ComputerScienceFTW\", \"HelloMrGumby\"]\n",
    "MIDDLE = \"Horse20\"\n",
    "CREME_PUFF = 38\n",
    "\n",
    "def hack_it(start=LIKELY_WORDS, middle=MIDDLE, end=CREME_PUFF):\n",
    "    passwords = []\n",
    "    for first_bit in permutations(start, 2):\n",
    "        for last_bit in range(end + 1):\n",
    "            passwords.append(\"{}{}{:02d}\".format(\"\".join(first_bit), \n",
    "                                                 middle, last_bit))\n",
    "    return passwords"
   ]
  }
 ],
 "metadata": {
  "kernelspec": {
   "display_name": "Python 3",
   "language": "python",
   "name": "python3"
  },
  "language_info": {
   "codemirror_mode": {
    "name": "ipython",
    "version": 3
   },
   "file_extension": ".py",
   "mimetype": "text/x-python",
   "name": "python",
   "nbconvert_exporter": "python",
   "pygments_lexer": "ipython3",
   "version": "3.8.5"
  }
 },
 "nbformat": 4,
 "nbformat_minor": 4
}
