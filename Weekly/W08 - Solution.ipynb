{
 "cells": [
  {
   "cell_type": "raw",
   "metadata": {},
   "source": [
    "Write a program that takes values num and N as input and prints the first N lines of an exponential table for num starting from 1, where both N and num are strictly positive integers. For example:\n",
    "\n",
    "Enter the number for 'num': 4\n",
    "Enter the number for 'N': 10\n",
    "1 ** 4 = 1\n",
    "2 ** 4 = 16\n",
    "3 ** 4 = 81\n",
    "4 ** 4 = 256\n",
    "5 ** 4 = 625\n",
    "6 ** 4 = 1296\n",
    "7 ** 4 = 2401\n",
    "8 ** 4 = 4096\n",
    "9 ** 4 = 6561\n",
    "10 ** 4 = 10000\n",
    "Enter the number for 'num': 1\n",
    "Enter the number for 'N': 1\n",
    "1 ** 1 = 1\n",
    "On an invalid input for either num or N, it should fail as follows:\n",
    "\n",
    "Enter the number for 'num': 'blarg!'\n",
    "Enter the number for 'N': 1\n",
    "Invalid input\n",
    "Enter the number for 'num': 4\n",
    "Enter the number for 'N': 1.0\n",
    "Invalid input"
   ]
  },
  {
   "cell_type": "code",
   "execution_count": null,
   "metadata": {},
   "outputs": [],
   "source": [
    "num = input(\"Enter the number for 'num': \")\n",
    "N = input(\"Enter the number for 'N': \")\n",
    "valid_input = False\n",
    "if num.isdigit() and N.isdigit():\n",
    "    num = int(num)\n",
    "    N = int(N)\n",
    "    if num > 0 and N > 0:\n",
    "        valid_input = True\n",
    "        count = 1\n",
    "        while count <= N:\n",
    "            print(f\"{count} ** {num} = {count**num}\")\n",
    "            count += 1\n",
    "        \n",
    "if not valid_input:\n",
    "    print(\"Invalid input\")"
   ]
  },
  {
   "cell_type": "raw",
   "metadata": {},
   "source": [
    "In this problem you will write a program that prints a list of words that share the same suffix. First, your program must ask the user to enter all of the words separated by a space. Then your program must ask for the common suffix shared by every word. Form words by taking each word and adding the second string to it.\n",
    "\n",
    "For example, if the initial words are bake cake lake make rake take wake and the suffix is s, then the first word will be bakes (bake + s), followed by cakes, lakes, makes, rakes, takes, and wakes.\n",
    "\n",
    "Your program should generate all the words and print them one line at a time. Use the .split() method to turn the string of words into a list and then use a for loop to access each word. The output of your program should look like this:\n",
    "\n",
    "Enter the list of words: bake cake lake make rake take wake\n",
    "Enter the common suffix: s\n",
    "bakes\n",
    "cakes\n",
    "lakes\n",
    "makes\n",
    "rakes\n",
    "takes\n",
    "wakes"
   ]
  },
  {
   "cell_type": "code",
   "execution_count": null,
   "metadata": {},
   "outputs": [],
   "source": [
    "prefix = input('Enter the list of words: ').split()\n",
    "suffix = input('Enter the common suffix: ')\n",
    "for word in prefix:\n",
    "    print(word + suffix)"
   ]
  },
  {
   "cell_type": "raw",
   "metadata": {},
   "source": [
    "A gamer's tag is a distinct username you use to identify yourself in an online gaming community. With the size of such communities growing, it is highly likely that a simple tag such as your name might already be taken. You could still choose to use your name as the tag albeit with slight modifications like inserting a hyphen (-) after each letter. For example, if your name is Richard, the gamer's tag would be R-i-c-h-a-r-d-.\n",
    "\n",
    "Write a function make_gamertag(name) which returns the gamer's tag when given the user's name as a string. Your function should work like this:\n",
    "\n",
    ">>> make_gamertag('Alex')\n",
    "'A-l-e-x-'"
   ]
  },
  {
   "cell_type": "code",
   "execution_count": null,
   "metadata": {},
   "outputs": [],
   "source": [
    "def make_gamertag(name):\n",
    "    gamertag = ''\n",
    "    for a in name:\n",
    "        gamertag = gamertag + a + '-'\n",
    "    return gamertag"
   ]
  },
  {
   "cell_type": "raw",
   "metadata": {},
   "source": [
    "Let's put this into action, in rewriting a while loop to a for loop, in the context of the provided function allnum(strlist), which takes a list of strings strlist, and returns the list of strings which are made up exclusively of digits (in the same order the strings occurred in the original).\n",
    "\n",
    "Note that the rewritten function should behave identically to the original, and the only changes you should make are to the while loop and associated variables, to rewrite it as a for loop. Note also that in the rewritten version of the code, you should iterate over the elements of strlist directly, without indexing. Submissions which don't conform with both of these will be rejected, so be sure to follow the requirements of the problem carefully!\n",
    "\n",
    ">>> allnum([\"3\", \"-4\", \"5\", \"3.1416\", \"0xfff\", \"blerg!\"])\n",
    "['3', '5']"
   ]
  },
  {
   "cell_type": "code",
   "execution_count": null,
   "metadata": {},
   "outputs": [],
   "source": [
    "def allnum(strlist):\n",
    "    allnum_strlist = []\n",
    "    for curr_str in strlist:\n",
    "        if curr_str.isdigit():\n",
    "            allnum_strlist.append(curr_str)\n",
    "    return allnum_strlist"
   ]
  },
  {
   "cell_type": "raw",
   "metadata": {},
   "source": [
    "Given the provided function luck_tester(lucky_number, max_rolls, die_size), which takes as arguments: (1) a lucky number lucky_number (3 in Mr Frodo's case: the number of trolls his uncle encountered in the Trollshaws); (2) the maximum number of die rolls max_rolls; and (3) the die size die_size (in terms of the number of sides the die has; 20 in Mr Frodo's case); all can be assumed to be integers. The function should return a string, of value depending on whether the lucky number comes up in the provided number of rolls of the die or not; the precise strings are provided in the original code.\n",
    "\n",
    "Note that rewritten function should behave identically to the original, and the only changes you should make are to the for loop and associated variables, to rewrite it as a while loop. Submissions which don't do this will be rejected, so be sure to follow the requirements of the problem carefully!\n",
    "\n",
    ">>> luck_tester(42, 10, 20)\n",
    "'Back to the Shire!'\n",
    "'Back to the Shire!'\n"
   ]
  },
  {
   "cell_type": "code",
   "execution_count": null,
   "metadata": {},
   "outputs": [],
   "source": [
    "def luck_tester(lucky_number, max_rolls, die_size):\n",
    "    from random import randint\n",
    "\n",
    "    draws = 0\n",
    "    while draws < max_rolls:\n",
    "        if randint(1, die_size) == lucky_number:\n",
    "            return 'Off to Mordor!'\n",
    "        draws += 1\n",
    "    return 'Back to the Shire!'"
   ]
  },
  {
   "cell_type": "raw",
   "metadata": {},
   "source": [
    "Write a program that uses iteration to print a left-aligned right-angled isosceles triangle with a height specified by the user's keyboard input (a non-negative integer). A left-aligned triangle is as follows:\n",
    "\n",
    "Enter height: 6\n",
    "*\n",
    "**\n",
    "***\n",
    "****\n",
    "*****\n",
    "******"
   ]
  },
  {
   "cell_type": "code",
   "execution_count": null,
   "metadata": {},
   "outputs": [],
   "source": [
    "height = int(input(\"Enter height: \"))\n",
    "count = 1\n",
    "while count <= height:\n",
    "    print('*' * count)\n",
    "    count += 1"
   ]
  },
  {
   "cell_type": "code",
   "execution_count": null,
   "metadata": {},
   "outputs": [],
   "source": [
    "height = int(input(\"Enter height: \"))\n",
    "for i in range(1, height + 1):\n",
    "    print(i * '*')"
   ]
  },
  {
   "cell_type": "raw",
   "metadata": {},
   "source": [
    "Write a program to print a diamond made up of left- and right-aligned right-angled isosceles triangles, all of positive integer height specified by the user's keyboard input, as follows:\n",
    "\n",
    "Enter triangle height: 6\n",
    "************\n",
    "*****  *****\n",
    "****    ****\n",
    "***      ***\n",
    "**        **\n",
    "*          *\n",
    "**        **\n",
    "***      ***\n",
    "****    ****\n",
    "*****  *****\n",
    "************"
   ]
  },
  {
   "cell_type": "code",
   "execution_count": null,
   "metadata": {},
   "outputs": [],
   "source": [
    "height = int(input(\"Enter triangle height: \"))\n",
    "count = height\n",
    "while count > 1:\n",
    "    print(count * '*' + 2 * (height - count) * ' ' + '*' * count)\n",
    "    count -= 1\n",
    "while count <= height:\n",
    "    print(count * '*' + 2 * (height - count) * ' ' + '*' * count)\n",
    "    count += 1"
   ]
  },
  {
   "cell_type": "code",
   "execution_count": null,
   "metadata": {},
   "outputs": [],
   "source": [
    "def print_line(n_asterisk, half_width):\n",
    "    print(\"{:<{half_width}}\".format(n_asterisk * \"*\", half_width=half_width) + \n",
    "          \"{:>{half_width}}\".format(n_asterisk * \"*\", half_width=half_width))\n",
    "\n",
    "height = int(input(\"Enter triangle height: \"))\n",
    "for i in range(height, 0, -1):\n",
    "    print_line(i, height)\n",
    "  \n",
    "for i in range(2, height + 1):\n",
    "    print_line(i, height)"
   ]
  },
  {
   "cell_type": "raw",
   "metadata": {},
   "source": [
    "Assume that the Internet connection at your retail store is temporarily down and you need to quickly validate a customer's credit card number before sending it off for debit authorization. A credit card number is valid if it has 16 digits and the sum of all digits is a multiple of 10, and invalid otherwise. Write a function validate_card(cardnum) which takes a string of digits cardnum as input (e.g. '1111111111120133') and returns True if cardnum is a valid credit card number, and False otherwise.\n",
    "\n",
    "You function should work like this:\n",
    "\n",
    "print(validate_card('1111111111111133'))\n",
    "print(validate_card('1111111111111111'))\n",
    "print(validate_card('1111111111'))\n",
    "True\n",
    "False\n",
    "False\n",
    "\n",
    "You may assume that only digits (numbers, not letters) appear in the input argument."
   ]
  },
  {
   "cell_type": "code",
   "execution_count": null,
   "metadata": {},
   "outputs": [],
   "source": [
    "def validate_card(cardnum):\n",
    "    total = 0\n",
    "    for digit in cardnum:\n",
    "        total = total + int(digit)\n",
    "    if len(cardnum) != 16 or total % 10 != 0:\n",
    "        return False\n",
    "    else:\n",
    "        return True"
   ]
  },
  {
   "cell_type": "code",
   "execution_count": null,
   "metadata": {},
   "outputs": [],
   "source": [
    "def validate_card(cardnum):\n",
    "    total = 0\n",
    "    for digit in cardnum:\n",
    "        total = total + int(digit)\n",
    "    return len(cardnum) == 16 and total % 10 == 0"
   ]
  }
 ],
 "metadata": {
  "kernelspec": {
   "display_name": "Python 3",
   "language": "python",
   "name": "python3"
  },
  "language_info": {
   "codemirror_mode": {
    "name": "ipython",
    "version": 3
   },
   "file_extension": ".py",
   "mimetype": "text/x-python",
   "name": "python",
   "nbconvert_exporter": "python",
   "pygments_lexer": "ipython3",
   "version": "3.8.5"
  }
 },
 "nbformat": 4,
 "nbformat_minor": 4
}
