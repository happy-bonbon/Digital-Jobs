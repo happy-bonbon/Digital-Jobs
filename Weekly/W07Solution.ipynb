{
 "cells": [
  {
   "cell_type": "raw",
   "metadata": {},
   "source": [
    "Write a function check_move(column, row) which returns a string describing a chess move to a given row and column on the chess board. Your program must check if the row and column entered are both valid. The column in a chess board is a letter ranging from A to H (inclusive) and the row is a number between 1 and 8 (inclusive).\n",
    "\n",
    "column will be given to your function as a string and row will be given as an integer.\n",
    "'A' or 'E' are valid columns but 'a' or 'L' are not.\n",
    "Similarly, 2 and 8 are valid rows but 0 and 9 are not.\n",
    "If both coordinates are valid, such as 'E' and 2, your function must return 'The piece is moved to E2.', otherwise it returns 'The position is not valid.'.\n",
    "\n",
    "For example, check_move should work like this with valid arguments:\n",
    "\n",
    ">>> check_move('B', 4)\n",
    "'The piece is moved to B4.'\n",
    "\n",
    "and like this on invalid arguments:\n",
    "\n",
    ">>> check_move('b', 4)\n",
    "'The position is not valid.'\n",
    ">>> check_move('I', 4)\n",
    "'The position is not valid.'\n",
    ">>> check_move('F', 9)\n",
    "'The position is not valid.'"
   ]
  },
  {
   "cell_type": "code",
   "execution_count": 1,
   "metadata": {},
   "outputs": [],
   "source": [
    "def check_move(column, row):\n",
    "    if len(column) == 1 and 'A' <= column <= 'H' and 1 <= row <= 8:\n",
    "        return f'The piece is moved to {column}{row}.'\n",
    "    else:\n",
    "        return 'The position is not valid.'"
   ]
  },
  {
   "cell_type": "raw",
   "metadata": {},
   "source": [
    "Write a new version of your algebraic chess notation validation function check_move such that it also allows the input of lower case letters. That is, columns such as 'a' or 'f' are now accepted as well.\n",
    "\n",
    "Your function should behave like this:\n",
    "\n",
    ">>> check_move('B', 4)\n",
    "'The piece is moved to B4.'\n",
    ">>> check_move('b', 4)\n",
    "'The piece is moved to B4.'\n",
    "\n",
    "and like this on invalid arguments:\n",
    "\n",
    ">>> check_move('I', 4)\n",
    "'The position is not valid.'\n",
    ">>> check_move('F', 9)\n",
    "'The position is not valid.'"
   ]
  },
  {
   "cell_type": "code",
   "execution_count": 2,
   "metadata": {},
   "outputs": [],
   "source": [
    "def check_move(column, row):\n",
    "    upper_column = column.upper()\n",
    "    if len(column) == 1 and 'A' <= upper_column <= 'H' and 1 <= row <= 8:\n",
    "        return f'The piece is moved to {upper_column}{row}.'\n",
    "    else:\n",
    "        return 'The position is not valid.'"
   ]
  },
  {
   "cell_type": "code",
   "execution_count": 3,
   "metadata": {},
   "outputs": [],
   "source": [
    "def check_move(column, row):\n",
    "    upper_column = column.upper()\n",
    "    if len(column) == 1 and upper_column in 'ABCDEFGH' and 1 <= row <= 8:\n",
    "        return f'The piece is moved to {upper_column}{row}.'\n",
    "    else:\n",
    "        return 'The position is not valid.'"
   ]
  },
  {
   "cell_type": "raw",
   "metadata": {},
   "source": [
    "Write a new version of check_move() where, when there is an error in the chess move, the returned message specifies whether it is column or row value that is out of range:\n",
    "\n",
    "If the column value is out of range (regardless of whether the row value is in our out of range) return 'The column value is not in the range a-h or A-H!'.\n",
    "If the column value is in range but the the row value is out of range, return 'The row value is not in the range 1 to 8!'.\n",
    "If both column and row values are in range, return 'The piece is moved to <COLUMN><ROW>.' as in the previous problems.\n",
    "Your function should now work like this for invalid arguments:\n",
    "\n",
    ">>> check_move('I', 4)\n",
    "'The column value is not in the range a-h or A-H!'\n",
    ">>> check_move('F', 9)\n",
    "'The row value is not in the range 1 to 8!'\n",
    ">>> check_move('I', 9)\n",
    "'The column value is not in the range a-h or A-H!'\n",
    ">>> check_move('B', 4)\n",
    "'The piece is moved to B4'"
   ]
  },
  {
   "cell_type": "code",
   "execution_count": 4,
   "metadata": {},
   "outputs": [],
   "source": [
    "def check_move(column, row):\n",
    "    upper_column = column.upper()\n",
    "    if len(column) != 1 or not 'A' <= upper_column <= 'H':\n",
    "        return 'The column value is not in the range a-h or A-H!'\n",
    "    elif not (1 <= row <= 8):\n",
    "        return 'The row value is not in the range 1 to 8!'\n",
    "    else:\n",
    "        return f'The piece is moved to {upper_column}{row}.'"
   ]
  },
  {
   "cell_type": "code",
   "execution_count": 5,
   "metadata": {},
   "outputs": [],
   "source": [
    "def check_move(column, row):\n",
    "    upper_column = column.upper()\n",
    "    if len(column) != 1 or upper_column not in 'ABCDEFGH':\n",
    "        return 'The column value is not in the range a-h or A-H!'\n",
    "    if row < 1 or row > 8:\n",
    "        return 'The row value is not in the range 1 to 8!'\n",
    "    return f'The piece is moved to {upper_column}{row}.'"
   ]
  },
  {
   "cell_type": "raw",
   "metadata": {},
   "source": [
    "Previously, your check_move function took two separate arguments: a column and a row value. Now you will rewrite the function to accept the board position as a single string argument. In other words, write check_move(position) which takes position strings such as 'B5' that include both the column and the row value of a chess board.\n",
    "\n",
    "When both the coordinates in position are valid, for example, 'c4', the function returns 'The piece is moved to C4.'.\n",
    "If position has too many or too few characters, return 'The position is not valid.'\n",
    "If the first coordinate is out of range (regardless of whether the second one is or not) return 'The column value is not in the range a-h or A-H!'.\n",
    "Otherwise, if the second coordinate is out of range, return 'The row value is not in the range 1 to 8!'.\n",
    "Note that, irrespective of the casing of the column value, your code should output the value in upper case.\n",
    "\n",
    "Your function should work like this:\n",
    "\n",
    ">>> check_move('B4')\n",
    "'The piece is moved to B4.'\n",
    ">>> check_move('b4')\n",
    "'The piece is moved to B4.'\n",
    "\n",
    "and like this with an invalid position:\n",
    "\n",
    ">>> check_move('I4')\n",
    "'The column value is not in the range a-h or A-H!'\n",
    ">>> check_move('F9')\n",
    "'The row value is not in the range 1 to 8!'\n",
    ">>> check_move('A')\n",
    "'The position is not valid.'"
   ]
  },
  {
   "cell_type": "code",
   "execution_count": 6,
   "metadata": {},
   "outputs": [],
   "source": [
    "# Enter your code for \"Chess Problem v4\" here.\n",
    "def check_move(position):\n",
    "    if len(position) != 2:\n",
    "        return 'The position is not valid.'\n",
    "    else:\n",
    "        column = position[0]\n",
    "        row = position[1]\n",
    "        if not 'A' <= column.upper() <= 'H':\n",
    "            return 'The column value is not in the range a-h or A-H!'\n",
    "        elif not ('1' <= row <= '8'):\n",
    "            return 'The row value is not in the range 1 to 8!'\n",
    "        else:\n",
    "            return f'The piece is moved to {column.upper()}{row}.'"
   ]
  },
  {
   "cell_type": "code",
   "execution_count": 7,
   "metadata": {},
   "outputs": [],
   "source": [
    "def check_move(position):\n",
    "    if len(position) != 2:\n",
    "        return 'The position is not valid.'\n",
    "    col = position[0]\n",
    "    row = position[1]\n",
    "    if not (col.upper() in 'ABCDEFGH'):\n",
    "        return 'The column value is not in the range a-h or A-H!'\n",
    "    if row not in '12345678':\n",
    "        return 'The row value is not in the range 1 to 8!'\n",
    "    return f'The piece is moved to {col.upper()}{row}.'"
   ]
  },
  {
   "cell_type": "raw",
   "metadata": {},
   "source": [
    "The 3 digit card security code (CSC) on a credit card helps to protect against credit card fraud. Write a simple function check_csc(code) that checks if a given code is valid. The code is valid if it is three characters long and all the three characters entered are digits between 0 and 9. If the CSC is valid, your function must return True. Otherwise it must return False.\n",
    "\n",
    "Your function should work like this:\n",
    "\n",
    ">>> check_csc('023')\n",
    "True\n",
    ">>> check_csc('23')\n",
    "False\n",
    ">>> check_csc('Ab3')\n",
    "False\n",
    ">>> check_csc('')\n",
    "False"
   ]
  },
  {
   "cell_type": "code",
   "execution_count": null,
   "metadata": {},
   "outputs": [],
   "source": [
    "def check_csc(code):\n",
    "    return len(code) == 3 and code.isdigit()"
   ]
  }
 ],
 "metadata": {
  "kernelspec": {
   "display_name": "Python 3",
   "language": "python",
   "name": "python3"
  },
  "language_info": {
   "codemirror_mode": {
    "name": "ipython",
    "version": 3
   },
   "file_extension": ".py",
   "mimetype": "text/x-python",
   "name": "python",
   "nbconvert_exporter": "python",
   "pygments_lexer": "ipython3",
   "version": "3.8.5"
  }
 },
 "nbformat": 4,
 "nbformat_minor": 4
}
