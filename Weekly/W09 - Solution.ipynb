{
 "cells": [
  {
   "cell_type": "raw",
   "metadata": {},
   "source": [
    "Write a function cycle(input_list) that performs an \"in-place\" cycling of the elements of a list, moving each element one position earlier in the list. Here \"in place\" means the operation should be performed by mutating the original list, and your function should not return anything. Note that you may assume that input_list is non-empty (i.e. contains at least one element)\n",
    "\n",
    "For example:\n",
    "\n",
    ">>> l = [1, 2, 4, 5, 'd']\n",
    ">>> cycle(l)\n",
    ">>> l\n",
    "[2, 4, 5, 'd', 1]\n",
    ">>> cycle(l)\n",
    ">>> l\n",
    "[4, 5, 'd', 1, 2]"
   ]
  },
  {
   "cell_type": "code",
   "execution_count": 1,
   "metadata": {},
   "outputs": [],
   "source": [
    "def cycle(input_list):\n",
    "    \"\"\"cycle performs an in-place cycling of elements of list input_list, moving all elements one element earlier.\"\"\"\n",
    "    tmp = input_list[0]\n",
    "    for i in range(len(input_list)-1):\n",
    "        input_list[i] = input_list[i+1]\n",
    "    input_list[-1] = tmp"
   ]
  },
  {
   "cell_type": "raw",
   "metadata": {},
   "source": [
    "Now write a function cycle(input_list) that performs a cycling of the elements of a list as before, but this time returns the result as a new object and does not mutate the input argument. For example:\n",
    "\n",
    ">>> a_list = [1, 2, 4, 5, 'd']\n",
    ">>> cycle(a_list)\n",
    "[2, 4, 5, 'd', 1]\n",
    ">>> a_list\n",
    "[1, 2, 4, 5, 'd']\n",
    ">>> cycle([4, 5])\n",
    "[5, 4]"
   ]
  },
  {
   "cell_type": "code",
   "execution_count": 2,
   "metadata": {},
   "outputs": [],
   "source": [
    "def cycle(input_list):\n",
    "    new_list = input_list.copy()\n",
    "    tmp = new_list[0]\n",
    "    for i in range(len(new_list)-1):\n",
    "        new_list[i] = new_list[i+1]\n",
    "    new_list[-1] = tmp\n",
    "    return (new_list)"
   ]
  },
  {
   "cell_type": "raw",
   "metadata": {},
   "source": [
    "Your friend's computer is having a few problems. They were typing some messages to you when their space key broke, so instead of a space they have decided to use a \"@\" character. To make matters worse, their computer is stuck on CAPS LOCK so the messages they send to you are very difficult to read.\n",
    "\n",
    "Use a for loop and the .append() method to write a function wordlist(text) that takes your friend's message as a single argument text in the form of a string, and returns a list of the words which your friend sent. The words must be separated by the \"@\" symbol and converted to lower case. For example:\n",
    "\n",
    ">>> wordlist(\"HOW@MUCH@WOOD@COULD@A@WOODCHUCK@CHUCK\")\n",
    "['how', 'much', 'wood', 'could', 'a', 'woodchuck', 'chuck']\n",
    ">>> wordlist(\"SEE@YOU@AT@12PM\")\n",
    "['see', 'you', 'at', '12pm']\n",
    ">>> wordlist(\"HI\")\n",
    "['hi']"
   ]
  },
  {
   "cell_type": "code",
   "execution_count": 3,
   "metadata": {},
   "outputs": [],
   "source": [
    "def wordlist(text):\n",
    "    words = []\n",
    "    for word in text.split(\"@\"):\n",
    "        words.append(word.lower())\n",
    "    return words"
   ]
  },
  {
   "cell_type": "raw",
   "metadata": {},
   "source": [
    "Write a function sorted_words(wordlist) that takes a single list-of-words argument wordlist, and returns a sorted list of the words in wordlist where the letters are alphabetically sorted. An example of such a word is door, as there is no letter in the word that has a higher Unicode value than any letter that follows it, whereas cat is not, as c precedes a in the word (hint: the sorted function may come in handy in testing whether the letters in a word are alphabetically sorted or not). For example:\n",
    "\n",
    ">>> sorted_words([\"bet\", \"abacus\", \"act\", \"celebration\", \"door\"])\n",
    "['act', 'bet', 'door']\n",
    ">>> sorted_words(['apples', 'bananas', 'spam'])\n",
    "[]\n",
    ">>> sorted_words([\"aims\", \"Zip\"])\n",
    "['Zip', 'aims']"
   ]
  },
  {
   "cell_type": "code",
   "execution_count": 4,
   "metadata": {},
   "outputs": [],
   "source": [
    "def sorted_words(wordlist):\n",
    "    sorted_word_list = []\n",
    "    for word in wordlist:\n",
    "        if sorted(word) == list(word):\n",
    "            sorted_word_list.append(word)\n",
    "    return(sorted(sorted_word_list))"
   ]
  },
  {
   "cell_type": "raw",
   "metadata": {},
   "source": [
    "Your job is to write the function prevword_ave_len(word) which takes a single argument word (a str) and returns the average length (in characters) of the word that precedes word in the text. That is, for each occurrence of word in the text, you are to determine the (single) word which precedes it, and calculate the average length of all those preceding words. If one of the occurrences of word happens to be the first word occurring in the text, the length of the preceding word for that occurrence should be counted as zero. In the instance that word doesn't occur in the text, the function should return False. Note that we define a \"word\" to simply be a string that is delimited by \"whitespace\" (i.e. punctuation following a word is included as part of the word). Additionally, the casing in the original text (and in word) should be preserved. Please round the result to one digit after a decimal point, as it's shown in the examples.\n",
    "\n",
    ">>> prevword_ave_len('the')\n",
    "4.4\n",
    ">>> prevword_ave_len('whale')\n",
    "False\n",
    ">>> prevword_ave_len('ship.')\n",
    "3.0\n",
    ">>> prevword_ave_len('the')\n",
    "4.4\n",
    ">>> prevword_ave_len('whale')\n",
    "False\n",
    ">>> prevword_ave_len('ship.')\n",
    "3.0"
   ]
  },
  {
   "cell_type": "code",
   "execution_count": 5,
   "metadata": {},
   "outputs": [],
   "source": [
    "MOBY = \"\"\"Call me Ishmael. Some years ago - never mind how long precisely - having little or no money in my purse, and nothing particular to interest me on shore, I thought I would sail about a little and see the watery part of the world. It is a way I have of driving off the spleen and regulating the circulation. Whenever I find myself growing grim about the mouth; whenever it is a damp, drizzly November in my soul; whenever I find myself involuntarily pausing before coffin warehouses, and bringing up the rear of every funeral I meet; and especially whenever my hypos get such an upper hand of me, that it requires a strong moral principle to prevent me from deliberately stepping into the street, and methodically knocking people's hats off - then, I account it high time to get to sea as soon as I can. This is my substitute for pistol and ball. With a philosophical flourish Cato throws himself upon his sword; I quietly take to the ship. There is nothing surprising in this. If they but knew it, almost all men in their degree, some time or other, cherish very nearly the same feelings towards the ocean with me.\"\"\"\n",
    "\n",
    "def prevword_ave_len(word):\n",
    "    prevword = ''\n",
    "    total_len = total_words = 0\n",
    "    for currword in MOBY.split():\n",
    "        if currword == word:\n",
    "            total_len += len(prevword)\n",
    "            total_words += 1\n",
    "        prevword = currword\n",
    "    if total_words:\n",
    "        return(total_len/total_words)\n",
    "    else:\n",
    "        return(False)"
   ]
  },
  {
   "cell_type": "raw",
   "metadata": {},
   "source": [
    "Your task is to write a function middle_words(word_list) that returns the middle word(s) from the non-empty list-of-strings word_list. If the length of word_list is an odd number, you should return a list containing the single middle word; and if the length of word_list is an even number, you should return a list containing the two middle words, in the same order as they occurred in the word_list. For example:\n",
    "\n",
    ">>> middle_words(['Mirror', 'Mirror', 'on', 'the', 'wall'])\n",
    "[\"on\"]\n",
    ">>> middle_words(['Baa', 'baa', 'black', 'sheep', 'have', 'you', 'any', 'wool'])\n",
    "[\"sheep\", \"have\"]"
   ]
  },
  {
   "cell_type": "code",
   "execution_count": 6,
   "metadata": {},
   "outputs": [],
   "source": [
    "def middle_words(word_list):\n",
    "    \"\"\"Returns the middle word or words of a list of strings.\"\"\"\n",
    "\n",
    "    length = len(word_list)\n",
    "    half_length = int(length / 2)\n",
    "    if length % 2 == 0:\n",
    "        return word_list[half_length - 1:half_length + 1] \n",
    "    else:\n",
    "        return word_list[half_length:half_length + 1] "
   ]
  },
  {
   "cell_type": "code",
   "execution_count": 7,
   "metadata": {},
   "outputs": [],
   "source": [
    "def middle_words(word_list):\n",
    "    \"\"\"Returns the middle word or words of a list of strings.\"\"\"\n",
    "\n",
    "    length = len(word_list)\n",
    "    half_length = length // 2\n",
    "    if length % 2 == 0:\n",
    "        return word_list[half_length - 1:half_length + 1] \n",
    "    else:\n",
    "        return word_list[half_length:half_length + 1] "
   ]
  },
  {
   "cell_type": "raw",
   "metadata": {},
   "source": [
    "As you saw earlier, the .split() method will break a string into separate words, based on its default behavior of break up the string at each occurrence of whitespace.\n",
    "\n",
    "You can also use .split() to break the string on different characters. For example, you could break the string on full-stops using .split('.'). This gives you an easy (if somewhat naive) way of generating all the sentences in a string:\n",
    "\n",
    " \n",
    "string = 'Hello world. My name is Plargleflarp.'\n",
    "print(string.split('.'))\n",
    "['Hello world', ' My name is Plargleflarp', '']\n",
    "Write a function longest_sentence_length(text) that takes a single string argument text and returns the length of the longest sentence in text, measured in words. For example:\n",
    "\n",
    ">>> text = 'Hello world. My name is Plargleflarp.'\n",
    ">>> longest_sentence_length(text)\n",
    "4"
   ]
  },
  {
   "cell_type": "code",
   "execution_count": 8,
   "metadata": {},
   "outputs": [],
   "source": [
    "def longest_sentence_length(text):\n",
    "    \"\"\"Return the length of the longest sentence in text.\"\"\"\n",
    "\n",
    "    max_sentlen = 0\n",
    "    for sentence in text.split('.'):\n",
    "        sentlen = len(sentence.split())\n",
    "        if sentlen > max_sentlen:\n",
    "            max_sentlen = sentlen\n",
    "    return max_sentlen"
   ]
  },
  {
   "cell_type": "raw",
   "metadata": {},
   "source": [
    "Write a function long_high_word(wordlist) that takes a non-empty list of words wordlist (each of which is a string), and returns the word which is longest, and in the instance of multiple words having that length, is highest among them, based on Unicode sort order. For example:\n",
    "\n",
    ">>> long_high_word(['a', 'cat', 'sat'])\n",
    "'sat'\n",
    ">>> long_high_word(['saturation', 'of', 'colour'])\n",
    "'saturation'\n",
    ">>> long_high_word(['abc', 'bc', 'c'])\n",
    "'abc'\n",
    ">>> long_high_word(['samIam'])\n",
    "'samIam'"
   ]
  },
  {
   "cell_type": "code",
   "execution_count": 9,
   "metadata": {},
   "outputs": [],
   "source": [
    "def long_high_word(wordlist):\n",
    "    maxword = wordlist[0]\n",
    "    maxlen = len(maxword)\n",
    "    for word in wordlist[1:]:\n",
    "        wordlen = len(word)\n",
    "        if wordlen > maxlen or (wordlen == maxlen and word > maxword):\n",
    "            maxword = word\n",
    "            maxlen = wordlen\n",
    "    return(maxword)"
   ]
  }
 ],
 "metadata": {
  "kernelspec": {
   "display_name": "Python 3",
   "language": "python",
   "name": "python3"
  },
  "language_info": {
   "codemirror_mode": {
    "name": "ipython",
    "version": 3
   },
   "file_extension": ".py",
   "mimetype": "text/x-python",
   "name": "python",
   "nbconvert_exporter": "python",
   "pygments_lexer": "ipython3",
   "version": "3.8.5"
  }
 },
 "nbformat": 4,
 "nbformat_minor": 4
}
