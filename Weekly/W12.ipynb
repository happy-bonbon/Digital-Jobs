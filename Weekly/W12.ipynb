{
 "cells": [
  {
   "cell_type": "markdown",
   "metadata": {},
   "source": [
    "# Dictionaries"
   ]
  },
  {
   "cell_type": "markdown",
   "metadata": {},
   "source": [
    "Now let's talk about another very useful data type: **dictionaries**. **Dictionaries** allow you to create mappings from keys to values. For example, you might use a dictionary to map Australian state names to the names of their corresponding capital cities:\n"
   ]
  },
  {
   "cell_type": "code",
   "execution_count": null,
   "metadata": {},
   "outputs": [],
   "source": [
    "capitals = {'Victoria': 'Melbie',\n",
    "    'New South Wales': 'Sydney',\n",
    "    'Queensland': 'Brisbane',\n",
    "    'Tasmania': 'Hobart',\n",
    "    'South Australia': 'Adelaide',\n",
    "    'Western Australia': 'Perth'}\n",
    "print(capitals['Tasmania'])"
   ]
  },
  {
   "cell_type": "markdown",
   "metadata": {},
   "source": [
    "\n",
    "(Yes, there is an intentional mistake in there — `'Melbie'`. We'll fix it shortly.)\n",
    "\n",
    "The **keys** in the above dictionary are strings which represent the names of the Australian states. Each key maps to a **value**, which also happens to be a string in this case. In the general case, the keys and values can be of different types.\n",
    "\n",
    "Dictionary values are constructed using the curly brace characters `{` and `}`. As a special case, you can construct an empty dictionary using an opening and closing brace with nothing in between:\n"
   ]
  },
  {
   "cell_type": "code",
   "execution_count": null,
   "metadata": {},
   "outputs": [],
   "source": [
    "example_empty_dict = {}"
   ]
  },
  {
   "cell_type": "markdown",
   "metadata": {},
   "source": [
    "\n",
    "In the above code, an empty dictionary is created and assigned to the variable `example_empty_dict`. Currently this dictionary contains no mappings, so it is fairly uninteresting. As you shall soon see, it is possible to add new mappings to an existing dictionary, so it can be useful to construct empty dictionaries and later add values as necessary.\n"
   ]
  },
  {
   "cell_type": "markdown",
   "metadata": {},
   "source": [
    "# Indexing Dictionaries"
   ]
  },
  {
   "cell_type": "markdown",
   "metadata": {},
   "source": [
    "Like lists and strings, dictionaries are **indexable**. However, the indices of dictionaries are keys of arbitrary value, whereas the indices of lists and strings are always integers. A given key can only occur once in the dictionary, and is associated with a unique value (but you can, of course, make the value a list containing multiple objects). You can look up values in a dictionary using the normal indexing notation:\n"
   ]
  },
  {
   "cell_type": "markdown",
   "metadata": {},
   "source": [
    "```python\n",
    "capitals = {'Victoria': 'Melbie',\n",
    "    'New South Wales': 'Sydney',\n",
    "    'Queensland': 'Brisbane',\n",
    "    'Tasmania': 'Hobart',\n",
    "    'South Australia': 'Adelaide',\n",
    "    'Western Australia': 'Perth'}\n",
    "\n",
    "print(capitals['Victoria'])\n",
    "print(capitals['Queensland'])\n",
    "print(capitals['ACT'])  # This is an ERROR!\n",
    "```"
   ]
  },
  {
   "cell_type": "code",
   "execution_count": null,
   "metadata": {},
   "outputs": [],
   "source": [
    "# Try running the last example here"
   ]
  },
  {
   "cell_type": "markdown",
   "metadata": {},
   "source": [
    "\n",
    "Note that if the index is not a key in the dictionary (e.g. `'ACT'`) then you get an error!\n"
   ]
  },
  {
   "cell_type": "markdown",
   "metadata": {},
   "source": [
    "# Dictionary Methods"
   ]
  },
  {
   "cell_type": "markdown",
   "metadata": {},
   "source": [
    "Let's look at a few dictionary methods.\n",
    "\n",
    "The `.get()` method takes a key as an argument and returns the value associated with it. The difference between this and a direct index is that in the case a key doesn't exist, indexing will throw an error while using `.get()` will simply return `None`.\n",
    "\n",
    "The `.pop()` method takes a key as an argument and returns the value, also **deleting** that key-value pair. This is similar to the way `.pop()` is used for lists in that it mutates the dictionary it is called over and returns the value if it executes successfully, or `KeyError` if the key wasn't found in the dictionary (what was the error type raised by `.pop()` in the case of a list, when it fails?).  \n",
    "\n",
    "Finally, the `.clear()` method deletes the entire contents of a dictionary. Like `.pop()`, this is a mutating method, so don't assign it to anything!\n"
   ]
  },
  {
   "cell_type": "code",
   "execution_count": null,
   "metadata": {},
   "outputs": [],
   "source": [
    "my_dict = {\"Age\":34,\"Anna\":\"Joe\",\"Jobs\":\"Steve\"}\n",
    "print(my_dict.get(\"Age\"))\n",
    "print(my_dict)\n",
    "print(my_dict.pop(\"Jobs\"))\n",
    "print(my_dict)\n",
    "\n",
    "my_dict.clear()\n",
    "print(my_dict)"
   ]
  },
  {
   "cell_type": "markdown",
   "metadata": {},
   "source": [
    "# Updating Dictionaries"
   ]
  },
  {
   "cell_type": "markdown",
   "metadata": {},
   "source": [
    "You can change the value which is associated with a key or add a new key and value pair to the dictionary using the assignment (`=`) operator:\n"
   ]
  },
  {
   "cell_type": "code",
   "execution_count": null,
   "metadata": {},
   "outputs": [],
   "source": [
    "capitals = {'Victoria': 'Melbie',\n",
    "    'New South Wales': 'Sydney',\n",
    "    'Queensland': 'Brisbane',\n",
    "    'Tasmania': 'Hobart',\n",
    "    'South Australia': 'Adelaide',\n",
    "    'Western Australia': 'Perth'}\n",
    "\n",
    "print(capitals['Victoria'])\n",
    "\n",
    "capitals['Victoria'] = 'Melbourne'\n",
    "capitals['ACT'] = 'Canberra'\n",
    "\n",
    "print(capitals['Victoria'])\n",
    "print(capitals['ACT'])\n"
   ]
  },
  {
   "cell_type": "markdown",
   "metadata": {},
   "source": [
    "\n",
    "`'Victoria'` now maps to the value `'Melbourne'` instead of `'Melbie'`, thus fixing the previous mistake. The key `'ACT'` was not present in the dictionary before the assignment statement, so the above code extends the dictionary with a new mapping.\n"
   ]
  },
  {
   "cell_type": "markdown",
   "metadata": {},
   "source": [
    "# Testing Dictionary Membership"
   ]
  },
  {
   "cell_type": "markdown",
   "metadata": {},
   "source": [
    "You can test if a key is present in a dictionary using the `in` operator. Try running the following code a few times, entering both valid and invalid state names:\n"
   ]
  },
  {
   "cell_type": "code",
   "execution_count": null,
   "metadata": {},
   "outputs": [],
   "source": [
    "capitals = {'Victoria': 'Melbourne',\n",
    "    'New South Wales': 'Sydney',\n",
    "    'Queensland': 'Brisbane',\n",
    "    'Tasmania': 'Hobart',\n",
    "    'South Australia': 'Adelaide',\n",
    "    'Western Australia': 'Perth'}\n",
    "\n",
    "state = input('Enter a state name: ')\n",
    "\n",
    "if state in capitals:\n",
    "    print(capitals[state])\n",
    "else:\n",
    "    print(state, 'not found')"
   ]
  },
  {
   "cell_type": "markdown",
   "metadata": {},
   "source": [
    "\n",
    "`in` is especially useful because if we were to run the line `print(capitals[state])` where the value of `state` did not exist as a key in the dictionary, it would generate a `KeyError` as shown below. With `in`, we can confirm that a key exists and will not cause an error before we use it.\n"
   ]
  },
  {
   "cell_type": "markdown",
   "metadata": {},
   "source": [
    "```python\n",
    "capitals = {'Victoria': 'Melbourne'}\n",
    "print(capitals[\"Queensland\"])\n",
    "```  "
   ]
  },
  {
   "cell_type": "code",
   "execution_count": null,
   "metadata": {},
   "outputs": [],
   "source": [
    "# Try running the last example here"
   ]
  },
  {
   "cell_type": "markdown",
   "metadata": {},
   "source": [
    "# Accessing all Keys"
   ]
  },
  {
   "cell_type": "markdown",
   "metadata": {},
   "source": [
    "You can get the keys in a dictionary using the `.keys()` method. `.keys()` returns a special iterable collection called a `dict_keys` [view object ](https://docs.python.org/3/library/stdtypes.html#dict-views) that supports iteration and the `in` operator like a `list`, but **does not** support indexing:\n"
   ]
  },
  {
   "cell_type": "markdown",
   "metadata": {},
   "source": [
    "```python\n",
    "capitals = {'Victoria': 'Melbourne',\n",
    "    'New South Wales': 'Sydney'}\n",
    "keys = capitals.keys()\n",
    "\n",
    "print(\"The keys:\",keys)\n",
    "\n",
    "print(\"Looping through all keys:\")\n",
    "for key in keys:\n",
    "    print(key)\n",
    "\n",
    "print(\"Is 'Victoria' in keys?\",'Victoria' in keys)\n",
    "print(keys[0])  # This is an ERROR!\n",
    "```  "
   ]
  },
  {
   "cell_type": "code",
   "execution_count": null,
   "metadata": {},
   "outputs": [],
   "source": [
    "# Try running the last example herer"
   ]
  },
  {
   "cell_type": "markdown",
   "metadata": {},
   "source": [
    "# Accessing all Values"
   ]
  },
  {
   "cell_type": "markdown",
   "metadata": {},
   "source": [
    "You can get the values in a dictionary (separate from the keys) using the `.values()` method. `.values()` returns a special iterable collection called a `dict_values` object that acts much like the `dict_keys` object:\n"
   ]
  },
  {
   "cell_type": "markdown",
   "metadata": {},
   "source": [
    "```python\n",
    "capitals = {'Victoria': 'Melbourne',\n",
    "    'New South Wales': 'Sydney'}\n",
    "d_values = capitals.values()\n",
    "\n",
    "print(\"The values:\",d_values)\n",
    "\n",
    "print(\"Looping through all values:\")\n",
    "for value in d_values:\n",
    "    print(value)\n",
    "\n",
    "print(\"Is 'Victoria' in values?\",'Victoria' in d_values)\n",
    "print(d_values[0])  # This is an ERROR!\n",
    "```"
   ]
  },
  {
   "cell_type": "code",
   "execution_count": null,
   "metadata": {},
   "outputs": [],
   "source": [
    "# Try running the last example here"
   ]
  },
  {
   "cell_type": "markdown",
   "metadata": {},
   "source": [
    "# Accessing All Keys and Values"
   ]
  },
  {
   "cell_type": "markdown",
   "metadata": {},
   "source": [
    "Another useful method for dictionaries is the `.items()` method. Like `.keys()` and `.values()`, `.items()` returns a view object called `dict_items` containing tuples of the `(key, value)` pairs.\n",
    "\n",
    "You can also convert these view objects into lists using `list`.\n"
   ]
  },
  {
   "cell_type": "code",
   "execution_count": null,
   "metadata": {},
   "outputs": [],
   "source": [
    "capitals = { 'Victoria': 'Melbourne',\n",
    "    'New South Wales': 'Sydney' }\n",
    "d_items = capitals.items()\n",
    "\n",
    "print(\"Items in this dictionary:\",d_items)\n",
    "print(\"As a list:\", list(d_items))\n",
    "\n",
    "for (key,value) in d_items:\n",
    "    print(key, value)\n"
   ]
  },
  {
   "cell_type": "markdown",
   "metadata": {},
   "source": [
    "# Further Notes"
   ]
  },
  {
   "cell_type": "markdown",
   "metadata": {},
   "source": [
    "Keys for dictionaries can only be immutable objects. That means you can use any of `int`, `float`, `str`, `tuple`, or `bool` as keys, but you cannot use `list`, or `set`. Could you use dictionaries? Are they mutable or immutable? Try it below:\n"
   ]
  },
  {
   "cell_type": "code",
   "execution_count": null,
   "metadata": {},
   "outputs": [],
   "source": [
    "d = {9: 34, 5.6: \"abc\", \"str\": 20, \"str\": 15, (1,2,3): 2, True: \"hi\"}\n",
    "for (key, value) in d.items():\n",
    "    print(key, value)"
   ]
  },
  {
   "cell_type": "markdown",
   "metadata": {},
   "source": [
    "\n",
    "You'll also notice that `\"str\"` has been used as a key twice. This doesn't produce an error, rather Python only saves the last value for that key (overwriting any earlier values, just as happens with assignment)."
   ]
  },
  {
   "cell_type": "markdown",
   "metadata": {},
   "source": [
    "# Problem: Capital cities"
   ]
  },
  {
   "cell_type": "markdown",
   "metadata": {},
   "source": [
    "Write a function `is_capital(state, city)` that returns `True` if the named `city` is the capital of the named `state` and `False` otherwise. Every city and state in the following table should be recognised.\n",
    "\n",
    "\n",
    "\n",
    "| State | Capital city |\n",
    "| --- | --- |\n",
    "| New South Wales | Sydney |\n",
    "| Queensland | Brisbane |\n",
    "| South Australia | Adelaide |\n",
    "| Tasmania | Hobart |\n",
    "| Victoria | Melbourne |\n",
    "| Western Australia | Perth |\n",
    "\n",
    "\n",
    "\n",
    "If a city or state is not in the table the function must return `False`.\n",
    "\n",
    "Here are some examples of how your function should work:\n"
   ]
  },
  {
   "cell_type": "markdown",
   "metadata": {},
   "source": [
    "```python\n",
    ">>> is_capital('Victoria', 'Melbourne')\n",
    "True\n",
    ">>> is_capital('Queensland', 'Adelaide')\n",
    "False\n",
    "```  "
   ]
  },
  {
   "cell_type": "code",
   "execution_count": null,
   "metadata": {},
   "outputs": [],
   "source": [
    "# Your solution here"
   ]
  },
  {
   "cell_type": "markdown",
   "metadata": {},
   "source": [
    "# Counting Things with Dictionaries"
   ]
  },
  {
   "cell_type": "markdown",
   "metadata": {},
   "source": [
    "(Important) The problem below as a very long string wrapped around triple quotations (we have seen this previously as a docstring). It's good to note now that docstrings are a form of a **multi-line string**. "
   ]
  },
  {
   "cell_type": "markdown",
   "metadata": {},
   "source": [
    "A common programming task is to keep a tally of how many times various items appear in a piece of data. Below is an example program which counts the number of occurrences of each letter in the first paragraph of Moby Dick:\n"
   ]
  },
  {
   "cell_type": "code",
   "execution_count": null,
   "metadata": {},
   "outputs": [],
   "source": [
    "MOBY = \"\"\"Call me Ishmael. Some years ago - never mind how long precisely - having little or no money in my purse, \n",
    "and nothing particular to interest me on shore, I thought I would sail about a little and see the watery \n",
    "part of the world. It is a way I have of driving off the spleen and regulating the circulation. \n",
    "Whenever I find myself growing grim about the mouth; whenever it is a damp, drizzly November in my soul; \n",
    "whenever I find myself involuntarily pausing before coffin warehouses, and bringing up the rear of every funeral \n",
    "I meet; and especially whenever my hypos get such an upper hand of me, that it requires a strong moral principle \n",
    "to prevent me from deliberately stepping into the street, and methodically knocking people's hats off - then, I \n",
    "account it high time to get to sea as soon as I can. This is my substitute for pistol and ball. With a philosophical \n",
    "flourish Cato throws himself upon his sword; I quietly take to the ship. There is nothing surprising in this. \n",
    "If they but knew it, almost all men in their degree, some time or other, cherish very nearly the same feelings \n",
    "towards the ocean with me.\"\"\"\n",
    "\n",
    "tally = {}\n",
    "for char in MOBY:\n",
    "    if char in tally:\n",
    "        tally[char] += 1\n",
    "    else:\n",
    "        tally[char] = 1\n",
    "\n",
    "print(tally['C'])\n",
    "print(tally['I'])"
   ]
  },
  {
   "cell_type": "markdown",
   "metadata": {},
   "source": [
    "\n",
    "The above code assigns the text of the first paragraph of Moby Dick to the variable `MOBY`. A new empty dictionary is created and assigned to `tally`. The `for` loop counts the number of times each character appears in the string assigned to `MOBY`. Each iteration, the code checks if the current letter `char` is already in the `tally` dictionary. If yes, its corresponding count is incremented. If not, it is added to the dictionary and its count is set to `1`. The reason we need to do this is that if we attempt to increment a value associated with a non-existent key, we will get a `KeyError` (because there is no pre-existing value to increment):\n"
   ]
  },
  {
   "cell_type": "markdown",
   "metadata": {},
   "source": [
    "```python\n",
    "votes = {}\n",
    "votes['Melbourne'] = 'many!'\n",
    "votes['anywhere else'] += 1 \n",
    "```"
   ]
  },
  {
   "cell_type": "code",
   "execution_count": null,
   "metadata": {},
   "outputs": [],
   "source": [
    "# Try running the last example here"
   ]
  },
  {
   "cell_type": "markdown",
   "metadata": {},
   "source": [
    "\n",
    "When the program completes, it prints out the number of instances of the letters `C` and `I` in the text.\n"
   ]
  },
  {
   "cell_type": "markdown",
   "metadata": {},
   "source": [
    "# Character Histogram"
   ]
  },
  {
   "cell_type": "markdown",
   "metadata": {},
   "source": [
    "After counting all the characters in Moby Dick's first paragraph, you can do interesting things with the information. For instance, you can print out a simple bar chart of the frequencies for all the upper case characters which appear in the text:\n"
   ]
  },
  {
   "cell_type": "code",
   "execution_count": null,
   "metadata": {},
   "outputs": [],
   "source": [
    "MOBY = \"\"\"Call me Ishmael. Some years ago - never mind how long precisely - having little or no money in my purse, \n",
    "and nothing particular to interest me on shore, I thought I would sail about a little and see the watery \n",
    "part of the world. It is a way I have of driving off the spleen and regulating the circulation. \n",
    "Whenever I find myself growing grim about the mouth; whenever it is a damp, drizzly November in my soul; \n",
    "whenever I find myself involuntarily pausing before coffin warehouses, and bringing up the rear of every funeral \n",
    "I meet; and especially whenever my hypos get such an upper hand of me, that it requires a strong moral principle \n",
    "to prevent me from deliberately stepping into the street, and methodically knocking people's hats off - then, I \n",
    "account it high time to get to sea as soon as I can. This is my substitute for pistol and ball. With a philosophical \n",
    "flourish Cato throws himself upon his sword; I quietly take to the ship. There is nothing surprising in this. \n",
    "If they but knew it, almost all men in their degree, some time or other, cherish very nearly the same feelings \n",
    "towards the ocean with me.\"\"\"\n",
    "\n",
    "tally = {}\n",
    "for char in MOBY:\n",
    "    if char in tally:\n",
    "        tally[char] += 1\n",
    "    else:\n",
    "        tally[char] = 1\n",
    "\n",
    "for key in tally.keys():\n",
    "    if key.isupper():\n",
    "        print(key + ': ' + '=' * tally[key])"
   ]
  },
  {
   "cell_type": "markdown",
   "metadata": {},
   "source": [
    "\n",
    "For each of the keys in `tally`, the code checks if it is an upper case character using `.isupper()`. If it is upper case, it prints a bar with the number of occurrences of '`=`' equal to the count of that character in `tally`. From the output of the code you can see that, for instance, there are two occurrences of `C` in the text, and 12 occurrences of `I`.\n"
   ]
  },
  {
   "cell_type": "markdown",
   "metadata": {},
   "source": [
    "# Problem: Repeat Words"
   ]
  },
  {
   "cell_type": "markdown",
   "metadata": {},
   "source": [
    "Write a function `repeat_word_count(text, n)` that takes a string `text` and a positive integer `n`, converts `text` into a list of words based on simple whitespace separation (with no removal of punctuation or changing of case), and returns a **sorted** list of words that occur `n` or more times in `text`. For example:\n"
   ]
  },
  {
   "cell_type": "markdown",
   "metadata": {},
   "source": [
    "```python\n",
    ">>> repeat_word_count(\"buffalo buffalo buffalo buffalo\", 2)\n",
    "['buffalo']\n",
    ">>> repeat_word_count(\"one one was a racehorse two two was one too\", 3)\n",
    "['one']\n",
    ">>> repeat_word_count(\"how much wood could a wood chuck chuck\", 1)\n",
    "['a', 'chuck', 'could', 'how', 'much', 'wood']\n",
    "```"
   ]
  },
  {
   "cell_type": "code",
   "execution_count": null,
   "metadata": {},
   "outputs": [],
   "source": [
    "# Your solution here"
   ]
  },
  {
   "cell_type": "markdown",
   "metadata": {},
   "source": [
    "# Problem: Mode"
   ]
  },
  {
   "cell_type": "markdown",
   "metadata": {},
   "source": [
    "Write a function `mode(numlist)` that takes a single argument `numlist` (a non-empty list of numbers), and returns the sorted list of numbers which appear with the highest frequency in `numlist` (i.e. the **mode**). For example:\n"
   ]
  },
  {
   "cell_type": "markdown",
   "metadata": {},
   "source": [
    "```python\n",
    ">>> mode([0, 2, 0, 1])\n",
    "[0]\n",
    ">>> mode([5, 1, 1, 5])\n",
    "[1, 5]\n",
    ">>> mode([4.0])\n",
    "[4.0]\n",
    "```"
   ]
  },
  {
   "cell_type": "code",
   "execution_count": null,
   "metadata": {},
   "outputs": [],
   "source": [
    "# Your solution here"
   ]
  },
  {
   "cell_type": "markdown",
   "metadata": {},
   "source": [
    "# Problem: Top-5 Words"
   ]
  },
  {
   "cell_type": "markdown",
   "metadata": {},
   "source": [
    "Write a function `top5_words(text)` that takes a single argument `text` (a non-empty string), tokenises `text` into words based on whitespace (once again, without any stripping of punctuation or case normalisation), and returns the top-5 words as a list of strings, in descending order of frequency. If there is a tie in frequency at any point, the words with the same frequency should be sub-sorted alphabetically. If there are less than five distinct words in `text`, the function should return the words in descending order of frequency (with the same tie-breaking mechanism). For example:\n"
   ]
  },
  {
   "cell_type": "markdown",
   "metadata": {},
   "source": [
    "```python\n",
    ">>> top5_words(\"one one was a racehorse two two was one too\")\n",
    "[\"one\", \"two\", \"was\", \"a\", \"racehorse\"]\n",
    ">>> top5_words(\"buffalo buffalo buffalo chicken buffalo\")\n",
    "[\"buffalo\", \"chicken\"]\n",
    ">>> top5_words(\"the quick brown fox jumped over the lazy dog\")\n",
    "[\"the\", \"brown\", \"dog\", \"fox\", \"jumped\"]\n",
    "```"
   ]
  },
  {
   "cell_type": "code",
   "execution_count": null,
   "metadata": {},
   "outputs": [],
   "source": [
    "# Your solution here"
   ]
  },
  {
   "cell_type": "markdown",
   "metadata": {},
   "source": [
    "\n",
    "> ## Sorting Tuples\n",
    "> One trick that you may find useful is that when sorting a list of tuples, sorting is done based on the first element, and if there is a tie in the value of the first element, the second element is used to break the tie, etc. For example:"
   ]
  },
  {
   "cell_type": "code",
   "execution_count": null,
   "metadata": {},
   "outputs": [],
   "source": [
    "print(sorted([(1, 4), (1, 2), (1, 1)]))\n",
    "print(sorted([(1, 'b'), (1, 'a'), (0, 'z')]))"
   ]
  },
  {
   "cell_type": "markdown",
   "metadata": {},
   "source": [
    "> In this exercise you'll need to sort numbers in index 0 from highest to lowest and tiebreak strings in position 1 lowest to highest. This is difficult to do without realising that you can convert the numbers to *negative* values, in which case both numbers and strings can be sorted lowest to highest:"
   ]
  },
  {
   "cell_type": "code",
   "execution_count": null,
   "metadata": {},
   "outputs": [],
   "source": [
    "my_list = [(-4, \"hello\"), (-1, \"toy\"), (-7, \"marshmallow\"), (-4, \"alphabet\")]\n",
    "print(sorted(my_list))"
   ]
  },
  {
   "cell_type": "markdown",
   "metadata": {},
   "source": [
    "# Sets"
   ]
  },
  {
   "cell_type": "markdown",
   "metadata": {},
   "source": [
    "Finally, we introduce a useful but somewhat obscure data structure called a **set**. If you are familiar with sets in mathematics, it is exactly the same concept. For the rest of us, a set is like a list, but with unique elements, and no order. Or perhaps even clearer, it is a dictionary with keys but no values.\n",
    "\n",
    "Below we define an empty set, and a set with some elements.\n",
    "\n",
    "Note:\n",
    "\n",
    "* Although a set with elements uses curly braces, you cannot use empty curly braces to define an empty set as that would be an empty dictionary.\n",
    "* The order of elements in a set is not significant (similar to dictionaries). Try running the code below more than once to prove this.\n"
   ]
  },
  {
   "cell_type": "code",
   "execution_count": null,
   "metadata": {},
   "outputs": [],
   "source": [
    "my_set1 = set()\n",
    "my_set2 = {\"a\", \"b\", \"c\"}\n",
    "print(my_set1, my_set2)"
   ]
  },
  {
   "cell_type": "markdown",
   "metadata": {},
   "source": [
    "\n",
    "It doesn't make sense to use the \"order\" of a set anyway, but if you convert it to a type which does have ordering such as a list, remember that the order may be different each time your code is run.\n",
    "\n",
    "Because sets contain unique elements, they automatically remove duplicate elements:\n"
   ]
  },
  {
   "cell_type": "code",
   "execution_count": null,
   "metadata": {},
   "outputs": [],
   "source": [
    "my_set3 = {\"a\", \"b\", \"c\", \"a\", \"a\"}\n",
    "print(my_set3)"
   ]
  },
  {
   "cell_type": "markdown",
   "metadata": {},
   "source": [
    "\n",
    "> ## Empty types\n",
    "> We use `set()` to create an empty set because we can't use brackets or delimiters like we do for other types: the braces we use with sets are already taken for dictionaries. In fact, while we use pairs of brackets or delimiters for creating new dictionaries `{}`, tuples `()`, lists `[]` or strings `\"\"`, this notation is actually just a shortcut to a more universal way of creating a new object: by writing the type name with a pair of parentheses:"
   ]
  },
  {
   "cell_type": "code",
   "execution_count": null,
   "metadata": {},
   "outputs": [],
   "source": [
    "empty_dict = dict()\n",
    "empty_tuple = tuple()\n",
    "empty_list = list()\n",
    "empty_string = str()\n",
    "\n",
    "print(empty_dict=={})\n",
    "print(empty_tuple==())\n",
    "print(empty_list==[])\n",
    "print(empty_string==\"\")"
   ]
  },
  {
   "cell_type": "markdown",
   "metadata": {},
   "source": [
    "# Useful Set Operators"
   ]
  },
  {
   "cell_type": "markdown",
   "metadata": {},
   "source": [
    "Like lists, you can use the `in` operator with sets, to test for a given element:\n"
   ]
  },
  {
   "cell_type": "code",
   "execution_count": null,
   "metadata": {},
   "outputs": [],
   "source": [
    "my_set={\"a\", \"b\", \"c\"}\n",
    "print(\"a\" in my_set)\n",
    "print(\"d\" in my_set)"
   ]
  },
  {
   "cell_type": "markdown",
   "metadata": {},
   "source": [
    "\n",
    "You can make sets from sequences. This is a good hack for removing duplicate elements:\n"
   ]
  },
  {
   "cell_type": "code",
   "execution_count": null,
   "metadata": {},
   "outputs": [],
   "source": [
    "my_sequence = \"hello\"\n",
    "my_set = set(my_sequence)\n",
    "print(my_set)"
   ]
  },
  {
   "cell_type": "markdown",
   "metadata": {},
   "source": [
    "\n",
    "You can take the difference between sets, join them together (find their union = `|`), and find their intersection (the elements that are in both = `&`).\n"
   ]
  },
  {
   "cell_type": "code",
   "execution_count": null,
   "metadata": {},
   "outputs": [],
   "source": [
    "my_set1 = {2, 3, 4}\n",
    "my_set2 = {2, 5}\n",
    "\n",
    "print(f\"{my_set1} - {my_set2} = {my_set1 - my_set2}\")\n",
    "print(f\"{my_set2} - {my_set1} = {my_set2 - my_set1}\")\n",
    "print(f\"Union: {my_set2} | {my_set1} = {my_set2 | my_set1}\")\n",
    "print(f\"Intersection: {my_set2} & {my_set1} = {my_set2 & my_set1}\")"
   ]
  },
  {
   "cell_type": "markdown",
   "metadata": {},
   "source": [
    "# Useful Set Methods"
   ]
  },
  {
   "cell_type": "markdown",
   "metadata": {},
   "source": [
    "Finally, as with lists, sets are **mutable**, so you can add and remove elements. Note `.add()` is the method to add to a set, not `.append()` or `.insert()` as with lists:\n"
   ]
  },
  {
   "cell_type": "code",
   "execution_count": null,
   "metadata": {},
   "outputs": [],
   "source": [
    "my_set = {\"a\", 1, \"sandy\"}\n",
    "my_set.add(\"kim\")\n",
    "print(my_set)\n",
    "\n",
    "my_set.remove(\"sandy\")\n",
    "print(my_set)"
   ]
  },
  {
   "cell_type": "markdown",
   "metadata": {},
   "source": [
    "\n",
    "You can also find the length of a set:\n"
   ]
  },
  {
   "cell_type": "code",
   "execution_count": null,
   "metadata": {},
   "outputs": [],
   "source": [
    "my_set = {\"a\", 1, \"kim\"}\n",
    "print(len(my_set))"
   ]
  },
  {
   "cell_type": "markdown",
   "metadata": {},
   "source": [
    "\n",
    "Because sets have no order, it does not make sense to index or slice them. You cannot do this:\n"
   ]
  },
  {
   "cell_type": "markdown",
   "metadata": {},
   "source": [
    "```python\n",
    "my_set = {\"a\", 1, \"bob\"}\n",
    "print(my_set[0])\n",
    "```"
   ]
  },
  {
   "cell_type": "code",
   "execution_count": null,
   "metadata": {},
   "outputs": [],
   "source": [
    "# Try running the last example here"
   ]
  },
  {
   "cell_type": "markdown",
   "metadata": {},
   "source": [
    "# Set Problem"
   ]
  },
  {
   "cell_type": "markdown",
   "metadata": {},
   "source": [
    "Write a function `mutual_friends(list1,list2)` that takes two lists of friends and returns the number of friends in common. Use sets. Your problem should behave as follows:\n"
   ]
  },
  {
   "cell_type": "markdown",
   "metadata": {},
   "source": [
    "```python\n",
    ">>> mutual_friends([\"Bob\",\"Joe\"],[\"Esmerelda\"])\n",
    "0\n",
    ">>> mutual_friends([\"Bob\",\"Joe\"],[\"Bob\",\"Joe\"])\n",
    "2\n",
    ">>> mutual_friends([\"Bob\",\"Joe\"],[\"Bob\",\"Joe\",\"Keitha\"])\n",
    "2\n",
    "```  "
   ]
  },
  {
   "cell_type": "code",
   "execution_count": null,
   "metadata": {},
   "outputs": [],
   "source": [
    "# Your solution here"
   ]
  }
 ],
 "metadata": {
  "kernelspec": {
   "display_name": "Python 3 (ipykernel)",
   "language": "python",
   "name": "python3"
  },
  "language_info": {
   "codemirror_mode": {
    "name": "ipython",
    "version": 3
   },
   "file_extension": ".py",
   "mimetype": "text/x-python",
   "name": "python",
   "nbconvert_exporter": "python",
   "pygments_lexer": "ipython3",
   "version": "3.8.10"
  },
  "latex_envs": {
   "LaTeX_envs_menu_present": true,
   "autoclose": false,
   "autocomplete": true,
   "bibliofile": "biblio.bib",
   "cite_by": "apalike",
   "current_citInitial": 1,
   "eqLabelWithNumbers": true,
   "eqNumInitial": 1,
   "hotkeys": {
    "equation": "Ctrl-E",
    "itemize": "Ctrl-I"
   },
   "labels_anchors": false,
   "latex_user_defs": false,
   "report_style_numbering": false,
   "user_envs_cfg": false
  },
  "toc": {
   "base_numbering": 1,
   "nav_menu": {},
   "number_sections": true,
   "sideBar": true,
   "skip_h1_title": false,
   "title_cell": "Table of Contents",
   "title_sidebar": "Contents",
   "toc_cell": false,
   "toc_position": {},
   "toc_section_display": true,
   "toc_window_display": false
  },
  "varInspector": {
   "cols": {
    "lenName": 16,
    "lenType": 16,
    "lenVar": 40
   },
   "kernels_config": {
    "python": {
     "delete_cmd_postfix": "",
     "delete_cmd_prefix": "del ",
     "library": "var_list.py",
     "varRefreshCmd": "print(var_dic_list())"
    },
    "r": {
     "delete_cmd_postfix": ") ",
     "delete_cmd_prefix": "rm(",
     "library": "var_list.r",
     "varRefreshCmd": "cat(var_dic_list()) "
    }
   },
   "types_to_exclude": [
    "module",
    "function",
    "builtin_function_or_method",
    "instance",
    "_Feature"
   ],
   "window_display": false
  }
 },
 "nbformat": 4,
 "nbformat_minor": 1
}
