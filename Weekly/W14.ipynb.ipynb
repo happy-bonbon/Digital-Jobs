{
 "cells": [
  {
   "cell_type": "markdown",
   "metadata": {},
   "source": [
    "# List Comprehensions"
   ]
  },
  {
   "cell_type": "markdown",
   "metadata": {},
   "source": [
    "As something of an aside, we introduce a useful feature of Python: list comprehensions. We have been iterating over sequences using `for` loops, but there is a really nice shortcut for this called a **list comprehension** that allows us to accomplish most simple iteration tasks in one line.\n",
    "\n",
    "Suppose we want to square all the elements of a list of numbers. Using a `for` loop, we would do this as follows:\n"
   ]
  },
  {
   "cell_type": "code",
   "execution_count": null,
   "metadata": {},
   "outputs": [],
   "source": [
    "lst = [1, 4, 3, 5, 2]\n",
    "lst2 = []\n",
    "for x in lst:\n",
    "    lst2.append(x**2)\n",
    "print(lst2)"
   ]
  },
  {
   "cell_type": "markdown",
   "metadata": {},
   "source": [
    "\n",
    "But with a list comprehension, we can do this:\n"
   ]
  },
  {
   "cell_type": "code",
   "execution_count": null,
   "metadata": {},
   "outputs": [],
   "source": [
    "lst = [1, 4, 3, 5, 2]\n",
    "lst2 = [x**2 for x in lst]\n",
    "print(lst2)"
   ]
  },
  {
   "cell_type": "markdown",
   "metadata": {},
   "source": [
    "\n",
    "We can also use it to filter elements of one list based on a simple condition. Below we create a list of only the elements of the old list which are multiples of three:\n"
   ]
  },
  {
   "cell_type": "code",
   "execution_count": null,
   "metadata": {},
   "outputs": [],
   "source": [
    "lst = [1, 4, 3, 5, 2, 4, 8, 10, 9]\n",
    "lst2 = [y for y in lst if y % 3 == 0]\n",
    "print(lst2)"
   ]
  },
  {
   "cell_type": "markdown",
   "metadata": {},
   "source": [
    "# List Comprehensions"
   ]
  },
  {
   "cell_type": "markdown",
   "metadata": {},
   "source": [
    "The general form of a list comprehension is as follows:\n"
   ]
  },
  {
   "cell_type": "markdown",
   "metadata": {},
   "source": [
    "```python\n",
    "method1 = [VALUE for VALUE in ITERABLE]\n",
    "method2 = [VALUE for VALUE in ITERABLE if CONDITION]\n",
    "method3 = [VALUE if CONDITION else VALUE2 for VALUE in ITERABLE]\n",
    "```  "
   ]
  },
  {
   "cell_type": "markdown",
   "metadata": {},
   "source": [
    "\n",
    "Here `VALUE` takes each value in `ITERABLE` (just as with `for VALUE in ITERABLE` loops). The resulting list is comprised of the result of the expression, evaluated for each element of the old list. `CONDITION` is optionally included for filtering. If the condition is `False`, then the element is not included in the new list. Here is another example, which uses a condition to create a new list with only words that start with `\"e\"`.\n"
   ]
  },
  {
   "cell_type": "code",
   "execution_count": null,
   "metadata": {},
   "outputs": [],
   "source": [
    "words = \"Elephants are large mammals. They are known to eat predominantly grass and tree foliage. As with most mammals, they do not lay eggs\".lower().split()\n",
    "message = [word for word in words if word[0] == \"e\"]\n",
    "print(message)"
   ]
  },
  {
   "cell_type": "markdown",
   "metadata": {},
   "source": [
    "\n",
    "This is identical to the following, without the list comprehension:\n"
   ]
  },
  {
   "cell_type": "code",
   "execution_count": null,
   "metadata": {},
   "outputs": [],
   "source": [
    "words = \"Elephants are large mammals. They are known to eat predominantly grass and tree foliage. As with most mammals, they do not lay eggs\".lower().split()\n",
    "\n",
    "message = []\n",
    "for word in words:\n",
    "    if word[0] == \"e\":\n",
    "        message.append(word)\n",
    "        \n",
    "print(message)"
   ]
  },
  {
   "cell_type": "markdown",
   "metadata": {},
   "source": [
    "\n",
    "Once you get your head around list comprehensions, expect to find all sorts of places to use them. But go a bit easy — you can get carried away cramming too much into a nested, multi-filtered list comprehension, making it hard to read/debug your code (and making your lines very long!). For example, try to work out what the following code does, and think about what it would look like without list comprehensions:\n"
   ]
  },
  {
   "cell_type": "code",
   "execution_count": null,
   "metadata": {},
   "outputs": [],
   "source": [
    "words = \"Elephants are large mammals. They are known to eat predominantly grass and tree foliage. As with most mammals, they do not lay eggs\".lower().split()\n",
    "\n",
    "message = [word2.rstrip(\"s\") for word2 in \\\n",
    "    [word for word in words if word[0] == \"e\"] \\\n",
    "    if len(word2) >= 2 and word2[-2] != \"s\"]\n",
    "\n",
    "print(message)"
   ]
  },
  {
   "cell_type": "markdown",
   "metadata": {},
   "source": [
    "# Problem: Disentangling list comprehensions"
   ]
  },
  {
   "cell_type": "markdown",
   "metadata": {},
   "source": [
    "List comprehensions can be baffling to incomprehensible at first (joke!), so let's get some experience pulling a list comprehension apart into code that you are more familiar with. Given the following `mystery` function, write an equivalent function `aha(minval, maxval)` with the exact same functionality but which doesn't make use of list comprehensions.\n"
   ]
  },
  {
   "cell_type": "markdown",
   "metadata": {},
   "source": [
    "```python\n",
    "def mystery(minval, maxval):\n",
    "    return [i**2 % 10 for i in range(minval, maxval + 1)]\n",
    "```    "
   ]
  },
  {
   "cell_type": "markdown",
   "metadata": {},
   "source": [
    "\n",
    "For example:\n"
   ]
  },
  {
   "cell_type": "markdown",
   "metadata": {},
   "source": [
    "```python\n",
    ">>> aha(3, 7)\n",
    "[9, 6, 5, 6, 9]\n",
    ">>> aha(0, 10)\n",
    "[0, 1, 4, 9, 6, 5, 6, 9, 4, 1, 0]\n",
    "```  "
   ]
  },
  {
   "cell_type": "code",
   "execution_count": null,
   "metadata": {},
   "outputs": [],
   "source": [
    "# Your solution here"
   ]
  }
 ],
 "metadata": {
  "kernelspec": {
   "display_name": "Python 3 (ipykernel)",
   "language": "python",
   "name": "python3"
  },
  "language_info": {
   "codemirror_mode": {
    "name": "ipython",
    "version": 3
   },
   "file_extension": ".py",
   "mimetype": "text/x-python",
   "name": "python",
   "nbconvert_exporter": "python",
   "pygments_lexer": "ipython3",
   "version": "3.8.10"
  },
  "latex_envs": {
   "LaTeX_envs_menu_present": true,
   "autoclose": false,
   "autocomplete": true,
   "bibliofile": "biblio.bib",
   "cite_by": "apalike",
   "current_citInitial": 1,
   "eqLabelWithNumbers": true,
   "eqNumInitial": 1,
   "hotkeys": {
    "equation": "Ctrl-E",
    "itemize": "Ctrl-I"
   },
   "labels_anchors": false,
   "latex_user_defs": false,
   "report_style_numbering": false,
   "user_envs_cfg": false
  },
  "toc": {
   "base_numbering": 1,
   "nav_menu": {},
   "number_sections": true,
   "sideBar": true,
   "skip_h1_title": false,
   "title_cell": "Table of Contents",
   "title_sidebar": "Contents",
   "toc_cell": false,
   "toc_position": {},
   "toc_section_display": true,
   "toc_window_display": false
  },
  "varInspector": {
   "cols": {
    "lenName": 16,
    "lenType": 16,
    "lenVar": 40
   },
   "kernels_config": {
    "python": {
     "delete_cmd_postfix": "",
     "delete_cmd_prefix": "del ",
     "library": "var_list.py",
     "varRefreshCmd": "print(var_dic_list())"
    },
    "r": {
     "delete_cmd_postfix": ") ",
     "delete_cmd_prefix": "rm(",
     "library": "var_list.r",
     "varRefreshCmd": "cat(var_dic_list()) "
    }
   },
   "types_to_exclude": [
    "module",
    "function",
    "builtin_function_or_method",
    "instance",
    "_Feature"
   ],
   "window_display": false
  }
 },
 "nbformat": 4,
 "nbformat_minor": 1
}
