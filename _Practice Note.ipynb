{
 "cells": [
  {
   "cell_type": "markdown",
   "metadata": {},
   "source": [
    "# Week 1 "
   ]
  },
  {
   "cell_type": "markdown",
   "metadata": {},
   "source": [
    "# n!"
   ]
  },
  {
   "cell_type": "code",
   "execution_count": null,
   "metadata": {},
   "outputs": [],
   "source": [
    "while True:\n",
    "    try:\n",
    "        n=int(input(\"Enter a number\"))\n",
    "        b=1\n",
    "        for a in range(n):\n",
    "            b*=(a+1)\n",
    "        print(f\"It's {b}\")\n",
    "        break\n",
    "    except:\n",
    "        print(\"Try again!\")"
   ]
  },
  {
   "cell_type": "markdown",
   "metadata": {},
   "source": [
    "# Fibonacci number"
   ]
  },
  {
   "cell_type": "code",
   "execution_count": null,
   "metadata": {},
   "outputs": [],
   "source": [
    "while True:\n",
    "    try:\n",
    "        n=int(input(\"Enter a number \"))\n",
    "        #a is the fwd number, b is the aft number\n",
    "        a,b=0,1  \n",
    "        #hardcode 0,1st,2nd number\n",
    "        if n==1:\n",
    "            print(\"The 1st Fibonacci number is 0\")\n",
    "            break\n",
    "        elif n==0:\n",
    "            print(\"That Fibonacci number is 0\")\n",
    "            break\n",
    "        elif n==2:\n",
    "            print(\"The 2nd Fibonacci number is 1\")\n",
    "            break\n",
    "        else:\n",
    "            for _ in range(n-2):\n",
    "                #calculate and swap\n",
    "                a,b=b,a+b\n",
    "            print(f\"The {n}th Fibonacci number is {b}\")\n",
    "            break\n",
    "    except:\n",
    "        print(\"Try again!\")"
   ]
  },
  {
   "cell_type": "markdown",
   "metadata": {},
   "source": [
    "# Digits "
   ]
  },
  {
   "cell_type": "code",
   "execution_count": null,
   "metadata": {},
   "outputs": [],
   "source": [
    "while True:\n",
    "    try:\n",
    "        n=int(input(\"Enter a number\"))\n",
    "        print(f\"{len(str(n))} digits.\")\n",
    "        break\n",
    "    except:\n",
    "        print(\"Try again!\")"
   ]
  },
  {
   "cell_type": "markdown",
   "metadata": {},
   "source": [
    "# Week 2"
   ]
  },
  {
   "cell_type": "markdown",
   "metadata": {},
   "source": [
    "## Problems 1"
   ]
  },
  {
   "cell_type": "code",
   "execution_count": null,
   "metadata": {},
   "outputs": [],
   "source": []
  },
  {
   "cell_type": "markdown",
   "metadata": {},
   "source": [
    "## Problems 2"
   ]
  },
  {
   "cell_type": "code",
   "execution_count": null,
   "metadata": {},
   "outputs": [],
   "source": []
  },
  {
   "cell_type": "markdown",
   "metadata": {},
   "source": [
    "## Problems 3"
   ]
  },
  {
   "cell_type": "code",
   "execution_count": null,
   "metadata": {},
   "outputs": [],
   "source": []
  },
  {
   "cell_type": "markdown",
   "metadata": {},
   "source": [
    "# Leap Year"
   ]
  },
  {
   "cell_type": "code",
   "execution_count": null,
   "metadata": {},
   "outputs": [],
   "source": [
    "while True:\n",
    "    try:\n",
    "        year=int(input(\"Enter the year, \\\"-\\\"for BC\"))\n",
    "        if year%400==0 or (year%400!=0 and year%100!=0 and year%4==0):\n",
    "            print(\"leap year\")\n",
    "            break\n",
    "        else:\n",
    "            print(\"not leap year\")\n",
    "            break\n",
    "    except:\n",
    "        print(\"Try again!\")"
   ]
  },
  {
   "cell_type": "markdown",
   "metadata": {},
   "source": [
    "# Vowel"
   ]
  },
  {
   "cell_type": "code",
   "execution_count": null,
   "metadata": {},
   "outputs": [],
   "source": [
    "letter = input(\"Enter a letter: \")\n",
    "if letter in('a','e','i','o','u'):\n",
    "    print(\"vowel\")\n",
    "else:\n",
    "    print(\"consonant\")"
   ]
  },
  {
   "cell_type": "markdown",
   "metadata": {},
   "source": [
    "# pythonisation"
   ]
  },
  {
   "cell_type": "code",
   "execution_count": null,
   "metadata": {},
   "outputs": [],
   "source": [
    "s = \"pythonisation\"\n",
    "print(len(s))\n",
    "# print(s[1])\n",
    "# print(s[25])\n",
    "# print(s[:-3])\n",
    "# print(s[-1])\n",
    "# print(s[25:])\n",
    "# print(s[::2])\n",
    "# print(s[2:4] + s[6:8])\n",
    "# print(s[-7:-3])\n",
    "# print(s[::-1])"
   ]
  },
  {
   "cell_type": "markdown",
   "metadata": {},
   "source": [
    "# Week 3"
   ]
  },
  {
   "cell_type": "markdown",
   "metadata": {},
   "source": [
    "## Problem 1"
   ]
  },
  {
   "cell_type": "code",
   "execution_count": null,
   "metadata": {},
   "outputs": [],
   "source": [
    "while True:\n",
    "    try:\n",
    "        a=float(input(\"Enter the 1st Number\"))\n",
    "        b=float(input(\"Enter the 2nd Number\"))\n",
    "        c=input(\"Enter an operator\")\n",
    "\n",
    "        #validate operators, But forgot div by 0        \n",
    "        if len(c)==1:\n",
    "            if c==\"+\":\n",
    "                d=a+b\n",
    "            elif c==\"-\":\n",
    "                d=a-b\n",
    "            elif c==\"/\":\n",
    "                d=a/b\n",
    "            elif c==\"*\":\n",
    "                d=a*b\n",
    "            else:\n",
    "                raise Exception(\"Try again!\")\n",
    "            #print result\n",
    "            print(f\"{a}{c}{b} is equal to {d}.\")\n",
    "            break\n",
    "        else:\n",
    "            raise Exception(\"Try again!\")\n",
    "    except:\n",
    "        print(\"Try again!\")"
   ]
  },
  {
   "cell_type": "markdown",
   "metadata": {},
   "source": [
    "# Problem 2"
   ]
  },
  {
   "cell_type": "code",
   "execution_count": null,
   "metadata": {},
   "outputs": [],
   "source": [
    "while True:\n",
    "    try:\n",
    "        #get rid of space\n",
    "        a=(input(\"Enter Your Name! \").replace(\" \",\"\"))\n",
    "        print(f\"First three letters are {a[:3]}\")\n",
    "#         b=a[3:] this doesnt work, i dont know how\n",
    "        print(a[:3]+a[3::2])\n",
    "\n",
    "#         print(a[3::2])\n",
    "        break\n",
    "    except:\n",
    "        print(\"Try again!\")"
   ]
  },
  {
   "cell_type": "markdown",
   "metadata": {},
   "source": [
    "# Problem 3"
   ]
  },
  {
   "cell_type": "code",
   "execution_count": null,
   "metadata": {},
   "outputs": [],
   "source": [
    "while True:\n",
    "    try:\n",
    "        a=input(\"Type something here! \")\n",
    "        if a[0].isupper() and a[-1]==\".\":\n",
    "            print(\"Correct Sentence!\")\n",
    "            break\n",
    "        else:\n",
    "            raise Exception(\"Try again!\")\n",
    "    except:\n",
    "        print(\"Try again!\")"
   ]
  },
  {
   "cell_type": "markdown",
   "metadata": {},
   "source": [
    "# Season's Greetings"
   ]
  },
  {
   "cell_type": "code",
   "execution_count": null,
   "metadata": {},
   "outputs": [],
   "source": [
    "while True:\n",
    "    try:\n",
    "        #validate input\n",
    "        a=int(input(\"Enter the month (1-12): \"))\n",
    "        if 0<a<13:\n",
    "            if a=%12:\n",
    "                print(\"It's summer. Have fun in the sun! \")\n",
    "                break\n",
    "            elif 3<a<6:\n",
    "                print(\"It's autumn. Enjoy the beautiful sunsets! \")\n",
    "                break\n",
    "            elif 6<a<9:\n",
    "                print(\"It's winter. Go skiing! \")\n",
    "                break\n",
    "            else:\n",
    "                print(\"It's spring. Check out the spring racing carnival! \")\n",
    "                break\n",
    "        else:\n",
    "            raise Exception(\"Invalid input. Please enter any number between 1 and 12. \")\n",
    "    except:\n",
    "        print(\"Invalid input. Please enter any number between 1 and 12. \")"
   ]
  },
  {
   "cell_type": "code",
   "execution_count": null,
   "metadata": {},
   "outputs": [],
   "source": [
    "def canner_can(item):\n",
    "    print(f\"Can you can a {item} as a canner can can a can?\")\n",
    "print(canner_can(\"juicy tomato\"))"
   ]
  },
  {
   "cell_type": "code",
   "execution_count": null,
   "metadata": {},
   "outputs": [],
   "source": []
  },
  {
   "cell_type": "code",
   "execution_count": null,
   "metadata": {},
   "outputs": [],
   "source": [
    "while True:\n",
    "    try:\n",
    "        #validate input\n",
    "        a=input(\"Enter the list of words:  \").split()\n",
    "        b=input(\"Enter a suffix:  \")\n",
    "        for i in a:\n",
    "            print(i+b)\n",
    "        break\n",
    "    except:\n",
    "        print(\"Invalid input.\")"
   ]
  },
  {
   "cell_type": "code",
   "execution_count": null,
   "metadata": {},
   "outputs": [],
   "source": [
    "def word_count():\n",
    "    return len(input(\"Enter a string! \").split())\n",
    "print(word_count())"
   ]
  },
  {
   "cell_type": "code",
   "execution_count": null,
   "metadata": {},
   "outputs": [],
   "source": [
    "Good evening, I have started a study group on whatsapp, its purpose is to help each other during this course as well as for the group assignment later on.\n",
    "Please PM me with your number if you are interested to join, Thank you!"
   ]
  },
  {
   "cell_type": "code",
   "execution_count": null,
   "metadata": {},
   "outputs": [],
   "source": [
    "a=input(\"Entertag:  \")\n",
    "b=\"\"\n",
    "for i in a: \n",
    "    b=b+i+\"-\"\n",
    "print(b[:-1])"
   ]
  },
  {
   "cell_type": "code",
   "execution_count": null,
   "metadata": {},
   "outputs": [],
   "source": [
    "a=(\"b\",23, 4, 5, \"sdf\",\"a\")\n",
    "b=[\"b\",23, 4, 5, \"sdf\",\"a\"]\n",
    "for n in a:\n",
    "    print(n)\n",
    "print(a[1:5])\n",
    "print(b[1:5])"
   ]
  },
  {
   "cell_type": "code",
   "execution_count": null,
   "metadata": {},
   "outputs": [],
   "source": [
    "i = 2\n",
    "while i < 6:\n",
    "print(f\"The square of {i} is {i*i}\")\n",
    "i = i + 1"
   ]
  },
  {
   "cell_type": "markdown",
   "metadata": {},
   "source": [
    "# Valid Frequency"
   ]
  },
  {
   "cell_type": "code",
   "execution_count": null,
   "metadata": {},
   "outputs": [],
   "source": [
    "def frecheck(fre):\n",
    "    return 88.0<=fre<=108.0\n",
    "        \n",
    "while True:\n",
    "    try:\n",
    "        #validate input\n",
    "        inputstring=input(\"Enter the frequency with only One decimal place: \")\n",
    "        \n",
    "        #lenth after dot\n",
    "        dotstring=inputstring.split(\".\")\n",
    "        \n",
    "        \n",
    "        if float(inputstring) and len(dotstring[1])==1:\n",
    "            if frecheck(float(inputstring)):\n",
    "                print(\"Valid frequency!!\")\n",
    "                break\n",
    "            else:\n",
    "                print(\"Invalid frequency!!\")\n",
    "                break\n",
    "        else:\n",
    "            raise Exception(\"Bad input.\")\n",
    "    except:\n",
    "        print(\"Bad input.\")"
   ]
  },
  {
   "cell_type": "markdown",
   "metadata": {},
   "source": [
    "# List Comparison"
   ]
  },
  {
   "cell_type": "code",
   "execution_count": null,
   "metadata": {},
   "outputs": [],
   "source": [
    "def commonstr(alist,blist):\n",
    "    #check for matches\n",
    "    count=0\n",
    "    for i in alist:\n",
    "        for n in blist:\n",
    "            if i == n:\n",
    "                #known bug: duplicate items will affect the count result\n",
    "                count+=1\n",
    "    return count            \n",
    "    \n",
    "while True:\n",
    "    try:\n",
    "        #take input\n",
    "        a_list=input(\"Enter the first list:  \").split()\n",
    "        b_list=input(\"Enter the second list:  \").split()\n",
    "        print(commonstr(a_list,b_list))\n",
    "        break\n",
    "    except:\n",
    "        print(\"Invalid input.\")"
   ]
  },
  {
   "cell_type": "code",
   "execution_count": null,
   "metadata": {},
   "outputs": [],
   "source": [
    "def common_str(alist, blist):\n",
    "    \n",
    "    #check for matches by count the new list\n",
    "    #set will fix the  duplicate items bug\n",
    "    common_list = {a for a in alist for b in blist if a == b}\n",
    "#     print(common_list)\n",
    "    return len(common_list)       \n",
    "\n",
    "a_list = input(\"Enter the first list:  \").split()\n",
    "b_list = input(\"Enter the second list:  \").split()\n",
    "\n",
    "print(common_str(a_list,b_list))\n",
    "\n",
    "# to fix the duplicate items problem:\n",
    "# def cheat(alist, blist):\n",
    "#     return len(set(alist).intersection(blist))"
   ]
  },
  {
   "cell_type": "code",
   "execution_count": null,
   "metadata": {},
   "outputs": [],
   "source": [
    "x=int(input(\"enter a number \"))\n",
    "a=0\n",
    "for n in range(x+1):\n",
    "    a=n+a\n",
    "    if a>x:\n",
    "        print(n-1)\n",
    "        break\n",
    "    "
   ]
  },
  {
   "cell_type": "code",
   "execution_count": null,
   "metadata": {},
   "outputs": [],
   "source": [
    "while True:\n",
    "    try:\n",
    "        x=int(input(\"enter a number \"))\n",
    "        for n in range(1, x+1):\n",
    "            print(f\"{n} * 13 is {n*13}\")\n",
    "        break\n",
    "    except:\n",
    "        print(\"Invalid input.\")"
   ]
  },
  {
   "cell_type": "code",
   "execution_count": null,
   "metadata": {},
   "outputs": [],
   "source": [
    "while True:\n",
    "    try:\n",
    "        x=float(input(\"enter a number \"))\n",
    "        tem=input(\"enter c or f \")\n",
    "        if tem == \"c\":\n",
    "            print((x-32)/1.8)\n",
    "            break\n",
    "        else:\n",
    "            print(x*1.8+32)\n",
    "            break\n",
    "    except:\n",
    "        print(\"Invalid input.\")"
   ]
  },
  {
   "cell_type": "code",
   "execution_count": null,
   "metadata": {},
   "outputs": [],
   "source": [
    "\n"
   ]
  },
  {
   "cell_type": "code",
   "execution_count": null,
   "metadata": {},
   "outputs": [],
   "source": [
    "\n",
    "# a=[lst[i-1] for i in range(len(lst))]\n",
    "\n",
    "\n",
    "def cycle(lst):\n",
    "    [lst[i-1] for i in range(len(lst))]\n",
    "\n",
    "    \n",
    "lst=[1,2,3,4,'6']\n",
    "\n",
    "cycle(lst)\n",
    "lst"
   ]
  },
  {
   "cell_type": "code",
   "execution_count": null,
   "metadata": {},
   "outputs": [],
   "source": [
    "a={1,2,3,4,5,6,7,8,9,10}\n",
    "[1 * w for v in a for w in a]"
   ]
  },
  {
   "cell_type": "code",
   "execution_count": null,
   "metadata": {},
   "outputs": [],
   "source": [
    "mydict={1:\"a\",2:\"b\",3:\"c\",4:\"d\",5:\"e\"}\n",
    "# print(mydict.get(6))\n",
    "print(mydict[75])"
   ]
  },
  {
   "cell_type": "code",
   "execution_count": null,
   "metadata": {},
   "outputs": [],
   "source": [
    "myList=[52,345,75,2,1,2,3,4,5,6,7,8,9,10]\n",
    "print((myList))\n",
    "print(id(myList))\n",
    "# a=sorted(myList)\n",
    "myList.sort()\n",
    "print((myList))\n",
    "print(id(myList))\n",
    "# print((a))\n"
   ]
  },
  {
   "cell_type": "code",
   "execution_count": null,
   "metadata": {},
   "outputs": [],
   "source": []
  }
 ],
 "metadata": {
  "kernelspec": {
   "display_name": "Python 3",
   "language": "python",
   "name": "python3"
  },
  "language_info": {
   "codemirror_mode": {
    "name": "ipython",
    "version": 3
   },
   "file_extension": ".py",
   "mimetype": "text/x-python",
   "name": "python",
   "nbconvert_exporter": "python",
   "pygments_lexer": "ipython3",
   "version": "3.7.4"
  }
 },
 "nbformat": 4,
 "nbformat_minor": 4
}
